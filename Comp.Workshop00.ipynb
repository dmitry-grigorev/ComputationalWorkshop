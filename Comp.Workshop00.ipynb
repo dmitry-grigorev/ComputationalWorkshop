{
 "cells": [
  {
   "cell_type": "code",
   "execution_count": 1,
   "metadata": {
    "collapsed": true,
    "pycharm": {
     "is_executing": false
    }
   },
   "outputs": [],
   "source": [
    "from math import sin, cos\n",
    "from pandas import DataFrame"
   ]
  },
  {
   "cell_type": "code",
   "execution_count": 2,
   "outputs": [],
   "source": [
    "f = lambda x,y,z : 2*y + z + cos(x)\n",
    "g = lambda x,y,z : 2*sin(x) - y\n",
    "a = 0\n",
    "b = 1\n",
    "x0 = 0\n",
    "y0 = 1\n",
    "z0 = 1\n",
    "h = 0.1"
   ],
   "metadata": {
    "collapsed": false,
    "pycharm": {
     "name": "#%%\n",
     "is_executing": false
    }
   }
  },
  {
   "cell_type": "code",
   "execution_count": 3,
   "outputs": [],
   "source": [
    "def Euler_explicit(f, g, a, b, x0, y0,z0, h):\n",
    "    x_0 = x0\n",
    "    x1 = x0 + h\n",
    "    y1 = y0 + h*f(x0, y0, z0)\n",
    "    z1 = z0 + h*g(x0,y0,z0)\n",
    "    ans = [[y0, z0],[y1, z1]]\n",
    "    x0 = x1\n",
    "    y0 = y1\n",
    "    z0 = z1\n",
    "    while x1 <= b:\n",
    "        x1 = x0 + h\n",
    "        y1 = y0 + h*f(x0, y0, z0)\n",
    "        z1 = z0 + h*g(x0,y0,z0)\n",
    "        ans.append([y1,z1])\n",
    "        x0 = x1\n",
    "        y0 = y1\n",
    "        z0 = z1\n",
    "    return DataFrame([[x_0 + k*h, ans[k]] for k in range (int((b-a)/h))])"
   ],
   "metadata": {
    "collapsed": false,
    "pycharm": {
     "name": "#%%\n",
     "is_executing": false
    }
   }
  },
  {
   "cell_type": "code",
   "execution_count": 4,
   "outputs": [
    {
     "data": {
      "text/plain": "     0                                          1\n0  0.0                                     [1, 1]\n1  0.1                                 [1.4, 0.9]\n2  0.2   [1.8695004165278024, 0.7799666833293657]\n3  0.3   [2.4194038259504236, 0.6327505078355977]\n4  0.4  [3.0620932908366285, 0.44991416657282324]\n5  0.5    [3.811609465061525, 0.2215885059508905]\n6  0.6  [4.683848464857957, -0.06368733283442143]\n7  0.7   [5.696782986037074, -0.4191436846412101]\n8  0.8   [6.870709433508817, -0.8599784457973794]\n9  0.9   [8.228524146565558, -1.4035781709683566]",
      "text/html": "<div>\n<style scoped>\n    .dataframe tbody tr th:only-of-type {\n        vertical-align: middle;\n    }\n\n    .dataframe tbody tr th {\n        vertical-align: top;\n    }\n\n    .dataframe thead th {\n        text-align: right;\n    }\n</style>\n<table border=\"1\" class=\"dataframe\">\n  <thead>\n    <tr style=\"text-align: right;\">\n      <th></th>\n      <th>0</th>\n      <th>1</th>\n    </tr>\n  </thead>\n  <tbody>\n    <tr>\n      <th>0</th>\n      <td>0.0</td>\n      <td>[1, 1]</td>\n    </tr>\n    <tr>\n      <th>1</th>\n      <td>0.1</td>\n      <td>[1.4, 0.9]</td>\n    </tr>\n    <tr>\n      <th>2</th>\n      <td>0.2</td>\n      <td>[1.8695004165278024, 0.7799666833293657]</td>\n    </tr>\n    <tr>\n      <th>3</th>\n      <td>0.3</td>\n      <td>[2.4194038259504236, 0.6327505078355977]</td>\n    </tr>\n    <tr>\n      <th>4</th>\n      <td>0.4</td>\n      <td>[3.0620932908366285, 0.44991416657282324]</td>\n    </tr>\n    <tr>\n      <th>5</th>\n      <td>0.5</td>\n      <td>[3.811609465061525, 0.2215885059508905]</td>\n    </tr>\n    <tr>\n      <th>6</th>\n      <td>0.6</td>\n      <td>[4.683848464857957, -0.06368733283442143]</td>\n    </tr>\n    <tr>\n      <th>7</th>\n      <td>0.7</td>\n      <td>[5.696782986037074, -0.4191436846412101]</td>\n    </tr>\n    <tr>\n      <th>8</th>\n      <td>0.8</td>\n      <td>[6.870709433508817, -0.8599784457973794]</td>\n    </tr>\n    <tr>\n      <th>9</th>\n      <td>0.9</td>\n      <td>[8.228524146565558, -1.4035781709683566]</td>\n    </tr>\n  </tbody>\n</table>\n</div>"
     },
     "metadata": {},
     "output_type": "execute_result",
     "execution_count": 4
    }
   ],
   "source": [
    "df = Euler_explicit(f,g,a, b, x0, y0,z0, h)\n",
    "df"
   ],
   "metadata": {
    "collapsed": false,
    "pycharm": {
     "name": "#%%\n",
     "is_executing": false
    }
   }
  },
  {
   "cell_type": "code",
   "execution_count": 5,
   "outputs": [
    {
     "data": {
      "text/plain": "     0                                          1\n0  0.0                                     [1, 1]\n1  0.1   [1.4347502082639012, 0.8899833416646828]\n2  0.2   [1.9508215835989668, 0.7525861559651291]\n3  0.3     [2.561590213663614, 0.578751471845851]\n4  0.4   [3.282323212618629, 0.35779996343499515]\n5  0.5   [4.130417670467262, 0.07723449335104193]\n6  0.6   [5.125669253731286, -0.2774787344766402]\n7  0.7  [6.2905741534838375, -0.7231556207259742]\n8  0.8    [7.65066852177981, -1.2791698326282674]\n9  0.9   [9.234910034256718, -1.9677627543549405]",
      "text/html": "<div>\n<style scoped>\n    .dataframe tbody tr th:only-of-type {\n        vertical-align: middle;\n    }\n\n    .dataframe tbody tr th {\n        vertical-align: top;\n    }\n\n    .dataframe thead th {\n        text-align: right;\n    }\n</style>\n<table border=\"1\" class=\"dataframe\">\n  <thead>\n    <tr style=\"text-align: right;\">\n      <th></th>\n      <th>0</th>\n      <th>1</th>\n    </tr>\n  </thead>\n  <tbody>\n    <tr>\n      <th>0</th>\n      <td>0.0</td>\n      <td>[1, 1]</td>\n    </tr>\n    <tr>\n      <th>1</th>\n      <td>0.1</td>\n      <td>[1.4347502082639012, 0.8899833416646828]</td>\n    </tr>\n    <tr>\n      <th>2</th>\n      <td>0.2</td>\n      <td>[1.9508215835989668, 0.7525861559651291]</td>\n    </tr>\n    <tr>\n      <th>3</th>\n      <td>0.3</td>\n      <td>[2.561590213663614, 0.578751471845851]</td>\n    </tr>\n    <tr>\n      <th>4</th>\n      <td>0.4</td>\n      <td>[3.282323212618629, 0.35779996343499515]</td>\n    </tr>\n    <tr>\n      <th>5</th>\n      <td>0.5</td>\n      <td>[4.130417670467262, 0.07723449335104193]</td>\n    </tr>\n    <tr>\n      <th>6</th>\n      <td>0.6</td>\n      <td>[5.125669253731286, -0.2774787344766402]</td>\n    </tr>\n    <tr>\n      <th>7</th>\n      <td>0.7</td>\n      <td>[6.2905741534838375, -0.7231556207259742]</td>\n    </tr>\n    <tr>\n      <th>8</th>\n      <td>0.8</td>\n      <td>[7.65066852177981, -1.2791698326282674]</td>\n    </tr>\n    <tr>\n      <th>9</th>\n      <td>0.9</td>\n      <td>[9.234910034256718, -1.9677627543549405]</td>\n    </tr>\n  </tbody>\n</table>\n</div>"
     },
     "metadata": {},
     "output_type": "execute_result",
     "execution_count": 5
    }
   ],
   "source": [
    "def modified_Euler(f, g, a, b, x0, y0,z0, h):\n",
    "    x_0 = x0\n",
    "    x1 = x0 + h\n",
    "    y12 = y0 + h*f(x0, y0, z0)\n",
    "    z12 = z0 + h*g(x0, y0, z0)\n",
    "    y1 = y0 + h*(f(x1, y12,z12)+f(x0,y0,z0))/2\n",
    "    z1 = z0 + h*(g(x1, y12,z12)+g(x0,y0,z0))/2\n",
    "    ans = [[y0,z0],[y1,z1]]\n",
    "    x0 = x1\n",
    "    y0 = y1\n",
    "    z0 = z1\n",
    "    while x1 <= b:\n",
    "        x1 = x0 + h\n",
    "        y12 = y0 + h*f(x0, y0, z0)\n",
    "        z12 = z0 + h*g(x0, y0, z0)\n",
    "        y1 = y0 + h*(f(x1, y12,z12)+f(x0,y0,z0))/2\n",
    "        z1 = z0 + h*(g(x1, y12,z12)+g(x0,y0,z0))/2\n",
    "        ans.append([y1,z1])\n",
    "        x0 = x1\n",
    "        y0 = y1\n",
    "        z0 = z1\n",
    "    return DataFrame([[x_0 + k*h, ans[k]] for k in range (int((b-a)/h))])\n",
    "\n",
    "df1 = modified_Euler(f, g, a, b, x0, y0,z0, h)\n",
    "df1"
   ],
   "metadata": {
    "collapsed": false,
    "pycharm": {
     "name": "#%%\n",
     "is_executing": false
    }
   }
  },
  {
   "cell_type": "code",
   "execution_count": 7,
   "outputs": [
    {
     "data": {
      "text/plain": "     0                                         1\n0  0.0                                    [1, 1]\n1  0.1   [1.4368954636002582, 0.888779380684724]\n2  0.2   [1.955712339616431, 0.7497618733948185]\n3  0.3  [2.5699422397303184, 0.5737972520577285]\n4  0.4    [3.2949867411505243, 0.35009684557636]\n5  0.5  [4.148399203176592, 0.06603562453038364]\n6  0.6  [5.150156646216306, -0.2930694614523524]\n7  0.7  [6.322965445596824, -0.7442081543266352]\n8  0.8  [7.692605044989923, -1.3069562407375732]\n9  0.9   [9.28831439942921, -2.0037897248489496]",
      "text/html": "<div>\n<style scoped>\n    .dataframe tbody tr th:only-of-type {\n        vertical-align: middle;\n    }\n\n    .dataframe tbody tr th {\n        vertical-align: top;\n    }\n\n    .dataframe thead th {\n        text-align: right;\n    }\n</style>\n<table border=\"1\" class=\"dataframe\">\n  <thead>\n    <tr style=\"text-align: right;\">\n      <th></th>\n      <th>0</th>\n      <th>1</th>\n    </tr>\n  </thead>\n  <tbody>\n    <tr>\n      <th>0</th>\n      <td>0.0</td>\n      <td>[1, 1]</td>\n    </tr>\n    <tr>\n      <th>1</th>\n      <td>0.1</td>\n      <td>[1.4368954636002582, 0.888779380684724]</td>\n    </tr>\n    <tr>\n      <th>2</th>\n      <td>0.2</td>\n      <td>[1.955712339616431, 0.7497618733948185]</td>\n    </tr>\n    <tr>\n      <th>3</th>\n      <td>0.3</td>\n      <td>[2.5699422397303184, 0.5737972520577285]</td>\n    </tr>\n    <tr>\n      <th>4</th>\n      <td>0.4</td>\n      <td>[3.2949867411505243, 0.35009684557636]</td>\n    </tr>\n    <tr>\n      <th>5</th>\n      <td>0.5</td>\n      <td>[4.148399203176592, 0.06603562453038364]</td>\n    </tr>\n    <tr>\n      <th>6</th>\n      <td>0.6</td>\n      <td>[5.150156646216306, -0.2930694614523524]</td>\n    </tr>\n    <tr>\n      <th>7</th>\n      <td>0.7</td>\n      <td>[6.322965445596824, -0.7442081543266352]</td>\n    </tr>\n    <tr>\n      <th>8</th>\n      <td>0.8</td>\n      <td>[7.692605044989923, -1.3069562407375732]</td>\n    </tr>\n    <tr>\n      <th>9</th>\n      <td>0.9</td>\n      <td>[9.28831439942921, -2.0037897248489496]</td>\n    </tr>\n  </tbody>\n</table>\n</div>"
     },
     "metadata": {},
     "output_type": "execute_result",
     "execution_count": 7
    }
   ],
   "source": [
    "def Runge_Kutta(f, g, a, b, x0, y0,z0, h):\n",
    "    x_0 = x0\n",
    "    x1 = x0\n",
    "    ans = [[y0,z0]]\n",
    "    while x1 <= b:\n",
    "        x1 = x0 + h\n",
    "        K1 = f(x0, y0,z0)\n",
    "        L1 = g(x0, y0,z0)\n",
    "        K2 = f(x0 + h/2, y0 + h*K1/2, z0 + h*L1/2)\n",
    "        L2 = g(x0 + h/2, y0 + h*K1/2,z0 + h*L1/2)\n",
    "        K3 = f(x0 + h/2, y0 + h*K2/2, z0 + h*L2/2)\n",
    "        L3 = g(x0 + h/2, y0 + h*K2/2,z0 + h*L2/2)\n",
    "        K4 = f(x1, y0 + h*K3,z0+h*L3)\n",
    "        L4 = g(x1, y0 + h*K3,z0+h*L3)\n",
    "        y1 = y0 + h*(K1 + 2*K2 + 2*K3 + K4)/6\n",
    "        z1 = z0 + h*(L1 + 2*L2 + 2*L3 + L4)/6\n",
    "        ans.append([y1, z1])\n",
    "        x0 = x1\n",
    "        y0 = y1\n",
    "        z0 = z1\n",
    "    return DataFrame([[x_0 + k*h, ans[k]] for k in range (int((b-a)/h))])\n",
    "\n",
    "df2 = Runge_Kutta(f, g, a, b, x0, y0,z0, h)\n",
    "df2"
   ],
   "metadata": {
    "collapsed": false,
    "pycharm": {
     "name": "#%%\n",
     "is_executing": false
    }
   }
  }
 ],
 "metadata": {
  "kernelspec": {
   "display_name": "Python 3",
   "language": "python",
   "name": "python3"
  },
  "language_info": {
   "codemirror_mode": {
    "name": "ipython",
    "version": 2
   },
   "file_extension": ".py",
   "mimetype": "text/x-python",
   "name": "python",
   "nbconvert_exporter": "python",
   "pygments_lexer": "ipython2",
   "version": "2.7.6"
  },
  "pycharm": {
   "stem_cell": {
    "cell_type": "raw",
    "source": [],
    "metadata": {
     "collapsed": false
    }
   }
  }
 },
 "nbformat": 4,
 "nbformat_minor": 0
}