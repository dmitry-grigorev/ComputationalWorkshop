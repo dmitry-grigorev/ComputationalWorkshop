{
 "cells": [
  {
   "cell_type": "markdown",
   "metadata": {
    "collapsed": true,
    "pycharm": {
     "name": "#%% md\n"
    }
   },
   "source": [
    "## Григорьев Дмитрий, вариант 3.\n",
    "### Импортируем необходимые модули \n",
    "### + наш модуль."
   ]
  },
  {
   "cell_type": "code",
   "execution_count": 1,
   "outputs": [],
   "source": [
    "from mft2 import PolLagrange, bisection\n",
    "import matplotlib.pyplot as plt             #Для построения графиков\n",
    "from scipy.optimize import root_scalar      #Для поиска корня\n",
    "from pandas import DataFrame                #Для построения таблиц\n",
    "from math import sin"
   ],
   "metadata": {
    "collapsed": false,
    "pycharm": {
     "name": "#%%\n",
     "is_executing": false
    }
   }
  },
  {
   "cell_type": "markdown",
   "source": [
    "# Начальные данные.\n",
    "### Функция $f(x)=\\sin(x), \\\\ y_0 = -0.1912$\n",
    "### В общем случае, конечно, будет дана таблица x,f(x)."
   ],
   "metadata": {
    "collapsed": false
   }
  },
  {
   "cell_type": "code",
   "execution_count": 2,
   "outputs": [],
   "source": [
    "f = lambda x: sin(x)\n",
    "nodes = [0, 2, 4, 5, 7, 10] #Можно задать узлы, а можно и отрезок задать. \n",
    "a, b = min(nodes), max(nodes)\n",
    "val = -0.1912\n",
    "values = [f(nodes[i]) for i in range(len(nodes))] #В табличном случае -- список значений"
   ],
   "metadata": {
    "collapsed": false,
    "pycharm": {
     "name": "#%%\n",
     "is_executing": false
    }
   }
  },
  {
   "cell_type": "markdown",
   "source": [
    "## Интерполируем по Лагранжу.\n",
    "## Тут же начинаем поиск корня."
   ],
   "metadata": {
    "collapsed": false
   }
  },
  {
   "cell_type": "code",
   "execution_count": 3,
   "outputs": [],
   "source": [
    "polynom = PolLagrange(nodes, values)\n",
    "ans = bisection(polynom, val, a, b, 10**(-7))"
   ],
   "metadata": {
    "collapsed": false,
    "pycharm": {
     "name": "#%%\n",
     "is_executing": false
    }
   }
  },
  {
   "cell_type": "markdown",
   "source": [
    "## Графики для наглядности и сводная таблица"
   ],
   "metadata": {
    "collapsed": false
   }
  },
  {
   "cell_type": "code",
   "execution_count": 4,
   "outputs": [
    {
     "data": {
      "text/plain": "<Figure size 432x288 with 1 Axes>",
      "image/png": "[encoded data removed]"
     },
     "metadata": {
      "needs_background": "light"
     },
     "output_type": "display_data"
    },
    {
     "data": {
      "text/plain": "<Figure size 432x288 with 1 Axes>",
      "image/png": "[encoded data removed]"
     },
     "metadata": {
      "needs_background": "light"
     },
     "output_type": "display_data"
    },
    {
     "data": {
      "text/plain": "                                                        0         1         2\nОтвет, полученный нами                           6.252543  9.912030  3.229654\nОтвет, полученный через модуль scipy             6.090801  9.617163  3.333977\nФактическая погрешность                          0.161742  0.294867 -0.104323\nФактическая погрешность по значению              0.160562 -0.276999  0.103253\nПотребовавшееся число итераций в методе Ньютона  6.000000  7.000000  7.000000",
      "text/html": "<div>\n<style scoped>\n    .dataframe tbody tr th:only-of-type {\n        vertical-align: middle;\n    }\n\n    .dataframe tbody tr th {\n        vertical-align: top;\n    }\n\n    .dataframe thead th {\n        text-align: right;\n    }\n</style>\n<table border=\"1\" class=\"dataframe\">\n  <thead>\n    <tr style=\"text-align: right;\">\n      <th></th>\n      <th>0</th>\n      <th>1</th>\n      <th>2</th>\n    </tr>\n  </thead>\n  <tbody>\n    <tr>\n      <th>Ответ, полученный нами</th>\n      <td>6.252543</td>\n      <td>9.912030</td>\n      <td>3.229654</td>\n    </tr>\n    <tr>\n      <th>Ответ, полученный через модуль scipy</th>\n      <td>6.090801</td>\n      <td>9.617163</td>\n      <td>3.333977</td>\n    </tr>\n    <tr>\n      <th>Фактическая погрешность</th>\n      <td>0.161742</td>\n      <td>0.294867</td>\n      <td>-0.104323</td>\n    </tr>\n    <tr>\n      <th>Фактическая погрешность по значению</th>\n      <td>0.160562</td>\n      <td>-0.276999</td>\n      <td>0.103253</td>\n    </tr>\n    <tr>\n      <th>Потребовавшееся число итераций в методе Ньютона</th>\n      <td>6.000000</td>\n      <td>7.000000</td>\n      <td>7.000000</td>\n    </tr>\n  </tbody>\n</table>\n</div>"
     },
     "metadata": {},
     "output_type": "execute_result",
     "execution_count": 4
    }
   ],
   "source": [
    "real_root = (root_scalar(lambda x: f(x)-val , method = 'bisect', bracket=[3, 5])).root\n",
    "real_roots = [(root_scalar(lambda x: f(x)-val , method = 'bisect', bracket=[ans[i][0] - 2, ans[i][0] + 2])).root for i in range(len(ans))]\n",
    "a, b = (2*int(ans[0][0]-2), 2*int(ans[0][0]+2))\n",
    "plot0 = plt.plot([x*1./2 for x in range(-4, 25)],[f(x*1./2) for x in range(-4, 25)],'bo',\n",
    "                [x*1./2 for x in range(-4, 25)],[polynom.get_value(x*1./2) for x in range(-4, 25)],'r')\n",
    "plt.grid()\n",
    "plt.axvline(ans[0][0], 0, 1, color = 'y')\n",
    "plt.axvline(real_roots[0], 0, 2, color = 'g')\n",
    "plt.axhline(val, 0, 1)\n",
    "plt.legend(\"ФМ\")\n",
    "plt.show()\n",
    "\n",
    "plot = plt.plot([x*1./2 for x in range(a, b)],[f(x*1./2) for x in range(a, b)],'bo',\n",
    "                [x*1./2 for x in range(a, b)],[polynom.get_value(x*1./2) for x in range(a, b)],'r')\n",
    "plt.grid()\n",
    "plt.axvline(ans[0][0], 0, 1, color = 'y')\n",
    "plt.axvline(real_roots[0], 0, 2, color = 'g')\n",
    "plt.axhline(val, 0, 1)\n",
    "plt.legend(\"ФМ\")\n",
    "plt.show()\n",
    "\n",
    "dataframe = DataFrame([[ans[i][0] for i in range(len(ans))], real_roots,\n",
    "                       [ans[i][0] - real_roots[i] for i in range(len(ans))],\n",
    "                       [f(ans[i][0]) - val for i in range(len(ans))],\n",
    "                       [int(ans[i][1]) for i in range(len(ans))]],\n",
    "                      index = [\"Ответ, полученный нами\",\n",
    "                               \"Ответ, полученный через модуль scipy\",\n",
    "                               \"Фактическая погрешность\",\n",
    "                               \"Фактическая погрешность по значению\",\n",
    "                               \"Потребовавшееся число итераций в методе Ньютона\"])\n",
    "\n",
    "dataframe"
   ],
   "metadata": {
    "collapsed": false,
    "pycharm": {
     "name": "#%%\n",
     "is_executing": false
    }
   }
  }
 ],
 "metadata": {
  "kernelspec": {
   "display_name": "Python 3",
   "language": "python",
   "name": "python3"
  },
  "language_info": {
   "codemirror_mode": {
    "name": "ipython",
    "version": 2
   },
   "file_extension": ".py",
   "mimetype": "text/x-python",
   "name": "python",
   "nbconvert_exporter": "python",
   "pygments_lexer": "ipython2",
   "version": "2.7.6"
  },
  "pycharm": {
   "stem_cell": {
    "cell_type": "raw",
    "source": [],
    "metadata": {
     "collapsed": false
    }
   }
  }
 },
 "nbformat": 4,
 "nbformat_minor": 0
}