{
 "cells": [
  {
   "cell_type": "markdown",
   "source": [
    "## Григорьев Дмитрий, вариант 3\n",
    "### Импортируем необходимые модули \n",
    "### + функцию интерполирования"
   ],
   "metadata": {
    "collapsed": false
   }
  },
  {
   "cell_type": "code",
   "execution_count": 1,
   "metadata": {
    "collapsed": true,
    "pycharm": {
     "is_executing": false
    }
   },
   "outputs": [],
   "source": [
    "from pandas import DataFrame\n",
    "from math import cos, pi\n",
    "from mft4 import non_equidistant_interpolation_Newton, equidistant_interpolation_Newton"
   ]
  },
  {
   "cell_type": "markdown",
   "source": [
    "### Построение наилучшего приближения \n",
    "### для $f(x) = \\frac{1}{1+x^2}$ на отрезке \\[-1;1]"
   ],
   "metadata": {
    "collapsed": false,
    "pycharm": {
     "name": "#%% md\n"
    }
   }
  },
  {
   "cell_type": "code",
   "execution_count": 2,
   "outputs": [],
   "source": [
    "f = lambda x: 1./(1+x**2)\n",
    "start_h = 0.2\n",
    "a, b = -1, 1\n",
    "measurements = 3\n",
    "pivot = 0.025\n"
   ],
   "metadata": {
    "collapsed": false,
    "pycharm": {
     "name": "#%%\n",
     "is_executing": false
    }
   }
  },
  {
   "cell_type": "code",
   "execution_count": 3,
   "outputs": [],
   "source": [
    "def build_table(f, pivot,a , b, start_h, measurements):\n",
    "    table = [[]]*measurements\n",
    "    h = start_h\n",
    "    for i in range(measurements):\n",
    "        degree = int((b-a)*1./h)-1\n",
    "        nodes = [cos(pi*(2.*k+1)/(2*degree)) for k in range(degree)]\n",
    "        edvalue = round(equidistant_interpolation_Newton(f, pivot, a, b, degree, h),6)\n",
    "        nedvalue = non_equidistant_interpolation_Newton(f, nodes, pivot,degree)\n",
    "        realvalue = f(pivot)\n",
    "        table[i] = [h,realvalue,edvalue,realvalue - edvalue, degree, nedvalue, realvalue - nedvalue]\n",
    "        h/=2\n",
    "    df = DataFrame(table, columns = [\"Шаг h\",\"Значение функции в точке\",\"По равноотстоящим узлам с шагом h\",\"Фактическая погрешность\",\n",
    "                                     \"Степень n\",\"По узлам - корням многочлена Чебышёва степени n\",\n",
    "                                     \"Фактическая погрешность\"],\n",
    "                   index = [str(i+1) for i in range(measurements)])\n",
    "    df.columns.name = \"Номер измерения\"\n",
    "    return df"
   ],
   "metadata": {
    "collapsed": false,
    "pycharm": {
     "name": "#%%\n",
     "is_executing": false
    }
   }
  },
  {
   "cell_type": "markdown",
   "source": [
    "## Сравнение интерполяции по равноотстоящим узлам и узлам - корням многочлена Чебышёва в точке $x = 0.025$"
   ],
   "metadata": {
    "collapsed": false
   }
  },
  {
   "cell_type": "code",
   "source": [
    "dataframe = build_table(f, pivot, a, b ,start_h, measurements)\n",
    "dataframe"
   ],
   "metadata": {
    "collapsed": false,
    "pycharm": {
     "name": "#%%\n",
     "is_executing": false
    }
   },
   "execution_count": 4,
   "outputs": [
    {
     "data": {
      "text/plain": "Номер измерения  Шаг h  Значение функции в точке  \\\n1                 0.20                  0.999375   \n2                 0.10                  0.999375   \n3                 0.05                  0.999375   \n\nНомер измерения  По равноотстоящим узлам с шагом h  Фактическая погрешность  \\\n1                                         0.993893                 0.005482   \n2                                         0.996853                 0.002522   \n3                                         0.998124                 0.001251   \n\nНомер измерения  Степень n  По узлам - корням многочлена Чебышёва степени n  \\\n1                        9                                         0.999379   \n2                       19                                         0.999375   \n3                       39                                         0.999375   \n\nНомер измерения  Фактическая погрешность  \n1                          -4.001971e-06  \n2                          -1.219664e-09  \n3                          -2.220446e-16  ",
      "text/html": "<div>\n<style scoped>\n    .dataframe tbody tr th:only-of-type {\n        vertical-align: middle;\n    }\n\n    .dataframe tbody tr th {\n        vertical-align: top;\n    }\n\n    .dataframe thead th {\n        text-align: right;\n    }\n</style>\n<table border=\"1\" class=\"dataframe\">\n  <thead>\n    <tr style=\"text-align: right;\">\n      <th>Номер измерения</th>\n      <th>Шаг h</th>\n      <th>Значение функции в точке</th>\n      <th>По равноотстоящим узлам с шагом h</th>\n      <th>Фактическая погрешность</th>\n      <th>Степень n</th>\n      <th>По узлам - корням многочлена Чебышёва степени n</th>\n      <th>Фактическая погрешность</th>\n    </tr>\n  </thead>\n  <tbody>\n    <tr>\n      <th>1</th>\n      <td>0.20</td>\n      <td>0.999375</td>\n      <td>0.993893</td>\n      <td>0.005482</td>\n      <td>9</td>\n      <td>0.999379</td>\n      <td>-4.001971e-06</td>\n    </tr>\n    <tr>\n      <th>2</th>\n      <td>0.10</td>\n      <td>0.999375</td>\n      <td>0.996853</td>\n      <td>0.002522</td>\n      <td>19</td>\n      <td>0.999375</td>\n      <td>-1.219664e-09</td>\n    </tr>\n    <tr>\n      <th>3</th>\n      <td>0.05</td>\n      <td>0.999375</td>\n      <td>0.998124</td>\n      <td>0.001251</td>\n      <td>39</td>\n      <td>0.999375</td>\n      <td>-2.220446e-16</td>\n    </tr>\n  </tbody>\n</table>\n</div>"
     },
     "metadata": {},
     "output_type": "execute_result",
     "execution_count": 4
    }
   ]
  }
 ],
 "metadata": {
  "kernelspec": {
   "display_name": "Python 3",
   "language": "python",
   "name": "python3"
  },
  "language_info": {
   "codemirror_mode": {
    "name": "ipython",
    "version": 2
   },
   "file_extension": ".py",
   "mimetype": "text/x-python",
   "name": "python",
   "nbconvert_exporter": "python",
   "pygments_lexer": "ipython2",
   "version": "2.7.6"
  },
  "pycharm": {
   "stem_cell": {
    "cell_type": "raw",
    "source": [],
    "metadata": {
     "collapsed": false
    }
   }
  }
 },
 "nbformat": 4,
 "nbformat_minor": 0
}