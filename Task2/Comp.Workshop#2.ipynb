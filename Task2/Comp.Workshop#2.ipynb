{
 "cells": [
  {
   "cell_type": "markdown",
   "source": [
    "## Григорьев Дмитрий, вариант 3.\n",
    "### Импортируем необходимые модули \n",
    "### + наш модуль."
   ],
   "metadata": {
    "collapsed": false,
    "pycharm": {
     "name": "#%% md\n"
    }
   }
  },
  {
   "cell_type": "code",
   "execution_count": 1,
   "metadata": {
    "collapsed": true,
    "pycharm": {
     "is_executing": false
    }
   },
   "outputs": [],
   "source": [
    "from mft2 import PolLagrange, bisection\n",
    "import matplotlib.pyplot as plt             #Для построения графиков\n",
    "from scipy.optimize import root_scalar      #Для поиска корня\n",
    "from pandas import DataFrame                #Для построения таблиц\n"
   ]
  },
  {
   "cell_type": "markdown",
   "source": [
    "# Начальные данные.\n",
    "### Функция $f(x)=\\sqrt[4]{x+2}, \\\\ y_0 = 1.6$\n",
    "### В общем случае, конечно, будет дана таблица x,f(x)."
   ],
   "metadata": {
    "collapsed": false,
    "pycharm": {
     "name": "#%% md\n"
    }
   }
  },
  {
   "cell_type": "code",
   "execution_count": 2,
   "outputs": [],
   "source": [
    "f = lambda x: pow(x+2,1./4)\n",
    "nodes = [0, 2, 4, 5, 7, 10] #Можно задать узлы, а можно и отрезок задать. \n",
    "a, b = min(nodes), max(nodes)\n",
    "val = 1.6\n",
    "values = [f(nodes[i]) for i in range(len(nodes))] #В табличном случае -- список значений"
   ],
   "metadata": {
    "collapsed": false,
    "pycharm": {
     "name": "#%%\n",
     "is_executing": false
    }
   }
  },
  {
   "cell_type": "markdown",
   "source": [
    "## Интерполируем по Лагранжу.\n",
    "## Тут же начинаем поиск корня."
   ],
   "metadata": {
    "collapsed": false,
    "pycharm": {
     "name": "#%% md\n"
    }
   }
  },
  {
   "cell_type": "code",
   "execution_count": 3,
   "outputs": [],
   "source": [
    "polynom = PolLagrange(nodes, values)\n",
    "ans = bisection(polynom, val, a, b, 10**(-7))\n",
    "iterations = 0\n",
    "ans"
   ],
   "metadata": {
    "collapsed": false,
    "pycharm": {
     "name": "#%%\n",
     "is_executing": false
    }
   }
  },
  {
   "cell_type": "markdown",
   "source": [
    "## Графики для наглядности и сводная таблица"
   ],
   "metadata": {
    "collapsed": false,
    "pycharm": {
     "name": "#%% md\n"
    }
   }
  },
  {
   "cell_type": "code",
   "execution_count": 4,
   "outputs": [
    {
     "traceback": [
      "\u001b[1;31m---------------------------------------------------------------------------\u001b[0m",
      "\u001b[1;31mTypeError\u001b[0m                                 Traceback (most recent call last)",
      "\u001b[1;32m<ipython-input-4-a10005fcc997>\u001b[0m in \u001b[0;36m<module>\u001b[1;34m\u001b[0m\n\u001b[0;32m      4\u001b[0m                 [x*1./2 for x in range(-4, 25)],[polynom.get_value(x*1./2) for x in range(-4, 25)],'r')\n\u001b[0;32m      5\u001b[0m \u001b[0mplt\u001b[0m\u001b[1;33m.\u001b[0m\u001b[0mgrid\u001b[0m\u001b[1;33m(\u001b[0m\u001b[1;33m)\u001b[0m\u001b[1;33m\u001b[0m\u001b[1;33m\u001b[0m\u001b[0m\n\u001b[1;32m----> 6\u001b[1;33m \u001b[0mplt\u001b[0m\u001b[1;33m.\u001b[0m\u001b[0maxvline\u001b[0m\u001b[1;33m(\u001b[0m\u001b[0mans\u001b[0m\u001b[1;33m[\u001b[0m\u001b[1;36m0\u001b[0m\u001b[1;33m]\u001b[0m\u001b[1;33m,\u001b[0m \u001b[1;36m0\u001b[0m\u001b[1;33m,\u001b[0m \u001b[1;36m1\u001b[0m\u001b[1;33m,\u001b[0m \u001b[0mcolor\u001b[0m \u001b[1;33m=\u001b[0m \u001b[1;34m'y'\u001b[0m\u001b[1;33m)\u001b[0m\u001b[1;33m\u001b[0m\u001b[1;33m\u001b[0m\u001b[0m\n\u001b[0m\u001b[0;32m      7\u001b[0m \u001b[0mplt\u001b[0m\u001b[1;33m.\u001b[0m\u001b[0maxvline\u001b[0m\u001b[1;33m(\u001b[0m\u001b[0mreal_root\u001b[0m\u001b[1;33m,\u001b[0m \u001b[1;36m0\u001b[0m\u001b[1;33m,\u001b[0m \u001b[1;36m2\u001b[0m\u001b[1;33m,\u001b[0m \u001b[0mcolor\u001b[0m \u001b[1;33m=\u001b[0m \u001b[1;34m'g'\u001b[0m\u001b[1;33m)\u001b[0m\u001b[1;33m\u001b[0m\u001b[1;33m\u001b[0m\u001b[0m\n\u001b[0;32m      8\u001b[0m \u001b[0mplt\u001b[0m\u001b[1;33m.\u001b[0m\u001b[0maxhline\u001b[0m\u001b[1;33m(\u001b[0m\u001b[0mval\u001b[0m\u001b[1;33m,\u001b[0m \u001b[1;36m0\u001b[0m\u001b[1;33m,\u001b[0m \u001b[1;36m1\u001b[0m\u001b[1;33m)\u001b[0m\u001b[1;33m\u001b[0m\u001b[1;33m\u001b[0m\u001b[0m\n",
      "\u001b[1;31mTypeError\u001b[0m: 'NoneType' object is not subscriptable"
     ],
     "ename": "TypeError",
     "evalue": "'NoneType' object is not subscriptable",
     "output_type": "error"
    },
    {
     "data": {
      "text/plain": "<Figure size 432x288 with 1 Axes>",
      "image/png": "[encoded data removed]"
     },
     "metadata": {
      "needs_background": "light"
     },
     "output_type": "display_data"
    }
   ],
   "source": [
    "real_root = (root_scalar(lambda x: f(x)-1.6, method = 'bisect', bracket=[3, 5])).root\n",
    "a, b = (8, 12)\n",
    "plot0 = plt.plot([x*1./2 for x in range(-4, 25)],[f(x*1./2) for x in range(-4, 25)],'bo',\n",
    "                [x*1./2 for x in range(-4, 25)],[polynom.get_value(x*1./2) for x in range(-4, 25)],'r')\n",
    "plt.grid()\n",
    "plt.axvline(ans[0], 0, 1, color = 'y')\n",
    "plt.axvline(real_root, 0, 2, color = 'g')\n",
    "plt.axhline(val, 0, 1)\n",
    "plt.legend(\"ФМ\")\n",
    "plt.show()\n",
    "\n",
    "plot = plt.plot([x*1./2 for x in range(a, b)],[f(x*1./2) for x in range(a, b)],'bo',\n",
    "                [x*1./2 for x in range(a, b)],[polynom.get_value(x*1./2) for x in range(a, b)],'r')\n",
    "plt.grid()\n",
    "plt.axvline(ans, 0, 1, color = 'y')\n",
    "plt.axvline(real_root, 0, 2, color = 'g')\n",
    "plt.axhline(val, 0, 1)\n",
    "plt.legend(\"ФМ\")\n",
    "plt.show()\n",
    "\n",
    "dataframe = DataFrame([ans[0], real_root, ans-real_root, int(iterations)],\n",
    "                      index = [\"Ответ, полученный нами\",\n",
    "                               \"Ответ, полученный через модуль scipy\",\n",
    "                               \"Фактическая погрешность\",\n",
    "                               \"Потребовавшееся число итераций в методе Ньютона\"],\n",
    "                      columns = [\" \"])\n",
    "\n",
    "dataframe"
   ],
   "metadata": {
    "collapsed": false,
    "pycharm": {
     "name": "#%%\n",
     "is_executing": false
    }
   }
  }
 ],
 "metadata": {
  "kernelspec": {
   "display_name": "Python 3",
   "language": "python",
   "name": "python3"
  },
  "language_info": {
   "codemirror_mode": {
    "name": "ipython",
    "version": 2
   },
   "file_extension": ".py",
   "mimetype": "text/x-python",
   "name": "python",
   "nbconvert_exporter": "python",
   "pygments_lexer": "ipython2",
   "version": "2.7.6"
  },
  "pycharm": {
   "stem_cell": {
    "cell_type": "raw",
    "source": [],
    "metadata": {
     "collapsed": false
    }
   }
  }
 },
 "nbformat": 4,
 "nbformat_minor": 0
}