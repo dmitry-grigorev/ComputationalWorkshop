{
 "cells": [
  {
   "cell_type": "code",
   "execution_count": 17,
   "metadata": {
    "collapsed": true,
    "pycharm": {
     "is_executing": false
    }
   },
   "outputs": [],
   "source": [
    "import mft1\n",
    "from mft1_2 import get_Pks, get_Ns, get_ERs, get_values"
   ]
  },
  {
   "cell_type": "markdown",
   "source": [
    "## Дано:\n",
    "## Функция, начальный отрезок.\n",
    "## 1 вариант: Сразу приближаем функцию интерполяционным многочленом\n",
    "## Вариант годный для функции, заданной таблично\n",
    "## 2 вариант: приближаем функцию на малых отрезках после метода бисекции\n",
    "## Вопрос: имеет ли этот приём смысл? Он не подойдёт для фукнций, заданных таблично."
   ],
   "metadata": {
    "collapsed": false,
    "pycharm": {
     "name": "#%% md\n"
    }
   }
  },
  {
   "cell_type": "code",
   "execution_count": 18,
   "outputs": [
    {
     "name": "stdout",
     "text": [
      "0.0\n"
     ],
     "output_type": "stream"
    }
   ],
   "source": [
    "f = lambda x: pow(x+2,1./4)\n",
    "h=0.1\n",
    "nodes = [0, 2, 4, 5, 7, 10] #Можно задать узлы, а можно и отрезок задать. \n",
    "a, b = min(nodes), max(nodes)\n",
    "values = [f(nodes[i]) for i in range(len(nodes))] #В табличном случае -- список значений\n",
    "\n",
    "def get_f_xk_div_omega_k(nodes,values):\n",
    "    val = values\n",
    "    for k in range(len(nodes)):\n",
    "        for l in range(len(nodes)):\n",
    "            if k != l:\n",
    "                val[k]/=(nodes[k]-nodes[l])\n",
    "    return val\n",
    "\n",
    "def polynom_Lagrange(nodes, values, pivot):\n",
    "    s = 0\n",
    "    val = get_f_xk_div_omega_k(nodes,values)\n",
    "    for k in range(len(nodes)):\n",
    "        top = 1\n",
    "        for l in range(len(nodes)):\n",
    "            if k != l:\n",
    "                top*=(pivot - nodes[l])\n",
    "        s+=val[k]*top\n",
    "                \n",
    "    return s #Собственно,вычисляем значением в данной точке\n",
    "        \n",
    "y = polynom_Lagrange(nodes,values,5) \n",
    "print(y - f(5))"
   ],
   "metadata": {
    "collapsed": false,
    "pycharm": {
     "name": "#%%\n",
     "is_executing": false
    }
   }
  }
 ],
 "metadata": {
  "kernelspec": {
   "display_name": "Python 3",
   "language": "python",
   "name": "python3"
  },
  "language_info": {
   "codemirror_mode": {
    "name": "ipython",
    "version": 2
   },
   "file_extension": ".py",
   "mimetype": "text/x-python",
   "name": "python",
   "nbconvert_exporter": "python",
   "pygments_lexer": "ipython2",
   "version": "2.7.6"
  },
  "pycharm": {
   "stem_cell": {
    "cell_type": "raw",
    "source": [],
    "metadata": {
     "collapsed": false
    }
   }
  }
 },
 "nbformat": 4,
 "nbformat_minor": 0
}