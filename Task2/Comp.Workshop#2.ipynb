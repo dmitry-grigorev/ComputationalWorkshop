{
 "cells": [
  {
   "cell_type": "code",
   "execution_count": 1,
   "metadata": {
    "collapsed": true,
    "pycharm": {
     "is_executing": false
    }
   },
   "outputs": [],
   "source": [
    "from mft2 import PolLagrange"
   ]
  },
  {
   "cell_type": "markdown",
   "source": [
    "## Дано:\n",
    "## Функция, начальный отрезок.\n",
    "## 1 вариант: Сразу приближаем функцию интерполяционным многочленом\n",
    "## Вариант годный для функции, заданной таблично\n",
    "## 2 вариант: приближаем функцию на малых отрезках после метода бисекции\n",
    "## Вопрос: имеет ли этот приём смысл? Он не подойдёт для фукнций, заданных таблично."
   ],
   "metadata": {
    "collapsed": false,
    "pycharm": {
     "name": "#%% md\n"
    }
   }
  },
  {
   "cell_type": "code",
   "execution_count": 2,
   "outputs": [],
   "source": [
    "f = lambda x: pow(x+2,1./4)\n",
    "h=0.1\n",
    "nodes = [0, 2, 4, 5, 7, 10] #Можно задать узлы, а можно и отрезок задать. \n",
    "a, b = min(nodes), max(nodes)\n",
    "val = 1.6\n",
    "values = [f(nodes[i]) for i in range(len(nodes))] #В табличном случае -- список значений"
   ],
   "metadata": {
    "collapsed": false,
    "pycharm": {
     "name": "#%%\n",
     "is_executing": false
    }
   }
  },
  {
   "cell_type": "code",
   "execution_count": 3,
   "outputs": [
    {
     "data": {
      "text/plain": "8.858999999999998"
     },
     "metadata": {},
     "output_type": "execute_result",
     "execution_count": 3
    }
   ],
   "source": [
    "def interpolating_polyn_3(pivot,neighbors, neigh_values,neigh_prev,RRs_prev):  # Вычисление многочлена\n",
    "    if neighbors != neigh_prev: #Если соседние элементы не те же,что в прошлый раз, то пересчёт\n",
    "        RRs = neigh_values\n",
    "        for k in range(0,3):\n",
    "            for i in range(2,-1+k,-1):\n",
    "                RRs[i+1] = (RRs[i+1] - RRs[i]) / (neighbors[i + 1] - neighbors[i-k])\n",
    "    else :\n",
    "        RRs = RRs_prev\n",
    "    buf = 1\n",
    "    val = 0\n",
    "    for k in range(4):\n",
    "        val+= RRs[k] * buf\n",
    "        buf*=(pivot - neighbors[k])\n",
    "        \n",
    "    return val\n",
    "\n",
    "def polynom_Newton(pivot, neighbors,neigh_values):\n",
    "    return interpolating_polyn_3(pivot, neighbors, neigh_values,[], [])\n",
    "        \n",
    "RRs = interpolating_polyn_3(1.9,[1,3,0,4],[3,29,2,66],[],[])\n",
    "RRs"
   ],
   "metadata": {
    "collapsed": false,
    "pycharm": {
     "name": "#%%\n",
     "is_executing": false
    }
   }
  },
  {
   "cell_type": "code",
   "execution_count": 4,
   "outputs": [
    {
     "name": "stdout",
     "text": [
      "5.0\n",
      "7.5\n",
      "6.25\n",
      "6.875\n",
      "6.5625\n",
      "6.40625\n",
      "6.484375\n",
      "6.4453125\n",
      "6.42578125\n",
      "6.435546875\n",
      "6.4306640625\n",
      "6.43310546875\n",
      "6.434326171875\n",
      "6.4349365234375\n",
      "6.43524169921875\n",
      "6.435394287109375\n",
      "6.4354705810546875\n",
      "6.435432434082031\n",
      "6.435451507568359\n",
      "6.435461044311523\n",
      "6.4354658126831055\n",
      "6.4354681968688965\n",
      "6.435467004776001\n",
      "6.435467600822449\n",
      "6.435467898845673\n",
      "6.435467749834061\n",
      "6.435467675328255\n",
      "[6.435467749834061]\n"
     ],
     "output_type": "stream"
    }
   ],
   "source": [
    "polynom = PolLagrange(nodes, values)\n",
    "\n",
    "def bisection(nodes,values,val, a, b ,eps):\n",
    "    answer = []\n",
    "    while b-a >= eps:\n",
    "        c = (a+b)/2\n",
    "        print(c)\n",
    "        if (polynom.polynom_Lagrange(nodes,values,c)-val)*(polynom.polynom_Lagrange(nodes,values,a)-val)<0:\n",
    "            a, b = (a, c)\n",
    "            #if (polynom.polynom_Lagrange(nodes,values,c)-val)*(polynom.polynom_Lagrange(nodes,values,b)-val)<0:\n",
    "                #answer.append(bisection(nodes, values, val, c, (b+c)/2, eps))\n",
    "                #answer.append(bisection(nodes, values, val, (b+c)/2, b, eps))\n",
    "        else:\n",
    "            a, b = (c, b)\n",
    "    answer.append(Newtons_method(nodes, a, b, eps*10**(-3)))\n",
    "    return answer\n",
    "    \n",
    "        \n",
    "  #if condition * (polynom.polynom_Lagrange(nodes, values, c) - val) <0:\n",
    "         #   bisection(nodes, values, val, a, (a+c)/2, eps)\n",
    "          #  bisection(nodes, values, val, (a+c)/2, c, eps)\n",
    "           # bisection(nodes, values, val, c, (b+c)/2, eps)\n",
    "            #bisection(nodes, values, val, (b+c)/2, b, eps)   \n",
    "\n",
    "def Newtons_method(nodes, a, b, eps):\n",
    "    imax = 2000 #число итераций, максимальное\n",
    "    i = 0\n",
    "    x_n = b\n",
    "    h = eps*0.01\n",
    "    f_xn = polynom.polynom_Lagrange(nodes, values,x_n)\n",
    "    derf_xn = (polynom.polynom_Lagrange(nodes, values,x_n+h) - f_xn)/h\n",
    "    x_n1 = x_n - f_xn/derf_xn\n",
    "    \n",
    "    while True:\n",
    "        i+=1\n",
    "        if x_n1 < a or x_n1 > b:\n",
    "            while x_n1 < a or x_n1 >b:\n",
    "                x_n1 = (x_n + x_n1)/2\n",
    "        if abs(x_n1 - x_n)< eps or i >= imax:\n",
    "            return x_n1\n",
    "        x_n = x_n1\n",
    "        f_xn = polynom.polynom_Lagrange(nodes, values ,x_n)\n",
    "        derf_xn = (f_xn - polynom.polynom_Lagrange(nodes, values, x_n+h))/h\n",
    "        x_n1 = x_n - f_xn/derf_xn \n",
    "\n",
    "ans = bisection(nodes,values, val, a, b, 10**(-7))\n",
    "print(ans)\n"
   ],
   "metadata": {
    "collapsed": false,
    "pycharm": {
     "name": "#%%\n",
     "is_executing": false
    }
   }
  }
 ],
 "metadata": {
  "kernelspec": {
   "display_name": "Python 3",
   "language": "python",
   "name": "python3"
  },
  "language_info": {
   "codemirror_mode": {
    "name": "ipython",
    "version": 2
   },
   "file_extension": ".py",
   "mimetype": "text/x-python",
   "name": "python",
   "nbconvert_exporter": "python",
   "pygments_lexer": "ipython2",
   "version": "2.7.6"
  },
  "pycharm": {
   "stem_cell": {
    "cell_type": "raw",
    "source": [],
    "metadata": {
     "collapsed": false
    }
   }
  }
 },
 "nbformat": 4,
 "nbformat_minor": 0
}