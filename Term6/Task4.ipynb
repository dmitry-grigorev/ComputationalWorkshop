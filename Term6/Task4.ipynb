{
 "cells": [
  {
   "cell_type": "code",
   "execution_count": 1,
   "metadata": {
    "collapsed": true
   },
   "outputs": [],
   "source": [
    "import numpy as np\n",
    "from scipy.sparse import lil_matrix\n",
    "import scipy.stats as sts\n",
    "import numpy"
   ]
  },
  {
   "cell_type": "code",
   "execution_count": 2,
   "outputs": [],
   "source": [
    "cycledistfile = \"cycleslensdistribution.txt\"\n"
   ],
   "metadata": {
    "collapsed": false,
    "pycharm": {
     "name": "#%%\n"
    }
   }
  },
  {
   "cell_type": "code",
   "execution_count": 3,
   "outputs": [],
   "source": [
    "cycledistdata = lil_matrix(np.loadtxt(cycledistfile), dtype = 'int', shape = (1000000, 100))"
   ],
   "metadata": {
    "collapsed": false,
    "pycharm": {
     "name": "#%%\n"
    }
   }
  },
  {
   "cell_type": "markdown",
   "source": [
    "### Рассмотрим распределение числа циклов длины 4"
   ],
   "metadata": {
    "collapsed": false,
    "pycharm": {
     "name": "#%% md\n"
    }
   }
  },
  {
   "cell_type": "code",
   "execution_count": 4,
   "outputs": [],
   "source": [
    "k = 4\n",
    "datalen4 = cycledistdata.transpose().getrow(k-1).toarray()[0]"
   ],
   "metadata": {
    "collapsed": false,
    "pycharm": {
     "name": "#%%\n"
    }
   }
  },
  {
   "cell_type": "markdown",
   "source": [
    "### Для моделирования распределения pvalues разобьём наблюдения на 1000 групп"
   ],
   "metadata": {
    "collapsed": false,
    "pycharm": {
     "name": "#%% md\n"
    }
   }
  },
  {
   "cell_type": "code",
   "execution_count": 5,
   "outputs": [],
   "source": [
    "datalen4resh = datalen4.reshape((1000,1000))"
   ],
   "metadata": {
    "collapsed": false,
    "pycharm": {
     "name": "#%%\n"
    }
   }
  },
  {
   "cell_type": "code",
   "source": [],
   "metadata": {
    "collapsed": false,
    "pycharm": {
     "name": "#%%\n"
    }
   },
   "execution_count": 5,
   "outputs": []
  },
  {
   "cell_type": "markdown",
   "source": [
    "### Проверяем гипотезу о том, что выборка взята из распределения Пуассона с параметром $\\frac{1}{4}$\n",
    "### Критерий хи-квадрат говорит, что значимых различий между выборкой и распределением буквально нет\n",
    "\n",
    "### Ниже представлено вычисление статистики критерия хи-квадрат\n",
    "### Для $k=4$ группировка состояний приводит к трём состояниям\n",
    "### Замечание: библиотечная функция для критерия хи-квадрат не учитывает размер выборки\n",
    "### Нужное значение получаем умножением на размер выборки"
   ],
   "metadata": {
    "collapsed": false,
    "pycharm": {
     "name": "#%% md\n"
    }
   }
  },
  {
   "cell_type": "code",
   "execution_count": 6,
   "outputs": [],
   "source": [
    "pvalues = list()\n",
    "for i in range(1000):\n",
    "    freqs = np.bincount(datalen4resh[:,i])/datalen4resh.shape[0]\n",
    "    maxvalue = datalen4resh[:,i].max()\n",
    "    probs = sts.poisson.pmf(np.arange(0, maxvalue + 1), 1/k)\n",
    "\n",
    "    grouped_freqs = np.array([freqs[0],freqs[1],freqs[2:].sum()])\n",
    "    grouped_probs = np.array([probs[0],probs[1],probs[2:].sum()])\n",
    "\n",
    "    chi_squareval = 1000 * (sts.chisquare(grouped_freqs, grouped_probs)).statistic\n",
    "    pvalues.append(sts.chi2.sf(chi_squareval, np.count_nonzero(grouped_probs)-1))"
   ],
   "metadata": {
    "collapsed": false,
    "pycharm": {
     "name": "#%%\n"
    }
   }
  },
  {
   "cell_type": "markdown",
   "source": [
    "### Видим, что распределение pvalues равномерное, что означает, что перестановки промоделированы правильно"
   ],
   "metadata": {
    "collapsed": false,
    "pycharm": {
     "name": "#%% md\n"
    }
   }
  },
  {
   "cell_type": "code",
   "execution_count": 7,
   "outputs": [
    {
     "data": {
      "text/plain": "(array([1.08309721, 0.9527244 , 1.0429825 , 1.00286779, 0.98281044,\n        1.16332664, 0.81232291, 0.92263837, 1.10315457, 0.96275308]),\n array([7.16658833e-05, 9.97857068e-02, 1.99499748e-01, 2.99213789e-01,\n        3.98927830e-01, 4.98641871e-01, 5.98355912e-01, 6.98069953e-01,\n        7.97783993e-01, 8.97498034e-01, 9.97212075e-01]),\n <BarContainer object of 10 artists>)"
     },
     "execution_count": 7,
     "metadata": {},
     "output_type": "execute_result"
    },
    {
     "data": {
      "text/plain": "<Figure size 432x288 with 1 Axes>",
      "image/png": "[encoded data removed]"
     },
     "metadata": {
      "needs_background": "light"
     },
     "output_type": "display_data"
    }
   ],
   "source": [
    "import matplotlib.pyplot as plt\n",
    "plt.hist(pvalues, density=True)"
   ],
   "metadata": {
    "collapsed": false,
    "pycharm": {
     "name": "#%%\n"
    }
   }
  },
  {
   "cell_type": "markdown",
   "source": [
    "----------------------------------------------"
   ],
   "metadata": {
    "collapsed": false,
    "pycharm": {
     "name": "#%% md\n"
    }
   }
  },
  {
   "cell_type": "code",
   "execution_count": 8,
   "outputs": [],
   "source": [
    "elementdist15input = \"elementpositiondist.txt\""
   ],
   "metadata": {
    "collapsed": false,
    "pycharm": {
     "name": "#%%\n"
    }
   }
  },
  {
   "cell_type": "markdown",
   "source": [
    "### Рассмотрим распределение 15-ого по счёту от нуля элемента в перестановках\n",
    "### Предполагается, что оно равномерное"
   ],
   "metadata": {
    "collapsed": false,
    "pycharm": {
     "name": "#%% md\n"
    }
   }
  },
  {
   "cell_type": "code",
   "execution_count": 9,
   "outputs": [],
   "source": [
    "elementdist15data = np.loadtxt(elementdist15input, dtype = \"int\")"
   ],
   "metadata": {
    "collapsed": false,
    "pycharm": {
     "name": "#%%\n"
    }
   }
  },
  {
   "cell_type": "code",
   "execution_count": 10,
   "outputs": [],
   "source": [
    "elementdist15data_grouped = elementdist15data.reshape(100,1000)"
   ],
   "metadata": {
    "collapsed": false,
    "pycharm": {
     "name": "#%%\n"
    }
   }
  },
  {
   "cell_type": "markdown",
   "source": [
    "### Объединять состояния по критерию $np_i \\ge 5$ в случае равномерного распределения просто\n",
    "### Вероятность каждого наблюдения (длина перестановок $1000$, длина выборок в группах $100$) равна $0.001$\n",
    "### Тогда мы просто собираем состояния в группы по 50"
   ],
   "metadata": {
    "collapsed": false,
    "pycharm": {
     "name": "#%% md\n"
    }
   }
  },
  {
   "cell_type": "code",
   "execution_count": 14,
   "outputs": [],
   "source": [
    "pvalues = list()\n",
    "for i in range(1000):\n",
    "    freqs = np.bincount(elementdist15data_grouped[:,i])/elementdist15data_grouped.shape[0]\n",
    "    maxvalue = 1000\n",
    "\n",
    "    grouped_freqs = np.array([freqs[k:k+50].sum() for k in range(0,1000,50)])\n",
    "    chi_squareval = 100 * (sts.chisquare(grouped_freqs)).statistic\n",
    "    pvalues.append(sts.chi2.sf(chi_squareval, 19))### степеней свобод 1000/50 - 1 = 19"
   ],
   "metadata": {
    "collapsed": false,
    "pycharm": {
     "name": "#%%\n"
    }
   }
  },
  {
   "cell_type": "code",
   "execution_count": 15,
   "outputs": [
    {
     "data": {
      "text/plain": "(array([0.86, 0.9 , 0.99, 1.22, 1.25, 0.86, 0.99, 0.93, 1.08, 0.92]),\n array([0. , 0.1, 0.2, 0.3, 0.4, 0.5, 0.6, 0.7, 0.8, 0.9, 1. ]),\n <BarContainer object of 10 artists>)"
     },
     "execution_count": 15,
     "metadata": {},
     "output_type": "execute_result"
    },
    {
     "data": {
      "text/plain": "<Figure size 432x288 with 1 Axes>",
      "image/png": "[encoded data removed]"
     },
     "metadata": {
      "needs_background": "light"
     },
     "output_type": "display_data"
    }
   ],
   "source": [
    "plt.hist(pvalues, density=True, range=(0,1))"
   ],
   "metadata": {
    "collapsed": false,
    "pycharm": {
     "name": "#%%\n"
    }
   }
  },
  {
   "cell_type": "markdown",
   "source": [
    "### Провели аналогичные действия для вычисления pvalues для критерия хи-квадрат проверки равномерности распределения позиции 15-ого элемента в перестановках\n",
    "### Распределение pvalues равномерное"
   ],
   "metadata": {
    "collapsed": false,
    "pycharm": {
     "name": "#%% md\n"
    }
   }
  },
  {
   "cell_type": "code",
   "execution_count": 12,
   "outputs": [],
   "source": [],
   "metadata": {
    "collapsed": false,
    "pycharm": {
     "name": "#%%\n"
    }
   }
  },
  {
   "cell_type": "code",
   "execution_count": 12,
   "outputs": [],
   "source": [],
   "metadata": {
    "collapsed": false,
    "pycharm": {
     "name": "#%%\n"
    }
   }
  }
 ],
 "metadata": {
  "kernelspec": {
   "display_name": "Python 3",
   "language": "python",
   "name": "python3"
  },
  "language_info": {
   "codemirror_mode": {
    "name": "ipython",
    "version": 2
   },
   "file_extension": ".py",
   "mimetype": "text/x-python",
   "name": "python",
   "nbconvert_exporter": "python",
   "pygments_lexer": "ipython2",
   "version": "2.7.6"
  }
 },
 "nbformat": 4,
 "nbformat_minor": 0
}