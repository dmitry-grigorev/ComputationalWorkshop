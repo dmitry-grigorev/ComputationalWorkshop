{
 "cells": [
  {
   "cell_type": "code",
   "execution_count": 5,
   "metadata": {
    "collapsed": true,
    "pycharm": {
     "is_executing": false
    }
   },
   "outputs": [],
   "source": [
    "import random\n",
    "from math import floor"
   ]
  },
  {
   "cell_type": "code",
   "execution_count": 31,
   "outputs": [],
   "source": [
    "class RANDU:\n",
    "    def __init__(self, mul, mod,seed):\n",
    "        self.mul = mul\n",
    "        self.mod = mod\n",
    "        self.currvalue = seed\n",
    "        self.seed = seed\n",
    "    def rand(self):\n",
    "        self.currvalue = (self.currvalue*self.mul) % self.mod\n",
    "        return self.currvalue\n",
    "    def rewind(self):\n",
    "        self.currvalue = self.seed\n",
    "\n",
    "class Generator:\n",
    "    def __init__(self, j, k, seed):\n",
    "        self.j = j\n",
    "        self.k = k\n",
    "        self.g = RANDU(65539, 2**31, seed)\n",
    "        self.currvalue = [self.g.rand() for _ in range(k)]\n",
    "        self.initial = self.currvalue\n",
    "        self.seed = seed #список начальных значений\n",
    "        self.currpos = 0\n",
    "    def rand(self):\n",
    "        self.currvalue[self.currpos] = self.currvalue[self.currpos] ^ self.currvalue[(self.currpos-self.j) % self.k]\n",
    "        val = self.currvalue[self.currpos]\n",
    "        self.currpos = (self.currpos+1)%self.k\n",
    "        return val\n",
    "    def rewind(self):\n",
    "        self.currvalue = self.initial\n",
    "        self.currpos = 0\n",
    "\n"
   ],
   "metadata": {
    "collapsed": false,
    "pycharm": {
     "name": "#%%\n",
     "is_executing": false
    }
   }
  },
  {
   "cell_type": "code",
   "execution_count": 32,
   "outputs": [],
   "source": [
    "seed = 1\n",
    "gen = Generator(24, 55, seed)"
   ],
   "metadata": {
    "collapsed": false,
    "pycharm": {
     "name": "#%%\n",
     "is_executing": false
    }
   }
  },
  {
   "cell_type": "code",
   "execution_count": 33,
   "outputs": [
    {
     "name": "stdout",
     "text": [
      "662650498\n",
      "889043850\n",
      "1517105810\n",
      "1099405258\n",
      "1556661794\n",
      "1532516010\n",
      "1658779090\n",
      "347529642\n",
      "209626306\n",
      "678846154\n",
      "1528339154\n",
      "797728906\n",
      "1466507682\n",
      "854895658\n",
      "1882716050\n",
      "1158399658\n",
      "97497090\n",
      "1156067338\n",
      "1107447826\n",
      "236237002\n"
     ],
     "output_type": "stream"
    }
   ],
   "source": [
    "for _ in range(20):\n",
    "    print(gen.rand())"
   ],
   "metadata": {
    "collapsed": false,
    "pycharm": {
     "name": "#%%\n",
     "is_executing": false
    }
   }
  },
  {
   "cell_type": "code",
   "execution_count": 34,
   "outputs": [],
   "source": [
    "gen.rewind()"
   ],
   "metadata": {
    "collapsed": false,
    "pycharm": {
     "name": "#%%\n",
     "is_executing": false
    }
   }
  },
  {
   "cell_type": "code",
   "execution_count": 35,
   "outputs": [
    {
     "name": "stdout",
     "text": [
      "65539\n",
      "393225\n",
      "1769499\n",
      "7077969\n",
      "26542323\n",
      "95552217\n",
      "334432395\n",
      "1146624417\n",
      "1722371299\n",
      "14608041\n",
      "1766175739\n",
      "1875647473\n",
      "1800754131\n",
      "366148473\n",
      "1022489195\n",
      "692115265\n",
      "1392739779\n",
      "2127401289\n",
      "229749723\n",
      "1559239569\n"
     ],
     "output_type": "stream"
    }
   ],
   "source": [],
   "metadata": {
    "collapsed": false,
    "pycharm": {
     "name": "#%%\n",
     "is_executing": false
    }
   }
  },
  {
   "cell_type": "code",
   "execution_count": null,
   "outputs": [],
   "source": [
    "\n"
   ],
   "metadata": {
    "collapsed": false,
    "pycharm": {
     "name": "#%%\n"
    }
   }
  }
 ],
 "metadata": {
  "kernelspec": {
   "display_name": "Python 3",
   "language": "python",
   "name": "python3"
  },
  "language_info": {
   "codemirror_mode": {
    "name": "ipython",
    "version": 2
   },
   "file_extension": ".py",
   "mimetype": "text/x-python",
   "name": "python",
   "nbconvert_exporter": "python",
   "pygments_lexer": "ipython2",
   "version": "2.7.6"
  },
  "pycharm": {
   "stem_cell": {
    "cell_type": "raw",
    "source": [],
    "metadata": {
     "collapsed": false
    }
   }
  }
 },
 "nbformat": 4,
 "nbformat_minor": 0
}