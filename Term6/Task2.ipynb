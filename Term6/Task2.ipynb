{
 "cells": [
  {
   "cell_type": "code",
   "execution_count": 92,
   "metadata": {
    "collapsed": true,
    "pycharm": {
     "is_executing": false
    }
   },
   "outputs": [],
   "source": [
    "import random\n",
    "from math import floor\n",
    "from scipy.sparse import csc_matrix, eye, find\n",
    "import numpy as np"
   ]
  },
  {
   "cell_type": "code",
   "execution_count": 100,
   "outputs": [],
   "source": [
    "class RANDU:\n",
    "    def __init__(self, mul, mod,seed):\n",
    "        self.mul = mul\n",
    "        self.mod = mod\n",
    "        self.currvalue = seed\n",
    "        self.seed = seed\n",
    "    def rand(self):\n",
    "        self.currvalue = (self.currvalue*self.mul) % self.mod\n",
    "        return self.currvalue\n",
    "    def rewind(self):\n",
    "        self.currvalue = self.seed\n",
    "\n",
    "def matrixpower( M, p):\n",
    "    M1 = M.copy()\n",
    "    for _ in range(p-1):\n",
    "        M1 = M1.dot(M)\n",
    "    return M1.copy()\n",
    "class Generator:\n",
    "    def __init__(self, j, k, seed):\n",
    "        self.j = j\n",
    "        self.k = k\n",
    "        self.g = RANDU(65539, 2**31, seed)\n",
    "        self.currvalue = [self.g.rand() for _ in range(k)]\n",
    "        self.initial = self.currvalue\n",
    "        self.seed = seed #список начальных значений\n",
    "        self.currpos = 0\n",
    "    def rand(self):\n",
    "        self.currvalue[self.currpos] = self.currvalue[self.currpos] + self.currvalue[(self.currpos-self.j) % self.k]\n",
    "        val = self.currvalue[self.currpos]\n",
    "        self.currpos = (self.currpos+1)%self.k\n",
    "        return val\n",
    "    def rewind(self):\n",
    "        self.currvalue = self.initial\n",
    "        self.currpos = 0\n",
    "    \n",
    "    def jumpahead(self, jlen):\n",
    "        A = csc_matrix(([1]*(self.k+1), ([i for i in range(self.k-1)]+[self.k-1]*2, [i for i in range(1,self.k)]+[0, self.k-self.j])))\n",
    "        m, r = divmod(jlen, self.k)\n",
    "        B, C = 0, 0\n",
    "        dif =  self.k - self.j - r\n",
    "        if dif>0:\n",
    "            B = matrixpower(A, r)\n",
    "            C = B.copy()\n",
    "            C.dot(matrixpower(A, dif))\n",
    "        else:\n",
    "            C = matrixpower(A, self.k - self.j)\n",
    "            B = C.copy()\n",
    "            B.dot(matrixpower(A, -dif))\n",
    "        C = C + eye(self.k)\n",
    "        C = matrixpower(C, m)\n",
    "        #for i, j in find(C):\n",
    "        #    C[i,j] = C[i,j] % 2\n",
    "        return (B.dot(C)).dot(np.array(self.currvalue))[0]"
   ],
   "metadata": {
    "collapsed": false,
    "pycharm": {
     "name": "#%%\n",
     "is_executing": false
    }
   }
  },
  {
   "cell_type": "code",
   "execution_count": 98,
   "outputs": [],
   "source": [
    "seed = 1\n",
    "gen = Generator(24, 55, seed)"
   ],
   "metadata": {
    "collapsed": false,
    "pycharm": {
     "name": "#%%\n",
     "is_executing": false
    }
   }
  },
  {
   "cell_type": "code",
   "execution_count": 33,
   "outputs": [
    {
     "name": "stdout",
     "text": [
      "662650498\n",
      "889043850\n",
      "1517105810\n",
      "1099405258\n",
      "1556661794\n",
      "1532516010\n",
      "1658779090\n",
      "347529642\n",
      "209626306\n",
      "678846154\n",
      "1528339154\n",
      "797728906\n",
      "1466507682\n",
      "854895658\n",
      "1882716050\n",
      "1158399658\n",
      "97497090\n",
      "1156067338\n",
      "1107447826\n",
      "236237002\n"
     ],
     "output_type": "stream"
    }
   ],
   "source": [],
   "metadata": {
    "collapsed": false,
    "pycharm": {
     "name": "#%%\n",
     "is_executing": false
    }
   }
  },
  {
   "cell_type": "code",
   "execution_count": 34,
   "outputs": [],
   "source": [
    "gen.rewind()"
   ],
   "metadata": {
    "collapsed": false,
    "pycharm": {
     "name": "#%%\n",
     "is_executing": false
    }
   }
  },
  {
   "cell_type": "code",
   "execution_count": 3,
   "outputs": [],
   "source": [
    "A = csc_matrix(([1]*10, ([0,1,2,3,4,5, 6,7,8,8], [1,2,3,4,5,6,7, 8, 0,4])))\n"
   ],
   "metadata": {
    "collapsed": false,
    "pycharm": {
     "name": "#%%\n",
     "is_executing": false
    }
   }
  },
  {
   "cell_type": "code",
   "execution_count": 5,
   "outputs": [
    {
     "data": {
      "text/plain": "array([8, 0, 1, 2, 3, 8, 4, 5, 6, 7], dtype=int32)"
     },
     "metadata": {},
     "output_type": "execute_result",
     "execution_count": 5
    }
   ],
   "source": [
    "A.indices\n"
   ],
   "metadata": {
    "collapsed": false,
    "pycharm": {
     "name": "#%%\n",
     "is_executing": false
    }
   }
  },
  {
   "cell_type": "code",
   "execution_count": 6,
   "outputs": [
    {
     "data": {
      "text/plain": "matrix([[0, 1, 0, 0, 0, 0, 0, 0, 0],\n        [0, 0, 1, 0, 0, 0, 0, 0, 0],\n        [0, 0, 0, 1, 0, 0, 0, 0, 0],\n        [0, 0, 0, 0, 1, 0, 0, 0, 0],\n        [0, 0, 0, 0, 0, 1, 0, 0, 0],\n        [0, 0, 0, 0, 0, 0, 1, 0, 0],\n        [0, 0, 0, 0, 0, 0, 0, 1, 0],\n        [0, 0, 0, 0, 0, 0, 0, 0, 1],\n        [1, 0, 0, 0, 1, 0, 0, 0, 0]], dtype=int32)"
     },
     "metadata": {},
     "output_type": "execute_result",
     "execution_count": 6
    }
   ],
   "source": [
    "A.todense()"
   ],
   "metadata": {
    "collapsed": false,
    "pycharm": {
     "name": "#%%\n",
     "is_executing": false
    }
   }
  },
  {
   "cell_type": "code",
   "execution_count": 99,
   "outputs": [
    {
     "name": "stdout",
     "text": [
      "1134404389984662.0\n"
     ],
     "output_type": "stream"
    }
   ],
   "source": [
    "print(gen.jumpahead(1000))"
   ],
   "metadata": {
    "collapsed": false,
    "pycharm": {
     "name": "#%%\n",
     "is_executing": false
    }
   }
  },
  {
   "cell_type": "code",
   "execution_count": 95,
   "outputs": [],
   "source": [
    "for _ in range(1000):\n",
    "    gen.rand()"
   ],
   "metadata": {
    "collapsed": false,
    "pycharm": {
     "name": "#%%\n",
     "is_executing": false
    }
   }
  },
  {
   "cell_type": "code",
   "execution_count": 96,
   "outputs": [
    {
     "data": {
      "text/plain": "71672560229907016"
     },
     "metadata": {},
     "output_type": "execute_result",
     "execution_count": 96
    }
   ],
   "source": [
    "gen.currvalue[gen.currpos]"
   ],
   "metadata": {
    "collapsed": false,
    "pycharm": {
     "name": "#%%\n",
     "is_executing": false
    }
   }
  },
  {
   "cell_type": "code",
   "execution_count": null,
   "outputs": [],
   "source": [
    "\n"
   ],
   "metadata": {
    "collapsed": false,
    "pycharm": {
     "name": "#%%\n"
    }
   }
  }
 ],
 "metadata": {
  "kernelspec": {
   "display_name": "Python 3",
   "language": "python",
   "name": "python3"
  },
  "language_info": {
   "codemirror_mode": {
    "name": "ipython",
    "version": 2
   },
   "file_extension": ".py",
   "mimetype": "text/x-python",
   "name": "python",
   "nbconvert_exporter": "python",
   "pygments_lexer": "ipython2",
   "version": "2.7.6"
  },
  "pycharm": {
   "stem_cell": {
    "cell_type": "raw",
    "source": [],
    "metadata": {
     "collapsed": false
    }
   }
  }
 },
 "nbformat": 4,
 "nbformat_minor": 0
}