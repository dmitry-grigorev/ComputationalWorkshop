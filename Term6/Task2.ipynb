{
 "cells": [
  {
   "cell_type": "code",
   "execution_count": 94,
   "metadata": {
    "collapsed": true
   },
   "outputs": [],
   "source": [
    "import random\n",
    "from math import floor\n",
    "from scipy.sparse import csc_matrix, eye, find\n",
    "import numpy as np\n",
    "import time\n",
    "import sys"
   ]
  },
  {
   "cell_type": "code",
   "execution_count": 95,
   "outputs": [],
   "source": [
    "class RANDU:\n",
    "    def __init__(self, mul, mod,seed):\n",
    "        self.mul = mul\n",
    "        self.mod = mod\n",
    "        self.currvalue = seed\n",
    "        self.seed = seed\n",
    "    def rand(self):\n",
    "        self.currvalue = (self.currvalue*self.mul) % self.mod\n",
    "        return self.currvalue\n",
    "    def rewind(self):\n",
    "        self.currvalue = self.seed\n",
    "\n",
    "def matrixpower(M, p):\n",
    "    k = M.shape[0]\n",
    "    if p ==0:\n",
    "        return eye(k)\n",
    "    M1 = M.copy()\n",
    "    for _ in range(p-1):\n",
    "        M1 = M1.dot(M)\n",
    "       # if p % 1000 == 0:\n",
    "            #M1 = matrixmod2(M1, k)\n",
    "    return M1.copy()\n",
    "\n",
    "def matrixmod2(M, k):\n",
    "    for i in range(k):\n",
    "        for j in range(k):\n",
    "            M[i,j] = M[i,j] % 2\n",
    "    return M.copy()\n",
    "class Generator:\n",
    "    def __init__(self, j, k, seed):\n",
    "        self.j = j\n",
    "        self.k = k\n",
    "        self.g = RANDU(65539, 2**31, seed)\n",
    "        self.currvalue = [self.g.rand() for _ in range(k)]\n",
    "        self.initial = self.currvalue.copy()\n",
    "        self.seed = seed\n",
    "        self.currpos = 0\n",
    "    def rand(self):\n",
    "        self.currvalue[self.currpos] = self.currvalue[self.currpos] ^ self.currvalue[(self.currpos-self.j) % self.k]\n",
    "        self.currpos = (self.currpos+1)%self.k\n",
    "        val = self.currvalue[self.currpos]\n",
    "        return val\n",
    "    def rewind(self):\n",
    "        self.currvalue = self.initial.copy()\n",
    "        self.currpos = 0\n",
    "    \n",
    "    def jumpahead(self, jlen):\n",
    "        A = csc_matrix(([1]*(self.k+1), ([i for i in range(self.k)]+[self.k-1], [i for i in range(1,self.k)]+[0, self.k-self.j])), shape=(self.k,self.k), dtype=\"int\")\n",
    "        m, r = divmod(jlen, self.k)\n",
    "        dif =  self.k - self.j - r\n",
    "        if dif>0:\n",
    "            B = matrixpower(A, r)\n",
    "            C = B.copy()\n",
    "            C = C.dot(matrixpower(A, dif))\n",
    "        else:\n",
    "            C = matrixpower(A, self.k - self.j)\n",
    "            B = C.copy()\n",
    "            B = B.dot(matrixpower(A, -dif))\n",
    "        C = C + eye(self.k)\n",
    "        C = matrixpower(C, m)\n",
    "        D = B.dot(C)\n",
    "#        D = matrixmod2(D, self.k)\n",
    "        invres = 0\n",
    "        res = 0\n",
    "        bits = csc_matrix((self.k,1), dtype = \"int\")\n",
    "        for _ in range(sys.getsizeof(int)):\n",
    "            for k in range(self.k):\n",
    "                bits[k] = self.currvalue[k]%2\n",
    "                self.currvalue[k]>>=1\n",
    "            b = int(D.dot(bits)[0,0]) % 2\n",
    "            invres = b | (invres << 1)\n",
    "        self.currvalue = self.initial.copy()\n",
    "        for _ in range(sys.getsizeof(int)):\n",
    "            res = (res << 1) | (invres % 2)\n",
    "            invres>>=1\n",
    "        return res\n",
    "    def just_power(self, n):\n",
    "        A = csc_matrix(([1]*(self.k+1), ([i for i in range(self.k)]+[self.k-1], [i for i in range(1,self.k)]+[0, self.k-self.j])), shape=(self.k,self.k), dtype=\"int\")\n",
    "        matrixpower(A,n)"
   ],
   "metadata": {
    "collapsed": false,
    "pycharm": {
     "name": "#%%\n"
    }
   }
  },
  {
   "cell_type": "code",
   "execution_count": 99,
   "outputs": [],
   "source": [
    "seed = 24121\n",
    "jlen = 200000\n",
    "gen = Generator(24, 55, seed)"
   ],
   "metadata": {
    "collapsed": false,
    "pycharm": {
     "name": "#%%\n"
    }
   }
  },
  {
   "cell_type": "code",
   "execution_count": 8,
   "outputs": [],
   "source": [
    "gen.rewind()"
   ],
   "metadata": {
    "collapsed": false,
    "pycharm": {
     "name": "#%%\n"
    }
   }
  },
  {
   "cell_type": "code",
   "execution_count": 100,
   "outputs": [
    {
     "ename": "OverflowError",
     "evalue": "cannot convert float infinity to integer",
     "output_type": "error",
     "traceback": [
      "\u001B[1;31m---------------------------------------------------------------------------\u001B[0m",
      "\u001B[1;31mOverflowError\u001B[0m                             Traceback (most recent call last)",
      "\u001B[1;32m<ipython-input-100-8a2e14730820>\u001B[0m in \u001B[0;36m<module>\u001B[1;34m\u001B[0m\n\u001B[0;32m      1\u001B[0m \u001B[0mstart\u001B[0m \u001B[1;33m=\u001B[0m \u001B[0mtime\u001B[0m\u001B[1;33m.\u001B[0m\u001B[0mtime\u001B[0m\u001B[1;33m(\u001B[0m\u001B[1;33m)\u001B[0m\u001B[1;33m\u001B[0m\u001B[1;33m\u001B[0m\u001B[0m\n\u001B[1;32m----> 2\u001B[1;33m \u001B[0ma\u001B[0m \u001B[1;33m=\u001B[0m \u001B[0mgen\u001B[0m\u001B[1;33m.\u001B[0m\u001B[0mjumpahead\u001B[0m\u001B[1;33m(\u001B[0m\u001B[0mjlen\u001B[0m\u001B[1;33m)\u001B[0m\u001B[1;33m\u001B[0m\u001B[1;33m\u001B[0m\u001B[0m\n\u001B[0m\u001B[0;32m      3\u001B[0m \u001B[0mprint\u001B[0m\u001B[1;33m(\u001B[0m\u001B[0ma\u001B[0m\u001B[1;33m)\u001B[0m\u001B[1;33m\u001B[0m\u001B[1;33m\u001B[0m\u001B[0m\n\u001B[0;32m      4\u001B[0m \u001B[0mprint\u001B[0m\u001B[1;33m(\u001B[0m\u001B[1;34m\"it takes {} seconds\"\u001B[0m\u001B[1;33m.\u001B[0m\u001B[0mformat\u001B[0m\u001B[1;33m(\u001B[0m\u001B[0mtime\u001B[0m\u001B[1;33m.\u001B[0m\u001B[0mtime\u001B[0m\u001B[1;33m(\u001B[0m\u001B[1;33m)\u001B[0m \u001B[1;33m-\u001B[0m \u001B[0mstart\u001B[0m\u001B[1;33m)\u001B[0m\u001B[1;33m)\u001B[0m\u001B[1;33m\u001B[0m\u001B[1;33m\u001B[0m\u001B[0m\n\u001B[0;32m      5\u001B[0m \u001B[1;33m\u001B[0m\u001B[0m\n",
      "\u001B[1;32m<ipython-input-95-0967f0642053>\u001B[0m in \u001B[0;36mjumpahead\u001B[1;34m(self, jlen)\u001B[0m\n\u001B[0;32m     68\u001B[0m                 \u001B[0mbits\u001B[0m\u001B[1;33m[\u001B[0m\u001B[0mk\u001B[0m\u001B[1;33m]\u001B[0m \u001B[1;33m=\u001B[0m \u001B[0mself\u001B[0m\u001B[1;33m.\u001B[0m\u001B[0mcurrvalue\u001B[0m\u001B[1;33m[\u001B[0m\u001B[0mk\u001B[0m\u001B[1;33m]\u001B[0m\u001B[1;33m%\u001B[0m\u001B[1;36m2\u001B[0m\u001B[1;33m\u001B[0m\u001B[1;33m\u001B[0m\u001B[0m\n\u001B[0;32m     69\u001B[0m                 \u001B[0mself\u001B[0m\u001B[1;33m.\u001B[0m\u001B[0mcurrvalue\u001B[0m\u001B[1;33m[\u001B[0m\u001B[0mk\u001B[0m\u001B[1;33m]\u001B[0m\u001B[1;33m>>=\u001B[0m\u001B[1;36m1\u001B[0m\u001B[1;33m\u001B[0m\u001B[1;33m\u001B[0m\u001B[0m\n\u001B[1;32m---> 70\u001B[1;33m             \u001B[0mb\u001B[0m \u001B[1;33m=\u001B[0m \u001B[0mint\u001B[0m\u001B[1;33m(\u001B[0m\u001B[0mD\u001B[0m\u001B[1;33m.\u001B[0m\u001B[0mdot\u001B[0m\u001B[1;33m(\u001B[0m\u001B[0mbits\u001B[0m\u001B[1;33m)\u001B[0m\u001B[1;33m[\u001B[0m\u001B[1;36m0\u001B[0m\u001B[1;33m,\u001B[0m\u001B[1;36m0\u001B[0m\u001B[1;33m]\u001B[0m\u001B[1;33m)\u001B[0m \u001B[1;33m%\u001B[0m \u001B[1;36m2\u001B[0m\u001B[1;33m\u001B[0m\u001B[1;33m\u001B[0m\u001B[0m\n\u001B[0m\u001B[0;32m     71\u001B[0m             \u001B[0minvres\u001B[0m \u001B[1;33m=\u001B[0m \u001B[0mb\u001B[0m \u001B[1;33m|\u001B[0m \u001B[1;33m(\u001B[0m\u001B[0minvres\u001B[0m \u001B[1;33m<<\u001B[0m \u001B[1;36m1\u001B[0m\u001B[1;33m)\u001B[0m\u001B[1;33m\u001B[0m\u001B[1;33m\u001B[0m\u001B[0m\n\u001B[0;32m     72\u001B[0m         \u001B[0mself\u001B[0m\u001B[1;33m.\u001B[0m\u001B[0mcurrvalue\u001B[0m \u001B[1;33m=\u001B[0m \u001B[0mself\u001B[0m\u001B[1;33m.\u001B[0m\u001B[0minitial\u001B[0m\u001B[1;33m.\u001B[0m\u001B[0mcopy\u001B[0m\u001B[1;33m(\u001B[0m\u001B[1;33m)\u001B[0m\u001B[1;33m\u001B[0m\u001B[1;33m\u001B[0m\u001B[0m\n",
      "\u001B[1;31mOverflowError\u001B[0m: cannot convert float infinity to integer"
     ]
    }
   ],
   "source": [
    "start = time.time()\n",
    "a = gen.jumpahead(jlen)\n",
    "print(a)\n",
    "print(\"it takes {} seconds\".format(time.time() - start))"
   ],
   "metadata": {
    "collapsed": false,
    "pycharm": {
     "name": "#%%\n"
    }
   }
  },
  {
   "cell_type": "code",
   "execution_count": 98,
   "outputs": [
    {
     "name": "stdout",
     "output_type": "stream",
     "text": [
      "it takes 0.002056598663330078 seconds\n"
     ]
    },
    {
     "data": {
      "text/plain": "1219056257"
     },
     "execution_count": 98,
     "metadata": {},
     "output_type": "execute_result"
    }
   ],
   "source": [
    "start = time.time()\n",
    "for _ in range(jlen-1):\n",
    "    gen.rand()\n",
    "print(\"it takes {} seconds\".format(time.time() - start))\n",
    "gen.rand()"
   ],
   "metadata": {
    "collapsed": false,
    "pycharm": {
     "name": "#%%\n"
    }
   }
  },
  {
   "cell_type": "code",
   "execution_count": 75,
   "outputs": [
    {
     "name": "stdout",
     "output_type": "stream",
     "text": [
      "it takes 0.41176486015319824 seconds\n"
     ]
    }
   ],
   "source": [
    "start = time.time()\n",
    "gen.just_power(jlen)\n",
    "print(\"it takes {} seconds\".format(time.time() - start))"
   ],
   "metadata": {
    "collapsed": false,
    "pycharm": {
     "name": "#%%\n"
    }
   }
  },
  {
   "cell_type": "markdown",
   "source": [
    "### Основная идея быстрого возведения в степень:\n",
    "### Матрица $A$ является фробениусовой матрицей, внизу единица стоит в столбце с номером k-j, если считать от нуля.\n",
    "### Её характеристический многочлен $p(x) = x^k-x^{k-j}-1$.\n",
    "### По теореме Гамильтона-Кэли $p(A) = A^k-A^{k-j}-E=0$\n",
    "### Тогда $A^k = A^{k-j}+E$\n",
    "### Тогда возведение в степень $n, \\ r = n \\% k, \\ m = n // k$\n",
    "### $A^{n} = A^{k*m+r} = A^r(A^k)^m = A^r(A^{k-j}+E)^m$"
   ],
   "metadata": {
    "collapsed": false,
    "pycharm": {
     "name": "#%% md\n"
    }
   }
  },
  {
   "cell_type": "code",
   "execution_count": null,
   "outputs": [],
   "source": [],
   "metadata": {
    "collapsed": false,
    "pycharm": {
     "name": "#%%\n"
    }
   }
  },
  {
   "cell_type": "code",
   "execution_count": null,
   "outputs": [],
   "source": [],
   "metadata": {
    "collapsed": false,
    "pycharm": {
     "name": "#%%\n"
    }
   }
  }
 ],
 "metadata": {
  "kernelspec": {
   "display_name": "Python 3",
   "language": "python",
   "name": "python3"
  },
  "language_info": {
   "codemirror_mode": {
    "name": "ipython",
    "version": 2
   },
   "file_extension": ".py",
   "mimetype": "text/x-python",
   "name": "python",
   "nbconvert_exporter": "python",
   "pygments_lexer": "ipython2",
   "version": "2.7.6"
  }
 },
 "nbformat": 4,
 "nbformat_minor": 0
}