{
 "cells": [
  {
   "cell_type": "code",
   "execution_count": 1,
   "metadata": {
    "collapsed": true
   },
   "outputs": [],
   "source": [
    "import random\n",
    "from math import log2\n",
    "from scipy.sparse import csc_matrix, eye, find\n",
    "import numpy as np\n",
    "import time\n",
    "import sys\n",
    "import pandas as pd"
   ]
  },
  {
   "cell_type": "code",
   "execution_count": 2,
   "outputs": [],
   "source": [
    "class RANDU:\n",
    "    def __init__(self, mul, mod,seed):\n",
    "        self.mul = mul\n",
    "        self.mod = mod\n",
    "        self.currvalue = seed\n",
    "        self.seed = seed\n",
    "    def rand(self):\n",
    "        self.currvalue = (self.currvalue*self.mul) % self.mod\n",
    "        return self.currvalue\n",
    "    def rewind(self):\n",
    "        self.currvalue = self.seed\n",
    "\n",
    "def matrixpower(M, p):\n",
    "    k = M.shape[0]\n",
    "    if p ==0:\n",
    "        return eye(k)\n",
    "    M1 = M.copy()\n",
    "    for _ in range(p-1):\n",
    "        M1 = M1.dot(M)\n",
    "        if _ % 50 == 0:\n",
    "            M1 = matrixmod2(M1)\n",
    "    return M1.copy()\n",
    "\n",
    "def quickpow (M, pow):\n",
    "  result = eye(M.shape[0]).tocsc()\n",
    "  while pow > 0:\n",
    "    if pow % 2 == 1:\n",
    "      result = result.dot(M)\n",
    "    result = matrixmod2(result)\n",
    "    M = M.dot(M.copy())\n",
    "    M = matrixmod2(M)\n",
    "    pow >>= 1\n",
    "  return result.copy()\n",
    "\n",
    "def matrixmod2(M):\n",
    "    rows,cols = M.nonzero()\n",
    "    for row,col in zip(rows,cols):\n",
    "        M[row,col] %= 2\n",
    "    return M.copy()\n",
    "class Generator:\n",
    "    def __init__(self, j, k, seed):\n",
    "        self.j = j\n",
    "        self.k = k\n",
    "        self.g = RANDU(65539, 2**31, seed)\n",
    "        self.currvalue = [self.g.rand() for _ in range(k)]\n",
    "        self.initial = self.currvalue.copy()\n",
    "        self.seed = seed\n",
    "        self.currpos = 0\n",
    "    def rand(self):\n",
    "        self.currvalue[self.currpos] = self.currvalue[self.currpos] ^ self.currvalue[(self.currpos-self.j) % self.k]\n",
    "        self.currpos = (self.currpos+1)%self.k\n",
    "        val = self.currvalue[self.currpos]\n",
    "        return val\n",
    "    def rewind(self):\n",
    "        self.currvalue = self.initial.copy()\n",
    "        self.currpos = 0\n",
    "    \n",
    "    def jumpahead(self, jlen):\n",
    "        A = csc_matrix(([1]*(self.k+1), ([i for i in range(self.k)]+[self.k-1], [i for i in range(1,self.k)]+[0, self.k-self.j])), shape=(self.k,self.k), dtype=\"int\")\n",
    "        m, r = divmod(jlen, self.k)\n",
    "        dif =  self.k - self.j - r\n",
    "        if dif>0:\n",
    "            B = matrixpower(A, r)\n",
    "            print(\"B is powered in {} degree\".format(r))\n",
    "            C = B.copy()\n",
    "            C = C.dot(matrixpower(A, dif))\n",
    "            print(\"C is powered in {} degree\".format(self.k - self.j))\n",
    "        else:\n",
    "            C = matrixpower(A, self.k - self.j)\n",
    "            print(\"C is powered in {} degree\".format(self.k - self.j))\n",
    "            B = C.copy()\n",
    "            B = B.dot(matrixpower(A, -dif))\n",
    "            print(\"B is powered in {} degree\".format(r))\n",
    "        C = C + eye(self.k)\n",
    "        C = matrixmod2(C)\n",
    "        C = quickpow(C, m)\n",
    "        C = matrixmod2(C)\n",
    "        print(\"C+E is powered in {} degree\".format(m))\n",
    "        D = B.dot(C)\n",
    "        D = matrixmod2(D)\n",
    "        invres = 0\n",
    "        res = 0\n",
    "        bits = csc_matrix((self.k,1), dtype = \"int\")\n",
    "        for _ in range(sys.getsizeof(int)):\n",
    "            for k in range(self.k):\n",
    "                bits[k] = self.currvalue[k]%2\n",
    "                self.currvalue[k]>>=1\n",
    "            b = int(D.dot(bits)[0,0]) % 2\n",
    "            invres = b | (invres << 1)\n",
    "        self.currvalue = self.initial.copy()\n",
    "        for _ in range(sys.getsizeof(int)):\n",
    "            res = (res << 1) | (invres % 2)\n",
    "            invres>>=1\n",
    "        return res\n",
    "    def just_power(self, n):\n",
    "        A = csc_matrix(([1]*(self.k+1), ([i for i in range(self.k)]+[self.k-1], [i for i in range(1,self.k)]+[0, self.k-self.j])), shape=(self.k,self.k), dtype=\"int\")\n",
    "        quickpow(A,n)"
   ],
   "metadata": {
    "collapsed": false,
    "pycharm": {
     "name": "#%%\n"
    }
   }
  },
  {
   "cell_type": "code",
   "execution_count": 3,
   "outputs": [],
   "source": [
    "seed = 24121\n",
    "jlen = 1000000000\n",
    "gen = Generator(24, 55, seed)"
   ],
   "metadata": {
    "collapsed": false,
    "pycharm": {
     "name": "#%%\n"
    }
   }
  },
  {
   "cell_type": "code",
   "execution_count": 4,
   "outputs": [],
   "source": [
    "gen.rewind()"
   ],
   "metadata": {
    "collapsed": false,
    "pycharm": {
     "name": "#%%\n"
    }
   }
  },
  {
   "cell_type": "code",
   "execution_count": 5,
   "outputs": [
    {
     "name": "stdout",
     "output_type": "stream",
     "text": [
      "B is powered in 10 degree\n",
      "C is powered in 31 degree\n",
      "C+E is powered in 18181818 degree\n",
      "338321978\n",
      "it takes 6.69215989112854 seconds\n"
     ]
    },
    {
     "name": "stderr",
     "output_type": "stream",
     "text": [
      "c:\\users\\acer\\pycharmprojects\\computationalworkshop\\venv\\lib\\site-packages\\scipy\\sparse\\_index.py:125: SparseEfficiencyWarning: Changing the sparsity structure of a csc_matrix is expensive. lil_matrix is more efficient.\n",
      "  self._set_arrayXarray(i, j, x)\n"
     ]
    }
   ],
   "source": [
    "start = time.time()\n",
    "a = gen.jumpahead(jlen)\n",
    "print(a)\n",
    "print(\"it takes {} seconds\".format(time.time() - start))"
   ],
   "metadata": {
    "collapsed": false,
    "pycharm": {
     "name": "#%%\n"
    }
   }
  },
  {
   "cell_type": "code",
   "execution_count": 6,
   "outputs": [
    {
     "name": "stdout",
     "output_type": "stream",
     "text": [
      "B is powered in 10 degree\n",
      "C is powered in 31 degree\n",
      "C+E is powered in 18 degree\n",
      "it takes 1.7311928272247314 seconds\n",
      "Results are 996197336 and 996197336\n"
     ]
    }
   ],
   "source": [
    "start = time.time()\n",
    "a = gen.jumpahead(1000)\n",
    "for _ in range(999):\n",
    "    gen.rand()\n",
    "print(\"it takes {} seconds\".format(time.time() - start))\n",
    "b = gen.rand()\n",
    "print(\"Results are {} and {}\".format(a,b))"
   ],
   "metadata": {
    "collapsed": false,
    "pycharm": {
     "name": "#%%\n"
    }
   }
  },
  {
   "cell_type": "code",
   "execution_count": 7,
   "outputs": [
    {
     "name": "stdout",
     "output_type": "stream",
     "text": [
      "it takes 5.169907808303833 seconds\n"
     ]
    }
   ],
   "source": [
    "start = time.time()\n",
    "gen.just_power(jlen)\n",
    "print(\"it takes {} seconds\".format(time.time() - start))"
   ],
   "metadata": {
    "collapsed": false,
    "pycharm": {
     "name": "#%%\n"
    }
   }
  },
  {
   "cell_type": "markdown",
   "source": [
    "### Основная идея быстрого возведения в степень:\n",
    "### Матрица $A$ является фробениусовой матрицей, внизу единица стоит в столбце с номером k-j, если считать от нуля.\n",
    "### Её характеристический многочлен $p(x) = x^k-x^{k-j}-1$.\n",
    "### По теореме Гамильтона-Кэли $p(A) = A^k-A^{k-j}-E=0$\n",
    "### Тогда $A^k = A^{k-j}+E$\n",
    "### Тогда возведение в степень $n, \\ r = n \\% k, \\ m = n // k$\n",
    "### $A^{n} = A^{k*m+r} = A^r(A^k)^m = A^r(A^{k-j}+E)^m$\n",
    "### Возводить в m-ую степень уже с помощью двоичного представления числа m"
   ],
   "metadata": {
    "collapsed": false,
    "pycharm": {
     "name": "#%% md\n"
    }
   }
  },
  {
   "cell_type": "code",
   "execution_count": 7,
   "outputs": [],
   "source": [],
   "metadata": {
    "collapsed": false,
    "pycharm": {
     "name": "#%%\n"
    }
   }
  },
  {
   "cell_type": "code",
   "execution_count": 7,
   "outputs": [],
   "source": [],
   "metadata": {
    "collapsed": false,
    "pycharm": {
     "name": "#%%\n"
    }
   }
  }
 ],
 "metadata": {
  "kernelspec": {
   "display_name": "Python 3",
   "language": "python",
   "name": "python3"
  },
  "language_info": {
   "codemirror_mode": {
    "name": "ipython",
    "version": 2
   },
   "file_extension": ".py",
   "mimetype": "text/x-python",
   "name": "python",
   "nbconvert_exporter": "python",
   "pygments_lexer": "ipython2",
   "version": "2.7.6"
  }
 },
 "nbformat": 4,
 "nbformat_minor": 0
}