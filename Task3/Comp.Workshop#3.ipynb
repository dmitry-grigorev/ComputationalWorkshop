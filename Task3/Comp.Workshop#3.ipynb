{
 "cells": [
  {
   "cell_type": "markdown",
   "source": [
    "## Григорьев Дмитрий, вариант 3\n",
    "### Импортируем необходимые модули \n",
    "### + функцию интерполирования"
   ],
   "metadata": {
    "collapsed": false,
    "pycharm": {
     "name": "#%% md\n"
    }
   }
  },
  {
   "cell_type": "code",
   "execution_count": 1,
   "metadata": {
    "collapsed": true,
    "pycharm": {
     "is_executing": false
    }
   },
   "outputs": [],
   "source": [
    "from pandas import DataFrame\n",
    "from mft3 import Hermite_interp"
   ]
  },
  {
   "cell_type": "markdown",
   "source": [
    "## Начальные данные: таблица"
   ],
   "metadata": {
    "collapsed": false,
    "pycharm": {
     "name": "#%% md\n"
    }
   }
  },
  {
   "cell_type": "code",
   "execution_count": 2,
   "outputs": [
    {
     "data": {
      "text/plain": "$x$  $f(x)$  $f'(x)$ $f''(x)$\n1        12       21       30\n0         2        3         ",
      "text/html": "<div>\n<style scoped>\n    .dataframe tbody tr th:only-of-type {\n        vertical-align: middle;\n    }\n\n    .dataframe tbody tr th {\n        vertical-align: top;\n    }\n\n    .dataframe thead th {\n        text-align: right;\n    }\n</style>\n<table border=\"1\" class=\"dataframe\">\n  <thead>\n    <tr style=\"text-align: right;\">\n      <th>$x$</th>\n      <th>$f(x)$</th>\n      <th>$f'(x)$</th>\n      <th>$f''(x)$</th>\n    </tr>\n  </thead>\n  <tbody>\n    <tr>\n      <th>1</th>\n      <td>12</td>\n      <td>21</td>\n      <td>30</td>\n    </tr>\n    <tr>\n      <th>0</th>\n      <td>2</td>\n      <td>3</td>\n      <td></td>\n    </tr>\n  </tbody>\n</table>\n</div>"
     },
     "metadata": {},
     "output_type": "execute_result",
     "execution_count": 2
    }
   ],
   "source": [
    "values = {1: [12, 21, 30], 0: [2, 3]}\n",
    "\n",
    "dataframe = DataFrame([values[node] for node in values.keys()],\n",
    "                      index=[str(node) for node in values.keys()],\n",
    "                      columns=[\"$f(x)$\", \"$f'(x)$\", \"$f''(x)$\"]).fillna('')\n",
    "dataframe.columns.name = \"$x$\"\n",
    "dataframe"
   ],
   "metadata": {
    "collapsed": false,
    "pycharm": {
     "name": "#%%\n",
     "is_executing": false
    }
   }
  },
  {
   "cell_type": "markdown",
   "source": [
    "### Получаем таблицу разделённых разностей и строку коэффициентов"
   ],
   "metadata": {
    "collapsed": false,
    "pycharm": {
     "name": "#%% md\n"
    }
   }
  },
  {
   "cell_type": "code",
   "execution_count": 3,
   "outputs": [
    {
     "data": {
      "text/plain": "  $x$ $f(x)$ р.р. 1 пор. р.р. 2 пор. р.р. 3 пор. р.р. 4 пор.\n    1     12                                                \n                      21                                    \n    1     12                      15                        \n                      21                       4            \n    1     12                      11                      -0\n                      10                       4            \n    0      2                       7                        \n                       3                                    \n    0      2                                                ",
      "text/html": "<div>\n<style scoped>\n    .dataframe tbody tr th:only-of-type {\n        vertical-align: middle;\n    }\n\n    .dataframe tbody tr th {\n        vertical-align: top;\n    }\n\n    .dataframe thead th {\n        text-align: right;\n    }\n</style>\n<table border=\"1\" class=\"dataframe\">\n  <thead>\n    <tr style=\"text-align: right;\">\n      <th></th>\n      <th>$x$</th>\n      <th>$f(x)$</th>\n      <th>р.р. 1 пор.</th>\n      <th>р.р. 2 пор.</th>\n      <th>р.р. 3 пор.</th>\n      <th>р.р. 4 пор.</th>\n    </tr>\n  </thead>\n  <tbody>\n    <tr>\n      <th></th>\n      <td>1</td>\n      <td>12</td>\n      <td></td>\n      <td></td>\n      <td></td>\n      <td></td>\n    </tr>\n    <tr>\n      <th></th>\n      <td></td>\n      <td></td>\n      <td>21</td>\n      <td></td>\n      <td></td>\n      <td></td>\n    </tr>\n    <tr>\n      <th></th>\n      <td>1</td>\n      <td>12</td>\n      <td></td>\n      <td>15</td>\n      <td></td>\n      <td></td>\n    </tr>\n    <tr>\n      <th></th>\n      <td></td>\n      <td></td>\n      <td>21</td>\n      <td></td>\n      <td>4</td>\n      <td></td>\n    </tr>\n    <tr>\n      <th></th>\n      <td>1</td>\n      <td>12</td>\n      <td></td>\n      <td>11</td>\n      <td></td>\n      <td>-0</td>\n    </tr>\n    <tr>\n      <th></th>\n      <td></td>\n      <td></td>\n      <td>10</td>\n      <td></td>\n      <td>4</td>\n      <td></td>\n    </tr>\n    <tr>\n      <th></th>\n      <td>0</td>\n      <td>2</td>\n      <td></td>\n      <td>7</td>\n      <td></td>\n      <td></td>\n    </tr>\n    <tr>\n      <th></th>\n      <td></td>\n      <td></td>\n      <td>3</td>\n      <td></td>\n      <td></td>\n      <td></td>\n    </tr>\n    <tr>\n      <th></th>\n      <td>0</td>\n      <td>2</td>\n      <td></td>\n      <td></td>\n      <td></td>\n      <td></td>\n    </tr>\n  </tbody>\n</table>\n</div>"
     },
     "metadata": {},
     "output_type": "execute_result",
     "execution_count": 3
    }
   ],
   "source": [
    "table, coefficients = Hermite_interp(values)\n",
    "table"
   ],
   "metadata": {
    "collapsed": false,
    "pycharm": {
     "name": "#%%\n",
     "is_executing": false
    }
   }
  },
  {
   "cell_type": "markdown",
   "source": [
    "### Промежуточные вычисления: вид многочлена"
   ],
   "metadata": {
    "collapsed": false,
    "pycharm": {
     "name": "#%% md\n"
    }
   }
  },
  {
   "cell_type": "code",
   "execution_count": 4,
   "outputs": [
    {
     "name": "stdout",
     "text": [
      "12+21(x-1)+15.0(x-1)^2+4.0(x-1)^3\n"
     ],
     "output_type": "stream"
    }
   ],
   "source": [
    "polynoms = ['(x-1)','(x-1)^2','(x-1)^3','(x-1)^3x']     \n",
    "p = str(coefficients[0])+\"+\"\n",
    "for i in range(1,len(coefficients)-1):\n",
    "    p+=(str(coefficients[i])+polynoms[i-1]+\"+\")\n",
    "p = p[:-1]\n",
    "\n",
    "print(p)"
   ],
   "metadata": {
    "collapsed": false,
    "pycharm": {
     "name": "#%%\n",
     "is_executing": false
    }
   }
  },
  {
   "cell_type": "markdown",
   "source": [
    "### Получаем:  $P_4(x) = 12+21(x-1)+15(x-1)^2+4(x-1)^3$\n",
    "### Проверим интерполяционность:\n"
   ],
   "metadata": {
    "collapsed": false,
    "pycharm": {
     "name": "#%% md\n",
     "is_executing": false
    }
   }
  },
  {
   "cell_type": "code",
   "execution_count": 5,
   "outputs": [
    {
     "data": {
      "text/plain": "$x$  $P(x)$  $P'(x)$ $P''(x)$\n1        12       21       30\n0         2        3         ",
      "text/html": "<div>\n<style scoped>\n    .dataframe tbody tr th:only-of-type {\n        vertical-align: middle;\n    }\n\n    .dataframe tbody tr th {\n        vertical-align: top;\n    }\n\n    .dataframe thead th {\n        text-align: right;\n    }\n</style>\n<table border=\"1\" class=\"dataframe\">\n  <thead>\n    <tr style=\"text-align: right;\">\n      <th>$x$</th>\n      <th>$P(x)$</th>\n      <th>$P'(x)$</th>\n      <th>$P''(x)$</th>\n    </tr>\n  </thead>\n  <tbody>\n    <tr>\n      <th>1</th>\n      <td>12</td>\n      <td>21</td>\n      <td>30</td>\n    </tr>\n    <tr>\n      <th>0</th>\n      <td>2</td>\n      <td>3</td>\n      <td></td>\n    </tr>\n  </tbody>\n</table>\n</div>"
     },
     "metadata": {},
     "output_type": "execute_result",
     "execution_count": 5
    }
   ],
   "source": [
    "P = lambda x: 12 + 21*(x-1) + 15*(x-1)**2 + 4*(x-1)**3\n",
    "dP = lambda x: 21 + 30*(x-1) + 12*(x-1)**2\n",
    "d2P = lambda x: 30 + 24*(x-1)\n",
    "\n",
    "dataframe1 = DataFrame([[P(1), dP(1), d2P(1)], [P(0), dP(0)] ],\n",
    "                      index=[str(node) for node in values.keys()],\n",
    "                      columns=[\"$P(x)$\", \"$P'(x)$\", \"$P''(x)$\"]).fillna('')\n",
    "dataframe1.columns.name = \"$x$\"\n",
    "dataframe1\n",
    "\n"
   ],
   "metadata": {
    "collapsed": false,
    "pycharm": {
     "name": "#%%\n",
     "is_executing": false
    }
   }
  }
 ],
 "metadata": {
  "kernelspec": {
   "display_name": "Python 3",
   "language": "python",
   "name": "python3"
  },
  "language_info": {
   "codemirror_mode": {
    "name": "ipython",
    "version": 2
   },
   "file_extension": ".py",
   "mimetype": "text/x-python",
   "name": "python",
   "nbconvert_exporter": "python",
   "pygments_lexer": "ipython2",
   "version": "2.7.6"
  },
  "pycharm": {
   "stem_cell": {
    "cell_type": "raw",
    "source": [],
    "metadata": {
     "collapsed": false
    }
   }
  }
 },
 "nbformat": 4,
 "nbformat_minor": 0
}