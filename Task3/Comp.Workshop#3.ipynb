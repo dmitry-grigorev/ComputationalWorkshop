{
 "cells": [
  {
   "cell_type": "code",
   "execution_count": 7,
   "metadata": {
    "collapsed": true,
    "pycharm": {
     "is_executing": false
    }
   },
   "outputs": [
    {
     "data": {
      "text/plain": "$x$  $f(x)$ $f'(x)$ $f''(x)$\n-1      -17      33         \n0        -4       3       -8\n2        10                 ",
      "text/html": "<div>\n<style scoped>\n    .dataframe tbody tr th:only-of-type {\n        vertical-align: middle;\n    }\n\n    .dataframe tbody tr th {\n        vertical-align: top;\n    }\n\n    .dataframe thead th {\n        text-align: right;\n    }\n</style>\n<table border=\"1\" class=\"dataframe\">\n  <thead>\n    <tr style=\"text-align: right;\">\n      <th>$x$</th>\n      <th>$f(x)$</th>\n      <th>$f'(x)$</th>\n      <th>$f''(x)$</th>\n    </tr>\n  </thead>\n  <tbody>\n    <tr>\n      <th>-1</th>\n      <td>-17</td>\n      <td>33</td>\n      <td></td>\n    </tr>\n    <tr>\n      <th>0</th>\n      <td>-4</td>\n      <td>3</td>\n      <td>-8</td>\n    </tr>\n    <tr>\n      <th>2</th>\n      <td>10</td>\n      <td></td>\n      <td></td>\n    </tr>\n  </tbody>\n</table>\n</div>"
     },
     "metadata": {},
     "output_type": "execute_result",
     "execution_count": 7
    }
   ],
   "source": [
    "from pandas import DataFrame\n",
    "\n",
    "\n",
    "nodes = [-1,0,2]\n",
    "values = {-1: [-17,33], 0: [-4, 3, -8],2: [10]}\n",
    "\n",
    "dataframe = DataFrame([values[node] for node in values.keys()],\n",
    "                      index=[str(node) for node in nodes],\n",
    "                      columns=[\"$f(x)$\", \"$f'(x)$\", \"$f''(x)$\"]).fillna('')\n",
    "dataframe.columns.name = \"$x$\"\n",
    "dataframe"
   ]
  },
  {
   "cell_type": "code",
   "execution_count": 34,
   "outputs": [
    {
     "data": {
      "text/plain": "      0     1    2    3    4     5\n0 -17.0 -17.0 -4.0 -4.0 -4.0  10.0\n1  33.0  13.0  3.0  3.0  7.0   NaN\n2 -20.0 -10.0 -4.0  2.0  NaN   NaN\n3  10.0   6.0  3.0  NaN  NaN   NaN\n4  -4.0  -1.0  NaN  NaN  NaN   NaN\n5   1.0   NaN  NaN  NaN  NaN   NaN",
      "text/html": "<div>\n<style scoped>\n    .dataframe tbody tr th:only-of-type {\n        vertical-align: middle;\n    }\n\n    .dataframe tbody tr th {\n        vertical-align: top;\n    }\n\n    .dataframe thead th {\n        text-align: right;\n    }\n</style>\n<table border=\"1\" class=\"dataframe\">\n  <thead>\n    <tr style=\"text-align: right;\">\n      <th></th>\n      <th>0</th>\n      <th>1</th>\n      <th>2</th>\n      <th>3</th>\n      <th>4</th>\n      <th>5</th>\n    </tr>\n  </thead>\n  <tbody>\n    <tr>\n      <th>0</th>\n      <td>-17.0</td>\n      <td>-17.0</td>\n      <td>-4.0</td>\n      <td>-4.0</td>\n      <td>-4.0</td>\n      <td>10.0</td>\n    </tr>\n    <tr>\n      <th>1</th>\n      <td>33.0</td>\n      <td>13.0</td>\n      <td>3.0</td>\n      <td>3.0</td>\n      <td>7.0</td>\n      <td>NaN</td>\n    </tr>\n    <tr>\n      <th>2</th>\n      <td>-20.0</td>\n      <td>-10.0</td>\n      <td>-4.0</td>\n      <td>2.0</td>\n      <td>NaN</td>\n      <td>NaN</td>\n    </tr>\n    <tr>\n      <th>3</th>\n      <td>10.0</td>\n      <td>6.0</td>\n      <td>3.0</td>\n      <td>NaN</td>\n      <td>NaN</td>\n      <td>NaN</td>\n    </tr>\n    <tr>\n      <th>4</th>\n      <td>-4.0</td>\n      <td>-1.0</td>\n      <td>NaN</td>\n      <td>NaN</td>\n      <td>NaN</td>\n      <td>NaN</td>\n    </tr>\n    <tr>\n      <th>5</th>\n      <td>1.0</td>\n      <td>NaN</td>\n      <td>NaN</td>\n      <td>NaN</td>\n      <td>NaN</td>\n      <td>NaN</td>\n    </tr>\n  </tbody>\n</table>\n</div>"
     },
     "metadata": {},
     "output_type": "execute_result",
     "execution_count": 34
    }
   ],
   "source": [
    "x_s=[]\n",
    "for node in values.keys():\n",
    "    x_s += [node]*len(values[node])\n",
    "    \n",
    "col1 = [values[x][0] for x in x_s]\n",
    "col2 = [values[x_s[i]][1] if x_s[i] == x_s[i+1] \n",
    "        else (values[x_s[i+1]][0]-values[x_s[i]][0])/(x_s[i+1] - x_s[i])\n",
    "        for i in range(len(x_s)-1)]\n",
    "\n",
    "col3 = [values[x_s[i]][2] / 2 if x_s[i] == x_s[i+2]\n",
    "        else (col2[(2*i+3)//2]-col2[(2*i+1)//2])/(x_s[i+2] - x_s[i])\n",
    "        for i in range(len(x_s)-2)]\n",
    "RRs = [col1, col2, col3]\n",
    "for l in range(3, len(x_s)):\n",
    "    RRs.append([(RRs[l-1][k+1] - RRs[l-1][k])/(x_s[k+l]-x_s[k]) \n",
    "            for k in range(len(x_s)-l)]) \n",
    "df = DataFrame(RRs)\n",
    "df"
   ],
   "metadata": {
    "collapsed": false,
    "pycharm": {
     "name": "#%%\n",
     "is_executing": false
    }
   }
  },
  {
   "cell_type": "code",
   "execution_count": 55,
   "outputs": [
    {
     "data": {
      "text/plain": "  $x$ $f(x)$ р.р. 1 пор. р.р. 2 пор. р.р. 3 пор. р.р. 4 пор. р.р. 5 пор.\n   -1    -17                                                            \n                      33                                                \n   -1    -17                     -20                                    \n                      13                      10                        \n    0     -4                     -10                      -4            \n                       3                       6                       1\n    0     -4                      -4                      -1            \n                       3                       3                        \n    0     -4                       2                                    \n                       7                                                \n    2     10                                                            ",
      "text/html": "<div>\n<style scoped>\n    .dataframe tbody tr th:only-of-type {\n        vertical-align: middle;\n    }\n\n    .dataframe tbody tr th {\n        vertical-align: top;\n    }\n\n    .dataframe thead th {\n        text-align: right;\n    }\n</style>\n<table border=\"1\" class=\"dataframe\">\n  <thead>\n    <tr style=\"text-align: right;\">\n      <th></th>\n      <th>$x$</th>\n      <th>$f(x)$</th>\n      <th>р.р. 1 пор.</th>\n      <th>р.р. 2 пор.</th>\n      <th>р.р. 3 пор.</th>\n      <th>р.р. 4 пор.</th>\n      <th>р.р. 5 пор.</th>\n    </tr>\n  </thead>\n  <tbody>\n    <tr>\n      <th></th>\n      <td>-1</td>\n      <td>-17</td>\n      <td></td>\n      <td></td>\n      <td></td>\n      <td></td>\n      <td></td>\n    </tr>\n    <tr>\n      <th></th>\n      <td></td>\n      <td></td>\n      <td>33</td>\n      <td></td>\n      <td></td>\n      <td></td>\n      <td></td>\n    </tr>\n    <tr>\n      <th></th>\n      <td>-1</td>\n      <td>-17</td>\n      <td></td>\n      <td>-20</td>\n      <td></td>\n      <td></td>\n      <td></td>\n    </tr>\n    <tr>\n      <th></th>\n      <td></td>\n      <td></td>\n      <td>13</td>\n      <td></td>\n      <td>10</td>\n      <td></td>\n      <td></td>\n    </tr>\n    <tr>\n      <th></th>\n      <td>0</td>\n      <td>-4</td>\n      <td></td>\n      <td>-10</td>\n      <td></td>\n      <td>-4</td>\n      <td></td>\n    </tr>\n    <tr>\n      <th></th>\n      <td></td>\n      <td></td>\n      <td>3</td>\n      <td></td>\n      <td>6</td>\n      <td></td>\n      <td>1</td>\n    </tr>\n    <tr>\n      <th></th>\n      <td>0</td>\n      <td>-4</td>\n      <td></td>\n      <td>-4</td>\n      <td></td>\n      <td>-1</td>\n      <td></td>\n    </tr>\n    <tr>\n      <th></th>\n      <td></td>\n      <td></td>\n      <td>3</td>\n      <td></td>\n      <td>3</td>\n      <td></td>\n      <td></td>\n    </tr>\n    <tr>\n      <th></th>\n      <td>0</td>\n      <td>-4</td>\n      <td></td>\n      <td>2</td>\n      <td></td>\n      <td></td>\n      <td></td>\n    </tr>\n    <tr>\n      <th></th>\n      <td></td>\n      <td></td>\n      <td>7</td>\n      <td></td>\n      <td></td>\n      <td></td>\n      <td></td>\n    </tr>\n    <tr>\n      <th></th>\n      <td>2</td>\n      <td>10</td>\n      <td></td>\n      <td></td>\n      <td></td>\n      <td></td>\n      <td></td>\n    </tr>\n  </tbody>\n</table>\n</div>"
     },
     "metadata": {},
     "output_type": "execute_result",
     "execution_count": 55
    }
   ],
   "source": [
    "#Строим табличку\n",
    "column1 = [x_s[i//2] if i % 2 == 0 else ' ' for i in range(2*len(x_s)-1)]\n",
    "column2 = [values[x_s[i//2]][0]if i % 2 == 0 else ' ' for i in range(2*len(x_s)-1)]\n",
    "othercols = [column1, column2]\n",
    "for i in range(1,len(x_s)):\n",
    "    othercols.append([' ']*i + [RRs[i][k//2] if k % 2==0\n",
    "                                else ' ' for k in range(2*(len(x_s)-i-1)+1)] + [' ']*i)\n",
    "\n",
    "table = DataFrame(othercols, columns = [' ']*(2*len(x_s)-1), \n",
    "                  index = ['$x$', '$f(x)$']+['р.р. {0:} пор.'.format(i+1) \n",
    "                                             for i in range(len(x_s)-1) ]).T\n",
    "table"
   ],
   "metadata": {
    "collapsed": false,
    "pycharm": {
     "name": "#%%\n",
     "is_executing": false
    }
   }
  },
  {
   "cell_type": "code",
   "execution_count": 57,
   "outputs": [
    {
     "data": {
      "text/plain": "[-17, 33, -20.0, 10.0, -4.0, 1.0]"
     },
     "metadata": {},
     "output_type": "execute_result",
     "execution_count": 57
    }
   ],
   "source": [
    "coefficients = [RRs[i][0] for i in range(len(x_s))]\n",
    "coefficients"
   ],
   "metadata": {
    "collapsed": false,
    "pycharm": {
     "name": "#%%\n",
     "is_executing": false
    }
   }
  },
  {
   "cell_type": "code",
   "execution_count": 67,
   "outputs": [
    {
     "data": {
      "text/plain": "                                                   0\n0  $-1733(x+1)^2-20.0(x+1)^2x10.0(x+1)^2x^2-4.0(x...",
      "text/html": "<div>\n<style scoped>\n    .dataframe tbody tr th:only-of-type {\n        vertical-align: middle;\n    }\n\n    .dataframe tbody tr th {\n        vertical-align: top;\n    }\n\n    .dataframe thead th {\n        text-align: right;\n    }\n</style>\n<table border=\"1\" class=\"dataframe\">\n  <thead>\n    <tr style=\"text-align: right;\">\n      <th></th>\n      <th>0</th>\n    </tr>\n  </thead>\n  <tbody>\n    <tr>\n      <th>0</th>\n      <td>$-1733(x+1)^2-20.0(x+1)^2x10.0(x+1)^2x^2-4.0(x...</td>\n    </tr>\n  </tbody>\n</table>\n</div>"
     },
     "metadata": {},
     "output_type": "execute_result",
     "execution_count": 67
    }
   ],
   "source": [
    "polynoms = ['(x+1)','(x+1)^2','(x+1)^2x','(x+1)^2x^2','(x+1)^2x^3']     \n",
    "p = '$' + str(coefficients[0])\n",
    "for i in range(1,len(coefficients)-1):\n",
    "    p+=(str(coefficients[i])+polynoms[i])\n",
    "p+='$'\n",
    "\n",
    "DataFrame([p])"
   ],
   "metadata": {
    "collapsed": false,
    "pycharm": {
     "name": "#%%\n",
     "is_executing": false
    }
   }
  },
  {
   "cell_type": "code",
   "source": [],
   "metadata": {
    "collapsed": false,
    "pycharm": {
     "name": "#%%\n",
     "is_executing": false
    }
   },
   "execution_count": null,
   "outputs": []
  },
  {
   "cell_type": "code",
   "execution_count": null,
   "outputs": [],
   "source": [
    "\n"
   ],
   "metadata": {
    "collapsed": false,
    "pycharm": {
     "name": "#%%\n"
    }
   }
  }
 ],
 "metadata": {
  "kernelspec": {
   "display_name": "Python 3",
   "language": "python",
   "name": "python3"
  },
  "language_info": {
   "codemirror_mode": {
    "name": "ipython",
    "version": 2
   },
   "file_extension": ".py",
   "mimetype": "text/x-python",
   "name": "python",
   "nbconvert_exporter": "python",
   "pygments_lexer": "ipython2",
   "version": "2.7.6"
  },
  "pycharm": {
   "stem_cell": {
    "cell_type": "raw",
    "source": [],
    "metadata": {
     "collapsed": false
    }
   }
  }
 },
 "nbformat": 4,
 "nbformat_minor": 0
}