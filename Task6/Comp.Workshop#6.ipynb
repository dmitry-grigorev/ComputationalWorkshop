{
 "cells": [
  {
   "cell_type": "markdown",
   "metadata": {
    "collapsed": true,
    "pycharm": {
     "name": "#%% md\n"
    }
   },
   "source": [
    "## Григорьев Дмитрий, вариант 3.\n",
    "### Импортируем необходимые модули \n",
    "### + наш модуль."
   ]
  },
  {
   "cell_type": "code",
   "execution_count": 1,
   "outputs": [],
   "source": [
    "from math import cos, sqrt\n",
    "from mft2 import PolLagrange, bisection\n",
    "from pandas import DataFrame"
   ],
   "metadata": {
    "collapsed": false,
    "pycharm": {
     "name": "#%%\n",
     "is_executing": false
    }
   }
  },
  {
   "cell_type": "markdown",
   "source": [
    "### Найти $\\int_\\limits{0}^1 \\cos x \\sqrt[4]{x}dx$"
   ],
   "metadata": {
    "collapsed": false,
    "pycharm": {
     "name": "#%% md\n"
    }
   }
  },
  {
   "cell_type": "code",
   "execution_count": 2,
   "outputs": [],
   "source": [
    "exact_value = 0.6539014401                 #\"точное\" значение\n",
    "f = lambda x: cos(x)*x**(1/4)\n",
    "a, b = 0.0, 1.0\n",
    "numerical_values = [0]*4                   #Сюда будут записываться все результаты"
   ],
   "metadata": {
    "collapsed": false,
    "pycharm": {
     "name": "#%%\n",
     "is_executing": false
    }
   }
  },
  {
   "cell_type": "markdown",
   "source": [
    "### Вычисление методом средних прямоугольников по двум узлам"
   ],
   "metadata": {
    "collapsed": false,
    "pycharm": {
     "name": "#%% md\n"
    }
   }
  },
  {
   "cell_type": "code",
   "execution_count": 3,
   "outputs": [
    {
     "data": {
      "text/plain": "0.7379560303827855"
     },
     "metadata": {},
     "output_type": "execute_result",
     "execution_count": 3
    }
   ],
   "source": [
    "def middle_rectangles_integrate(f, a, b, n): #вычисляет приближенное значение методом средних прямоугольников по n узлам\n",
    "    s = 0\n",
    "    h = (b-a)/(n-1)\n",
    "    for i in range(n-1):\n",
    "        s+=f(a+(2*i+1)*h/2)\n",
    "    return h*s\n",
    "\n",
    "numerical_values[0] = (middle_rectangles_integrate(f,a,b,2)) # n=2 по условию\n",
    "numerical_values[0]"
   ],
   "metadata": {
    "collapsed": false,
    "pycharm": {
     "name": "#%%\n",
     "is_executing": false
    }
   }
  },
  {
   "cell_type": "markdown",
   "source": [
    "### Вычисление с помощью квадратурной формулы с весом $\\rho=\\sqrt[4]{x}$ по узлам $x_1 = \\frac{1}{4},x_2 = \\frac{3}{4}$.\n",
    "### $\\int_\\limits{0}^1 \\cos x \\sqrt[4]{x}dx \\approx A_1 \\cos(\\frac{1}{4}) + A_2 \\cos(\\frac{3}{4})$\n",
    "### $A_1 =-2\\int_\\limits{0}^1 \\sqrt[4]{x}(x-\\frac{3}{4})dx = \\frac{14}{45} $\n",
    "### $A_2 =2\\int_\\limits{0}^1 \\sqrt[4]{x}(x-\\frac{1}{4})dx = \\frac{22}{45} $"
   ],
   "metadata": {
    "collapsed": false,
    "pycharm": {
     "name": "#%% md\n"
    }
   }
  },
  {
   "cell_type": "code",
   "execution_count": 4,
   "outputs": [
    {
     "data": {
      "text/plain": "0.6591539782038464"
     },
     "metadata": {},
     "output_type": "execute_result",
     "execution_count": 4
    }
   ],
   "source": [
    "nodes = [1./4,3./4]\n",
    "coeffs = [14./45, 22./45]\n",
    "g = lambda x: cos(x)\n",
    "def quadrature_with_weight(f,nodes,coeffs):\n",
    "    s = 0\n",
    "    for i in range(len(nodes)):\n",
    "        s+=coeffs[i]*f(nodes[i])\n",
    "    return s\n",
    "numerical_values[1] = quadrature_with_weight(g, nodes, coeffs)\n",
    "numerical_values[1]"
   ],
   "metadata": {
    "collapsed": false,
    "pycharm": {
     "name": "#%%\n",
     "is_executing": false
    }
   }
  },
  {
   "cell_type": "markdown",
   "source": [
    "### Формула Гаусса: узлы $x_1 = -\\frac{1}{2}\\sqrt{\\frac{3}{5}}+\\frac{1}{2},x_2 = \\frac{1}{2}, x_3 = \\frac{1}{2}\\sqrt{\\frac{3}{5}}+\\frac{1}{2}$"
   ],
   "metadata": {
    "collapsed": false,
    "pycharm": {
     "name": "#%% md\n"
    }
   }
  },
  {
   "cell_type": "code",
   "execution_count": 5,
   "outputs": [
    {
     "data": {
      "text/plain": "0.6581582678226776"
     },
     "metadata": {},
     "output_type": "execute_result",
     "execution_count": 5
    }
   ],
   "source": [
    "def Gauss_formula_3(f, a, b):           #функция для случая трёх узлов\n",
    "    Legendre_nodes = [-sqrt(3./5), 0, sqrt(3./5)]\n",
    "    coeffs = [5./9, 8./9, 5./9]\n",
    "    s = 0\n",
    "    k1, k2 = (b-a)/2, (b+a)/2\n",
    "    for i in range(len(coeffs)):\n",
    "        s+=coeffs[i]*f(k1*Legendre_nodes[i]+k2)\n",
    "    return k1*s\n",
    "numerical_values[2] = Gauss_formula_3(f, a, b)\n",
    "numerical_values[2]"
   ],
   "metadata": {
    "collapsed": false,
    "pycharm": {
     "name": "#%% \n",
     "is_executing": false
    }
   }
  },
  {
   "cell_type": "markdown",
   "source": [
    "### Формула типа Гаусса по трём узлам\n",
    "### Узлы находим как корни ортогонального к $1,x,x^2$ относительно веса $\\sqrt[4]{x}$ многочлена третьей степени $\\omega(x)=x^3+a_1x^2+a_2x+a_3$\n",
    "### Найдя коэффициенты системы,обеспечивающей ортогональность, из выражения $\\mu_k = \\int_\\limits{0}^1 x^{1/4+k}dx = \\frac{4}{5+4k}$, получаем эту самую систему:\n",
    "### $\\frac{4}{13}a_1+\\frac{4}{9}a_2+\\frac{4}{5}a_3 = -\\frac{4}{17}$,\n",
    "### $\\frac{4}{17}a_1+\\frac{4}{13}a_2+\\frac{4}{9}a_3 = -\\frac{4}{21}$,\n",
    "### $\\frac{4}{21}a_1+\\frac{4}{17}a_2+\\frac{4}{13}a_3 = -\\frac{4}{25}$,\n",
    "### откуда $a_1 = -\\frac{39}{25}, a_2 = \\frac{117}{175}, a_3 = -\\frac{39}{595}$\n",
    "\n",
    "### Найдём корни нашего многочлена через задачу обратного интерполирования -- интерполияционный многочлен по 4-ём узлам совпадёт с нашим."
   ],
   "metadata": {
    "collapsed": false
   }
  },
  {
   "cell_type": "code",
   "execution_count": 6,
   "outputs": [],
   "source": [
    "P = lambda x: x**3 -39./25*x**2 + 117./175*x-39./595\n",
    "nodes = [0, 1./3, 2.3 ,1]\n",
    "values = [P(nodes[i]) for i in range(len(nodes))]\n",
    "#вычислим его корни приближенно\n",
    "polynom = PolLagrange(nodes, values)        #инициализуем интерполяционный многочлен Лагранжа\n",
    "buf = bisection(polynom, 0, a, b, 10**(-7))"
   ],
   "metadata": {
    "collapsed": false,
    "pycharm": {
     "name": "#%% \n",
     "is_executing": false
    }
   }
  },
  {
   "cell_type": "markdown",
   "source": [
    "### Итак, узлы формулы:"
   ],
   "metadata": {
    "collapsed": false,
    "pycharm": {
     "name": "#%% md\n"
    }
   }
  },
  {
   "cell_type": "code",
   "execution_count": 7,
   "outputs": [
    {
     "data": {
      "text/plain": "[0.5262762431798255, 0.8944847431935001, 0.13923901362667382]"
     },
     "metadata": {},
     "output_type": "execute_result",
     "execution_count": 7
    }
   ],
   "source": [
    "roots = [buf[i][0] for i in range(len(buf))]\n",
    "roots"
   ],
   "metadata": {
    "collapsed": false,
    "pycharm": {
     "name": "#%%\n",
     "is_executing": false
    }
   }
  },
  {
   "cell_type": "markdown",
   "source": [
    "### Далее идёт функция, вычисляющая коэффициенты $A_k$. Например, $A_1 = \\frac{\\mu_2-(x_2+x_3)\\mu_1+x_2x_3\\mu_0}{(x_1-x_2)(x_1-x_3)}$"
   ],
   "metadata": {
    "collapsed": false,
    "pycharm": {
     "name": "#%% md\n"
    }
   }
  },
  {
   "cell_type": "code",
   "execution_count": 8,
   "outputs": [
    {
     "data": {
      "text/plain": "0.6539017460994131"
     },
     "metadata": {},
     "output_type": "execute_result",
     "execution_count": 8
    }
   ],
   "source": [
    "mu = [4./13, 4./9, 4./5]    #первые коэффициенты системы, которые используются в формуле\n",
    "def get_coeffs(pivot, q, r, mu):\n",
    "    return (mu[0]-(q+r)*mu[1]+mu[2]*q*r)/((pivot - q)*(pivot - r))\n",
    "\n",
    "coeffs = [get_coeffs(roots[i%3],roots[(i+1)%3],roots[(i+2)%3],mu) for i in range(len(roots))] #собственно, сами коэффициенты\n",
    "for i in range(len(roots)):\n",
    "    numerical_values[3]+=coeffs[i]*g(roots[i])\n",
    "numerical_values[3]"
   ],
   "metadata": {
    "collapsed": false,
    "pycharm": {
     "name": "#%% \n",
     "is_executing": false
    }
   }
  },
  {
   "cell_type": "markdown",
   "source": [
    "### Итого:"
   ],
   "metadata": {
    "collapsed": false,
    "pycharm": {
     "name": "#%% md\n",
     "is_executing": false
    }
   }
  },
  {
   "cell_type": "code",
   "execution_count": 9,
   "outputs": [
    {
     "data": {
      "text/plain": "                         Результат метода средних прямоугольников  \\\nЗначение                                                 0.737956   \nФактическая погрешность                                 -0.084055   \n\n                         Результат построенной интерполяционной формулы с заданным весом  \\\nЗначение                                                          0.659154                 \nФактическая погрешность                                          -0.005253                 \n\n                         Результат формулы Гаусса  \\\nЗначение                                 0.658158   \nФактическая погрешность                 -0.004257   \n\n                         Результат полученной формулы типа Гаусса  \nЗначение                                             6.539017e-01  \nФактическая погрешность                             -3.059994e-07  ",
      "text/html": "<div>\n<style scoped>\n    .dataframe tbody tr th:only-of-type {\n        vertical-align: middle;\n    }\n\n    .dataframe tbody tr th {\n        vertical-align: top;\n    }\n\n    .dataframe thead th {\n        text-align: right;\n    }\n</style>\n<table border=\"1\" class=\"dataframe\">\n  <thead>\n    <tr style=\"text-align: right;\">\n      <th></th>\n      <th>Результат метода средних прямоугольников</th>\n      <th>Результат построенной интерполяционной формулы с заданным весом</th>\n      <th>Результат формулы Гаусса</th>\n      <th>Результат полученной формулы типа Гаусса</th>\n    </tr>\n  </thead>\n  <tbody>\n    <tr>\n      <th>Значение</th>\n      <td>0.737956</td>\n      <td>0.659154</td>\n      <td>0.658158</td>\n      <td>6.539017e-01</td>\n    </tr>\n    <tr>\n      <th>Фактическая погрешность</th>\n      <td>-0.084055</td>\n      <td>-0.005253</td>\n      <td>-0.004257</td>\n      <td>-3.059994e-07</td>\n    </tr>\n  </tbody>\n</table>\n</div>"
     },
     "metadata": {},
     "output_type": "execute_result",
     "execution_count": 9
    }
   ],
   "source": [
    "DataFrame([[numerical_values[k] for k in range(4)],\n",
    "           [exact_value - numerical_values[k] for k in range(4)]],\n",
    "          index = [\"Значение\",\"Фактическая погрешность\"], columns = [\"Результат метода средних прямоугольников\",\"Результат построенной интерполяционной формулы с заданным весом\",\"Результат формулы Гаусса\",\"Результат полученной формулы типа Гаусса\"])"
   ],
   "metadata": {
    "collapsed": false,
    "pycharm": {
     "name": "#%%\n",
     "is_executing": false
    }
   }
  }
 ],
 "metadata": {
  "kernelspec": {
   "display_name": "Python 3",
   "language": "python",
   "name": "python3"
  },
  "language_info": {
   "codemirror_mode": {
    "name": "ipython",
    "version": 2
   },
   "file_extension": ".py",
   "mimetype": "text/x-python",
   "name": "python",
   "nbconvert_exporter": "python",
   "pygments_lexer": "ipython2",
   "version": "2.7.6"
  },
  "pycharm": {
   "stem_cell": {
    "cell_type": "raw",
    "source": [],
    "metadata": {
     "collapsed": false
    }
   }
  }
 },
 "nbformat": 4,
 "nbformat_minor": 0
}