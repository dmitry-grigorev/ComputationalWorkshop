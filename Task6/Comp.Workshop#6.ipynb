{
 "cells": [
  {
   "cell_type": "markdown",
   "metadata": {
    "collapsed": true,
    "pycharm": {
     "name": "#%% md\n"
    }
   },
   "source": [
    "#### $\\int_\\limits{0}^1 \\cos x \\sqrt[4]{x}dx$"
   ]
  },
  {
   "cell_type": "code",
   "execution_count": 1,
   "outputs": [
    {
     "name": "stdout",
     "text": [
      "0.7379560303827855\n",
      "0.6830188802461867\n",
      "0.6701656266627238\n"
     ],
     "output_type": "stream"
    }
   ],
   "source": [
    "from math import cos, sqrt\n",
    "exact_value = 0.6539014401\n",
    "f = lambda x: cos(x)*x**(1/4)\n",
    "a, b = 0.0, 1.0\n",
    "def middle_rectangles_integrate(f,a,b, n):\n",
    "    s = 0\n",
    "    h = (b-a)/(n-1)\n",
    "    \n",
    "    for i in range(n-1):\n",
    "        s+=f(a+(2*i+1)*h/2)\n",
    "    return h*s\n",
    "\n",
    "for i in range(2,5):\n",
    "    print(middle_rectangles_integrate(f,a,b,i))"
   ],
   "metadata": {
    "collapsed": false,
    "pycharm": {
     "name": "#%%\n",
     "is_executing": false
    }
   }
  },
  {
   "cell_type": "markdown",
   "source": [
    "### Квадратурная формула с весом $\\rho=\\sqrt[4]{x}$ по узлам $x_1 = \\frac{1}{4},x_2 = \\frac{3}{4}$.\n",
    "### $\\int_\\limits{0}^1 \\cos x \\sqrt[4]{x}dx \\approx A_1 \\cos(\\frac{1}{4}) + A_2 \\cos(\\frac{3}{4})$\n",
    "### $A_1 =-2\\int_\\limits{0}^1 \\sqrt[4]{x}(x-\\frac{3}{4})dx = \\frac{14}{45} $\n",
    "### $A_2 =2\\int_\\limits{0}^1 \\sqrt[4]{x}(x-\\frac{1}{4})dx = \\frac{22}{45} $"
   ],
   "metadata": {
    "collapsed": false,
    "pycharm": {
     "name": "#%% md\n"
    }
   }
  },
  {
   "cell_type": "code",
   "execution_count": 2,
   "outputs": [
    {
     "data": {
      "text/plain": "0.6591539782038464"
     },
     "metadata": {},
     "output_type": "execute_result",
     "execution_count": 2
    }
   ],
   "source": [
    "nodes = [1./4,3./4]\n",
    "coeffs = [14./45, 22./45]\n",
    "g = lambda x: cos(x)\n",
    "def quadrature_with_weight(f,nodes,coeffs):\n",
    "    s = 0\n",
    "    for i in range(len(nodes)):\n",
    "        s+=coeffs[i]*f(nodes[i])\n",
    "    return s\n",
    "quadrature_with_weight(g, nodes, coeffs)"
   ],
   "metadata": {
    "collapsed": false,
    "pycharm": {
     "name": "#%%\n",
     "is_executing": false
    }
   }
  },
  {
   "cell_type": "markdown",
   "source": [
    "### Формула Гаусса: узлы $x_1 = -\\frac{1}{2}\\sqrt{\\frac{3}{5}}+\\frac{1}{2},x_2 = \\frac{1}{2}, x_3 = \\frac{1}{2}\\sqrt{\\frac{3}{5}}+\\frac{1}{2}$"
   ],
   "metadata": {
    "collapsed": false,
    "pycharm": {
     "name": "#%% md\n"
    }
   }
  },
  {
   "cell_type": "code",
   "execution_count": 3,
   "outputs": [
    {
     "data": {
      "text/plain": "0.6581582678226776"
     },
     "metadata": {},
     "output_type": "execute_result",
     "execution_count": 3
    }
   ],
   "source": [
    "def Gauss_formula_3(f, a, b):\n",
    "    Legendre_nodes = [-sqrt(3./5),0,sqrt(3./5)]\n",
    "    coeffs = [5./9, 8./9, 5./9]\n",
    "    s = 0\n",
    "    k1, k2 = (b-a)/2, (b+a)/2\n",
    "    for i in range(len(coeffs)):\n",
    "        s+=coeffs[i]*f(k1*Legendre_nodes[i]+k2)\n",
    "    return k1*s\n",
    "Gauss_formula_3(f, a, b)\n"
   ],
   "metadata": {
    "collapsed": false,
    "pycharm": {
     "name": "#%% \n",
     "is_executing": false
    }
   }
  },
  {
   "cell_type": "markdown",
   "source": [
    "### Формула типа Гаусса по трём узлам\n",
    "### Узлы находим как корни ортогонального к $1,x,x^2$ относительно веса $\\sqrt[4]{x}$ многочлена третьей степени $\\omega(x)=x^3+a_1x^2+a_2x+a_3$\n",
    "### Находя коэффициенты системы,обеспечивающей ортогональность, из выражения $\\mu_k = \\int_\\limits{0}^1 x^{1/4+k}dx = \\frac{4}{5+4k}, получаем эту самую систему:$\n",
    "### $\\frac{4}{13}a_1+\\frac{4}{9}a_2+\\frac{4}{5}a_3 = -\\frac{4}{17}$,\n",
    "### $\\frac{4}{17}a_1+\\frac{4}{13}a_2+\\frac{4}{9}a_3 = -\\frac{4}{21}$,\n",
    "### $\\frac{4}{21}a_1+\\frac{4}{17}a_2+\\frac{4}{13}a_3 = -\\frac{4}{25}$,\n",
    "### откуда $a_1 = -\\frac{39}{25}, a_2 = \\frac{117}{175}, a_3 = -\\frac{39}{595}$"
   ],
   "metadata": {
    "collapsed": false
   }
  },
  {
   "cell_type": "code",
   "execution_count": 11,
   "outputs": [
    {
     "data": {
      "text/plain": "0.6539017460994131"
     },
     "metadata": {},
     "output_type": "execute_result",
     "execution_count": 11
    }
   ],
   "source": [
    "from mft2 import PolLagrange, bisection\n",
    "P = lambda x: x**3 -39./25*x**2 + 117./175*x-39./595\n",
    "nodes = [0, 1./3, 2.3 ,1]\n",
    "values = [P(nodes[i]) for i in range(len(nodes))]\n",
    "#вычислим его корни приближенно\n",
    "polynom = PolLagrange(nodes, values)        \n",
    "buf = bisection(polynom, 0, a, b, 10**(-7))\n",
    "roots = [buf[i][0] for i in range(len(buf))]\n",
    "mu = [4./13, 4./9, 4./5]\n",
    "def get_coef(pivot, q, r, mu):\n",
    "    return (mu[0]-(q+r)*mu[1]+mu[2]*q*r)/((pivot - q)*(pivot - r))\n",
    "\n",
    "coeffs = [get_coef(roots[i%3],roots[(i+1)%3],roots[(i+2)%3],mu) for i in range(len(roots))]\n",
    "s = 0\n",
    "for i in range(len(roots)):\n",
    "    s+=coeffs[i]*g(roots[i])\n",
    "s"
   ],
   "metadata": {
    "collapsed": false,
    "pycharm": {
     "name": "#%% \n",
     "is_executing": false
    }
   }
  },
  {
   "cell_type": "code",
   "execution_count": 7,
   "outputs": [
    {
     "data": {
      "text/plain": "3"
     },
     "metadata": {},
     "output_type": "execute_result",
     "execution_count": 7
    }
   ],
   "source": [],
   "metadata": {
    "collapsed": false,
    "pycharm": {
     "name": "#%%\n",
     "is_executing": false
    }
   }
  }
 ],
 "metadata": {
  "kernelspec": {
   "display_name": "Python 3",
   "language": "python",
   "name": "python3"
  },
  "language_info": {
   "codemirror_mode": {
    "name": "ipython",
    "version": 2
   },
   "file_extension": ".py",
   "mimetype": "text/x-python",
   "name": "python",
   "nbconvert_exporter": "python",
   "pygments_lexer": "ipython2",
   "version": "2.7.6"
  },
  "pycharm": {
   "stem_cell": {
    "cell_type": "raw",
    "source": [],
    "metadata": {
     "collapsed": false
    }
   }
  }
 },
 "nbformat": 4,
 "nbformat_minor": 0
}