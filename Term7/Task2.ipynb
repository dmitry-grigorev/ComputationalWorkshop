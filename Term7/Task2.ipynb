{
 "cells": [
  {
   "cell_type": "code",
   "execution_count": 1,
   "metadata": {
    "collapsed": true
   },
   "outputs": [],
   "source": [
    "import numpy as np\n",
    "import pandas as pd\n",
    "np.set_printoptions(precision=6, suppress=True)"
   ]
  },
  {
   "cell_type": "markdown",
   "source": [
    "# Решение задачи Дирихле:\n",
    "## Известно, что $u(x,y) = 2x^3y^3$\n",
    "## Оно является решением задачи Дирихле:\n",
    "### $\\frac{\\partial^2 u}{\\partial x^2} + \\frac{\\partial^2 u}{\\partial y^2} = -(\\underbrace{-12xy(x^2+y^2)}_{f(x,y)})$\n",
    "### $u(0,y) \\equiv 0$\n",
    "### $u(1,y) = 2y^3$\n",
    "### $u(x,0) \\equiv 0$\n",
    "### $u(x,1) = 2x^3$"
   ],
   "metadata": {
    "collapsed": false
   }
  },
  {
   "cell_type": "code",
   "execution_count": 2,
   "outputs": [],
   "source": [
    "N = 11\n",
    "a_x = 0\n",
    "b_x = 1\n",
    "a_y = 0\n",
    "b_y = 1\n",
    "h = (b_x-a_x)/(N - 1) # ширина сетки вместе с граничными узлами\n",
    "iN = N - 2 # ширина сетки без граничных узлов\n",
    "\n",
    "f = lambda x,y: -12*x*y*(x*x+y*y)\n",
    "u1y = lambda y: 2*y**3\n",
    "ux1 = lambda x: 2*x**3\n",
    "u_expected = lambda x,y: 2*x**3*y**3"
   ],
   "metadata": {
    "collapsed": false,
    "pycharm": {
     "name": "#%%\n"
    }
   }
  },
  {
   "cell_type": "markdown",
   "source": [
    "### Задаём начальное приближение с помощью начальных данных"
   ],
   "metadata": {
    "collapsed": false
   }
  },
  {
   "cell_type": "code",
   "execution_count": 3,
   "outputs": [],
   "source": [
    "def init_U(N):\n",
    "    U = np.zeros(shape = (N, N))\n",
    "    for i in range(N):\n",
    "        U[i, N - 1] = ux1(i*h)\n",
    "    for j in range(N):\n",
    "        U[N - 1, j] = u1y(j*h)\n",
    "    return U\n",
    "\n",
    "def build_init_expected_and_F(N, h, u_expected, ux1, u1y, f):\n",
    "    U = init_U(N)\n",
    "    U_expected = U.copy() # задаём границы\n",
    "    U_expected[1:N-1, 1:N-1] = np.array([[u_expected(i*h,j*h) for j in range(1, N-1)] for i in range(1, N-1)])\n",
    "    F = np.array([[f(i*h, j*h) for j in range(1, N-1)] for i in range(1,N-1)])\n",
    "    return {'init': U, 'expected': U_expected, 'F': F}"
   ],
   "metadata": {
    "collapsed": false,
    "pycharm": {
     "name": "#%%\n"
    }
   }
  },
  {
   "cell_type": "code",
   "execution_count": 4,
   "outputs": [],
   "source": [
    "initials = build_init_expected_and_F(N, h, u_expected,ux1, u1y, f)\n",
    "U_init = initials['init']\n",
    "U_expected = initials['expected']\n",
    "F = initials['F']"
   ],
   "metadata": {
    "collapsed": false,
    "pycharm": {
     "name": "#%%\n"
    }
   }
  },
  {
   "cell_type": "markdown",
   "source": [
    "### Перечисляем параметры алгоритма в простейшем случае"
   ],
   "metadata": {
    "collapsed": false,
    "pycharm": {
     "name": "#%% md\n"
    }
   }
  },
  {
   "cell_type": "code",
   "execution_count": 5,
   "outputs": [],
   "source": [
    "tau = h*h/np.sin(np.pi * h) # оптимальный параметр\n",
    "\n",
    "A = tau/(2*h*h)\n",
    "B = tau/(h*h) + 1\n",
    "C = tau/(2*h*h)"
   ],
   "metadata": {
    "collapsed": false,
    "pycharm": {
     "name": "#%%\n"
    }
   }
  },
  {
   "cell_type": "markdown",
   "source": [
    "### Реализуем алгоритм метода переменных направлений"
   ],
   "metadata": {
    "collapsed": false,
    "pycharm": {
     "name": "#%% md\n"
    }
   }
  },
  {
   "cell_type": "code",
   "execution_count": 6,
   "outputs": [],
   "source": [
    "class AlternatingDirection:\n",
    "    def __init__(self, A, B, C):\n",
    "        self.A = A\n",
    "        self.B = B\n",
    "        self.C = C\n",
    "\n",
    "    def __tridiag_alg_rowmode(self,U, F, N, h, tau, U_init):\n",
    "        G = U_init.copy()\n",
    "        U_new = U.copy()\n",
    "\n",
    "        G[1:N-1, 1:N-1] = -U[1:N-1, 1:N-1] - (U[1:N-1, 2:N] - 2*U[1:N-1, 1:N-1] + U[1:N-1,0:N-2] + h*h*F)*tau/(2*h*h)\n",
    "\n",
    "        s = np.zeros(shape = (N - 1, N))\n",
    "        t = np.zeros(shape = (N - 1, N ))\n",
    "        s[1:N-1, 0] = self.C/self.B\n",
    "        t[1:N-1, 0] = -G[1:N-1, 0]/self.B\n",
    "        for j in range(1, N-1):\n",
    "            s[j, 1:N-1] = self.C/(self.B - self.A*s[j-1, 1:N-1])\n",
    "            t[j, 1:N-1] = (self.A*t[j-1, 1:N-1] - G[j, 1:N-1])/(self.B - self.A*s[j-1, 1:N-1])\n",
    "        for j in range(N-2, 0, -1):\n",
    "            U_new[j, 1:N-1] = s[j, 1:N-1] * U_new[j+1, 1:N-1] + t[j, 1:N-1]\n",
    "        return U_new\n",
    "\n",
    "    def __tridiag_alg_colmode(self, U, F, N, h, tau, U_init):\n",
    "        G = U_init.copy()\n",
    "        U_new = U.copy()\n",
    "\n",
    "        G[1:N-1, 1:N-1] = -U[1:N-1, 1:N-1] - (U[2:N, 1:N-1] - 2*U[1:N-1, 1:N-1] + U[0:N-2, 1:N-1] + h*h*F)*tau/(2*h*h)\n",
    "\n",
    "        s = np.zeros(shape = (N, N - 1))\n",
    "        t = np.zeros(shape = (N, N - 1))\n",
    "        s[0, 1:N-1] = self.C/self.B\n",
    "        t[0, 1:N-1] = -G[0, 1:N-1]/self.B\n",
    "\n",
    "        s[1:N-1, 0] = self.C/self.B\n",
    "        t[1:N-1, 0] = -G[1:N-1, 0]/self.B\n",
    "        for j in range(1, N-1):\n",
    "            s[1:N-1, j] = self.C/(self.B - self.A*s[1:N-1, j-1])\n",
    "            t[1:N-1, j] = (self.A*t[1:N-1, j-1] - G[1:N-1, j])/(self.B - self.A*s[1:N-1, j-1])\n",
    "        for j in range(N-2, 0, -1):\n",
    "            U_new[1:N-1, j] = s[1:N-1, j] * U_new[1:N-1, j+1] + t[1:N-1, j]\n",
    "        return U_new\n",
    "\n",
    "    def __ADMethod_iter(self, U, F, N, h, tau, U_init):\n",
    "        U_half = self.__tridiag_alg_rowmode(U, F, N, h, tau, U_init)\n",
    "        return self.__tridiag_alg_colmode(U_half, F, N, h, tau, U_init)\n",
    "\n",
    "    def __method_operator(self, U, N, h):\n",
    "        return (U[0:N-2, 1:N-1] + U[2:N, 1:N-1] +\n",
    "                U[1:N-1, 0:N-2] + U[1:N-1, 2:N] -\n",
    "                                                4*U[1:N-1, 1:N-1])/(h*h)\n",
    "\n",
    "    def solve(self, U_init, U_expected, F, eps = 1e-4, tau = None):\n",
    "        N = U_init.shape[0]\n",
    "        h = 1/(N - 1)\n",
    "\n",
    "        if tau is None:\n",
    "            tau = h*h/np.sin(np.pi * h)\n",
    "\n",
    "        miniter = N*np.log(1/eps)/(2*np.pi)\n",
    "\n",
    "        currU = U_init.copy()\n",
    "        prevU = currU - 1\n",
    "        iter = 1\n",
    "\n",
    "        init_error = np.max(np.abs(U_init - U_expected))\n",
    "        init_discrepancy = np.max(np.abs( self.__method_operator(U_init, N, h) + F ))\n",
    "        rel_error = 1\n",
    "        rel_discrepancy = 1\n",
    "\n",
    "        output_list = list()\n",
    "\n",
    "        while rel_error > eps and iter < miniter:\n",
    "            prevU = currU.copy()\n",
    "            currU = self.__ADMethod_iter(prevU, F, N, h, tau, U_init)\n",
    "\n",
    "            curr_error = np.max(np.abs(currU - U_expected))\n",
    "            curr_discrepancy = np.max(np.abs( self.__method_operator(currU, N, h) + F ))\n",
    "\n",
    "            rel_error = curr_error/init_error\n",
    "            rel_discrepancy = curr_discrepancy/init_discrepancy\n",
    "\n",
    "            output_list+=[ [iter , curr_error, rel_error,\n",
    "                            curr_discrepancy, rel_discrepancy,\n",
    "                            np.max(np.abs(currU - prevU))] ]\n",
    "            iter+=1\n",
    "        output_list+=[ [' ', 'min_iters:' , miniter, ' ', ' ', ' '] ]\n",
    "        return {'solution' : currU, 'output' : pd.DataFrame( data = output_list,\n",
    "                                                             columns= ['k', 'Curr. discr.', 'Rel. discr.', 'Curr. error', 'Rel. error', '$ \\lVert U_k - U_{k-1} \\rVert $' ]).set_index(keys = 'k')}"
   ],
   "metadata": {
    "collapsed": false,
    "pycharm": {
     "name": "#%%\n"
    }
   }
  },
  {
   "cell_type": "code",
   "execution_count": 7,
   "outputs": [
    {
     "data": {
      "text/plain": "   Curr. discr.  Rel. discr. Curr. error Rel. error  \\\nk                                                     \n1      0.134477     0.126521   24.165676   0.087603   \n2      0.046712     0.043949   15.822041   0.057357   \n3      0.017071     0.016061    4.621396   0.016753   \n4      0.009916     0.009329    2.149674   0.007793   \n5      0.005033     0.004735    1.113859   0.004038   \n6      0.002656     0.002499    0.382147   0.001385   \n7       0.00147     0.001383    0.269616   0.000977   \n8      0.000725     0.000682     0.08626   0.000313   \n9      0.000405     0.000381    0.119963   0.000435   \n10     0.000312     0.000294    0.102059    0.00037   \n11      0.00035     0.000330     0.11159   0.000405   \n12     0.000343     0.000323    0.107273   0.000389   \n13     0.000353     0.000332     0.10963   0.000397   \n14     0.000352     0.000331    0.108567   0.000394   \n15     0.000354     0.000333    0.109162   0.000396   \n16     0.000354     0.000333    0.108896   0.000395   \n     min_iters:    16.124583                          \n\n   $ \\lVert U_k - U_{k-1} \\rVert $  \nk                                   \n1                          1.03642  \n2                         0.116797  \n3                         0.047364  \n4                          0.01652  \n5                         0.008585  \n6                         0.004155  \n7                         0.001834  \n8                         0.001093  \n9                         0.000443  \n10                        0.000291  \n11                        0.000135  \n12                        0.000077  \n13                        0.000039  \n14                        0.000021  \n15                        0.000011  \n16                        0.000006  \n                                    ",
      "text/html": "<div>\n<style scoped>\n    .dataframe tbody tr th:only-of-type {\n        vertical-align: middle;\n    }\n\n    .dataframe tbody tr th {\n        vertical-align: top;\n    }\n\n    .dataframe thead th {\n        text-align: right;\n    }\n</style>\n<table border=\"1\" class=\"dataframe\">\n  <thead>\n    <tr style=\"text-align: right;\">\n      <th></th>\n      <th>Curr. discr.</th>\n      <th>Rel. discr.</th>\n      <th>Curr. error</th>\n      <th>Rel. error</th>\n      <th>$ \\lVert U_k - U_{k-1} \\rVert $</th>\n    </tr>\n    <tr>\n      <th>k</th>\n      <th></th>\n      <th></th>\n      <th></th>\n      <th></th>\n      <th></th>\n    </tr>\n  </thead>\n  <tbody>\n    <tr>\n      <th>1</th>\n      <td>0.134477</td>\n      <td>0.126521</td>\n      <td>24.165676</td>\n      <td>0.087603</td>\n      <td>1.03642</td>\n    </tr>\n    <tr>\n      <th>2</th>\n      <td>0.046712</td>\n      <td>0.043949</td>\n      <td>15.822041</td>\n      <td>0.057357</td>\n      <td>0.116797</td>\n    </tr>\n    <tr>\n      <th>3</th>\n      <td>0.017071</td>\n      <td>0.016061</td>\n      <td>4.621396</td>\n      <td>0.016753</td>\n      <td>0.047364</td>\n    </tr>\n    <tr>\n      <th>4</th>\n      <td>0.009916</td>\n      <td>0.009329</td>\n      <td>2.149674</td>\n      <td>0.007793</td>\n      <td>0.01652</td>\n    </tr>\n    <tr>\n      <th>5</th>\n      <td>0.005033</td>\n      <td>0.004735</td>\n      <td>1.113859</td>\n      <td>0.004038</td>\n      <td>0.008585</td>\n    </tr>\n    <tr>\n      <th>6</th>\n      <td>0.002656</td>\n      <td>0.002499</td>\n      <td>0.382147</td>\n      <td>0.001385</td>\n      <td>0.004155</td>\n    </tr>\n    <tr>\n      <th>7</th>\n      <td>0.00147</td>\n      <td>0.001383</td>\n      <td>0.269616</td>\n      <td>0.000977</td>\n      <td>0.001834</td>\n    </tr>\n    <tr>\n      <th>8</th>\n      <td>0.000725</td>\n      <td>0.000682</td>\n      <td>0.08626</td>\n      <td>0.000313</td>\n      <td>0.001093</td>\n    </tr>\n    <tr>\n      <th>9</th>\n      <td>0.000405</td>\n      <td>0.000381</td>\n      <td>0.119963</td>\n      <td>0.000435</td>\n      <td>0.000443</td>\n    </tr>\n    <tr>\n      <th>10</th>\n      <td>0.000312</td>\n      <td>0.000294</td>\n      <td>0.102059</td>\n      <td>0.00037</td>\n      <td>0.000291</td>\n    </tr>\n    <tr>\n      <th>11</th>\n      <td>0.00035</td>\n      <td>0.000330</td>\n      <td>0.11159</td>\n      <td>0.000405</td>\n      <td>0.000135</td>\n    </tr>\n    <tr>\n      <th>12</th>\n      <td>0.000343</td>\n      <td>0.000323</td>\n      <td>0.107273</td>\n      <td>0.000389</td>\n      <td>0.000077</td>\n    </tr>\n    <tr>\n      <th>13</th>\n      <td>0.000353</td>\n      <td>0.000332</td>\n      <td>0.10963</td>\n      <td>0.000397</td>\n      <td>0.000039</td>\n    </tr>\n    <tr>\n      <th>14</th>\n      <td>0.000352</td>\n      <td>0.000331</td>\n      <td>0.108567</td>\n      <td>0.000394</td>\n      <td>0.000021</td>\n    </tr>\n    <tr>\n      <th>15</th>\n      <td>0.000354</td>\n      <td>0.000333</td>\n      <td>0.109162</td>\n      <td>0.000396</td>\n      <td>0.000011</td>\n    </tr>\n    <tr>\n      <th>16</th>\n      <td>0.000354</td>\n      <td>0.000333</td>\n      <td>0.108896</td>\n      <td>0.000395</td>\n      <td>0.000006</td>\n    </tr>\n    <tr>\n      <th></th>\n      <td>min_iters:</td>\n      <td>16.124583</td>\n      <td></td>\n      <td></td>\n      <td></td>\n    </tr>\n  </tbody>\n</table>\n</div>"
     },
     "execution_count": 7,
     "metadata": {},
     "output_type": "execute_result"
    }
   ],
   "source": [
    "solver = AlternatingDirection(A, B, C)\n",
    "summary = solver.solve(U_init, U_expected, F)\n",
    "solution = summary['solution']\n",
    "summary['output']"
   ],
   "metadata": {
    "collapsed": false,
    "pycharm": {
     "name": "#%%\n"
    }
   }
  },
  {
   "cell_type": "code",
   "execution_count": 8,
   "outputs": [
    {
     "data": {
      "text/plain": "array([[0.      , 0.      , 0.      , 0.      , 0.      , 0.      ,\n        0.      , 0.      , 0.      , 0.      , 0.      ],\n       [0.      , 0.000002, 0.000018, 0.000057, 0.000131, 0.000253,\n        0.000434, 0.000687, 0.001025, 0.001458, 0.002   ],\n       [0.      , 0.000019, 0.000134, 0.000439, 0.001031, 0.002005,\n        0.00346 , 0.00549 , 0.008194, 0.011664, 0.016   ],\n       [0.      , 0.000063, 0.000445, 0.001472, 0.003468, 0.006759,\n        0.011671, 0.018526, 0.027651, 0.039367, 0.054   ],\n       [0.      , 0.00015 , 0.001049, 0.003479, 0.00821 , 0.016014,\n        0.027658, 0.04391 , 0.06554 , 0.093313, 0.128   ],\n       [0.      , 0.000293, 0.002041, 0.006784, 0.016026, 0.031269,\n        0.054013, 0.085757, 0.128005, 0.182251, 0.25    ],\n       [0.      , 0.000506, 0.00352 , 0.011713, 0.027683, 0.054023,\n        0.093327, 0.148185, 0.22119 , 0.31493 , 0.432   ],\n       [0.      , 0.000805, 0.00558 , 0.018584, 0.043944, 0.085775,\n        0.148191, 0.235306, 0.351237, 0.500095, 0.686   ],\n       [0.      , 0.001217, 0.008315, 0.02772 , 0.065578, 0.128025,\n        0.221199, 0.35124 , 0.524293, 0.746498, 1.024   ],\n       [0.      , 0.001812, 0.011797, 0.039424, 0.09334 , 0.182264,\n        0.314936, 0.500098, 0.746498, 1.062883, 1.458   ],\n       [0.      , 0.002   , 0.016   , 0.054   , 0.128   , 0.25    ,\n        0.432   , 0.686   , 1.024   , 1.458   , 2.      ]])"
     },
     "execution_count": 8,
     "metadata": {},
     "output_type": "execute_result"
    }
   ],
   "source": [
    "solution"
   ],
   "metadata": {
    "collapsed": false,
    "pycharm": {
     "name": "#%%\n"
    }
   }
  },
  {
   "cell_type": "code",
   "execution_count": 9,
   "outputs": [
    {
     "data": {
      "text/plain": "array([[0.      , 0.      , 0.      , 0.      , 0.      , 0.      ,\n        0.      , 0.      , 0.      , 0.      , 0.      ],\n       [0.      , 0.000002, 0.000016, 0.000054, 0.000128, 0.00025 ,\n        0.000432, 0.000686, 0.001024, 0.001458, 0.002   ],\n       [0.      , 0.000016, 0.000128, 0.000432, 0.001024, 0.002   ,\n        0.003456, 0.005488, 0.008192, 0.011664, 0.016   ],\n       [0.      , 0.000054, 0.000432, 0.001458, 0.003456, 0.00675 ,\n        0.011664, 0.018522, 0.027648, 0.039366, 0.054   ],\n       [0.      , 0.000128, 0.001024, 0.003456, 0.008192, 0.016   ,\n        0.027648, 0.043904, 0.065536, 0.093312, 0.128   ],\n       [0.      , 0.00025 , 0.002   , 0.00675 , 0.016   , 0.03125 ,\n        0.054   , 0.08575 , 0.128   , 0.18225 , 0.25    ],\n       [0.      , 0.000432, 0.003456, 0.011664, 0.027648, 0.054   ,\n        0.093312, 0.148176, 0.221184, 0.314928, 0.432   ],\n       [0.      , 0.000686, 0.005488, 0.018522, 0.043904, 0.08575 ,\n        0.148176, 0.235298, 0.351232, 0.500094, 0.686   ],\n       [0.      , 0.001024, 0.008192, 0.027648, 0.065536, 0.128   ,\n        0.221184, 0.351232, 0.524288, 0.746496, 1.024   ],\n       [0.      , 0.001458, 0.011664, 0.039366, 0.093312, 0.18225 ,\n        0.314928, 0.500094, 0.746496, 1.062882, 1.458   ],\n       [0.      , 0.002   , 0.016   , 0.054   , 0.128   , 0.25    ,\n        0.432   , 0.686   , 1.024   , 1.458   , 2.      ]])"
     },
     "execution_count": 9,
     "metadata": {},
     "output_type": "execute_result"
    }
   ],
   "source": [
    "U_expected"
   ],
   "metadata": {
    "collapsed": false,
    "pycharm": {
     "name": "#%%\n"
    }
   }
  },
  {
   "cell_type": "markdown",
   "source": [
    "### Убедимся, что параметр по умолчанию является оптимальным"
   ],
   "metadata": {
    "collapsed": false,
    "pycharm": {
     "name": "#%% md\n"
    }
   }
  },
  {
   "cell_type": "code",
   "execution_count": 10,
   "outputs": [
    {
     "data": {
      "text/plain": "   Curr. discr.  Rel. discr. Curr. error Rel. error  \\\nk                                                     \n1      0.126284     0.118812   18.416615   0.066762   \n2      0.028212     0.026543     3.31318   0.012011   \n3      0.026972     0.025377    3.745297   0.013577   \n4      0.032491     0.030569    3.285629   0.011911   \n5      0.036199     0.034058    3.461902    0.01255   \n6      0.038775     0.036481    3.419232   0.012395   \n7      0.040078     0.037707    3.442614    0.01248   \n8      0.040889     0.038470     3.44046   0.012472   \n9      0.041353     0.038906    3.444024   0.012485   \n10     0.041634     0.039171    3.444548   0.012487   \n11       0.0418     0.039327    3.445368    0.01249   \n12       0.0419     0.039421     3.44569   0.012491   \n13     0.041959     0.039477    3.445937   0.012492   \n14     0.041995     0.039510    3.446066   0.012492   \n15     0.042016     0.039531     3.44615   0.012493   \n16     0.042029     0.039543    3.446198   0.012493   \n     min_iters:    16.124583                          \n\n   $ \\lVert U_k - U_{k-1} \\rVert $  \nk                                   \n1                         1.083583  \n2                         0.117941  \n3                         0.032124  \n4                         0.013101  \n5                         0.007896  \n6                          0.00468  \n7                         0.002762  \n8                         0.001665  \n9                         0.000992  \n10                        0.000595  \n11                        0.000356  \n12                        0.000213  \n13                        0.000127  \n14                        0.000076  \n15                        0.000046  \n16                        0.000027  \n                                    ",
      "text/html": "<div>\n<style scoped>\n    .dataframe tbody tr th:only-of-type {\n        vertical-align: middle;\n    }\n\n    .dataframe tbody tr th {\n        vertical-align: top;\n    }\n\n    .dataframe thead th {\n        text-align: right;\n    }\n</style>\n<table border=\"1\" class=\"dataframe\">\n  <thead>\n    <tr style=\"text-align: right;\">\n      <th></th>\n      <th>Curr. discr.</th>\n      <th>Rel. discr.</th>\n      <th>Curr. error</th>\n      <th>Rel. error</th>\n      <th>$ \\lVert U_k - U_{k-1} \\rVert $</th>\n    </tr>\n    <tr>\n      <th>k</th>\n      <th></th>\n      <th></th>\n      <th></th>\n      <th></th>\n      <th></th>\n    </tr>\n  </thead>\n  <tbody>\n    <tr>\n      <th>1</th>\n      <td>0.126284</td>\n      <td>0.118812</td>\n      <td>18.416615</td>\n      <td>0.066762</td>\n      <td>1.083583</td>\n    </tr>\n    <tr>\n      <th>2</th>\n      <td>0.028212</td>\n      <td>0.026543</td>\n      <td>3.31318</td>\n      <td>0.012011</td>\n      <td>0.117941</td>\n    </tr>\n    <tr>\n      <th>3</th>\n      <td>0.026972</td>\n      <td>0.025377</td>\n      <td>3.745297</td>\n      <td>0.013577</td>\n      <td>0.032124</td>\n    </tr>\n    <tr>\n      <th>4</th>\n      <td>0.032491</td>\n      <td>0.030569</td>\n      <td>3.285629</td>\n      <td>0.011911</td>\n      <td>0.013101</td>\n    </tr>\n    <tr>\n      <th>5</th>\n      <td>0.036199</td>\n      <td>0.034058</td>\n      <td>3.461902</td>\n      <td>0.01255</td>\n      <td>0.007896</td>\n    </tr>\n    <tr>\n      <th>6</th>\n      <td>0.038775</td>\n      <td>0.036481</td>\n      <td>3.419232</td>\n      <td>0.012395</td>\n      <td>0.00468</td>\n    </tr>\n    <tr>\n      <th>7</th>\n      <td>0.040078</td>\n      <td>0.037707</td>\n      <td>3.442614</td>\n      <td>0.01248</td>\n      <td>0.002762</td>\n    </tr>\n    <tr>\n      <th>8</th>\n      <td>0.040889</td>\n      <td>0.038470</td>\n      <td>3.44046</td>\n      <td>0.012472</td>\n      <td>0.001665</td>\n    </tr>\n    <tr>\n      <th>9</th>\n      <td>0.041353</td>\n      <td>0.038906</td>\n      <td>3.444024</td>\n      <td>0.012485</td>\n      <td>0.000992</td>\n    </tr>\n    <tr>\n      <th>10</th>\n      <td>0.041634</td>\n      <td>0.039171</td>\n      <td>3.444548</td>\n      <td>0.012487</td>\n      <td>0.000595</td>\n    </tr>\n    <tr>\n      <th>11</th>\n      <td>0.0418</td>\n      <td>0.039327</td>\n      <td>3.445368</td>\n      <td>0.01249</td>\n      <td>0.000356</td>\n    </tr>\n    <tr>\n      <th>12</th>\n      <td>0.0419</td>\n      <td>0.039421</td>\n      <td>3.44569</td>\n      <td>0.012491</td>\n      <td>0.000213</td>\n    </tr>\n    <tr>\n      <th>13</th>\n      <td>0.041959</td>\n      <td>0.039477</td>\n      <td>3.445937</td>\n      <td>0.012492</td>\n      <td>0.000127</td>\n    </tr>\n    <tr>\n      <th>14</th>\n      <td>0.041995</td>\n      <td>0.039510</td>\n      <td>3.446066</td>\n      <td>0.012492</td>\n      <td>0.000076</td>\n    </tr>\n    <tr>\n      <th>15</th>\n      <td>0.042016</td>\n      <td>0.039531</td>\n      <td>3.44615</td>\n      <td>0.012493</td>\n      <td>0.000046</td>\n    </tr>\n    <tr>\n      <th>16</th>\n      <td>0.042029</td>\n      <td>0.039543</td>\n      <td>3.446198</td>\n      <td>0.012493</td>\n      <td>0.000027</td>\n    </tr>\n    <tr>\n      <th></th>\n      <td>min_iters:</td>\n      <td>16.124583</td>\n      <td></td>\n      <td></td>\n      <td></td>\n    </tr>\n  </tbody>\n</table>\n</div>"
     },
     "execution_count": 10,
     "metadata": {},
     "output_type": "execute_result"
    }
   ],
   "source": [
    "solver.solve(U_init, U_expected, F, tau = tau - 0.01) ['output']"
   ],
   "metadata": {
    "collapsed": false,
    "pycharm": {
     "name": "#%%\n"
    }
   }
  },
  {
   "cell_type": "code",
   "execution_count": 11,
   "outputs": [
    {
     "data": {
      "text/plain": "   Curr. discr.  Rel. discr. Curr. error Rel. error  \\\nk                                                     \n1      0.142221     0.133807   64.716393   0.234604   \n2      0.152181     0.143178   56.366109   0.204333   \n3      0.060646     0.057058   27.595703   0.100037   \n4      0.065555     0.061677   25.300767   0.091718   \n5      0.050425     0.047441   15.783653   0.057217   \n6      0.039984     0.037618   14.551516   0.052751   \n7      0.043657     0.041074   10.582089   0.038361   \n8      0.037272     0.035067    9.691213   0.035132   \n9      0.039509     0.037172     8.04339   0.029158   \n10     0.036326     0.034177    7.149352   0.025917   \n11     0.036873     0.034691    6.579598   0.023852   \n12      0.03517     0.033089    5.757497   0.020872   \n13     0.035097     0.033021    5.527459   0.020038   \n14     0.034104     0.032086     4.99984   0.018125   \n15     0.033838     0.031836    4.746951   0.017208   \n16     0.033205     0.031240    4.382859   0.015888   \n     min_iters:    16.124583                          \n\n   $ \\lVert U_k - U_{k-1} \\rVert $  \nk                                   \n1                         0.926517  \n2                         0.166717  \n3                         0.091535  \n4                         0.040341  \n5                         0.026552  \n6                         0.013273  \n7                         0.009968  \n8                         0.006385  \n9                         0.004308  \n10                        0.003183  \n11                        0.002086  \n12                        0.001703  \n13                        0.001117  \n14                        0.000993  \n15                        0.000654  \n16                        0.000633  \n                                    ",
      "text/html": "<div>\n<style scoped>\n    .dataframe tbody tr th:only-of-type {\n        vertical-align: middle;\n    }\n\n    .dataframe tbody tr th {\n        vertical-align: top;\n    }\n\n    .dataframe thead th {\n        text-align: right;\n    }\n</style>\n<table border=\"1\" class=\"dataframe\">\n  <thead>\n    <tr style=\"text-align: right;\">\n      <th></th>\n      <th>Curr. discr.</th>\n      <th>Rel. discr.</th>\n      <th>Curr. error</th>\n      <th>Rel. error</th>\n      <th>$ \\lVert U_k - U_{k-1} \\rVert $</th>\n    </tr>\n    <tr>\n      <th>k</th>\n      <th></th>\n      <th></th>\n      <th></th>\n      <th></th>\n      <th></th>\n    </tr>\n  </thead>\n  <tbody>\n    <tr>\n      <th>1</th>\n      <td>0.142221</td>\n      <td>0.133807</td>\n      <td>64.716393</td>\n      <td>0.234604</td>\n      <td>0.926517</td>\n    </tr>\n    <tr>\n      <th>2</th>\n      <td>0.152181</td>\n      <td>0.143178</td>\n      <td>56.366109</td>\n      <td>0.204333</td>\n      <td>0.166717</td>\n    </tr>\n    <tr>\n      <th>3</th>\n      <td>0.060646</td>\n      <td>0.057058</td>\n      <td>27.595703</td>\n      <td>0.100037</td>\n      <td>0.091535</td>\n    </tr>\n    <tr>\n      <th>4</th>\n      <td>0.065555</td>\n      <td>0.061677</td>\n      <td>25.300767</td>\n      <td>0.091718</td>\n      <td>0.040341</td>\n    </tr>\n    <tr>\n      <th>5</th>\n      <td>0.050425</td>\n      <td>0.047441</td>\n      <td>15.783653</td>\n      <td>0.057217</td>\n      <td>0.026552</td>\n    </tr>\n    <tr>\n      <th>6</th>\n      <td>0.039984</td>\n      <td>0.037618</td>\n      <td>14.551516</td>\n      <td>0.052751</td>\n      <td>0.013273</td>\n    </tr>\n    <tr>\n      <th>7</th>\n      <td>0.043657</td>\n      <td>0.041074</td>\n      <td>10.582089</td>\n      <td>0.038361</td>\n      <td>0.009968</td>\n    </tr>\n    <tr>\n      <th>8</th>\n      <td>0.037272</td>\n      <td>0.035067</td>\n      <td>9.691213</td>\n      <td>0.035132</td>\n      <td>0.006385</td>\n    </tr>\n    <tr>\n      <th>9</th>\n      <td>0.039509</td>\n      <td>0.037172</td>\n      <td>8.04339</td>\n      <td>0.029158</td>\n      <td>0.004308</td>\n    </tr>\n    <tr>\n      <th>10</th>\n      <td>0.036326</td>\n      <td>0.034177</td>\n      <td>7.149352</td>\n      <td>0.025917</td>\n      <td>0.003183</td>\n    </tr>\n    <tr>\n      <th>11</th>\n      <td>0.036873</td>\n      <td>0.034691</td>\n      <td>6.579598</td>\n      <td>0.023852</td>\n      <td>0.002086</td>\n    </tr>\n    <tr>\n      <th>12</th>\n      <td>0.03517</td>\n      <td>0.033089</td>\n      <td>5.757497</td>\n      <td>0.020872</td>\n      <td>0.001703</td>\n    </tr>\n    <tr>\n      <th>13</th>\n      <td>0.035097</td>\n      <td>0.033021</td>\n      <td>5.527459</td>\n      <td>0.020038</td>\n      <td>0.001117</td>\n    </tr>\n    <tr>\n      <th>14</th>\n      <td>0.034104</td>\n      <td>0.032086</td>\n      <td>4.99984</td>\n      <td>0.018125</td>\n      <td>0.000993</td>\n    </tr>\n    <tr>\n      <th>15</th>\n      <td>0.033838</td>\n      <td>0.031836</td>\n      <td>4.746951</td>\n      <td>0.017208</td>\n      <td>0.000654</td>\n    </tr>\n    <tr>\n      <th>16</th>\n      <td>0.033205</td>\n      <td>0.031240</td>\n      <td>4.382859</td>\n      <td>0.015888</td>\n      <td>0.000633</td>\n    </tr>\n    <tr>\n      <th></th>\n      <td>min_iters:</td>\n      <td>16.124583</td>\n      <td></td>\n      <td></td>\n      <td></td>\n    </tr>\n  </tbody>\n</table>\n</div>"
     },
     "execution_count": 11,
     "metadata": {},
     "output_type": "execute_result"
    }
   ],
   "source": [
    "solver.solve(U_init, U_expected, F, tau = tau + 0.01) ['output']"
   ],
   "metadata": {
    "collapsed": false,
    "pycharm": {
     "name": "#%%\n"
    }
   }
  },
  {
   "cell_type": "markdown",
   "source": [
    "#### Видно, что если отойти от параметра по умолчанию, то все показатели ухудшаются, то есть понадобиться выполнить больше итераций, чтобы достичь такого же результата, как в случае с оптимальным параметром\n"
   ],
   "metadata": {
    "collapsed": false,
    "pycharm": {
     "name": "#%% md\n"
    }
   }
  }
 ],
 "metadata": {
  "kernelspec": {
   "display_name": "Python 3",
   "language": "python",
   "name": "python3"
  },
  "language_info": {
   "codemirror_mode": {
    "name": "ipython",
    "version": 2
   },
   "file_extension": ".py",
   "mimetype": "text/x-python",
   "name": "python",
   "nbconvert_exporter": "python",
   "pygments_lexer": "ipython2",
   "version": "2.7.6"
  }
 },
 "nbformat": 4,
 "nbformat_minor": 0
}