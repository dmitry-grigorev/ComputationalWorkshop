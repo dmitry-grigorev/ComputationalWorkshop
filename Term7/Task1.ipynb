{
 "cells": [
  {
   "cell_type": "code",
   "execution_count": 6,
   "metadata": {
    "collapsed": true
   },
   "outputs": [],
   "source": [
    "import numpy as np\n",
    "import pandas as pd\n",
    "np.set_printoptions(precision=4)"
   ]
  },
  {
   "cell_type": "markdown",
   "source": [
    "# Решение задачи Дирихле:\n",
    "## Известно, что $u(x,y) = 2x^3y^3$\n",
    "## Оно является решением задачи Дирихле:\n",
    "### $\\frac{\\partial^2 u}{\\partial x^2} + \\frac{\\partial^2 u}{\\partial y^2} = -(\\underbrace{-12xy(x^2+y^2)}_{f(x,y)})$\n",
    "### $u(0,y) \\equiv 0$\n",
    "### $u(1,y) = 2y^3$\n",
    "### $u(x,0) \\equiv 0$\n",
    "### $u(x,1) = 2x^3$"
   ],
   "metadata": {
    "collapsed": false,
    "pycharm": {
     "name": "#%% md\n"
    }
   }
  },
  {
   "cell_type": "code",
   "execution_count": 15,
   "outputs": [],
   "source": [
    "N = 5\n",
    "a_x = 0\n",
    "b_x = 1\n",
    "a_y = 0\n",
    "b_y = 1\n",
    "h = (b_x-a_x)/(N - 1) # ширина сетки вместе с граничными узлами\n",
    "iN = N - 2 # ширина сетки без граничных узлов\n",
    "\n",
    "f = lambda x,y: -12*x*y*(x*x+y*y)\n",
    "u1y = lambda y: 2*y**3\n",
    "ux1 = lambda x: 2*x**3\n",
    "u_expected = lambda x,y: 2*x**3*y**3"
   ],
   "metadata": {
    "collapsed": false,
    "pycharm": {
     "name": "#%%\n"
    }
   }
  },
  {
   "cell_type": "markdown",
   "source": [
    "### Задаём начальное приближение с помощью начальных данных"
   ],
   "metadata": {
    "collapsed": false,
    "pycharm": {
     "name": "#%% md\n"
    }
   }
  },
  {
   "cell_type": "code",
   "execution_count": null,
   "outputs": [],
   "source": [
    "def init_U():\n",
    "    U = np.zeros(shape = (N, N))\n",
    "    for i in range(N):\n",
    "        U[i, N - 1] = ux1(i*h)\n",
    "    for j in range(N):\n",
    "        U[N - 1, j] = u1y(j*h)\n",
    "    return U\n",
    "\n",
    "U = init_U()\n",
    "\n",
    "U_expected = U.copy() # задаём границы\n",
    "U_expected[1:iN+1,1:iN+1] = np.array([[u_expected(i*h,j*h) for j in range(1, iN+1)] for i in range(1, iN+1)])\n",
    "\n",
    "F = np.array([[f(i*h, j*h) for j in range(1, iN+1)] for i in range(1,iN+1)])"
   ],
   "metadata": {
    "collapsed": false,
    "pycharm": {
     "name": "#%%\n"
    }
   }
  },
  {
   "cell_type": "code",
   "execution_count": 17,
   "outputs": [],
   "source": [
    "class DESolver:\n",
    "    def __init__(self, grid_step, N, eps = 1e-5):\n",
    "        self.h = grid_step\n",
    "        self.methods = {'iteration': self.iteration_method_iter,\n",
    "                        'seidel': self.seidel_method_iter,\n",
    "                        'over-relaxation': self.overrelaxation_method_iter}\n",
    "        self.methods_params = {'iteration'      : {'min_iters': 2*np.log(1/eps)/(np.pi*h)**2,\n",
    "                                                'spectral_rad': np.cos(np.pi * h)},\n",
    "                               'seidel'         : {'min_iters': np.log(1/eps)/(np.pi*h)**2,\n",
    "                                                'spectral_rad': np.cos(np.pi * h)**2},\n",
    "                               'over-relaxation': {'min_iters': 2*np.log(1/eps)/(np.pi*h),\n",
    "                                                'spectral_rad': np.cos(np.pi * h),\n",
    "                                                'opt_parameter': 2/(1 + np.sin(np.pi * h))}}\n",
    "        self.iN = N - 2\n",
    "        C = np.matrix([[4, -1] + (N-2)*[0]] +\n",
    "              [ k*[0] + [-1, 4, -1] + (N - 3 - k)*[0] for k in range(0, N - 2)] +\n",
    "              [(N-2)*[0] + [-1, 4]], dtype=float)\n",
    "        self.mmatrix = np.block([[C, -np.eye(N = N)] + (N-2)*[np.zeros( shape = (N, N) )]] +\n",
    "              [ k*[np.zeros( shape = (N, N) )] + [-np.eye(N = N), C, -np.eye(N = N)] + (N - 3 - k)*[np.zeros( shape = (N, N) )] for k in range(0, N - 2)] +\n",
    "              [(N-2)*[np.zeros( shape = (N, N) )] + [-np.eye(N = N), C]]) / grid_step**2\n",
    "        self.lastsol = np.zeros(shape = (N, N))\n",
    "        self.iter_diffs = np.zeros(shape = 3) # Хранит разницу приближений последних трёх итераций\n",
    "\n",
    "    def __method_iter(self, U_curr, F, method_name, method_params):\n",
    "        return self.methods[method_name](U_curr, F, params = method_params)\n",
    "\n",
    "    def iteration_method_iter(self, U, F, params = None):\n",
    "        for i in range(1, self.iN+1):\n",
    "            for j in range(1, self.iN+1):\n",
    "               self.lastsol[i, j] = 0.25*(U[i-1, j]+U[i+1,j]+U[i, j-1]+U[i, j+1]+F[i-1,j-1]*self.h**2)\n",
    "        return self.lastsol\n",
    "\n",
    "    def seidel_method_iter(self, U, F,params = None):\n",
    "        for k in range(1, iN+1):\n",
    "            for i in range(k, iN+1):\n",
    "                self.lastsol[i, k] = 0.25*(self.lastsol[i-1, k]+U[i+1,k]+self.lastsol[i, k-1]+U[i, k+1]+F[i-1,k-1]*self.h**2)\n",
    "            for j in range(k+1, iN+1):\n",
    "                self.lastsol[k, j] = 0.25*(self.lastsol[k-1, j]+U[k+1,j]+self.lastsol[k, j-1]+U[k, j+1]+F[k-1,j-1]*self.h**2)\n",
    "        return self.lastsol\n",
    "\n",
    "    def overrelaxation_method_iter(self, U, F,params):\n",
    "            for k in range(1, iN+1):\n",
    "                for i in range(k, iN+1):\n",
    "                    self.lastsol[i, k] = (1-params['opt'])*U[i,k] + 0.25*params['opt']*(self.lastsol[i-1, k]+U[i+1,k]+self.lastsol[i, k-1]+U[i, k+1]+F[i-1,k-1]*self.h**2)\n",
    "                for j in range(k+1, iN+1):\n",
    "                    self.lastsol[k, j] = (1-params['opt'])*U[k,j] + 0.25*params['opt']*(self.lastsol[k-1, j]+U[k+1,j]+self.lastsol[k, j-1]+U[k, j+1]+F[k-1,j-1]*self.h**2)\n",
    "            return self.lastsol\n",
    "\n",
    "    def __calculate_props(self, U, U_expected, F, iter, init_error, init_discrepancy, apost_est_coef):\n",
    "        iter_diff = np.max(np.abs(U - self.lastsol))\n",
    "        self.iter_diffs[iter % 3] = iter_diff\n",
    "        apost_est = apost_est_coef * iter_diff\n",
    "        spec_rad_est = ' ' if iter < 2 else np.sqrt(self.iter_diffs[iter % 3]/ self.iter_diffs[(iter - 2) % 3] )\n",
    "\n",
    "        U_reshaped = np.reshape(self.lastsol, newshape=(N**2, 1)) # преобразуем матрицу сетки к вектору\n",
    "        AU = self.mmatrix @ U_reshaped\n",
    "        AU_reshaped_cut = np.reshape(AU, newshape=(N, N))[1:iN+1, 1:iN+1]\n",
    "\n",
    "        error = np.max(np.abs(self.lastsol - U_expected))\n",
    "        discrepancy = np.max(np.abs(AU_reshaped_cut - F))\n",
    "        rel_discrepancy = discrepancy / init_discrepancy\n",
    "        rel_error = error / init_error\n",
    "\n",
    "        return [iter + 1, discrepancy, rel_discrepancy,\n",
    "                             error, rel_error, iter_diff, apost_est, spec_rad_est]\n",
    "\n",
    "    def solve(self, U_init, U_expected, F, eps = 1e-5, method = 'iteration', method_parameters = None):\n",
    "        if method not in ['iteration', 'seidel', 'over-relaxation']:\n",
    "            return None\n",
    "        else:\n",
    "            self.iter_diffs = np.zeros(shape = 3)\n",
    "            if method_parameters is None and method == 'over-relaxation':\n",
    "                method_parameters = {'opt': self.methods_params['over-relaxation']['opt_parameter']}\n",
    "        apost_est_coef = self.methods_params[method]['spectral_rad']/ (1 - self.methods_params[method]['spectral_rad'])\n",
    "        init_error = np.max(np.abs(U_init - U_expected))\n",
    "        U = U_init.copy()\n",
    "        self.lastsol = U.copy()\n",
    "\n",
    "        U_reshaped = np.reshape(U, newshape=(N**2, 1)) # преобразуем матрицу сетки к вектору\n",
    "        AU = self.mmatrix@U_reshaped\n",
    "        AU_reshaped_cut = np.reshape(AU, newshape=(N, N))[1:iN+1, 1:iN+1]\n",
    "\n",
    "        init_discrepancy = np.max(np.abs(AU_reshaped_cut - F))\n",
    "        output_list = list()\n",
    "        iter = 0\n",
    "        rel_discrepancy = 1\n",
    "\n",
    "        while rel_discrepancy > eps and iter < self.methods_params[method]['min_iters']:\n",
    "            U_new = self.__method_iter(U, F, method, method_parameters)\n",
    "\n",
    "            curr_iter_props = self.__calculate_props(U, U_expected, F, iter, init_error, init_discrepancy, apost_est_coef)\n",
    "            output_list+=[ curr_iter_props ]\n",
    "\n",
    "            U = U_new.copy()\n",
    "            rel_discrepancy = curr_iter_props[2]\n",
    "            iter+=1\n",
    "                                                                                      \n",
    "        output_list += [[' ', 'min_iters:', self.methods_params[method]['min_iters'], ' ', ' method:', method, ' ', ' ']]\n",
    "        return {'solution': U ,'output': pd.DataFrame(data = output_list,\n",
    "                                                      columns = ['k', 'Curr. discr.', 'Rel. discr.', 'Curr. error', 'Rel. error', '$ \\lVert U_k - U_{k-1} \\rVert $', 'Apost. est.', '$\\hat{\\rho}_k$']).set_index(keys = 'k')}\n"
   ],
   "metadata": {
    "collapsed": false,
    "pycharm": {
     "name": "#%%\n"
    }
   }
  },
  {
   "cell_type": "code",
   "execution_count": 18,
   "outputs": [],
   "source": [
    "solver = DESolver(h, N)"
   ],
   "metadata": {
    "collapsed": false,
    "pycharm": {
     "name": "#%%\n"
    }
   }
  },
  {
   "cell_type": "markdown",
   "source": [
    "### Решение методом простой итерации"
   ],
   "metadata": {
    "collapsed": false,
    "pycharm": {
     "name": "#%% md\n"
    }
   }
  },
  {
   "cell_type": "code",
   "execution_count": 19,
   "outputs": [
    {
     "data": {
      "text/plain": "   Curr. discr.  Rel. discr. Curr. error Rel. error  \\\nk                                                     \n1          4.25     0.219002    0.100098   0.281207   \n2         2.125     0.109501    0.055664   0.156379   \n3      1.210938     0.062399    0.033386   0.093793   \n4       0.90625     0.046699    0.027832   0.078189   \n5      0.491211     0.025312     0.01461   0.041045   \n6      0.453125     0.023349    0.013916   0.039095   \n7      0.231323     0.011920    0.007045   0.019791   \n8      0.226562     0.011675    0.006958   0.019547   \n9      0.113876     0.005868     0.00349   0.009804   \n10     0.113281     0.005837    0.003479   0.009774   \n11     0.056715     0.002923    0.001741   0.004891   \n12     0.056641     0.002919     0.00174   0.004887   \n13      0.02833     0.001460     0.00087   0.002444   \n14      0.02832     0.001459     0.00087   0.002443   \n15     0.014161     0.000730    0.000435   0.001222   \n16      0.01416     0.000730    0.000435   0.001222   \n17      0.00708     0.000365    0.000217   0.000611   \n18      0.00708     0.000365    0.000217   0.000611   \n19      0.00354     0.000182    0.000109   0.000305   \n20      0.00354     0.000182    0.000109   0.000305   \n21      0.00177     0.000091    0.000054   0.000153   \n22      0.00177     0.000091    0.000054   0.000153   \n23     0.000885     0.000046    0.000027   0.000076   \n24     0.000885     0.000046    0.000027   0.000076   \n25     0.000443     0.000023    0.000014   0.000038   \n26     0.000443     0.000023    0.000014   0.000038   \n27     0.000221     0.000011    0.000007   0.000019   \n28     0.000221     0.000011    0.000007   0.000019   \n29     0.000111     0.000006    0.000003    0.00001   \n     min_iters:    37.328104                method:   \n\n   $ \\lVert U_k - U_{k-1} \\rVert $ Apost. est. $\\hat{\\rho}_k$  \nk                                                              \n1                         0.303223    0.732044                 \n2                         0.066406    0.160319                 \n3                         0.033203    0.080159       0.330909  \n4                         0.018921    0.045679       0.533785  \n5                          0.01416    0.034186       0.653047  \n6                         0.007675     0.01853       0.636903  \n7                          0.00708    0.017093       0.707107  \n8                         0.003614    0.008726       0.686239  \n9                          0.00354    0.008546       0.707107  \n10                        0.001779    0.004296       0.701628  \n11                         0.00177    0.004273       0.707107  \n12                        0.000886    0.002139        0.70572  \n13                        0.000885    0.002137       0.707107  \n14                        0.000443    0.001069       0.706759  \n15                        0.000443    0.001068       0.707107  \n16                        0.000221    0.000534        0.70702  \n17                        0.000221    0.000534       0.707107  \n18                        0.000111    0.000267       0.707085  \n19                        0.000111    0.000267       0.707107  \n20                        0.000055    0.000134       0.707101  \n21                        0.000055    0.000134       0.707107  \n22                        0.000028    0.000067       0.707105  \n23                        0.000028    0.000067       0.707107  \n24                        0.000014    0.000033       0.707106  \n25                        0.000014    0.000033       0.707107  \n26                        0.000007    0.000017       0.707107  \n27                        0.000007    0.000017       0.707107  \n28                        0.000003    0.000008       0.707107  \n29                        0.000003    0.000008       0.707107  \n                         iteration                             ",
      "text/html": "<div>\n<style scoped>\n    .dataframe tbody tr th:only-of-type {\n        vertical-align: middle;\n    }\n\n    .dataframe tbody tr th {\n        vertical-align: top;\n    }\n\n    .dataframe thead th {\n        text-align: right;\n    }\n</style>\n<table border=\"1\" class=\"dataframe\">\n  <thead>\n    <tr style=\"text-align: right;\">\n      <th></th>\n      <th>Curr. discr.</th>\n      <th>Rel. discr.</th>\n      <th>Curr. error</th>\n      <th>Rel. error</th>\n      <th>$ \\lVert U_k - U_{k-1} \\rVert $</th>\n      <th>Apost. est.</th>\n      <th>$\\hat{\\rho}_k$</th>\n    </tr>\n    <tr>\n      <th>k</th>\n      <th></th>\n      <th></th>\n      <th></th>\n      <th></th>\n      <th></th>\n      <th></th>\n      <th></th>\n    </tr>\n  </thead>\n  <tbody>\n    <tr>\n      <th>1</th>\n      <td>4.25</td>\n      <td>0.219002</td>\n      <td>0.100098</td>\n      <td>0.281207</td>\n      <td>0.303223</td>\n      <td>0.732044</td>\n      <td></td>\n    </tr>\n    <tr>\n      <th>2</th>\n      <td>2.125</td>\n      <td>0.109501</td>\n      <td>0.055664</td>\n      <td>0.156379</td>\n      <td>0.066406</td>\n      <td>0.160319</td>\n      <td></td>\n    </tr>\n    <tr>\n      <th>3</th>\n      <td>1.210938</td>\n      <td>0.062399</td>\n      <td>0.033386</td>\n      <td>0.093793</td>\n      <td>0.033203</td>\n      <td>0.080159</td>\n      <td>0.330909</td>\n    </tr>\n    <tr>\n      <th>4</th>\n      <td>0.90625</td>\n      <td>0.046699</td>\n      <td>0.027832</td>\n      <td>0.078189</td>\n      <td>0.018921</td>\n      <td>0.045679</td>\n      <td>0.533785</td>\n    </tr>\n    <tr>\n      <th>5</th>\n      <td>0.491211</td>\n      <td>0.025312</td>\n      <td>0.01461</td>\n      <td>0.041045</td>\n      <td>0.01416</td>\n      <td>0.034186</td>\n      <td>0.653047</td>\n    </tr>\n    <tr>\n      <th>6</th>\n      <td>0.453125</td>\n      <td>0.023349</td>\n      <td>0.013916</td>\n      <td>0.039095</td>\n      <td>0.007675</td>\n      <td>0.01853</td>\n      <td>0.636903</td>\n    </tr>\n    <tr>\n      <th>7</th>\n      <td>0.231323</td>\n      <td>0.011920</td>\n      <td>0.007045</td>\n      <td>0.019791</td>\n      <td>0.00708</td>\n      <td>0.017093</td>\n      <td>0.707107</td>\n    </tr>\n    <tr>\n      <th>8</th>\n      <td>0.226562</td>\n      <td>0.011675</td>\n      <td>0.006958</td>\n      <td>0.019547</td>\n      <td>0.003614</td>\n      <td>0.008726</td>\n      <td>0.686239</td>\n    </tr>\n    <tr>\n      <th>9</th>\n      <td>0.113876</td>\n      <td>0.005868</td>\n      <td>0.00349</td>\n      <td>0.009804</td>\n      <td>0.00354</td>\n      <td>0.008546</td>\n      <td>0.707107</td>\n    </tr>\n    <tr>\n      <th>10</th>\n      <td>0.113281</td>\n      <td>0.005837</td>\n      <td>0.003479</td>\n      <td>0.009774</td>\n      <td>0.001779</td>\n      <td>0.004296</td>\n      <td>0.701628</td>\n    </tr>\n    <tr>\n      <th>11</th>\n      <td>0.056715</td>\n      <td>0.002923</td>\n      <td>0.001741</td>\n      <td>0.004891</td>\n      <td>0.00177</td>\n      <td>0.004273</td>\n      <td>0.707107</td>\n    </tr>\n    <tr>\n      <th>12</th>\n      <td>0.056641</td>\n      <td>0.002919</td>\n      <td>0.00174</td>\n      <td>0.004887</td>\n      <td>0.000886</td>\n      <td>0.002139</td>\n      <td>0.70572</td>\n    </tr>\n    <tr>\n      <th>13</th>\n      <td>0.02833</td>\n      <td>0.001460</td>\n      <td>0.00087</td>\n      <td>0.002444</td>\n      <td>0.000885</td>\n      <td>0.002137</td>\n      <td>0.707107</td>\n    </tr>\n    <tr>\n      <th>14</th>\n      <td>0.02832</td>\n      <td>0.001459</td>\n      <td>0.00087</td>\n      <td>0.002443</td>\n      <td>0.000443</td>\n      <td>0.001069</td>\n      <td>0.706759</td>\n    </tr>\n    <tr>\n      <th>15</th>\n      <td>0.014161</td>\n      <td>0.000730</td>\n      <td>0.000435</td>\n      <td>0.001222</td>\n      <td>0.000443</td>\n      <td>0.001068</td>\n      <td>0.707107</td>\n    </tr>\n    <tr>\n      <th>16</th>\n      <td>0.01416</td>\n      <td>0.000730</td>\n      <td>0.000435</td>\n      <td>0.001222</td>\n      <td>0.000221</td>\n      <td>0.000534</td>\n      <td>0.70702</td>\n    </tr>\n    <tr>\n      <th>17</th>\n      <td>0.00708</td>\n      <td>0.000365</td>\n      <td>0.000217</td>\n      <td>0.000611</td>\n      <td>0.000221</td>\n      <td>0.000534</td>\n      <td>0.707107</td>\n    </tr>\n    <tr>\n      <th>18</th>\n      <td>0.00708</td>\n      <td>0.000365</td>\n      <td>0.000217</td>\n      <td>0.000611</td>\n      <td>0.000111</td>\n      <td>0.000267</td>\n      <td>0.707085</td>\n    </tr>\n    <tr>\n      <th>19</th>\n      <td>0.00354</td>\n      <td>0.000182</td>\n      <td>0.000109</td>\n      <td>0.000305</td>\n      <td>0.000111</td>\n      <td>0.000267</td>\n      <td>0.707107</td>\n    </tr>\n    <tr>\n      <th>20</th>\n      <td>0.00354</td>\n      <td>0.000182</td>\n      <td>0.000109</td>\n      <td>0.000305</td>\n      <td>0.000055</td>\n      <td>0.000134</td>\n      <td>0.707101</td>\n    </tr>\n    <tr>\n      <th>21</th>\n      <td>0.00177</td>\n      <td>0.000091</td>\n      <td>0.000054</td>\n      <td>0.000153</td>\n      <td>0.000055</td>\n      <td>0.000134</td>\n      <td>0.707107</td>\n    </tr>\n    <tr>\n      <th>22</th>\n      <td>0.00177</td>\n      <td>0.000091</td>\n      <td>0.000054</td>\n      <td>0.000153</td>\n      <td>0.000028</td>\n      <td>0.000067</td>\n      <td>0.707105</td>\n    </tr>\n    <tr>\n      <th>23</th>\n      <td>0.000885</td>\n      <td>0.000046</td>\n      <td>0.000027</td>\n      <td>0.000076</td>\n      <td>0.000028</td>\n      <td>0.000067</td>\n      <td>0.707107</td>\n    </tr>\n    <tr>\n      <th>24</th>\n      <td>0.000885</td>\n      <td>0.000046</td>\n      <td>0.000027</td>\n      <td>0.000076</td>\n      <td>0.000014</td>\n      <td>0.000033</td>\n      <td>0.707106</td>\n    </tr>\n    <tr>\n      <th>25</th>\n      <td>0.000443</td>\n      <td>0.000023</td>\n      <td>0.000014</td>\n      <td>0.000038</td>\n      <td>0.000014</td>\n      <td>0.000033</td>\n      <td>0.707107</td>\n    </tr>\n    <tr>\n      <th>26</th>\n      <td>0.000443</td>\n      <td>0.000023</td>\n      <td>0.000014</td>\n      <td>0.000038</td>\n      <td>0.000007</td>\n      <td>0.000017</td>\n      <td>0.707107</td>\n    </tr>\n    <tr>\n      <th>27</th>\n      <td>0.000221</td>\n      <td>0.000011</td>\n      <td>0.000007</td>\n      <td>0.000019</td>\n      <td>0.000007</td>\n      <td>0.000017</td>\n      <td>0.707107</td>\n    </tr>\n    <tr>\n      <th>28</th>\n      <td>0.000221</td>\n      <td>0.000011</td>\n      <td>0.000007</td>\n      <td>0.000019</td>\n      <td>0.000003</td>\n      <td>0.000008</td>\n      <td>0.707107</td>\n    </tr>\n    <tr>\n      <th>29</th>\n      <td>0.000111</td>\n      <td>0.000006</td>\n      <td>0.000003</td>\n      <td>0.00001</td>\n      <td>0.000003</td>\n      <td>0.000008</td>\n      <td>0.707107</td>\n    </tr>\n    <tr>\n      <th></th>\n      <td>min_iters:</td>\n      <td>37.328104</td>\n      <td></td>\n      <td>method:</td>\n      <td>iteration</td>\n      <td></td>\n      <td></td>\n    </tr>\n  </tbody>\n</table>\n</div>"
     },
     "execution_count": 19,
     "metadata": {},
     "output_type": "execute_result"
    }
   ],
   "source": [
    "iter_summary = solver.solve(U, method = 'iteration', U_expected = U_expected, F = F)\n",
    "solU_i = iter_summary['solution']\n",
    "iter_summary['output'][::]"
   ],
   "metadata": {
    "collapsed": false,
    "pycharm": {
     "name": "#%%\n"
    }
   }
  },
  {
   "cell_type": "markdown",
   "source": [
    "### Решение методом Зейделя"
   ],
   "metadata": {
    "collapsed": false
   }
  },
  {
   "cell_type": "code",
   "execution_count": 20,
   "outputs": [
    {
     "data": {
      "text/plain": "   Curr. discr.  Rel. discr. Curr. error Rel. error  \\\nk                                                     \n1        4.8078     0.247745    0.110939   0.311664   \n2      2.300262     0.118532    0.067169     0.1887   \n3       0.80603     0.041535    0.033585    0.09435   \n4      0.403015     0.020767    0.016792   0.047175   \n5      0.249527     0.012858    0.008396   0.023588   \n6      0.131945     0.006799    0.004198   0.011794   \n7       0.06687     0.003446    0.002099   0.005897   \n8      0.033547     0.001729     0.00105   0.002948   \n9      0.016788     0.000865    0.000525   0.001474   \n10     0.008396     0.000433    0.000262   0.000737   \n11     0.004198     0.000216    0.000131   0.000369   \n12     0.002099     0.000108    0.000066   0.000184   \n13      0.00105     0.000054    0.000033   0.000092   \n14     0.000525     0.000027    0.000016   0.000046   \n15     0.000262     0.000014    0.000008   0.000023   \n16     0.000131     0.000007    0.000004   0.000012   \n     min_iters:    18.664052                method:   \n\n   $ \\lVert U_k - U_{k-1} \\rVert $ Apost. est. $\\hat{\\rho}_k$  \nk                                                              \n1                         0.300488    0.300488                 \n2                         0.071883    0.071883                 \n3                         0.033585    0.033585       0.334316  \n4                         0.016792    0.016792       0.483327  \n5                         0.008396    0.008396            0.5  \n6                         0.004198    0.004198            0.5  \n7                         0.002099    0.002099            0.5  \n8                          0.00105     0.00105            0.5  \n9                         0.000525    0.000525            0.5  \n10                        0.000262    0.000262            0.5  \n11                        0.000131    0.000131            0.5  \n12                        0.000066    0.000066            0.5  \n13                        0.000033    0.000033            0.5  \n14                        0.000016    0.000016            0.5  \n15                        0.000008    0.000008            0.5  \n16                        0.000004    0.000004            0.5  \n                            seidel                             ",
      "text/html": "<div>\n<style scoped>\n    .dataframe tbody tr th:only-of-type {\n        vertical-align: middle;\n    }\n\n    .dataframe tbody tr th {\n        vertical-align: top;\n    }\n\n    .dataframe thead th {\n        text-align: right;\n    }\n</style>\n<table border=\"1\" class=\"dataframe\">\n  <thead>\n    <tr style=\"text-align: right;\">\n      <th></th>\n      <th>Curr. discr.</th>\n      <th>Rel. discr.</th>\n      <th>Curr. error</th>\n      <th>Rel. error</th>\n      <th>$ \\lVert U_k - U_{k-1} \\rVert $</th>\n      <th>Apost. est.</th>\n      <th>$\\hat{\\rho}_k$</th>\n    </tr>\n    <tr>\n      <th>k</th>\n      <th></th>\n      <th></th>\n      <th></th>\n      <th></th>\n      <th></th>\n      <th></th>\n      <th></th>\n    </tr>\n  </thead>\n  <tbody>\n    <tr>\n      <th>1</th>\n      <td>4.8078</td>\n      <td>0.247745</td>\n      <td>0.110939</td>\n      <td>0.311664</td>\n      <td>0.300488</td>\n      <td>0.300488</td>\n      <td></td>\n    </tr>\n    <tr>\n      <th>2</th>\n      <td>2.300262</td>\n      <td>0.118532</td>\n      <td>0.067169</td>\n      <td>0.1887</td>\n      <td>0.071883</td>\n      <td>0.071883</td>\n      <td></td>\n    </tr>\n    <tr>\n      <th>3</th>\n      <td>0.80603</td>\n      <td>0.041535</td>\n      <td>0.033585</td>\n      <td>0.09435</td>\n      <td>0.033585</td>\n      <td>0.033585</td>\n      <td>0.334316</td>\n    </tr>\n    <tr>\n      <th>4</th>\n      <td>0.403015</td>\n      <td>0.020767</td>\n      <td>0.016792</td>\n      <td>0.047175</td>\n      <td>0.016792</td>\n      <td>0.016792</td>\n      <td>0.483327</td>\n    </tr>\n    <tr>\n      <th>5</th>\n      <td>0.249527</td>\n      <td>0.012858</td>\n      <td>0.008396</td>\n      <td>0.023588</td>\n      <td>0.008396</td>\n      <td>0.008396</td>\n      <td>0.5</td>\n    </tr>\n    <tr>\n      <th>6</th>\n      <td>0.131945</td>\n      <td>0.006799</td>\n      <td>0.004198</td>\n      <td>0.011794</td>\n      <td>0.004198</td>\n      <td>0.004198</td>\n      <td>0.5</td>\n    </tr>\n    <tr>\n      <th>7</th>\n      <td>0.06687</td>\n      <td>0.003446</td>\n      <td>0.002099</td>\n      <td>0.005897</td>\n      <td>0.002099</td>\n      <td>0.002099</td>\n      <td>0.5</td>\n    </tr>\n    <tr>\n      <th>8</th>\n      <td>0.033547</td>\n      <td>0.001729</td>\n      <td>0.00105</td>\n      <td>0.002948</td>\n      <td>0.00105</td>\n      <td>0.00105</td>\n      <td>0.5</td>\n    </tr>\n    <tr>\n      <th>9</th>\n      <td>0.016788</td>\n      <td>0.000865</td>\n      <td>0.000525</td>\n      <td>0.001474</td>\n      <td>0.000525</td>\n      <td>0.000525</td>\n      <td>0.5</td>\n    </tr>\n    <tr>\n      <th>10</th>\n      <td>0.008396</td>\n      <td>0.000433</td>\n      <td>0.000262</td>\n      <td>0.000737</td>\n      <td>0.000262</td>\n      <td>0.000262</td>\n      <td>0.5</td>\n    </tr>\n    <tr>\n      <th>11</th>\n      <td>0.004198</td>\n      <td>0.000216</td>\n      <td>0.000131</td>\n      <td>0.000369</td>\n      <td>0.000131</td>\n      <td>0.000131</td>\n      <td>0.5</td>\n    </tr>\n    <tr>\n      <th>12</th>\n      <td>0.002099</td>\n      <td>0.000108</td>\n      <td>0.000066</td>\n      <td>0.000184</td>\n      <td>0.000066</td>\n      <td>0.000066</td>\n      <td>0.5</td>\n    </tr>\n    <tr>\n      <th>13</th>\n      <td>0.00105</td>\n      <td>0.000054</td>\n      <td>0.000033</td>\n      <td>0.000092</td>\n      <td>0.000033</td>\n      <td>0.000033</td>\n      <td>0.5</td>\n    </tr>\n    <tr>\n      <th>14</th>\n      <td>0.000525</td>\n      <td>0.000027</td>\n      <td>0.000016</td>\n      <td>0.000046</td>\n      <td>0.000016</td>\n      <td>0.000016</td>\n      <td>0.5</td>\n    </tr>\n    <tr>\n      <th>15</th>\n      <td>0.000262</td>\n      <td>0.000014</td>\n      <td>0.000008</td>\n      <td>0.000023</td>\n      <td>0.000008</td>\n      <td>0.000008</td>\n      <td>0.5</td>\n    </tr>\n    <tr>\n      <th>16</th>\n      <td>0.000131</td>\n      <td>0.000007</td>\n      <td>0.000004</td>\n      <td>0.000012</td>\n      <td>0.000004</td>\n      <td>0.000004</td>\n      <td>0.5</td>\n    </tr>\n    <tr>\n      <th></th>\n      <td>min_iters:</td>\n      <td>18.664052</td>\n      <td></td>\n      <td>method:</td>\n      <td>seidel</td>\n      <td></td>\n      <td></td>\n    </tr>\n  </tbody>\n</table>\n</div>"
     },
     "execution_count": 20,
     "metadata": {},
     "output_type": "execute_result"
    }
   ],
   "source": [
    "iter_summary = solver.solve(U, method = 'seidel', U_expected = U_expected, F = F)\n",
    "solU_s = iter_summary['solution']\n",
    "iter_summary['output'][::]"
   ],
   "metadata": {
    "collapsed": false,
    "pycharm": {
     "name": "#%%\n"
    }
   }
  },
  {
   "cell_type": "markdown",
   "source": [
    "### Решение методом верхней релаксации"
   ],
   "metadata": {
    "collapsed": false
   }
  },
  {
   "cell_type": "code",
   "execution_count": 21,
   "outputs": [
    {
     "data": {
      "text/plain": "  Curr. discr.  Rel. discr. Curr. error Rel. error  \\\nk                                                    \n1     5.683959     0.292893    0.114415    0.32143   \n2     3.294385     0.169759    0.072523    0.20374   \n3     1.430378     0.073707    0.031478   0.088431   \n4     0.837896     0.043177    0.015824   0.044454   \n5     0.041904     0.002159    0.001068   0.003001   \n6     0.024547     0.001265    0.000542   0.001524   \n7     0.004205     0.000217    0.000093   0.000262   \n8     0.000711     0.000037    0.000016   0.000045   \n9     0.000123     0.000006    0.000003   0.000009   \n    min_iters:    29.317424                method:   \n\n  $ \\lVert U_k - U_{k-1} \\rVert $ Apost. est. $\\hat{\\rho}_k$  \nk                                                             \n1                        0.350007    0.844991                 \n2                        0.100462    0.242537                 \n3                        0.058353    0.140876       0.408313  \n4                        0.026015    0.062805       0.508873  \n5                        0.015338     0.03703       0.512695  \n6                         0.00075    0.001811       0.169828  \n7                        0.000449    0.001085       0.171159  \n8                        0.000077    0.000186       0.320297  \n9                        0.000013    0.000031        0.17025  \n                  over-relaxation                             ",
      "text/html": "<div>\n<style scoped>\n    .dataframe tbody tr th:only-of-type {\n        vertical-align: middle;\n    }\n\n    .dataframe tbody tr th {\n        vertical-align: top;\n    }\n\n    .dataframe thead th {\n        text-align: right;\n    }\n</style>\n<table border=\"1\" class=\"dataframe\">\n  <thead>\n    <tr style=\"text-align: right;\">\n      <th></th>\n      <th>Curr. discr.</th>\n      <th>Rel. discr.</th>\n      <th>Curr. error</th>\n      <th>Rel. error</th>\n      <th>$ \\lVert U_k - U_{k-1} \\rVert $</th>\n      <th>Apost. est.</th>\n      <th>$\\hat{\\rho}_k$</th>\n    </tr>\n    <tr>\n      <th>k</th>\n      <th></th>\n      <th></th>\n      <th></th>\n      <th></th>\n      <th></th>\n      <th></th>\n      <th></th>\n    </tr>\n  </thead>\n  <tbody>\n    <tr>\n      <th>1</th>\n      <td>5.683959</td>\n      <td>0.292893</td>\n      <td>0.114415</td>\n      <td>0.32143</td>\n      <td>0.350007</td>\n      <td>0.844991</td>\n      <td></td>\n    </tr>\n    <tr>\n      <th>2</th>\n      <td>3.294385</td>\n      <td>0.169759</td>\n      <td>0.072523</td>\n      <td>0.20374</td>\n      <td>0.100462</td>\n      <td>0.242537</td>\n      <td></td>\n    </tr>\n    <tr>\n      <th>3</th>\n      <td>1.430378</td>\n      <td>0.073707</td>\n      <td>0.031478</td>\n      <td>0.088431</td>\n      <td>0.058353</td>\n      <td>0.140876</td>\n      <td>0.408313</td>\n    </tr>\n    <tr>\n      <th>4</th>\n      <td>0.837896</td>\n      <td>0.043177</td>\n      <td>0.015824</td>\n      <td>0.044454</td>\n      <td>0.026015</td>\n      <td>0.062805</td>\n      <td>0.508873</td>\n    </tr>\n    <tr>\n      <th>5</th>\n      <td>0.041904</td>\n      <td>0.002159</td>\n      <td>0.001068</td>\n      <td>0.003001</td>\n      <td>0.015338</td>\n      <td>0.03703</td>\n      <td>0.512695</td>\n    </tr>\n    <tr>\n      <th>6</th>\n      <td>0.024547</td>\n      <td>0.001265</td>\n      <td>0.000542</td>\n      <td>0.001524</td>\n      <td>0.00075</td>\n      <td>0.001811</td>\n      <td>0.169828</td>\n    </tr>\n    <tr>\n      <th>7</th>\n      <td>0.004205</td>\n      <td>0.000217</td>\n      <td>0.000093</td>\n      <td>0.000262</td>\n      <td>0.000449</td>\n      <td>0.001085</td>\n      <td>0.171159</td>\n    </tr>\n    <tr>\n      <th>8</th>\n      <td>0.000711</td>\n      <td>0.000037</td>\n      <td>0.000016</td>\n      <td>0.000045</td>\n      <td>0.000077</td>\n      <td>0.000186</td>\n      <td>0.320297</td>\n    </tr>\n    <tr>\n      <th>9</th>\n      <td>0.000123</td>\n      <td>0.000006</td>\n      <td>0.000003</td>\n      <td>0.000009</td>\n      <td>0.000013</td>\n      <td>0.000031</td>\n      <td>0.17025</td>\n    </tr>\n    <tr>\n      <th></th>\n      <td>min_iters:</td>\n      <td>29.317424</td>\n      <td></td>\n      <td>method:</td>\n      <td>over-relaxation</td>\n      <td></td>\n      <td></td>\n    </tr>\n  </tbody>\n</table>\n</div>"
     },
     "execution_count": 21,
     "metadata": {},
     "output_type": "execute_result"
    }
   ],
   "source": [
    "iter_summary = solver.solve(U, method = 'over-relaxation', U_expected = U_expected, F = F)\n",
    "solU_or = iter_summary['solution']\n",
    "iter_summary['output'][::]"
   ],
   "metadata": {
    "collapsed": false,
    "pycharm": {
     "name": "#%%\n"
    }
   }
  },
  {
   "cell_type": "code",
   "execution_count": 10,
   "outputs": [],
   "source": [],
   "metadata": {
    "collapsed": false,
    "pycharm": {
     "name": "#%%\n"
    }
   }
  },
  {
   "cell_type": "code",
   "execution_count": 10,
   "outputs": [],
   "source": [],
   "metadata": {
    "collapsed": false,
    "pycharm": {
     "name": "#%%\n"
    }
   }
  }
 ],
 "metadata": {
  "kernelspec": {
   "display_name": "Python 3",
   "language": "python",
   "name": "python3"
  },
  "language_info": {
   "codemirror_mode": {
    "name": "ipython",
    "version": 2
   },
   "file_extension": ".py",
   "mimetype": "text/x-python",
   "name": "python",
   "nbconvert_exporter": "python",
   "pygments_lexer": "ipython2",
   "version": "2.7.6"
  }
 },
 "nbformat": 4,
 "nbformat_minor": 0
}