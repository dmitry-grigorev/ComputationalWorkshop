{
 "cells": [
  {
   "cell_type": "code",
   "execution_count": 1,
   "metadata": {
    "collapsed": true
   },
   "outputs": [],
   "source": [
    "import numpy as np\n",
    "import pandas as pd\n",
    "np.set_printoptions(precision=6, suppress=True)"
   ]
  },
  {
   "cell_type": "markdown",
   "source": [
    "# Решение задачи Дирихле:\n",
    "## Известно, что $u(x,y) = 2x^3y^3$\n",
    "## Оно является решением задачи Дирихле:\n",
    "### $\\frac{\\partial^2 u}{\\partial x^2} + \\frac{\\partial^2 u}{\\partial y^2} = -(\\underbrace{-12xy(x^2+y^2)}_{f(x,y)})$\n",
    "### $u(0,y) \\equiv 0$\n",
    "### $u(1,y) = 2y^3$\n",
    "### $u(x,0) \\equiv 0$\n",
    "### $u(x,1) = 2x^3$"
   ],
   "metadata": {
    "collapsed": false,
    "pycharm": {
     "name": "#%% md\n"
    }
   }
  },
  {
   "cell_type": "code",
   "execution_count": 2,
   "outputs": [],
   "source": [
    "N = 6\n",
    "a_x = 0\n",
    "b_x = 1\n",
    "a_y = 0\n",
    "b_y = 1\n",
    "h = (b_x-a_x)/(N - 1) # ширина сетки вместе с граничными узлами\n",
    "iN = N - 2 # ширина сетки без граничных узлов\n",
    "\n",
    "f = lambda x,y: -12*x*y*(x*x+y*y)\n",
    "u1y = lambda y: 2*y**3\n",
    "ux1 = lambda x: 2*x**3\n",
    "u_expected = lambda x,y: 2*x**3*y**3"
   ],
   "metadata": {
    "collapsed": false,
    "pycharm": {
     "name": "#%%\n"
    }
   }
  },
  {
   "cell_type": "markdown",
   "source": [
    "### Задаём начальное приближение с помощью начальных данных"
   ],
   "metadata": {
    "collapsed": false,
    "pycharm": {
     "name": "#%% md\n"
    }
   }
  },
  {
   "cell_type": "code",
   "execution_count": 3,
   "outputs": [],
   "source": [
    "def init_U(N):\n",
    "    U = np.zeros(shape = (N, N))\n",
    "    for i in range(N):\n",
    "        U[i, N - 1] = ux1(i*h)\n",
    "    for j in range(N):\n",
    "        U[N - 1, j] = u1y(j*h)\n",
    "    return U\n",
    "\n",
    "def build_init_expected_and_F(N, h, u_expected, ux1, u1y, f):\n",
    "    U = init_U(N)\n",
    "\n",
    "    U_expected = U.copy() # задаём границы\n",
    "    U_expected[1:N-1,1:N-1] = np.array([[u_expected(i*h,j*h) for j in range(1, N-1)] for i in range(1, N-1)])\n",
    "    F = np.array([[f(i*h, j*h) for j in range(1, N-1)] for i in range(1,N-1)])\n",
    "    return {'init': U, 'expected': U_expected, 'F': F}"
   ],
   "metadata": {
    "collapsed": false,
    "pycharm": {
     "name": "#%%\n"
    }
   }
  },
  {
   "cell_type": "code",
   "execution_count": 4,
   "outputs": [],
   "source": [
    "class DESolver:\n",
    "    def __init__(self, grid_step, N, eps = 1e-5):\n",
    "        self.h = grid_step\n",
    "        self.methods = {'iteration': self.iteration_method_iter,\n",
    "                        'seidel': self.seidel_method_iter,\n",
    "                        'over-relaxation': self.overrelaxation_method_iter}\n",
    "        self.methods_params = {'iteration'      : {'min_iters': 2*np.log(1/eps)/(np.pi*h)**2,\n",
    "                                                'spectral_rad': np.cos(np.pi * h)},\n",
    "                               'seidel'         : {'min_iters': np.log(1/eps)/(np.pi*h)**2,\n",
    "                                                'spectral_rad': np.cos(np.pi * h)**2},\n",
    "                               'over-relaxation': {'min_iters': 2*np.log(1/eps)/(np.pi*h),\n",
    "                                                'spectral_rad': np.cos(np.pi * h),\n",
    "                                                'opt_parameter': 2/(1 + np.sin(np.pi * h))}}\n",
    "        self.N = N\n",
    "        self.iN = N - 2\n",
    "        C = np.matrix([[4, -1] + (N-2)*[0]] +\n",
    "              [ k*[0] + [-1, 4, -1] + (N - 3 - k)*[0] for k in range(0, N - 2)] +\n",
    "              [(N-2)*[0] + [-1, 4]], dtype=float)\n",
    "        self.mmatrix = np.block([[C, -np.eye(N = N)] + (N-2)*[np.zeros( shape = (N, N) )]] +\n",
    "              [ k*[np.zeros( shape = (N, N) )] + [-np.eye(N = N), C, -np.eye(N = N)] + (N - 3 - k)*[np.zeros( shape = (N, N) )] for k in range(0, N - 2)] +\n",
    "              [(N-2)*[np.zeros( shape = (N, N) )] + [-np.eye(N = N), C]]) / grid_step**2\n",
    "        self.lastsol = np.zeros(shape = (N, N))\n",
    "        self.iter_diffs = np.zeros(shape = 3) # Хранит разницу приближений последних трёх итераций\n",
    "\n",
    "    def __method_iter(self, U_curr, F, method_name, method_params):\n",
    "        return self.methods[method_name](U_curr, F, params = method_params)\n",
    "\n",
    "    def iteration_method_iter(self, U, F, params = None):\n",
    "        for i in range(1, self.iN+1):\n",
    "            for j in range(1, self.iN+1):\n",
    "               self.lastsol[i, j] = 0.25*(U[i-1, j]+U[i+1,j]+U[i, j-1]+U[i, j+1]+F[i-1,j-1]*self.h**2)\n",
    "        return self.lastsol\n",
    "\n",
    "    def seidel_method_iter(self, U, F,params = None):\n",
    "        for k in range(1, self.iN+1):\n",
    "            for i in range(k, self.iN+1):\n",
    "                self.lastsol[i, k] = 0.25*(self.lastsol[i-1, k]+U[i+1,k]+self.lastsol[i, k-1]+U[i, k+1]+F[i-1,k-1]*self.h**2)\n",
    "            for j in range(k+1, self.iN+1):\n",
    "                self.lastsol[k, j] = 0.25*(self.lastsol[k-1, j]+U[k+1,j]+self.lastsol[k, j-1]+U[k, j+1]+F[k-1,j-1]*self.h**2)\n",
    "        return self.lastsol\n",
    "\n",
    "    def overrelaxation_method_iter(self, U, F,params):\n",
    "            for k in range(1, self.iN+1):\n",
    "                for i in range(k, self.iN+1):\n",
    "                    self.lastsol[i, k] = (1-params['opt'])*U[i,k] + 0.25*params['opt']*(self.lastsol[i-1, k]+U[i+1,k]+self.lastsol[i, k-1]+U[i, k+1]+F[i-1,k-1]*self.h**2)\n",
    "                for j in range(k+1, self.iN+1):\n",
    "                    self.lastsol[k, j] = (1-params['opt'])*U[k,j] + 0.25*params['opt']*(self.lastsol[k-1, j]+U[k+1,j]+self.lastsol[k, j-1]+U[k, j+1]+F[k-1,j-1]*self.h**2)\n",
    "            return self.lastsol\n",
    "\n",
    "    def __calculate_props(self, U, U_expected, F, iter, init_error, init_discrepancy, apost_est_coef):\n",
    "        iter_diff = np.max(np.abs(U - self.lastsol))\n",
    "        self.iter_diffs[iter % 3] = iter_diff\n",
    "        apost_est = apost_est_coef * iter_diff\n",
    "        spec_rad_est = ' ' if iter < 2 else np.sqrt(self.iter_diffs[iter % 3]/ self.iter_diffs[(iter - 2) % 3] )\n",
    "\n",
    "        U_reshaped = np.reshape(self.lastsol, newshape=(self.N**2, 1)) # преобразуем матрицу сетки к вектору\n",
    "        AU = self.mmatrix @ U_reshaped\n",
    "        AU_reshaped_cut = np.reshape(AU, newshape=(self.N, self.N))[1:self.iN+1, 1:self.iN+1]\n",
    "\n",
    "        error = np.max(np.abs(self.lastsol - U_expected))\n",
    "        discrepancy = np.max(np.abs(AU_reshaped_cut - F))\n",
    "        rel_discrepancy = discrepancy / init_discrepancy\n",
    "        rel_error = error / init_error\n",
    "\n",
    "        return [iter + 1, discrepancy, rel_discrepancy,\n",
    "                             error, rel_error, iter_diff, apost_est, spec_rad_est]\n",
    "\n",
    "    def solve(self, U_init, U_expected, F, eps = 1e-5, method = 'iteration', method_parameters = None):\n",
    "        if method not in ['iteration', 'seidel', 'over-relaxation']:\n",
    "            return None\n",
    "        else:\n",
    "            self.iter_diffs = np.zeros(shape = 3)\n",
    "            if method_parameters is None and method == 'over-relaxation':\n",
    "                method_parameters = {'opt': self.methods_params['over-relaxation']['opt_parameter']}\n",
    "\n",
    "        apost_est_coef = self.methods_params[method]['spectral_rad']/ (1 - self.methods_params[method]['spectral_rad'])\n",
    "        init_error = np.max(np.abs(U_init - U_expected))\n",
    "        U = U_init.copy()\n",
    "        self.lastsol = U.copy()\n",
    "\n",
    "        U_reshaped = np.reshape(U, newshape=(self.N**2, 1)) # преобразуем матрицу сетки к вектору\n",
    "        AU = self.mmatrix@U_reshaped\n",
    "        AU_reshaped_cut = np.reshape(AU, newshape=(self.N, self.N))[1:self.iN+1, 1:self.iN+1]\n",
    "\n",
    "        init_discrepancy = np.max(np.abs(AU_reshaped_cut - F))\n",
    "        output_list = list()\n",
    "        iter = 0\n",
    "        rel_discrepancy = 1\n",
    "        rel_error = 1\n",
    "\n",
    "        while rel_discrepancy > eps and iter < self.methods_params[method]['min_iters']:\n",
    "            U_new = self.__method_iter(U, F, method, method_parameters)\n",
    "\n",
    "            curr_iter_props = self.__calculate_props(U, U_expected, F, iter, init_error, init_discrepancy, apost_est_coef)\n",
    "            output_list+=[ curr_iter_props ]\n",
    "\n",
    "            U = U_new.copy()\n",
    "            rel_discrepancy = curr_iter_props[2]\n",
    "            rel_error = curr_iter_props[4]\n",
    "            iter+=1\n",
    "\n",
    "        output_list += [[' ', 'min_iters:', self.methods_params[method]['min_iters'], ' ', ' method:', method, ' ', ' ']]\n",
    "        return {'solution': self.lastsol ,'output': pd.DataFrame(data = output_list,\n",
    "                                                      columns = ['k', 'Curr. discr.', 'Rel. discr.', 'Curr. error', 'Rel. error', '$ \\lVert U_k - U_{k-1} \\rVert $', 'Apost. est.', '$\\hat{\\rho}_k$']).set_index(keys = 'k')}\n"
   ],
   "metadata": {
    "collapsed": false,
    "pycharm": {
     "name": "#%%\n"
    }
   }
  },
  {
   "cell_type": "code",
   "execution_count": 5,
   "outputs": [],
   "source": [
    "solver = DESolver(h, N)\n",
    "initials = build_init_expected_and_F(N, h, u_expected,ux1, u1y, f)\n",
    "U_init = initials['init']\n",
    "U_expected = initials['expected']\n",
    "F = initials['F']"
   ],
   "metadata": {
    "collapsed": false,
    "pycharm": {
     "name": "#%%\n"
    }
   }
  },
  {
   "cell_type": "markdown",
   "source": [
    "### Решение методом простой итерации"
   ],
   "metadata": {
    "collapsed": false,
    "pycharm": {
     "name": "#%% md\n"
    }
   }
  },
  {
   "cell_type": "code",
   "execution_count": 6,
   "outputs": [
    {
     "data": {
      "text/plain": "   Curr. discr.  Rel. discr. Curr. error Rel. error  \\\nk                                                     \n1        9.5968     0.231977    0.170784   0.325745   \n2        4.7984     0.115989    0.106704   0.203522   \n3        2.7964     0.067596    0.063936   0.121948   \n4        2.0665     0.049952    0.056577   0.107912   \n5       1.15175     0.027840    0.035912   0.068497   \n6      1.087919     0.026298    0.032529   0.062045   \n7      0.681805     0.016481    0.022969   0.043809   \n8      0.628675     0.015197     0.01988   0.037919   \n9      0.447178     0.010809    0.015044   0.028694   \n10     0.385523     0.009319    0.012573    0.02398   \n11      0.29276     0.007077    0.009847   0.018782   \n12     0.244239     0.005904    0.008092   0.015434   \n13     0.191621     0.004632    0.006445   0.012293   \n14     0.157332     0.003803    0.005253    0.01002   \n15     0.125418     0.003032    0.004218   0.008046   \n16     0.102186     0.002470    0.003425   0.006533   \n17     0.082087     0.001984    0.002761   0.005266   \n18     0.066635     0.001611    0.002238   0.004268   \n19     0.053727     0.001299    0.001807   0.003447   \n20     0.043536     0.001052    0.001463   0.002791   \n21     0.035165     0.000850    0.001183   0.002256   \n22     0.028471     0.000688    0.000957   0.001826   \n23     0.023016     0.000556    0.000774   0.001477   \n24     0.018627     0.000450    0.000626   0.001195   \n25     0.015064     0.000364    0.000507   0.000966   \n26     0.012189     0.000295     0.00041   0.000782   \n27     0.009859     0.000238    0.000332   0.000633   \n28     0.007977     0.000193    0.000268   0.000512   \n29     0.006453     0.000156    0.000217   0.000414   \n30     0.005221     0.000126    0.000176   0.000335   \n31     0.004224     0.000102    0.000142   0.000271   \n32     0.003417     0.000083    0.000115   0.000219   \n33     0.002764     0.000067    0.000093   0.000177   \n34     0.002236     0.000054    0.000075   0.000143   \n35     0.001809     0.000044    0.000061   0.000116   \n36     0.001464     0.000035    0.000049   0.000094   \n37     0.001184     0.000029     0.00004   0.000076   \n38     0.000958     0.000023    0.000032   0.000061   \n39     0.000775     0.000019    0.000026    0.00005   \n40     0.000627     0.000015    0.000021    0.00004   \n41     0.000507     0.000012    0.000017   0.000033   \n42      0.00041     0.000010    0.000014   0.000026   \n     min_iters:    58.325162                method:   \n\n   $ \\lVert U_k - U_{k-1} \\rVert $ Apost. est. $\\hat{\\rho}_k$  \nk                                                              \n1                         0.413696    1.752444                 \n2                         0.095968    0.406527                 \n3                         0.047984    0.203263       0.340571  \n4                         0.027964    0.118457       0.539804  \n5                         0.020665    0.087538        0.65625  \n6                         0.011518    0.048789        0.64177  \n7                         0.010879    0.046085       0.725572  \n8                         0.006818    0.028882       0.769398  \n9                         0.006287    0.026631       0.760177  \n10                        0.004472    0.018943        0.80986  \n11                        0.003855    0.016331       0.783091  \n12                        0.002928    0.012402       0.809125  \n13                        0.002442    0.010346       0.795944  \n14                        0.001916    0.008117       0.809031  \n15                        0.001573    0.006665       0.802602  \n16                        0.001254    0.005313       0.809019  \n17                        0.001022    0.004329       0.805912  \n18                        0.000821    0.003477       0.809017  \n19                        0.000666    0.002823       0.807525  \n20                        0.000537    0.002276       0.809017  \n21                        0.000435    0.001844       0.808302  \n22                        0.000352     0.00149       0.809017  \n23                        0.000285    0.001206       0.808675  \n24                         0.00023    0.000975       0.809017  \n25                        0.000186    0.000789       0.808854  \n26                        0.000151    0.000638       0.809017  \n27                        0.000122    0.000516       0.808939  \n28                        0.000099    0.000418       0.809017  \n29                         0.00008    0.000338        0.80898  \n30                        0.000065    0.000273       0.809017  \n31                        0.000052    0.000221       0.808999  \n32                        0.000042    0.000179       0.809017  \n33                        0.000034    0.000145       0.809009  \n34                        0.000028    0.000117       0.809017  \n35                        0.000022    0.000095       0.809013  \n36                        0.000018    0.000077       0.809017  \n37                        0.000015    0.000062       0.809015  \n38                        0.000012     0.00005       0.809017  \n39                         0.00001    0.000041       0.809016  \n40                        0.000008    0.000033       0.809017  \n41                        0.000006    0.000027       0.809017  \n42                        0.000005    0.000021       0.809017  \n                         iteration                             ",
      "text/html": "<div>\n<style scoped>\n    .dataframe tbody tr th:only-of-type {\n        vertical-align: middle;\n    }\n\n    .dataframe tbody tr th {\n        vertical-align: top;\n    }\n\n    .dataframe thead th {\n        text-align: right;\n    }\n</style>\n<table border=\"1\" class=\"dataframe\">\n  <thead>\n    <tr style=\"text-align: right;\">\n      <th></th>\n      <th>Curr. discr.</th>\n      <th>Rel. discr.</th>\n      <th>Curr. error</th>\n      <th>Rel. error</th>\n      <th>$ \\lVert U_k - U_{k-1} \\rVert $</th>\n      <th>Apost. est.</th>\n      <th>$\\hat{\\rho}_k$</th>\n    </tr>\n    <tr>\n      <th>k</th>\n      <th></th>\n      <th></th>\n      <th></th>\n      <th></th>\n      <th></th>\n      <th></th>\n      <th></th>\n    </tr>\n  </thead>\n  <tbody>\n    <tr>\n      <th>1</th>\n      <td>9.5968</td>\n      <td>0.231977</td>\n      <td>0.170784</td>\n      <td>0.325745</td>\n      <td>0.413696</td>\n      <td>1.752444</td>\n      <td></td>\n    </tr>\n    <tr>\n      <th>2</th>\n      <td>4.7984</td>\n      <td>0.115989</td>\n      <td>0.106704</td>\n      <td>0.203522</td>\n      <td>0.095968</td>\n      <td>0.406527</td>\n      <td></td>\n    </tr>\n    <tr>\n      <th>3</th>\n      <td>2.7964</td>\n      <td>0.067596</td>\n      <td>0.063936</td>\n      <td>0.121948</td>\n      <td>0.047984</td>\n      <td>0.203263</td>\n      <td>0.340571</td>\n    </tr>\n    <tr>\n      <th>4</th>\n      <td>2.0665</td>\n      <td>0.049952</td>\n      <td>0.056577</td>\n      <td>0.107912</td>\n      <td>0.027964</td>\n      <td>0.118457</td>\n      <td>0.539804</td>\n    </tr>\n    <tr>\n      <th>5</th>\n      <td>1.15175</td>\n      <td>0.027840</td>\n      <td>0.035912</td>\n      <td>0.068497</td>\n      <td>0.020665</td>\n      <td>0.087538</td>\n      <td>0.65625</td>\n    </tr>\n    <tr>\n      <th>6</th>\n      <td>1.087919</td>\n      <td>0.026298</td>\n      <td>0.032529</td>\n      <td>0.062045</td>\n      <td>0.011518</td>\n      <td>0.048789</td>\n      <td>0.64177</td>\n    </tr>\n    <tr>\n      <th>7</th>\n      <td>0.681805</td>\n      <td>0.016481</td>\n      <td>0.022969</td>\n      <td>0.043809</td>\n      <td>0.010879</td>\n      <td>0.046085</td>\n      <td>0.725572</td>\n    </tr>\n    <tr>\n      <th>8</th>\n      <td>0.628675</td>\n      <td>0.015197</td>\n      <td>0.01988</td>\n      <td>0.037919</td>\n      <td>0.006818</td>\n      <td>0.028882</td>\n      <td>0.769398</td>\n    </tr>\n    <tr>\n      <th>9</th>\n      <td>0.447178</td>\n      <td>0.010809</td>\n      <td>0.015044</td>\n      <td>0.028694</td>\n      <td>0.006287</td>\n      <td>0.026631</td>\n      <td>0.760177</td>\n    </tr>\n    <tr>\n      <th>10</th>\n      <td>0.385523</td>\n      <td>0.009319</td>\n      <td>0.012573</td>\n      <td>0.02398</td>\n      <td>0.004472</td>\n      <td>0.018943</td>\n      <td>0.80986</td>\n    </tr>\n    <tr>\n      <th>11</th>\n      <td>0.29276</td>\n      <td>0.007077</td>\n      <td>0.009847</td>\n      <td>0.018782</td>\n      <td>0.003855</td>\n      <td>0.016331</td>\n      <td>0.783091</td>\n    </tr>\n    <tr>\n      <th>12</th>\n      <td>0.244239</td>\n      <td>0.005904</td>\n      <td>0.008092</td>\n      <td>0.015434</td>\n      <td>0.002928</td>\n      <td>0.012402</td>\n      <td>0.809125</td>\n    </tr>\n    <tr>\n      <th>13</th>\n      <td>0.191621</td>\n      <td>0.004632</td>\n      <td>0.006445</td>\n      <td>0.012293</td>\n      <td>0.002442</td>\n      <td>0.010346</td>\n      <td>0.795944</td>\n    </tr>\n    <tr>\n      <th>14</th>\n      <td>0.157332</td>\n      <td>0.003803</td>\n      <td>0.005253</td>\n      <td>0.01002</td>\n      <td>0.001916</td>\n      <td>0.008117</td>\n      <td>0.809031</td>\n    </tr>\n    <tr>\n      <th>15</th>\n      <td>0.125418</td>\n      <td>0.003032</td>\n      <td>0.004218</td>\n      <td>0.008046</td>\n      <td>0.001573</td>\n      <td>0.006665</td>\n      <td>0.802602</td>\n    </tr>\n    <tr>\n      <th>16</th>\n      <td>0.102186</td>\n      <td>0.002470</td>\n      <td>0.003425</td>\n      <td>0.006533</td>\n      <td>0.001254</td>\n      <td>0.005313</td>\n      <td>0.809019</td>\n    </tr>\n    <tr>\n      <th>17</th>\n      <td>0.082087</td>\n      <td>0.001984</td>\n      <td>0.002761</td>\n      <td>0.005266</td>\n      <td>0.001022</td>\n      <td>0.004329</td>\n      <td>0.805912</td>\n    </tr>\n    <tr>\n      <th>18</th>\n      <td>0.066635</td>\n      <td>0.001611</td>\n      <td>0.002238</td>\n      <td>0.004268</td>\n      <td>0.000821</td>\n      <td>0.003477</td>\n      <td>0.809017</td>\n    </tr>\n    <tr>\n      <th>19</th>\n      <td>0.053727</td>\n      <td>0.001299</td>\n      <td>0.001807</td>\n      <td>0.003447</td>\n      <td>0.000666</td>\n      <td>0.002823</td>\n      <td>0.807525</td>\n    </tr>\n    <tr>\n      <th>20</th>\n      <td>0.043536</td>\n      <td>0.001052</td>\n      <td>0.001463</td>\n      <td>0.002791</td>\n      <td>0.000537</td>\n      <td>0.002276</td>\n      <td>0.809017</td>\n    </tr>\n    <tr>\n      <th>21</th>\n      <td>0.035165</td>\n      <td>0.000850</td>\n      <td>0.001183</td>\n      <td>0.002256</td>\n      <td>0.000435</td>\n      <td>0.001844</td>\n      <td>0.808302</td>\n    </tr>\n    <tr>\n      <th>22</th>\n      <td>0.028471</td>\n      <td>0.000688</td>\n      <td>0.000957</td>\n      <td>0.001826</td>\n      <td>0.000352</td>\n      <td>0.00149</td>\n      <td>0.809017</td>\n    </tr>\n    <tr>\n      <th>23</th>\n      <td>0.023016</td>\n      <td>0.000556</td>\n      <td>0.000774</td>\n      <td>0.001477</td>\n      <td>0.000285</td>\n      <td>0.001206</td>\n      <td>0.808675</td>\n    </tr>\n    <tr>\n      <th>24</th>\n      <td>0.018627</td>\n      <td>0.000450</td>\n      <td>0.000626</td>\n      <td>0.001195</td>\n      <td>0.00023</td>\n      <td>0.000975</td>\n      <td>0.809017</td>\n    </tr>\n    <tr>\n      <th>25</th>\n      <td>0.015064</td>\n      <td>0.000364</td>\n      <td>0.000507</td>\n      <td>0.000966</td>\n      <td>0.000186</td>\n      <td>0.000789</td>\n      <td>0.808854</td>\n    </tr>\n    <tr>\n      <th>26</th>\n      <td>0.012189</td>\n      <td>0.000295</td>\n      <td>0.00041</td>\n      <td>0.000782</td>\n      <td>0.000151</td>\n      <td>0.000638</td>\n      <td>0.809017</td>\n    </tr>\n    <tr>\n      <th>27</th>\n      <td>0.009859</td>\n      <td>0.000238</td>\n      <td>0.000332</td>\n      <td>0.000633</td>\n      <td>0.000122</td>\n      <td>0.000516</td>\n      <td>0.808939</td>\n    </tr>\n    <tr>\n      <th>28</th>\n      <td>0.007977</td>\n      <td>0.000193</td>\n      <td>0.000268</td>\n      <td>0.000512</td>\n      <td>0.000099</td>\n      <td>0.000418</td>\n      <td>0.809017</td>\n    </tr>\n    <tr>\n      <th>29</th>\n      <td>0.006453</td>\n      <td>0.000156</td>\n      <td>0.000217</td>\n      <td>0.000414</td>\n      <td>0.00008</td>\n      <td>0.000338</td>\n      <td>0.80898</td>\n    </tr>\n    <tr>\n      <th>30</th>\n      <td>0.005221</td>\n      <td>0.000126</td>\n      <td>0.000176</td>\n      <td>0.000335</td>\n      <td>0.000065</td>\n      <td>0.000273</td>\n      <td>0.809017</td>\n    </tr>\n    <tr>\n      <th>31</th>\n      <td>0.004224</td>\n      <td>0.000102</td>\n      <td>0.000142</td>\n      <td>0.000271</td>\n      <td>0.000052</td>\n      <td>0.000221</td>\n      <td>0.808999</td>\n    </tr>\n    <tr>\n      <th>32</th>\n      <td>0.003417</td>\n      <td>0.000083</td>\n      <td>0.000115</td>\n      <td>0.000219</td>\n      <td>0.000042</td>\n      <td>0.000179</td>\n      <td>0.809017</td>\n    </tr>\n    <tr>\n      <th>33</th>\n      <td>0.002764</td>\n      <td>0.000067</td>\n      <td>0.000093</td>\n      <td>0.000177</td>\n      <td>0.000034</td>\n      <td>0.000145</td>\n      <td>0.809009</td>\n    </tr>\n    <tr>\n      <th>34</th>\n      <td>0.002236</td>\n      <td>0.000054</td>\n      <td>0.000075</td>\n      <td>0.000143</td>\n      <td>0.000028</td>\n      <td>0.000117</td>\n      <td>0.809017</td>\n    </tr>\n    <tr>\n      <th>35</th>\n      <td>0.001809</td>\n      <td>0.000044</td>\n      <td>0.000061</td>\n      <td>0.000116</td>\n      <td>0.000022</td>\n      <td>0.000095</td>\n      <td>0.809013</td>\n    </tr>\n    <tr>\n      <th>36</th>\n      <td>0.001464</td>\n      <td>0.000035</td>\n      <td>0.000049</td>\n      <td>0.000094</td>\n      <td>0.000018</td>\n      <td>0.000077</td>\n      <td>0.809017</td>\n    </tr>\n    <tr>\n      <th>37</th>\n      <td>0.001184</td>\n      <td>0.000029</td>\n      <td>0.00004</td>\n      <td>0.000076</td>\n      <td>0.000015</td>\n      <td>0.000062</td>\n      <td>0.809015</td>\n    </tr>\n    <tr>\n      <th>38</th>\n      <td>0.000958</td>\n      <td>0.000023</td>\n      <td>0.000032</td>\n      <td>0.000061</td>\n      <td>0.000012</td>\n      <td>0.00005</td>\n      <td>0.809017</td>\n    </tr>\n    <tr>\n      <th>39</th>\n      <td>0.000775</td>\n      <td>0.000019</td>\n      <td>0.000026</td>\n      <td>0.00005</td>\n      <td>0.00001</td>\n      <td>0.000041</td>\n      <td>0.809016</td>\n    </tr>\n    <tr>\n      <th>40</th>\n      <td>0.000627</td>\n      <td>0.000015</td>\n      <td>0.000021</td>\n      <td>0.00004</td>\n      <td>0.000008</td>\n      <td>0.000033</td>\n      <td>0.809017</td>\n    </tr>\n    <tr>\n      <th>41</th>\n      <td>0.000507</td>\n      <td>0.000012</td>\n      <td>0.000017</td>\n      <td>0.000033</td>\n      <td>0.000006</td>\n      <td>0.000027</td>\n      <td>0.809017</td>\n    </tr>\n    <tr>\n      <th>42</th>\n      <td>0.00041</td>\n      <td>0.000010</td>\n      <td>0.000014</td>\n      <td>0.000026</td>\n      <td>0.000005</td>\n      <td>0.000021</td>\n      <td>0.809017</td>\n    </tr>\n    <tr>\n      <th></th>\n      <td>min_iters:</td>\n      <td>58.325162</td>\n      <td></td>\n      <td>method:</td>\n      <td>iteration</td>\n      <td></td>\n      <td></td>\n    </tr>\n  </tbody>\n</table>\n</div>"
     },
     "execution_count": 6,
     "metadata": {},
     "output_type": "execute_result"
    }
   ],
   "source": [
    "iter_summary = solver.solve(U_init, method = 'iteration', U_expected = U_expected, F = F)\n",
    "solU_i = iter_summary['solution']\n",
    "iter_summary['output'][::]"
   ],
   "metadata": {
    "collapsed": false,
    "pycharm": {
     "name": "#%%\n"
    }
   }
  },
  {
   "cell_type": "code",
   "execution_count": 7,
   "outputs": [
    {
     "name": "stdout",
     "output_type": "stream",
     "text": [
      "[[0.       0.       0.       0.       0.       0.      ]\n",
      " [0.       0.000128 0.001024 0.003456 0.008192 0.016   ]\n",
      " [0.       0.001024 0.008192 0.027648 0.065536 0.128   ]\n",
      " [0.       0.003456 0.027648 0.093312 0.221184 0.432   ]\n",
      " [0.       0.008192 0.065536 0.221184 0.524288 1.024   ]\n",
      " [0.       0.016    0.128    0.432    1.024    2.      ]]\n",
      "[[0.       0.       0.       0.       0.       0.      ]\n",
      " [0.       0.000123 0.001017 0.003447 0.008187 0.016   ]\n",
      " [0.       0.001017 0.008178 0.027636 0.065527 0.128   ]\n",
      " [0.       0.003447 0.027636 0.093298 0.221177 0.432   ]\n",
      " [0.       0.008187 0.065527 0.221177 0.524283 1.024   ]\n",
      " [0.       0.016    0.128    0.432    1.024    2.      ]]\n"
     ]
    }
   ],
   "source": [
    "print(U_expected)\n",
    "print(solU_i)"
   ],
   "metadata": {
    "collapsed": false,
    "pycharm": {
     "name": "#%%\n"
    }
   }
  },
  {
   "cell_type": "markdown",
   "source": [
    "### Решение методом Зейделя"
   ],
   "metadata": {
    "collapsed": false
   }
  },
  {
   "cell_type": "code",
   "execution_count": 8,
   "outputs": [
    {
     "data": {
      "text/plain": "   Curr. discr.  Rel. discr. Curr. error Rel. error  \\\nk                                                     \n1     10.827941     0.261737    0.182341   0.347787   \n2      5.613984     0.135703    0.122326   0.233319   \n3      2.097935     0.050712    0.066318   0.126491   \n4      1.072662     0.025929     0.04259   0.081234   \n5      0.729314     0.017629    0.030495   0.058164   \n6      0.483226     0.011681    0.021372   0.040765   \n7      0.316756     0.007657    0.014432   0.027526   \n8       0.20736     0.005012    0.009585   0.018281   \n9      0.135723     0.003281    0.006317   0.012048   \n10     0.088832     0.002147    0.004148   0.007911   \n11     0.058141     0.001405    0.002719   0.005186   \n12     0.038054     0.000920    0.001781   0.003397   \n13     0.024907     0.000602    0.001166   0.002224   \n14     0.016302     0.000394    0.000763   0.001456   \n15      0.01067     0.000258      0.0005   0.000953   \n16     0.006983     0.000169    0.000327   0.000624   \n17     0.004571     0.000110    0.000214   0.000408   \n18     0.002992     0.000072     0.00014   0.000267   \n19     0.001958     0.000047    0.000092   0.000175   \n20     0.001282     0.000031     0.00006   0.000114   \n21     0.000839     0.000020    0.000039   0.000075   \n22     0.000549     0.000013    0.000026   0.000049   \n23     0.000359     0.000009    0.000017   0.000032   \n     min_iters:    29.162581                method:   \n\n   $ \\lVert U_k - U_{k-1} \\rVert $ Apost. est. $\\hat{\\rho}_k$  \nk                                                              \n1                         0.433118     0.82051                 \n2                          0.11228    0.212706                 \n3                         0.056008    0.106104       0.359604  \n4                         0.027499    0.052096       0.494892  \n5                         0.014845    0.028122       0.514827  \n6                         0.009665    0.018309       0.592828  \n7                         0.006941    0.013148       0.683769  \n8                         0.004847    0.009183       0.708201  \n9                         0.003268    0.006191       0.686186  \n10                        0.002169    0.004109       0.668897  \n11                        0.001429    0.002707       0.661222  \n12                        0.000938    0.001777       0.657679  \n13                        0.000615    0.001165       0.656015  \n14                        0.000403    0.000763       0.655226  \n15                        0.000264      0.0005       0.654851  \n16                        0.000173    0.000327       0.654672  \n17                        0.000113    0.000214       0.654586  \n18                        0.000074     0.00014       0.654546  \n19                        0.000048    0.000092       0.654526  \n20                        0.000032     0.00006       0.654517  \n21                        0.000021    0.000039       0.654513  \n22                        0.000014    0.000026        0.65451  \n23                        0.000009    0.000017       0.654509  \n                            seidel                             ",
      "text/html": "<div>\n<style scoped>\n    .dataframe tbody tr th:only-of-type {\n        vertical-align: middle;\n    }\n\n    .dataframe tbody tr th {\n        vertical-align: top;\n    }\n\n    .dataframe thead th {\n        text-align: right;\n    }\n</style>\n<table border=\"1\" class=\"dataframe\">\n  <thead>\n    <tr style=\"text-align: right;\">\n      <th></th>\n      <th>Curr. discr.</th>\n      <th>Rel. discr.</th>\n      <th>Curr. error</th>\n      <th>Rel. error</th>\n      <th>$ \\lVert U_k - U_{k-1} \\rVert $</th>\n      <th>Apost. est.</th>\n      <th>$\\hat{\\rho}_k$</th>\n    </tr>\n    <tr>\n      <th>k</th>\n      <th></th>\n      <th></th>\n      <th></th>\n      <th></th>\n      <th></th>\n      <th></th>\n      <th></th>\n    </tr>\n  </thead>\n  <tbody>\n    <tr>\n      <th>1</th>\n      <td>10.827941</td>\n      <td>0.261737</td>\n      <td>0.182341</td>\n      <td>0.347787</td>\n      <td>0.433118</td>\n      <td>0.82051</td>\n      <td></td>\n    </tr>\n    <tr>\n      <th>2</th>\n      <td>5.613984</td>\n      <td>0.135703</td>\n      <td>0.122326</td>\n      <td>0.233319</td>\n      <td>0.11228</td>\n      <td>0.212706</td>\n      <td></td>\n    </tr>\n    <tr>\n      <th>3</th>\n      <td>2.097935</td>\n      <td>0.050712</td>\n      <td>0.066318</td>\n      <td>0.126491</td>\n      <td>0.056008</td>\n      <td>0.106104</td>\n      <td>0.359604</td>\n    </tr>\n    <tr>\n      <th>4</th>\n      <td>1.072662</td>\n      <td>0.025929</td>\n      <td>0.04259</td>\n      <td>0.081234</td>\n      <td>0.027499</td>\n      <td>0.052096</td>\n      <td>0.494892</td>\n    </tr>\n    <tr>\n      <th>5</th>\n      <td>0.729314</td>\n      <td>0.017629</td>\n      <td>0.030495</td>\n      <td>0.058164</td>\n      <td>0.014845</td>\n      <td>0.028122</td>\n      <td>0.514827</td>\n    </tr>\n    <tr>\n      <th>6</th>\n      <td>0.483226</td>\n      <td>0.011681</td>\n      <td>0.021372</td>\n      <td>0.040765</td>\n      <td>0.009665</td>\n      <td>0.018309</td>\n      <td>0.592828</td>\n    </tr>\n    <tr>\n      <th>7</th>\n      <td>0.316756</td>\n      <td>0.007657</td>\n      <td>0.014432</td>\n      <td>0.027526</td>\n      <td>0.006941</td>\n      <td>0.013148</td>\n      <td>0.683769</td>\n    </tr>\n    <tr>\n      <th>8</th>\n      <td>0.20736</td>\n      <td>0.005012</td>\n      <td>0.009585</td>\n      <td>0.018281</td>\n      <td>0.004847</td>\n      <td>0.009183</td>\n      <td>0.708201</td>\n    </tr>\n    <tr>\n      <th>9</th>\n      <td>0.135723</td>\n      <td>0.003281</td>\n      <td>0.006317</td>\n      <td>0.012048</td>\n      <td>0.003268</td>\n      <td>0.006191</td>\n      <td>0.686186</td>\n    </tr>\n    <tr>\n      <th>10</th>\n      <td>0.088832</td>\n      <td>0.002147</td>\n      <td>0.004148</td>\n      <td>0.007911</td>\n      <td>0.002169</td>\n      <td>0.004109</td>\n      <td>0.668897</td>\n    </tr>\n    <tr>\n      <th>11</th>\n      <td>0.058141</td>\n      <td>0.001405</td>\n      <td>0.002719</td>\n      <td>0.005186</td>\n      <td>0.001429</td>\n      <td>0.002707</td>\n      <td>0.661222</td>\n    </tr>\n    <tr>\n      <th>12</th>\n      <td>0.038054</td>\n      <td>0.000920</td>\n      <td>0.001781</td>\n      <td>0.003397</td>\n      <td>0.000938</td>\n      <td>0.001777</td>\n      <td>0.657679</td>\n    </tr>\n    <tr>\n      <th>13</th>\n      <td>0.024907</td>\n      <td>0.000602</td>\n      <td>0.001166</td>\n      <td>0.002224</td>\n      <td>0.000615</td>\n      <td>0.001165</td>\n      <td>0.656015</td>\n    </tr>\n    <tr>\n      <th>14</th>\n      <td>0.016302</td>\n      <td>0.000394</td>\n      <td>0.000763</td>\n      <td>0.001456</td>\n      <td>0.000403</td>\n      <td>0.000763</td>\n      <td>0.655226</td>\n    </tr>\n    <tr>\n      <th>15</th>\n      <td>0.01067</td>\n      <td>0.000258</td>\n      <td>0.0005</td>\n      <td>0.000953</td>\n      <td>0.000264</td>\n      <td>0.0005</td>\n      <td>0.654851</td>\n    </tr>\n    <tr>\n      <th>16</th>\n      <td>0.006983</td>\n      <td>0.000169</td>\n      <td>0.000327</td>\n      <td>0.000624</td>\n      <td>0.000173</td>\n      <td>0.000327</td>\n      <td>0.654672</td>\n    </tr>\n    <tr>\n      <th>17</th>\n      <td>0.004571</td>\n      <td>0.000110</td>\n      <td>0.000214</td>\n      <td>0.000408</td>\n      <td>0.000113</td>\n      <td>0.000214</td>\n      <td>0.654586</td>\n    </tr>\n    <tr>\n      <th>18</th>\n      <td>0.002992</td>\n      <td>0.000072</td>\n      <td>0.00014</td>\n      <td>0.000267</td>\n      <td>0.000074</td>\n      <td>0.00014</td>\n      <td>0.654546</td>\n    </tr>\n    <tr>\n      <th>19</th>\n      <td>0.001958</td>\n      <td>0.000047</td>\n      <td>0.000092</td>\n      <td>0.000175</td>\n      <td>0.000048</td>\n      <td>0.000092</td>\n      <td>0.654526</td>\n    </tr>\n    <tr>\n      <th>20</th>\n      <td>0.001282</td>\n      <td>0.000031</td>\n      <td>0.00006</td>\n      <td>0.000114</td>\n      <td>0.000032</td>\n      <td>0.00006</td>\n      <td>0.654517</td>\n    </tr>\n    <tr>\n      <th>21</th>\n      <td>0.000839</td>\n      <td>0.000020</td>\n      <td>0.000039</td>\n      <td>0.000075</td>\n      <td>0.000021</td>\n      <td>0.000039</td>\n      <td>0.654513</td>\n    </tr>\n    <tr>\n      <th>22</th>\n      <td>0.000549</td>\n      <td>0.000013</td>\n      <td>0.000026</td>\n      <td>0.000049</td>\n      <td>0.000014</td>\n      <td>0.000026</td>\n      <td>0.65451</td>\n    </tr>\n    <tr>\n      <th>23</th>\n      <td>0.000359</td>\n      <td>0.000009</td>\n      <td>0.000017</td>\n      <td>0.000032</td>\n      <td>0.000009</td>\n      <td>0.000017</td>\n      <td>0.654509</td>\n    </tr>\n    <tr>\n      <th></th>\n      <td>min_iters:</td>\n      <td>29.162581</td>\n      <td></td>\n      <td>method:</td>\n      <td>seidel</td>\n      <td></td>\n      <td></td>\n    </tr>\n  </tbody>\n</table>\n</div>"
     },
     "execution_count": 8,
     "metadata": {},
     "output_type": "execute_result"
    }
   ],
   "source": [
    "iter_summary = solver.solve(U_init, method = 'seidel', U_expected = U_expected, F = F)\n",
    "solU_s = iter_summary['solution']\n",
    "iter_summary['output'][::]"
   ],
   "metadata": {
    "collapsed": false,
    "pycharm": {
     "name": "#%%\n"
    }
   }
  },
  {
   "cell_type": "code",
   "execution_count": 9,
   "outputs": [
    {
     "name": "stdout",
     "output_type": "stream",
     "text": [
      "[[0.       0.       0.       0.       0.       0.      ]\n",
      " [0.       0.000128 0.001024 0.003456 0.008192 0.016   ]\n",
      " [0.       0.001024 0.008192 0.027648 0.065536 0.128   ]\n",
      " [0.       0.003456 0.027648 0.093312 0.221184 0.432   ]\n",
      " [0.       0.008192 0.065536 0.221184 0.524288 1.024   ]\n",
      " [0.       0.016    0.128    0.432    1.024    2.      ]]\n",
      "[[0.       0.       0.       0.       0.       0.      ]\n",
      " [0.       0.000118 0.001011 0.003446 0.008187 0.016   ]\n",
      " [0.       0.001011 0.008175 0.027634 0.065529 0.128   ]\n",
      " [0.       0.003446 0.027634 0.093301 0.221178 0.432   ]\n",
      " [0.       0.008187 0.065529 0.221178 0.524285 1.024   ]\n",
      " [0.       0.016    0.128    0.432    1.024    2.      ]]\n"
     ]
    }
   ],
   "source": [
    "print(U_expected)\n",
    "print(solU_s)"
   ],
   "metadata": {
    "collapsed": false,
    "pycharm": {
     "name": "#%%\n"
    }
   }
  },
  {
   "cell_type": "markdown",
   "source": [
    "### Решение методом верхней релаксации"
   ],
   "metadata": {
    "collapsed": false
   }
  },
  {
   "cell_type": "code",
   "execution_count": 10,
   "outputs": [
    {
     "data": {
      "text/plain": "   Curr. discr.  Rel. discr. Curr. error Rel. error  \\\nk                                                     \n1     12.818102     0.309844    0.178156   0.339806   \n2      8.068365     0.195031    0.121005   0.230799   \n3      3.882178     0.093841    0.065343   0.124632   \n4      2.467779     0.059652    0.043363   0.082709   \n5      1.318445     0.031870    0.020158   0.038447   \n6        0.8154     0.019710    0.009445   0.018014   \n7      0.122073     0.002951    0.000877   0.001673   \n8      0.046935     0.001135    0.000712   0.001357   \n9      0.006236     0.000151     0.00012   0.000229   \n10     0.002627     0.000064    0.000042    0.00008   \n11     0.000451     0.000011    0.000009   0.000017   \n12     0.000154     0.000004    0.000003   0.000006   \n     min_iters:    36.646780                method:   \n\n   $ \\lVert U_k - U_{k-1} \\rVert $ Apost. est. $\\hat{\\rho}_k$  \nk                                                              \n1                         0.548197    2.322201                 \n2                         0.172424    0.730399                 \n3                         0.107656    0.456037        0.44315  \n4                         0.051782    0.219351       0.548011  \n5                         0.033384    0.141419        0.55687  \n6                         0.017576    0.074453       0.582602  \n7                         0.010271    0.043508       0.554667  \n8                         0.001538    0.006514        0.29578  \n9                         0.000591    0.002504       0.239917  \n10                        0.000085     0.00036       0.235014  \n11                        0.000033     0.00014       0.236598  \n12                        0.000006    0.000024       0.258725  \n                   over-relaxation                             ",
      "text/html": "<div>\n<style scoped>\n    .dataframe tbody tr th:only-of-type {\n        vertical-align: middle;\n    }\n\n    .dataframe tbody tr th {\n        vertical-align: top;\n    }\n\n    .dataframe thead th {\n        text-align: right;\n    }\n</style>\n<table border=\"1\" class=\"dataframe\">\n  <thead>\n    <tr style=\"text-align: right;\">\n      <th></th>\n      <th>Curr. discr.</th>\n      <th>Rel. discr.</th>\n      <th>Curr. error</th>\n      <th>Rel. error</th>\n      <th>$ \\lVert U_k - U_{k-1} \\rVert $</th>\n      <th>Apost. est.</th>\n      <th>$\\hat{\\rho}_k$</th>\n    </tr>\n    <tr>\n      <th>k</th>\n      <th></th>\n      <th></th>\n      <th></th>\n      <th></th>\n      <th></th>\n      <th></th>\n      <th></th>\n    </tr>\n  </thead>\n  <tbody>\n    <tr>\n      <th>1</th>\n      <td>12.818102</td>\n      <td>0.309844</td>\n      <td>0.178156</td>\n      <td>0.339806</td>\n      <td>0.548197</td>\n      <td>2.322201</td>\n      <td></td>\n    </tr>\n    <tr>\n      <th>2</th>\n      <td>8.068365</td>\n      <td>0.195031</td>\n      <td>0.121005</td>\n      <td>0.230799</td>\n      <td>0.172424</td>\n      <td>0.730399</td>\n      <td></td>\n    </tr>\n    <tr>\n      <th>3</th>\n      <td>3.882178</td>\n      <td>0.093841</td>\n      <td>0.065343</td>\n      <td>0.124632</td>\n      <td>0.107656</td>\n      <td>0.456037</td>\n      <td>0.44315</td>\n    </tr>\n    <tr>\n      <th>4</th>\n      <td>2.467779</td>\n      <td>0.059652</td>\n      <td>0.043363</td>\n      <td>0.082709</td>\n      <td>0.051782</td>\n      <td>0.219351</td>\n      <td>0.548011</td>\n    </tr>\n    <tr>\n      <th>5</th>\n      <td>1.318445</td>\n      <td>0.031870</td>\n      <td>0.020158</td>\n      <td>0.038447</td>\n      <td>0.033384</td>\n      <td>0.141419</td>\n      <td>0.55687</td>\n    </tr>\n    <tr>\n      <th>6</th>\n      <td>0.8154</td>\n      <td>0.019710</td>\n      <td>0.009445</td>\n      <td>0.018014</td>\n      <td>0.017576</td>\n      <td>0.074453</td>\n      <td>0.582602</td>\n    </tr>\n    <tr>\n      <th>7</th>\n      <td>0.122073</td>\n      <td>0.002951</td>\n      <td>0.000877</td>\n      <td>0.001673</td>\n      <td>0.010271</td>\n      <td>0.043508</td>\n      <td>0.554667</td>\n    </tr>\n    <tr>\n      <th>8</th>\n      <td>0.046935</td>\n      <td>0.001135</td>\n      <td>0.000712</td>\n      <td>0.001357</td>\n      <td>0.001538</td>\n      <td>0.006514</td>\n      <td>0.29578</td>\n    </tr>\n    <tr>\n      <th>9</th>\n      <td>0.006236</td>\n      <td>0.000151</td>\n      <td>0.00012</td>\n      <td>0.000229</td>\n      <td>0.000591</td>\n      <td>0.002504</td>\n      <td>0.239917</td>\n    </tr>\n    <tr>\n      <th>10</th>\n      <td>0.002627</td>\n      <td>0.000064</td>\n      <td>0.000042</td>\n      <td>0.00008</td>\n      <td>0.000085</td>\n      <td>0.00036</td>\n      <td>0.235014</td>\n    </tr>\n    <tr>\n      <th>11</th>\n      <td>0.000451</td>\n      <td>0.000011</td>\n      <td>0.000009</td>\n      <td>0.000017</td>\n      <td>0.000033</td>\n      <td>0.00014</td>\n      <td>0.236598</td>\n    </tr>\n    <tr>\n      <th>12</th>\n      <td>0.000154</td>\n      <td>0.000004</td>\n      <td>0.000003</td>\n      <td>0.000006</td>\n      <td>0.000006</td>\n      <td>0.000024</td>\n      <td>0.258725</td>\n    </tr>\n    <tr>\n      <th></th>\n      <td>min_iters:</td>\n      <td>36.646780</td>\n      <td></td>\n      <td>method:</td>\n      <td>over-relaxation</td>\n      <td></td>\n      <td></td>\n    </tr>\n  </tbody>\n</table>\n</div>"
     },
     "execution_count": 10,
     "metadata": {},
     "output_type": "execute_result"
    }
   ],
   "source": [
    "ovopt = 2/(1 + np.sin(np.pi * h))\n",
    "iter_summary = solver.solve(U_init, method = 'over-relaxation', U_expected = U_expected, F = F)\n",
    "solU_or = iter_summary['solution']\n",
    "iter_summary['output'][::]"
   ],
   "metadata": {
    "collapsed": false,
    "pycharm": {
     "name": "#%%\n"
    }
   }
  },
  {
   "cell_type": "code",
   "execution_count": 11,
   "outputs": [
    {
     "name": "stdout",
     "output_type": "stream",
     "text": [
      "[[0.       0.       0.       0.       0.       0.      ]\n",
      " [0.       0.000128 0.001024 0.003456 0.008192 0.016   ]\n",
      " [0.       0.001024 0.008192 0.027648 0.065536 0.128   ]\n",
      " [0.       0.003456 0.027648 0.093312 0.221184 0.432   ]\n",
      " [0.       0.008192 0.065536 0.221184 0.524288 1.024   ]\n",
      " [0.       0.016    0.128    0.432    1.024    2.      ]]\n",
      "[[0.       0.       0.       0.       0.       0.      ]\n",
      " [0.       0.000125 0.001021 0.003454 0.008192 0.016   ]\n",
      " [0.       0.001021 0.008189 0.027647 0.065536 0.128   ]\n",
      " [0.       0.003454 0.027647 0.093311 0.221184 0.432   ]\n",
      " [0.       0.008192 0.065536 0.221184 0.524288 1.024   ]\n",
      " [0.       0.016    0.128    0.432    1.024    2.      ]]\n"
     ]
    }
   ],
   "source": [
    "print(U_expected)\n",
    "print(solU_or)"
   ],
   "metadata": {
    "collapsed": false,
    "pycharm": {
     "name": "#%%\n"
    }
   }
  },
  {
   "cell_type": "markdown",
   "source": [
    "### Убедимся, что параметр по умолчанию является оптимальным"
   ],
   "metadata": {
    "collapsed": false,
    "pycharm": {
     "name": "#%% md\n"
    }
   }
  },
  {
   "cell_type": "code",
   "execution_count": 12,
   "outputs": [
    {
     "data": {
      "text/plain": "   Curr. discr.  Rel. discr. Curr. error Rel. error  \\\nk                                                     \n1     10.827941     0.261737    0.182341   0.347787   \n2      5.613984     0.135703    0.122326   0.233319   \n3      2.097935     0.050712    0.066318   0.126491   \n4      1.072662     0.025929     0.04259   0.081234   \n5      0.729314     0.017629    0.030495   0.058164   \n6      0.483226     0.011681    0.021372   0.040765   \n7      0.316756     0.007657    0.014432   0.027526   \n8       0.20736     0.005012    0.009585   0.018281   \n9      0.135723     0.003281    0.006317   0.012048   \n10     0.088832     0.002147    0.004148   0.007911   \n11     0.058141     0.001405    0.002719   0.005186   \n12     0.038054     0.000920    0.001781   0.003397   \n13     0.024907     0.000602    0.001166   0.002224   \n14     0.016302     0.000394    0.000763   0.001456   \n15      0.01067     0.000258      0.0005   0.000953   \n16     0.006983     0.000169    0.000327   0.000624   \n17     0.004571     0.000110    0.000214   0.000408   \n18     0.002992     0.000072     0.00014   0.000267   \n19     0.001958     0.000047    0.000092   0.000175   \n20     0.001282     0.000031     0.00006   0.000114   \n21     0.000839     0.000020    0.000039   0.000075   \n22     0.000549     0.000013    0.000026   0.000049   \n23     0.000359     0.000009    0.000017   0.000032   \n     min_iters:    29.162581                method:   \n\n   $ \\lVert U_k - U_{k-1} \\rVert $ Apost. est. $\\hat{\\rho}_k$  \nk                                                              \n1                         0.433118     0.82051                 \n2                          0.11228    0.212706                 \n3                         0.056008    0.106104       0.359604  \n4                         0.027499    0.052096       0.494892  \n5                         0.014845    0.028122       0.514827  \n6                         0.009665    0.018309       0.592828  \n7                         0.006941    0.013148       0.683769  \n8                         0.004847    0.009183       0.708201  \n9                         0.003268    0.006191       0.686186  \n10                        0.002169    0.004109       0.668897  \n11                        0.001429    0.002707       0.661222  \n12                        0.000938    0.001777       0.657679  \n13                        0.000615    0.001165       0.656015  \n14                        0.000403    0.000763       0.655226  \n15                        0.000264      0.0005       0.654851  \n16                        0.000173    0.000327       0.654672  \n17                        0.000113    0.000214       0.654586  \n18                        0.000074     0.00014       0.654546  \n19                        0.000048    0.000092       0.654526  \n20                        0.000032     0.00006       0.654517  \n21                        0.000021    0.000039       0.654513  \n22                        0.000014    0.000026        0.65451  \n23                        0.000009    0.000017       0.654509  \n                            seidel                             ",
      "text/html": "<div>\n<style scoped>\n    .dataframe tbody tr th:only-of-type {\n        vertical-align: middle;\n    }\n\n    .dataframe tbody tr th {\n        vertical-align: top;\n    }\n\n    .dataframe thead th {\n        text-align: right;\n    }\n</style>\n<table border=\"1\" class=\"dataframe\">\n  <thead>\n    <tr style=\"text-align: right;\">\n      <th></th>\n      <th>Curr. discr.</th>\n      <th>Rel. discr.</th>\n      <th>Curr. error</th>\n      <th>Rel. error</th>\n      <th>$ \\lVert U_k - U_{k-1} \\rVert $</th>\n      <th>Apost. est.</th>\n      <th>$\\hat{\\rho}_k$</th>\n    </tr>\n    <tr>\n      <th>k</th>\n      <th></th>\n      <th></th>\n      <th></th>\n      <th></th>\n      <th></th>\n      <th></th>\n      <th></th>\n    </tr>\n  </thead>\n  <tbody>\n    <tr>\n      <th>1</th>\n      <td>10.827941</td>\n      <td>0.261737</td>\n      <td>0.182341</td>\n      <td>0.347787</td>\n      <td>0.433118</td>\n      <td>0.82051</td>\n      <td></td>\n    </tr>\n    <tr>\n      <th>2</th>\n      <td>5.613984</td>\n      <td>0.135703</td>\n      <td>0.122326</td>\n      <td>0.233319</td>\n      <td>0.11228</td>\n      <td>0.212706</td>\n      <td></td>\n    </tr>\n    <tr>\n      <th>3</th>\n      <td>2.097935</td>\n      <td>0.050712</td>\n      <td>0.066318</td>\n      <td>0.126491</td>\n      <td>0.056008</td>\n      <td>0.106104</td>\n      <td>0.359604</td>\n    </tr>\n    <tr>\n      <th>4</th>\n      <td>1.072662</td>\n      <td>0.025929</td>\n      <td>0.04259</td>\n      <td>0.081234</td>\n      <td>0.027499</td>\n      <td>0.052096</td>\n      <td>0.494892</td>\n    </tr>\n    <tr>\n      <th>5</th>\n      <td>0.729314</td>\n      <td>0.017629</td>\n      <td>0.030495</td>\n      <td>0.058164</td>\n      <td>0.014845</td>\n      <td>0.028122</td>\n      <td>0.514827</td>\n    </tr>\n    <tr>\n      <th>6</th>\n      <td>0.483226</td>\n      <td>0.011681</td>\n      <td>0.021372</td>\n      <td>0.040765</td>\n      <td>0.009665</td>\n      <td>0.018309</td>\n      <td>0.592828</td>\n    </tr>\n    <tr>\n      <th>7</th>\n      <td>0.316756</td>\n      <td>0.007657</td>\n      <td>0.014432</td>\n      <td>0.027526</td>\n      <td>0.006941</td>\n      <td>0.013148</td>\n      <td>0.683769</td>\n    </tr>\n    <tr>\n      <th>8</th>\n      <td>0.20736</td>\n      <td>0.005012</td>\n      <td>0.009585</td>\n      <td>0.018281</td>\n      <td>0.004847</td>\n      <td>0.009183</td>\n      <td>0.708201</td>\n    </tr>\n    <tr>\n      <th>9</th>\n      <td>0.135723</td>\n      <td>0.003281</td>\n      <td>0.006317</td>\n      <td>0.012048</td>\n      <td>0.003268</td>\n      <td>0.006191</td>\n      <td>0.686186</td>\n    </tr>\n    <tr>\n      <th>10</th>\n      <td>0.088832</td>\n      <td>0.002147</td>\n      <td>0.004148</td>\n      <td>0.007911</td>\n      <td>0.002169</td>\n      <td>0.004109</td>\n      <td>0.668897</td>\n    </tr>\n    <tr>\n      <th>11</th>\n      <td>0.058141</td>\n      <td>0.001405</td>\n      <td>0.002719</td>\n      <td>0.005186</td>\n      <td>0.001429</td>\n      <td>0.002707</td>\n      <td>0.661222</td>\n    </tr>\n    <tr>\n      <th>12</th>\n      <td>0.038054</td>\n      <td>0.000920</td>\n      <td>0.001781</td>\n      <td>0.003397</td>\n      <td>0.000938</td>\n      <td>0.001777</td>\n      <td>0.657679</td>\n    </tr>\n    <tr>\n      <th>13</th>\n      <td>0.024907</td>\n      <td>0.000602</td>\n      <td>0.001166</td>\n      <td>0.002224</td>\n      <td>0.000615</td>\n      <td>0.001165</td>\n      <td>0.656015</td>\n    </tr>\n    <tr>\n      <th>14</th>\n      <td>0.016302</td>\n      <td>0.000394</td>\n      <td>0.000763</td>\n      <td>0.001456</td>\n      <td>0.000403</td>\n      <td>0.000763</td>\n      <td>0.655226</td>\n    </tr>\n    <tr>\n      <th>15</th>\n      <td>0.01067</td>\n      <td>0.000258</td>\n      <td>0.0005</td>\n      <td>0.000953</td>\n      <td>0.000264</td>\n      <td>0.0005</td>\n      <td>0.654851</td>\n    </tr>\n    <tr>\n      <th>16</th>\n      <td>0.006983</td>\n      <td>0.000169</td>\n      <td>0.000327</td>\n      <td>0.000624</td>\n      <td>0.000173</td>\n      <td>0.000327</td>\n      <td>0.654672</td>\n    </tr>\n    <tr>\n      <th>17</th>\n      <td>0.004571</td>\n      <td>0.000110</td>\n      <td>0.000214</td>\n      <td>0.000408</td>\n      <td>0.000113</td>\n      <td>0.000214</td>\n      <td>0.654586</td>\n    </tr>\n    <tr>\n      <th>18</th>\n      <td>0.002992</td>\n      <td>0.000072</td>\n      <td>0.00014</td>\n      <td>0.000267</td>\n      <td>0.000074</td>\n      <td>0.00014</td>\n      <td>0.654546</td>\n    </tr>\n    <tr>\n      <th>19</th>\n      <td>0.001958</td>\n      <td>0.000047</td>\n      <td>0.000092</td>\n      <td>0.000175</td>\n      <td>0.000048</td>\n      <td>0.000092</td>\n      <td>0.654526</td>\n    </tr>\n    <tr>\n      <th>20</th>\n      <td>0.001282</td>\n      <td>0.000031</td>\n      <td>0.00006</td>\n      <td>0.000114</td>\n      <td>0.000032</td>\n      <td>0.00006</td>\n      <td>0.654517</td>\n    </tr>\n    <tr>\n      <th>21</th>\n      <td>0.000839</td>\n      <td>0.000020</td>\n      <td>0.000039</td>\n      <td>0.000075</td>\n      <td>0.000021</td>\n      <td>0.000039</td>\n      <td>0.654513</td>\n    </tr>\n    <tr>\n      <th>22</th>\n      <td>0.000549</td>\n      <td>0.000013</td>\n      <td>0.000026</td>\n      <td>0.000049</td>\n      <td>0.000014</td>\n      <td>0.000026</td>\n      <td>0.65451</td>\n    </tr>\n    <tr>\n      <th>23</th>\n      <td>0.000359</td>\n      <td>0.000009</td>\n      <td>0.000017</td>\n      <td>0.000032</td>\n      <td>0.000009</td>\n      <td>0.000017</td>\n      <td>0.654509</td>\n    </tr>\n    <tr>\n      <th></th>\n      <td>min_iters:</td>\n      <td>29.162581</td>\n      <td></td>\n      <td>method:</td>\n      <td>seidel</td>\n      <td></td>\n      <td></td>\n    </tr>\n  </tbody>\n</table>\n</div>"
     },
     "execution_count": 12,
     "metadata": {},
     "output_type": "execute_result"
    }
   ],
   "source": [
    "solver.solve(U_init, method = 'seidel', U_expected = U_expected, F = F, method_parameters={'opt': ovopt-0.1})['output']"
   ],
   "metadata": {
    "collapsed": false,
    "pycharm": {
     "name": "#%%\n"
    }
   }
  },
  {
   "cell_type": "code",
   "execution_count": 13,
   "outputs": [
    {
     "data": {
      "text/plain": "   Curr. discr.  Rel. discr. Curr. error Rel. error  \\\nk                                                     \n1     10.827941     0.261737    0.182341   0.347787   \n2      5.613984     0.135703    0.122326   0.233319   \n3      2.097935     0.050712    0.066318   0.126491   \n4      1.072662     0.025929     0.04259   0.081234   \n5      0.729314     0.017629    0.030495   0.058164   \n6      0.483226     0.011681    0.021372   0.040765   \n7      0.316756     0.007657    0.014432   0.027526   \n8       0.20736     0.005012    0.009585   0.018281   \n9      0.135723     0.003281    0.006317   0.012048   \n10     0.088832     0.002147    0.004148   0.007911   \n11     0.058141     0.001405    0.002719   0.005186   \n12     0.038054     0.000920    0.001781   0.003397   \n13     0.024907     0.000602    0.001166   0.002224   \n14     0.016302     0.000394    0.000763   0.001456   \n15      0.01067     0.000258      0.0005   0.000953   \n16     0.006983     0.000169    0.000327   0.000624   \n17     0.004571     0.000110    0.000214   0.000408   \n18     0.002992     0.000072     0.00014   0.000267   \n19     0.001958     0.000047    0.000092   0.000175   \n20     0.001282     0.000031     0.00006   0.000114   \n21     0.000839     0.000020    0.000039   0.000075   \n22     0.000549     0.000013    0.000026   0.000049   \n23     0.000359     0.000009    0.000017   0.000032   \n     min_iters:    29.162581                method:   \n\n   $ \\lVert U_k - U_{k-1} \\rVert $ Apost. est. $\\hat{\\rho}_k$  \nk                                                              \n1                         0.433118     0.82051                 \n2                          0.11228    0.212706                 \n3                         0.056008    0.106104       0.359604  \n4                         0.027499    0.052096       0.494892  \n5                         0.014845    0.028122       0.514827  \n6                         0.009665    0.018309       0.592828  \n7                         0.006941    0.013148       0.683769  \n8                         0.004847    0.009183       0.708201  \n9                         0.003268    0.006191       0.686186  \n10                        0.002169    0.004109       0.668897  \n11                        0.001429    0.002707       0.661222  \n12                        0.000938    0.001777       0.657679  \n13                        0.000615    0.001165       0.656015  \n14                        0.000403    0.000763       0.655226  \n15                        0.000264      0.0005       0.654851  \n16                        0.000173    0.000327       0.654672  \n17                        0.000113    0.000214       0.654586  \n18                        0.000074     0.00014       0.654546  \n19                        0.000048    0.000092       0.654526  \n20                        0.000032     0.00006       0.654517  \n21                        0.000021    0.000039       0.654513  \n22                        0.000014    0.000026        0.65451  \n23                        0.000009    0.000017       0.654509  \n                            seidel                             ",
      "text/html": "<div>\n<style scoped>\n    .dataframe tbody tr th:only-of-type {\n        vertical-align: middle;\n    }\n\n    .dataframe tbody tr th {\n        vertical-align: top;\n    }\n\n    .dataframe thead th {\n        text-align: right;\n    }\n</style>\n<table border=\"1\" class=\"dataframe\">\n  <thead>\n    <tr style=\"text-align: right;\">\n      <th></th>\n      <th>Curr. discr.</th>\n      <th>Rel. discr.</th>\n      <th>Curr. error</th>\n      <th>Rel. error</th>\n      <th>$ \\lVert U_k - U_{k-1} \\rVert $</th>\n      <th>Apost. est.</th>\n      <th>$\\hat{\\rho}_k$</th>\n    </tr>\n    <tr>\n      <th>k</th>\n      <th></th>\n      <th></th>\n      <th></th>\n      <th></th>\n      <th></th>\n      <th></th>\n      <th></th>\n    </tr>\n  </thead>\n  <tbody>\n    <tr>\n      <th>1</th>\n      <td>10.827941</td>\n      <td>0.261737</td>\n      <td>0.182341</td>\n      <td>0.347787</td>\n      <td>0.433118</td>\n      <td>0.82051</td>\n      <td></td>\n    </tr>\n    <tr>\n      <th>2</th>\n      <td>5.613984</td>\n      <td>0.135703</td>\n      <td>0.122326</td>\n      <td>0.233319</td>\n      <td>0.11228</td>\n      <td>0.212706</td>\n      <td></td>\n    </tr>\n    <tr>\n      <th>3</th>\n      <td>2.097935</td>\n      <td>0.050712</td>\n      <td>0.066318</td>\n      <td>0.126491</td>\n      <td>0.056008</td>\n      <td>0.106104</td>\n      <td>0.359604</td>\n    </tr>\n    <tr>\n      <th>4</th>\n      <td>1.072662</td>\n      <td>0.025929</td>\n      <td>0.04259</td>\n      <td>0.081234</td>\n      <td>0.027499</td>\n      <td>0.052096</td>\n      <td>0.494892</td>\n    </tr>\n    <tr>\n      <th>5</th>\n      <td>0.729314</td>\n      <td>0.017629</td>\n      <td>0.030495</td>\n      <td>0.058164</td>\n      <td>0.014845</td>\n      <td>0.028122</td>\n      <td>0.514827</td>\n    </tr>\n    <tr>\n      <th>6</th>\n      <td>0.483226</td>\n      <td>0.011681</td>\n      <td>0.021372</td>\n      <td>0.040765</td>\n      <td>0.009665</td>\n      <td>0.018309</td>\n      <td>0.592828</td>\n    </tr>\n    <tr>\n      <th>7</th>\n      <td>0.316756</td>\n      <td>0.007657</td>\n      <td>0.014432</td>\n      <td>0.027526</td>\n      <td>0.006941</td>\n      <td>0.013148</td>\n      <td>0.683769</td>\n    </tr>\n    <tr>\n      <th>8</th>\n      <td>0.20736</td>\n      <td>0.005012</td>\n      <td>0.009585</td>\n      <td>0.018281</td>\n      <td>0.004847</td>\n      <td>0.009183</td>\n      <td>0.708201</td>\n    </tr>\n    <tr>\n      <th>9</th>\n      <td>0.135723</td>\n      <td>0.003281</td>\n      <td>0.006317</td>\n      <td>0.012048</td>\n      <td>0.003268</td>\n      <td>0.006191</td>\n      <td>0.686186</td>\n    </tr>\n    <tr>\n      <th>10</th>\n      <td>0.088832</td>\n      <td>0.002147</td>\n      <td>0.004148</td>\n      <td>0.007911</td>\n      <td>0.002169</td>\n      <td>0.004109</td>\n      <td>0.668897</td>\n    </tr>\n    <tr>\n      <th>11</th>\n      <td>0.058141</td>\n      <td>0.001405</td>\n      <td>0.002719</td>\n      <td>0.005186</td>\n      <td>0.001429</td>\n      <td>0.002707</td>\n      <td>0.661222</td>\n    </tr>\n    <tr>\n      <th>12</th>\n      <td>0.038054</td>\n      <td>0.000920</td>\n      <td>0.001781</td>\n      <td>0.003397</td>\n      <td>0.000938</td>\n      <td>0.001777</td>\n      <td>0.657679</td>\n    </tr>\n    <tr>\n      <th>13</th>\n      <td>0.024907</td>\n      <td>0.000602</td>\n      <td>0.001166</td>\n      <td>0.002224</td>\n      <td>0.000615</td>\n      <td>0.001165</td>\n      <td>0.656015</td>\n    </tr>\n    <tr>\n      <th>14</th>\n      <td>0.016302</td>\n      <td>0.000394</td>\n      <td>0.000763</td>\n      <td>0.001456</td>\n      <td>0.000403</td>\n      <td>0.000763</td>\n      <td>0.655226</td>\n    </tr>\n    <tr>\n      <th>15</th>\n      <td>0.01067</td>\n      <td>0.000258</td>\n      <td>0.0005</td>\n      <td>0.000953</td>\n      <td>0.000264</td>\n      <td>0.0005</td>\n      <td>0.654851</td>\n    </tr>\n    <tr>\n      <th>16</th>\n      <td>0.006983</td>\n      <td>0.000169</td>\n      <td>0.000327</td>\n      <td>0.000624</td>\n      <td>0.000173</td>\n      <td>0.000327</td>\n      <td>0.654672</td>\n    </tr>\n    <tr>\n      <th>17</th>\n      <td>0.004571</td>\n      <td>0.000110</td>\n      <td>0.000214</td>\n      <td>0.000408</td>\n      <td>0.000113</td>\n      <td>0.000214</td>\n      <td>0.654586</td>\n    </tr>\n    <tr>\n      <th>18</th>\n      <td>0.002992</td>\n      <td>0.000072</td>\n      <td>0.00014</td>\n      <td>0.000267</td>\n      <td>0.000074</td>\n      <td>0.00014</td>\n      <td>0.654546</td>\n    </tr>\n    <tr>\n      <th>19</th>\n      <td>0.001958</td>\n      <td>0.000047</td>\n      <td>0.000092</td>\n      <td>0.000175</td>\n      <td>0.000048</td>\n      <td>0.000092</td>\n      <td>0.654526</td>\n    </tr>\n    <tr>\n      <th>20</th>\n      <td>0.001282</td>\n      <td>0.000031</td>\n      <td>0.00006</td>\n      <td>0.000114</td>\n      <td>0.000032</td>\n      <td>0.00006</td>\n      <td>0.654517</td>\n    </tr>\n    <tr>\n      <th>21</th>\n      <td>0.000839</td>\n      <td>0.000020</td>\n      <td>0.000039</td>\n      <td>0.000075</td>\n      <td>0.000021</td>\n      <td>0.000039</td>\n      <td>0.654513</td>\n    </tr>\n    <tr>\n      <th>22</th>\n      <td>0.000549</td>\n      <td>0.000013</td>\n      <td>0.000026</td>\n      <td>0.000049</td>\n      <td>0.000014</td>\n      <td>0.000026</td>\n      <td>0.65451</td>\n    </tr>\n    <tr>\n      <th>23</th>\n      <td>0.000359</td>\n      <td>0.000009</td>\n      <td>0.000017</td>\n      <td>0.000032</td>\n      <td>0.000009</td>\n      <td>0.000017</td>\n      <td>0.654509</td>\n    </tr>\n    <tr>\n      <th></th>\n      <td>min_iters:</td>\n      <td>29.162581</td>\n      <td></td>\n      <td>method:</td>\n      <td>seidel</td>\n      <td></td>\n      <td></td>\n    </tr>\n  </tbody>\n</table>\n</div>"
     },
     "execution_count": 13,
     "metadata": {},
     "output_type": "execute_result"
    }
   ],
   "source": [
    "solver.solve(U_init, method = 'seidel', U_expected = U_expected, F = F, method_parameters={'opt': ovopt+0.1})['output']"
   ],
   "metadata": {
    "collapsed": false,
    "pycharm": {
     "name": "#%%\n"
    }
   }
  },
  {
   "cell_type": "markdown",
   "source": [
    "### видим, что алгоритму приходится выполнять больше итераций, чтобы достичь нужной точности"
   ],
   "metadata": {
    "collapsed": false,
    "pycharm": {
     "name": "#%% md\n"
    }
   }
  }
 ],
 "metadata": {
  "kernelspec": {
   "display_name": "Python 3",
   "language": "python",
   "name": "python3"
  },
  "language_info": {
   "codemirror_mode": {
    "name": "ipython",
    "version": 2
   },
   "file_extension": ".py",
   "mimetype": "text/x-python",
   "name": "python",
   "nbconvert_exporter": "python",
   "pygments_lexer": "ipython2",
   "version": "2.7.6"
  }
 },
 "nbformat": 4,
 "nbformat_minor": 0
}