{
 "cells": [
  {
   "cell_type": "code",
   "execution_count": 1,
   "metadata": {
    "collapsed": true
   },
   "outputs": [],
   "source": [
    "import numpy as np\n",
    "import pandas as pd\n",
    "np.set_printoptions(precision=4)"
   ]
  },
  {
   "cell_type": "markdown",
   "source": [
    "# Решение задачи Дирихле:\n",
    "## Известно, что $u(x,y) = 2x^3y^3$\n",
    "## Оно является решением задачи Дирихле:\n",
    "### $\\frac{\\partial^2 u}{\\partial x^2} + \\frac{\\partial^2 u}{\\partial y^2} = -(\\underbrace{-12xy(x^2+y^2)}_{f(x,y)})$\n",
    "### $u(0,y) \\equiv 0$\n",
    "### $u(1,y) = 2y^3$\n",
    "### $u(x,0) \\equiv 0$\n",
    "### $u(x,1) = 2x^3$"
   ],
   "metadata": {
    "collapsed": false,
    "pycharm": {
     "name": "#%% md\n"
    }
   }
  },
  {
   "cell_type": "code",
   "execution_count": 4,
   "outputs": [
    {
     "data": {
      "text/plain": "6"
     },
     "execution_count": 4,
     "metadata": {},
     "output_type": "execute_result"
    }
   ],
   "source": [
    "f = lambda x,y: -12*x*y*(x*x+y*y)\n",
    "u1y = lambda y: 2*y**3\n",
    "ux1 = lambda x: 2*x**3\n",
    "u_expected = lambda x,y: 2*x**3*y**3\n",
    "\n",
    "h = 0.2\n",
    "a_x = 0\n",
    "b_x = 1\n",
    "a_y = 0\n",
    "b_y = 1\n",
    "N = int((b_x-a_x)/h) + 1 # ширина сетки вместе с граничными узлами\n",
    "iN = N - 2 # ширина сетки без граничных узлов"
   ],
   "metadata": {
    "collapsed": false,
    "pycharm": {
     "name": "#%%\n"
    }
   }
  },
  {
   "cell_type": "markdown",
   "source": [
    "## Строим матрицу\n"
   ],
   "metadata": {
    "collapsed": false,
    "pycharm": {
     "name": "#%% md\n"
    }
   }
  },
  {
   "cell_type": "code",
   "execution_count": 5,
   "outputs": [
    {
     "data": {
      "text/plain": "matrix([[100., -25.,   0., ...,   0.,   0.,   0.],\n        [-25., 100., -25., ...,   0.,   0.,   0.],\n        [  0., -25., 100., ...,   0.,   0.,   0.],\n        ...,\n        [  0.,   0.,   0., ..., 100., -25.,   0.],\n        [  0.,   0.,   0., ..., -25., 100., -25.],\n        [  0.,   0.,   0., ...,   0., -25., 100.]])"
     },
     "execution_count": 5,
     "metadata": {},
     "output_type": "execute_result"
    }
   ],
   "source": [
    "def init_U():\n",
    "    U = np.zeros(shape = (N, N))\n",
    "    for i in range(N):\n",
    "        U[i, N - 1] = ux1(i*h)\n",
    "    for j in range(N):\n",
    "        U[N - 1, j] = u1y(j*h)\n",
    "    return U\n",
    "C = np.matrix([[4, -1] + (N-2)*[0]] +\n",
    "              [ k*[0] + [-1, 4, -1] + (N - 3 - k)*[0] for k in range(0, N - 2)] +\n",
    "              [(N-2)*[0] + [-1, 4]], dtype=float)\n",
    "A = np.block([[C, -np.eye(N = N)] + (N-2)*[np.zeros( shape = (N, N) )]] +\n",
    "              [ k*[np.zeros( shape = (N, N) )] + [-np.eye(N = N), C, -np.eye(N = N)] + (N - 3 - k)*[np.zeros( shape = (N, N) )] for k in range(0, N - 2)] +\n",
    "              [(N-2)*[np.zeros( shape = (N, N) )] + [-np.eye(N = N), C]])\n",
    "A = A/h**2\n",
    "\n",
    "U = init_U()\n",
    "\n",
    "U_expected = U.copy() # задаём границы\n",
    "U_expected[1:iN+1,1:iN+1] = np.array([[u_expected(i*h,j*h) for j in range(1, iN+1)] for i in range(1, iN+1)])\n",
    "\n",
    "F = np.array([[f(i*h, j*h) for j in range(1, iN+1)] for i in range(1,iN+1)])"
   ],
   "metadata": {
    "collapsed": false,
    "pycharm": {
     "name": "#%%\n"
    }
   }
  },
  {
   "cell_type": "code",
   "execution_count": 33,
   "outputs": [],
   "source": [
    "iter_method_spectral = np.cos(np.pi * h)\n",
    "apost_est_coef = iter_method_spectral/(1-iter_method_spectral)\n",
    "def iteration_method(U, eps = 1e-5):\n",
    "\n",
    "    init_error = np.max(np.abs(U - U_expected))\n",
    "\n",
    "    U_reshaped = np.reshape(U, newshape=(N**2, 1)) # преобразуем матрицу сетки к вектору\n",
    "    AU = A@U_reshaped\n",
    "    AU_reshaped_cut = np.reshape(AU, newshape=(N, N))[1:iN+1, 1:iN+1]\n",
    "\n",
    "    init_discrepancy = np.max(np.abs(AU_reshaped_cut - F))\n",
    "    U_new = U.copy()\n",
    "    min_iters = -2*np.log(eps)/(np.pi*h)**2\n",
    "    output_list = list()\n",
    "    iter = 0\n",
    "    iter_diffs = [0]*3 # Хранит разницу приближений последних трёх итераций\n",
    "    rel_discrepancy = 1\n",
    "    while rel_discrepancy > eps and iter < min_iters:\n",
    "        for i in range(1, iN+1):\n",
    "            for j in range(1, iN+1):\n",
    "                U_new[i, j] = 0.25*(U[i-1, j]+U[i+1,j]+U[i, j-1]+U[i, j+1]+F[i-1,j-1]*h*h)\n",
    "\n",
    "        iter_diff = np.max(np.abs(U - U_new))\n",
    "\n",
    "        U = U_new.copy()\n",
    "\n",
    "        U_reshaped = np.reshape(U, newshape=(N**2, 1)) # преобразуем матрицу сетки к вектору\n",
    "        AU = A@U_reshaped\n",
    "        AU_reshaped_cut = np.reshape(AU, newshape=(N, N))[1:iN+1, 1:iN+1]\n",
    "\n",
    "        error = np.max(np.abs(U - U_expected))\n",
    "        discrepancy = np.max(np.abs(AU_reshaped_cut - F))\n",
    "        rel_discrepancy = discrepancy / init_discrepancy\n",
    "        rel_error = error / init_error\n",
    "\n",
    "        iter_diffs[iter % 3] = iter_diff\n",
    "        apost_est = apost_est_coef * iter_diff\n",
    "        spec_rad_est = ' ' if iter < 2 else np.sqrt( iter_diffs[iter % 3]/ iter_diffs[(iter - 2) % 3] )\n",
    "\n",
    "        output_list += [[iter + 1, discrepancy, rel_discrepancy,\n",
    "                         error, rel_error, iter_diff, apost_est, spec_rad_est]]\n",
    "        iter+=1\n",
    "    output_list += [[' ', 'min_iters:', int(min_iters), ' ', ' ', ' ', ' ', ' ']]\n",
    "    return {'solution': U ,'output': pd.DataFrame(data = output_list,\n",
    "                                                  columns = ['k', 'Curr. discr.', 'Rel. discr.', 'Curr. error', 'Rel. error', '$ \\lVert U_k - U_{k-1} \\rVert $', 'Apost. est.', '$\\rho_k$']).set_index(keys = 'k')}"
   ],
   "metadata": {
    "collapsed": false,
    "pycharm": {
     "name": "#%%\n"
    }
   }
  },
  {
   "cell_type": "code",
   "execution_count": 34,
   "outputs": [
    {
     "data": {
      "text/plain": "   Curr. discr.  Rel. discr. Curr. error Rel. error  \\\nk                                                     \n1        9.5968     0.231977    0.170784   0.325745   \n11      0.29276     0.007077    0.009847   0.018782   \n21     0.035165     0.000850    0.001183   0.002256   \n31     0.004224     0.000102    0.000142   0.000271   \n41     0.000507     0.000012    0.000017   0.000033   \n\n   $ \\lVert U_k - U_{k-1} \\rVert $ Apost. est.  $\\rho_k$  \nk                                                         \n1                         0.413696    1.752444            \n11                        0.003855    0.016331  0.783091  \n21                        0.000435    0.001844  0.808302  \n31                        0.000052    0.000221  0.808999  \n41                        0.000006    0.000027  0.809017  ",
      "text/html": "<div>\n<style scoped>\n    .dataframe tbody tr th:only-of-type {\n        vertical-align: middle;\n    }\n\n    .dataframe tbody tr th {\n        vertical-align: top;\n    }\n\n    .dataframe thead th {\n        text-align: right;\n    }\n</style>\n<table border=\"1\" class=\"dataframe\">\n  <thead>\n    <tr style=\"text-align: right;\">\n      <th></th>\n      <th>Curr. discr.</th>\n      <th>Rel. discr.</th>\n      <th>Curr. error</th>\n      <th>Rel. error</th>\n      <th>$ \\lVert U_k - U_{k-1} \\rVert $</th>\n      <th>Apost. est.</th>\n      <th>$\\rho_k$</th>\n    </tr>\n    <tr>\n      <th>k</th>\n      <th></th>\n      <th></th>\n      <th></th>\n      <th></th>\n      <th></th>\n      <th></th>\n      <th></th>\n    </tr>\n  </thead>\n  <tbody>\n    <tr>\n      <th>1</th>\n      <td>9.5968</td>\n      <td>0.231977</td>\n      <td>0.170784</td>\n      <td>0.325745</td>\n      <td>0.413696</td>\n      <td>1.752444</td>\n      <td></td>\n    </tr>\n    <tr>\n      <th>11</th>\n      <td>0.29276</td>\n      <td>0.007077</td>\n      <td>0.009847</td>\n      <td>0.018782</td>\n      <td>0.003855</td>\n      <td>0.016331</td>\n      <td>0.783091</td>\n    </tr>\n    <tr>\n      <th>21</th>\n      <td>0.035165</td>\n      <td>0.000850</td>\n      <td>0.001183</td>\n      <td>0.002256</td>\n      <td>0.000435</td>\n      <td>0.001844</td>\n      <td>0.808302</td>\n    </tr>\n    <tr>\n      <th>31</th>\n      <td>0.004224</td>\n      <td>0.000102</td>\n      <td>0.000142</td>\n      <td>0.000271</td>\n      <td>0.000052</td>\n      <td>0.000221</td>\n      <td>0.808999</td>\n    </tr>\n    <tr>\n      <th>41</th>\n      <td>0.000507</td>\n      <td>0.000012</td>\n      <td>0.000017</td>\n      <td>0.000033</td>\n      <td>0.000006</td>\n      <td>0.000027</td>\n      <td>0.809017</td>\n    </tr>\n  </tbody>\n</table>\n</div>"
     },
     "execution_count": 34,
     "metadata": {},
     "output_type": "execute_result"
    }
   ],
   "source": [
    "iter_summary = iteration_method(U)\n",
    "solU = iter_summary['solution']\n",
    "iter_summary['output'][::10]"
   ],
   "metadata": {
    "collapsed": false,
    "pycharm": {
     "name": "#%%\n"
    }
   }
  },
  {
   "cell_type": "code",
   "execution_count": null,
   "outputs": [],
   "source": [
    "U[0:N + 1,0:N+1]"
   ],
   "metadata": {
    "collapsed": false,
    "pycharm": {
     "name": "#%%\n"
    }
   }
  },
  {
   "cell_type": "code",
   "execution_count": null,
   "outputs": [],
   "source": [
    "F\n"
   ],
   "metadata": {
    "collapsed": false,
    "pycharm": {
     "name": "#%%\n"
    }
   }
  },
  {
   "cell_type": "code",
   "execution_count": null,
   "outputs": [],
   "source": [
    "solU\n"
   ],
   "metadata": {
    "collapsed": false,
    "pycharm": {
     "name": "#%%\n"
    }
   }
  },
  {
   "cell_type": "code",
   "execution_count": null,
   "outputs": [],
   "source": [],
   "metadata": {
    "collapsed": false,
    "pycharm": {
     "name": "#%%\n"
    }
   }
  }
 ],
 "metadata": {
  "kernelspec": {
   "display_name": "Python 3",
   "language": "python",
   "name": "python3"
  },
  "language_info": {
   "codemirror_mode": {
    "name": "ipython",
    "version": 2
   },
   "file_extension": ".py",
   "mimetype": "text/x-python",
   "name": "python",
   "nbconvert_exporter": "python",
   "pygments_lexer": "ipython2",
   "version": "2.7.6"
  }
 },
 "nbformat": 4,
 "nbformat_minor": 0
}