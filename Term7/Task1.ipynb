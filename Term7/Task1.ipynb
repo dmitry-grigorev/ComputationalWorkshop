{
 "cells": [
  {
   "cell_type": "code",
   "execution_count": 1,
   "metadata": {
    "collapsed": true
   },
   "outputs": [],
   "source": [
    "import numpy as np\n",
    "import pandas as pd\n",
    "np.set_printoptions(precision=4)"
   ]
  },
  {
   "cell_type": "markdown",
   "source": [
    "# Решение задачи Дирихле:\n",
    "## Известно, что $u(x,y) = 2x^3y^3$\n",
    "## Оно является решением задачи Дирихле:\n",
    "### $\\frac{\\partial^2 u}{\\partial x^2} + \\frac{\\partial^2 u}{\\partial y^2} = -(\\underbrace{-12xy(x^2+y^2)}_{f(x,y)})$\n",
    "### $u(0,y) \\equiv 0$\n",
    "### $u(1,y) = 2y^3$\n",
    "### $u(x,0) \\equiv 0$\n",
    "### $u(x,1) = 2x^3$"
   ],
   "metadata": {
    "collapsed": false,
    "pycharm": {
     "name": "#%% md\n"
    }
   }
  },
  {
   "cell_type": "code",
   "execution_count": 2,
   "outputs": [],
   "source": [
    "N = 6\n",
    "a_x = 0\n",
    "b_x = 1\n",
    "a_y = 0\n",
    "b_y = 1\n",
    "h = (b_x-a_x)/(N - 1) # ширина сетки вместе с граничными узлами\n",
    "iN = N - 2 # ширина сетки без граничных узлов\n",
    "\n",
    "f = lambda x,y: -12*x*y*(x*x+y*y)\n",
    "u1y = lambda y: 2*y**3\n",
    "ux1 = lambda x: 2*x**3\n",
    "u_expected = lambda x,y: 2*x**3*y**3"
   ],
   "metadata": {
    "collapsed": false,
    "pycharm": {
     "name": "#%%\n"
    }
   }
  },
  {
   "cell_type": "code",
   "execution_count": 3,
   "outputs": [],
   "source": [
    "def init_U():\n",
    "    U = np.zeros(shape = (N, N))\n",
    "    for i in range(N):\n",
    "        U[i, N - 1] = ux1(i*h)\n",
    "    for j in range(N):\n",
    "        U[N - 1, j] = u1y(j*h)\n",
    "    return U\n",
    "\n",
    "U = init_U()\n",
    "\n",
    "U_expected = U.copy() # задаём границы\n",
    "U_expected[1:iN+1,1:iN+1] = np.array([[u_expected(i*h,j*h) for j in range(1, iN+1)] for i in range(1, iN+1)])\n",
    "\n",
    "F = np.array([[f(i*h, j*h) for j in range(1, iN+1)] for i in range(1,iN+1)])"
   ],
   "metadata": {
    "collapsed": false,
    "pycharm": {
     "name": "#%%\n"
    }
   }
  },
  {
   "cell_type": "code",
   "execution_count": 13,
   "outputs": [],
   "source": [
    "class DESolver:\n",
    "    def __init__(self, grid_step, N, eps = 1e-5):\n",
    "        self.h = grid_step\n",
    "        self.methods = {'iteration': self.iteration_method_iter,\n",
    "                        'seidel': self.seidel_method_iter,\n",
    "                        'over-relaxation': self.overrelaxation_method_iter}\n",
    "        self.methods_params = {'iteration'      : {'min_iters': 2*np.log(1/eps)/(np.pi*h)**2,\n",
    "                                                'spectral_rad': np.cos(np.pi * h)},\n",
    "                               'seidel'         : {'min_iters': np.log(1/eps)/(np.pi*h)**2,\n",
    "                                                'spectral_rad': np.cos(np.pi * h)**2},\n",
    "                               'over-relaxation': {'min_iters': 2*np.log(1/eps)/(np.pi*h),\n",
    "                                                'spectral_rad': np.cos(np.pi * h),\n",
    "                                                'opt_parameter': 2/(1 + np.sin(np.pi * h))}}\n",
    "        self.iN = N - 2\n",
    "        C = np.matrix([[4, -1] + (N-2)*[0]] +\n",
    "              [ k*[0] + [-1, 4, -1] + (N - 3 - k)*[0] for k in range(0, N - 2)] +\n",
    "              [(N-2)*[0] + [-1, 4]], dtype=float)\n",
    "        self.mmatrix = np.block([[C, -np.eye(N = N)] + (N-2)*[np.zeros( shape = (N, N) )]] +\n",
    "              [ k*[np.zeros( shape = (N, N) )] + [-np.eye(N = N), C, -np.eye(N = N)] + (N - 3 - k)*[np.zeros( shape = (N, N) )] for k in range(0, N - 2)] +\n",
    "              [(N-2)*[np.zeros( shape = (N, N) )] + [-np.eye(N = N), C]]) / grid_step**2\n",
    "        self.lastsol = np.zeros(shape = (N, N))\n",
    "        self.iter_diffs = np.zeros(shape = 3) # Хранит разницу приближений последних трёх итераций\n",
    "\n",
    "    def __method_iter(self, U_curr, method_name, method_params):\n",
    "        return self.methods[method_name](U_curr, params = method_params)\n",
    "\n",
    "    def iteration_method_iter(self, U, params = None):\n",
    "        for i in range(1, self.iN+1):\n",
    "            for j in range(1, self.iN+1):\n",
    "               self.lastsol[i, j] = 0.25*(U[i-1, j]+U[i+1,j]+U[i, j-1]+U[i, j+1]+F[i-1,j-1]*self.h**2)\n",
    "        return self.lastsol\n",
    "\n",
    "    def seidel_method_iter(self, U, params = None):\n",
    "        for k in range(1, iN+1):\n",
    "            for i in range(k, iN+1):\n",
    "                self.lastsol[i, k] = 0.25*(self.lastsol[i-1, k]+U[i+1,k]+self.lastsol[i, k-1]+U[i, k+1]+F[i-1,k-1]*self.h**2)\n",
    "            for j in range(k+1, iN+1):\n",
    "                self.lastsol[k, j] = 0.25*(self.lastsol[k-1, j]+U[k+1,j]+self.lastsol[k, j-1]+U[k, j+1]+F[k-1,j-1]*self.h**2)\n",
    "        return self.lastsol\n",
    "\n",
    "    def overrelaxation_method_iter(self, U, params):\n",
    "            for k in range(1, iN+1):\n",
    "                for i in range(k, iN+1):\n",
    "                    self.lastsol[i, k] = (1-params['opt'])*U[i,k] + 0.25*params['opt']*(self.lastsol[i-1, k]+U[i+1,k]+self.lastsol[i, k-1]+U[i, k+1]+F[i-1,k-1]*self.h**2)\n",
    "                for j in range(k+1, iN+1):\n",
    "                    self.lastsol[k, j] = (1-params['opt'])*U[k,j] + 0.25*params['opt']*(self.lastsol[k-1, j]+U[k+1,j]+self.lastsol[k, j-1]+U[k, j+1]+F[k-1,j-1]*self.h**2)\n",
    "            return self.lastsol\n",
    "\n",
    "    def __calculate_props(self, U, U_expected, iter, init_error, init_discrepancy, apost_est_coef):\n",
    "        iter_diff = np.max(np.abs(U - self.lastsol))\n",
    "        self.iter_diffs[iter % 3] = iter_diff\n",
    "        apost_est = apost_est_coef * iter_diff\n",
    "        spec_rad_est = ' ' if iter < 2 else np.sqrt(self.iter_diffs[iter % 3]/ self.iter_diffs[(iter - 2) % 3] )\n",
    "\n",
    "        U_reshaped = np.reshape(self.lastsol, newshape=(N**2, 1)) # преобразуем матрицу сетки к вектору\n",
    "        AU = self.mmatrix @ U_reshaped\n",
    "        AU_reshaped_cut = np.reshape(AU, newshape=(N, N))[1:iN+1, 1:iN+1]\n",
    "\n",
    "        error = np.max(np.abs(self.lastsol - U_expected))\n",
    "        discrepancy = np.max(np.abs(AU_reshaped_cut - F))\n",
    "        rel_discrepancy = discrepancy / init_discrepancy\n",
    "        rel_error = error / init_error\n",
    "\n",
    "        return [iter + 1, discrepancy, rel_discrepancy,\n",
    "                             error, rel_error, iter_diff, apost_est, spec_rad_est]\n",
    "\n",
    "    def solve(self, U_init, U_expected, eps = 1e-5, method = 'iteration', method_parameters = None):\n",
    "        if method not in ['iteration', 'seidel', 'over-relaxation']:\n",
    "            return None\n",
    "        else:\n",
    "            self.iter_diffs = np.zeros(shape = 3)\n",
    "            if method_parameters is None and method == 'over-relaxation':\n",
    "                method_parameters = {'opt': self.methods_params['over-relaxation']['opt_parameter']}\n",
    "        #apost_est_coef = map(lambda x: x/1-x, [self.methods_params[method]['spectral_rad']])\n",
    "        apost_est_coef = self.methods_params[method]['spectral_rad']/ (1 - self.methods_params[method]['spectral_rad'])\n",
    "        init_error = np.max(np.abs(U_init - U_expected))\n",
    "        U = U_init.copy()\n",
    "        self.lastsol = U.copy()\n",
    "\n",
    "        U_reshaped = np.reshape(U, newshape=(N**2, 1)) # преобразуем матрицу сетки к вектору\n",
    "        AU = self.mmatrix@U_reshaped\n",
    "        AU_reshaped_cut = np.reshape(AU, newshape=(N, N))[1:iN+1, 1:iN+1]\n",
    "\n",
    "        init_discrepancy = np.max(np.abs(AU_reshaped_cut - F))\n",
    "        U_new = U.copy()\n",
    "        output_list = list()\n",
    "        iter = 0\n",
    "        rel_discrepancy = 1\n",
    "\n",
    "        while rel_discrepancy > eps and iter < self.methods_params[method]['min_iters']:\n",
    "            U_new = self.__method_iter(U, method, method_parameters)\n",
    "\n",
    "            curr_iter_props = self.__calculate_props(U, U_expected, iter, init_error, init_discrepancy, apost_est_coef)\n",
    "            output_list+=[ curr_iter_props ]\n",
    "\n",
    "            U = U_new.copy()\n",
    "            rel_discrepancy = curr_iter_props[2]\n",
    "            iter+=1\n",
    "                                                                                      \n",
    "        output_list += [[' ', 'min_iters:', self.methods_params[method]['min_iters'], ' ', ' method:', method, ' ', ' ']]\n",
    "        return {'solution': U ,'output': pd.DataFrame(data = output_list,\n",
    "                                                      columns = ['k', 'Curr. discr.', 'Rel. discr.', 'Curr. error', 'Rel. error', '$ \\lVert U_k - U_{k-1} \\rVert $', 'Apost. est.', '$\\hat{\\rho}_k$']).set_index(keys = 'k')}\n"
   ],
   "metadata": {
    "collapsed": false,
    "pycharm": {
     "name": "#%%\n"
    }
   }
  },
  {
   "cell_type": "code",
   "execution_count": 14,
   "outputs": [
    {
     "data": {
      "text/plain": "   Curr. discr.  Rel. discr. Curr. error Rel. error  \\\nk                                                     \n1     12.818102     0.309844    0.178156   0.339806   \n2      8.068365     0.195031    0.121005   0.230799   \n3      3.882178     0.093841    0.065343   0.124632   \n4      2.467779     0.059652    0.043363   0.082709   \n5      1.318445     0.031870    0.020158   0.038447   \n6        0.8154     0.019710    0.009445   0.018014   \n7      0.122073     0.002951    0.000877   0.001673   \n8      0.046935     0.001135    0.000712   0.001357   \n9      0.006236     0.000151     0.00012   0.000229   \n10     0.002627     0.000064    0.000042    0.00008   \n11     0.000451     0.000011    0.000009   0.000017   \n12     0.000154     0.000004    0.000003   0.000006   \n     min_iters:    36.646780                method:   \n\n   $ \\lVert U_k - U_{k-1} \\rVert $ Apost. est. $\\hat{\\rho}_k$  \nk                                                              \n1                         0.548197    2.322201                 \n2                         0.172424    0.730399                 \n3                         0.107656    0.456037        0.44315  \n4                         0.051782    0.219351       0.548011  \n5                         0.033384    0.141419        0.55687  \n6                         0.017576    0.074453       0.582602  \n7                         0.010271    0.043508       0.554667  \n8                         0.001538    0.006514        0.29578  \n9                         0.000591    0.002504       0.239917  \n10                        0.000085     0.00036       0.235014  \n11                        0.000033     0.00014       0.236598  \n12                        0.000006    0.000024       0.258725  \n                   over-relaxation                             ",
      "text/html": "<div>\n<style scoped>\n    .dataframe tbody tr th:only-of-type {\n        vertical-align: middle;\n    }\n\n    .dataframe tbody tr th {\n        vertical-align: top;\n    }\n\n    .dataframe thead th {\n        text-align: right;\n    }\n</style>\n<table border=\"1\" class=\"dataframe\">\n  <thead>\n    <tr style=\"text-align: right;\">\n      <th></th>\n      <th>Curr. discr.</th>\n      <th>Rel. discr.</th>\n      <th>Curr. error</th>\n      <th>Rel. error</th>\n      <th>$ \\lVert U_k - U_{k-1} \\rVert $</th>\n      <th>Apost. est.</th>\n      <th>$\\hat{\\rho}_k$</th>\n    </tr>\n    <tr>\n      <th>k</th>\n      <th></th>\n      <th></th>\n      <th></th>\n      <th></th>\n      <th></th>\n      <th></th>\n      <th></th>\n    </tr>\n  </thead>\n  <tbody>\n    <tr>\n      <th>1</th>\n      <td>12.818102</td>\n      <td>0.309844</td>\n      <td>0.178156</td>\n      <td>0.339806</td>\n      <td>0.548197</td>\n      <td>2.322201</td>\n      <td></td>\n    </tr>\n    <tr>\n      <th>2</th>\n      <td>8.068365</td>\n      <td>0.195031</td>\n      <td>0.121005</td>\n      <td>0.230799</td>\n      <td>0.172424</td>\n      <td>0.730399</td>\n      <td></td>\n    </tr>\n    <tr>\n      <th>3</th>\n      <td>3.882178</td>\n      <td>0.093841</td>\n      <td>0.065343</td>\n      <td>0.124632</td>\n      <td>0.107656</td>\n      <td>0.456037</td>\n      <td>0.44315</td>\n    </tr>\n    <tr>\n      <th>4</th>\n      <td>2.467779</td>\n      <td>0.059652</td>\n      <td>0.043363</td>\n      <td>0.082709</td>\n      <td>0.051782</td>\n      <td>0.219351</td>\n      <td>0.548011</td>\n    </tr>\n    <tr>\n      <th>5</th>\n      <td>1.318445</td>\n      <td>0.031870</td>\n      <td>0.020158</td>\n      <td>0.038447</td>\n      <td>0.033384</td>\n      <td>0.141419</td>\n      <td>0.55687</td>\n    </tr>\n    <tr>\n      <th>6</th>\n      <td>0.8154</td>\n      <td>0.019710</td>\n      <td>0.009445</td>\n      <td>0.018014</td>\n      <td>0.017576</td>\n      <td>0.074453</td>\n      <td>0.582602</td>\n    </tr>\n    <tr>\n      <th>7</th>\n      <td>0.122073</td>\n      <td>0.002951</td>\n      <td>0.000877</td>\n      <td>0.001673</td>\n      <td>0.010271</td>\n      <td>0.043508</td>\n      <td>0.554667</td>\n    </tr>\n    <tr>\n      <th>8</th>\n      <td>0.046935</td>\n      <td>0.001135</td>\n      <td>0.000712</td>\n      <td>0.001357</td>\n      <td>0.001538</td>\n      <td>0.006514</td>\n      <td>0.29578</td>\n    </tr>\n    <tr>\n      <th>9</th>\n      <td>0.006236</td>\n      <td>0.000151</td>\n      <td>0.00012</td>\n      <td>0.000229</td>\n      <td>0.000591</td>\n      <td>0.002504</td>\n      <td>0.239917</td>\n    </tr>\n    <tr>\n      <th>10</th>\n      <td>0.002627</td>\n      <td>0.000064</td>\n      <td>0.000042</td>\n      <td>0.00008</td>\n      <td>0.000085</td>\n      <td>0.00036</td>\n      <td>0.235014</td>\n    </tr>\n    <tr>\n      <th>11</th>\n      <td>0.000451</td>\n      <td>0.000011</td>\n      <td>0.000009</td>\n      <td>0.000017</td>\n      <td>0.000033</td>\n      <td>0.00014</td>\n      <td>0.236598</td>\n    </tr>\n    <tr>\n      <th>12</th>\n      <td>0.000154</td>\n      <td>0.000004</td>\n      <td>0.000003</td>\n      <td>0.000006</td>\n      <td>0.000006</td>\n      <td>0.000024</td>\n      <td>0.258725</td>\n    </tr>\n    <tr>\n      <th></th>\n      <td>min_iters:</td>\n      <td>36.646780</td>\n      <td></td>\n      <td>method:</td>\n      <td>over-relaxation</td>\n      <td></td>\n      <td></td>\n    </tr>\n  </tbody>\n</table>\n</div>"
     },
     "execution_count": 14,
     "metadata": {},
     "output_type": "execute_result"
    }
   ],
   "source": [
    "solver = DESolver(h, N)\n",
    "\n",
    "iter_summary = solver.solve(U, method = 'over-relaxation', U_expected = U_expected)\n",
    "solU = iter_summary['solution']\n",
    "iter_summary['output'][::]"
   ],
   "metadata": {
    "collapsed": false,
    "pycharm": {
     "name": "#%%\n"
    }
   }
  },
  {
   "cell_type": "code",
   "execution_count": null,
   "outputs": [],
   "source": [
    "solU[0:N + 1,0:N+1]"
   ],
   "metadata": {
    "collapsed": false,
    "pycharm": {
     "name": "#%%\n"
    }
   }
  },
  {
   "cell_type": "code",
   "execution_count": null,
   "outputs": [],
   "source": [
    "F\n"
   ],
   "metadata": {
    "collapsed": false,
    "pycharm": {
     "name": "#%%\n"
    }
   }
  },
  {
   "cell_type": "code",
   "execution_count": null,
   "outputs": [],
   "source": [
    "solU\n"
   ],
   "metadata": {
    "collapsed": false,
    "pycharm": {
     "name": "#%%\n"
    }
   }
  },
  {
   "cell_type": "code",
   "execution_count": null,
   "outputs": [],
   "source": [],
   "metadata": {
    "collapsed": false,
    "pycharm": {
     "name": "#%%\n"
    }
   }
  }
 ],
 "metadata": {
  "kernelspec": {
   "display_name": "Python 3",
   "language": "python",
   "name": "python3"
  },
  "language_info": {
   "codemirror_mode": {
    "name": "ipython",
    "version": 2
   },
   "file_extension": ".py",
   "mimetype": "text/x-python",
   "name": "python",
   "nbconvert_exporter": "python",
   "pygments_lexer": "ipython2",
   "version": "2.7.6"
  }
 },
 "nbformat": 4,
 "nbformat_minor": 0
}