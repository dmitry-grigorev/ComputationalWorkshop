{
 "cells": [
  {
   "cell_type": "code",
   "execution_count": 76,
   "metadata": {
    "collapsed": true
   },
   "outputs": [],
   "source": [
    "import numpy as np\n",
    "import pandas as pd\n",
    "np.set_printoptions(precision=6, suppress=True)"
   ]
  },
  {
   "cell_type": "markdown",
   "source": [
    "# Решение задачи Дирихле:\n",
    "## Известно, что $u(x,y) = 2x^3y^3$\n",
    "## Оно является решением задачи Дирихле:\n",
    "### $\\frac{\\partial^2 u}{\\partial x^2} + \\frac{\\partial^2 u}{\\partial y^2} = -(\\underbrace{-12xy(x^2+y^2)}_{f(x,y)})$\n",
    "### $u(0,y) \\equiv 0$\n",
    "### $u(1,y) = 2y^3$\n",
    "### $u(x,0) \\equiv 0$\n",
    "### $u(x,1) = 2x^3$"
   ],
   "metadata": {
    "collapsed": false,
    "pycharm": {
     "name": "#%% md\n"
    }
   }
  },
  {
   "cell_type": "code",
   "execution_count": 77,
   "outputs": [],
   "source": [
    "N = 11\n",
    "a_x = 0\n",
    "b_x = 1\n",
    "a_y = 0\n",
    "b_y = 1\n",
    "h = (b_x-a_x)/(N - 1) # ширина сетки вместе с граничными узлами\n",
    "iN = N - 2 # ширина сетки без граничных узлов\n",
    "\n",
    "f = lambda x,y: -12*x*y*(x*x+y*y)\n",
    "u1y = lambda y: 2*y**3\n",
    "ux1 = lambda x: 2*x**3\n",
    "u_expected = lambda x,y: 2*x**3*y**3"
   ],
   "metadata": {
    "collapsed": false,
    "pycharm": {
     "name": "#%%\n"
    }
   }
  },
  {
   "cell_type": "markdown",
   "source": [
    "### Задаём начальное приближение с помощью начальных данных"
   ],
   "metadata": {
    "collapsed": false,
    "pycharm": {
     "name": "#%% md\n"
    }
   }
  },
  {
   "cell_type": "code",
   "execution_count": 78,
   "outputs": [],
   "source": [
    "def init_U(N):\n",
    "    U = np.zeros(shape = (N, N))\n",
    "    for i in range(N):\n",
    "        U[i, N - 1] = ux1(i*h)\n",
    "    for j in range(N):\n",
    "        U[N - 1, j] = u1y(j*h)\n",
    "    return U\n",
    "\n",
    "def build_init_expected_and_F(N, h, u_expected, ux1, u1y, f):\n",
    "    U = init_U(N)\n",
    "\n",
    "    U_expected = U.copy() # задаём границы\n",
    "    U_expected[1:N-1,1:N-1] = np.array([[u_expected(i*h,j*h) for j in range(1, N-1)] for i in range(1, N-1)])\n",
    "    F = np.array([[f(i*h, j*h) for j in range(1, N-1)] for i in range(1,N-1)])\n",
    "    return {'init': U, 'expected': U_expected, 'F': F}"
   ],
   "metadata": {
    "collapsed": false,
    "pycharm": {
     "name": "#%%\n"
    }
   }
  },
  {
   "cell_type": "code",
   "execution_count": 79,
   "outputs": [],
   "source": [
    "class DESolver:\n",
    "    def __init__(self, grid_step, N, eps = 1e-5):\n",
    "        self.h = grid_step\n",
    "        self.methods = {'iteration': self.iteration_method_iter,\n",
    "                        'seidel': self.seidel_method_iter,\n",
    "                        'over-relaxation': self.overrelaxation_method_iter}\n",
    "        self.methods_params = {'iteration'      : {'min_iters': 2*np.log(1/eps)/(np.pi*h)**2,\n",
    "                                                'spectral_rad': np.cos(np.pi * h)},\n",
    "                               'seidel'         : {'min_iters': np.log(1/eps)/(np.pi*h)**2,\n",
    "                                                'spectral_rad': np.cos(np.pi * h)**2},\n",
    "                               'over-relaxation': {'min_iters': 2*np.log(1/eps)/(np.pi*h),\n",
    "                                                'spectral_rad': np.cos(np.pi * h),\n",
    "                                                'opt_parameter': 2/(1 + np.sin(np.pi * h))}}\n",
    "        self.N = N\n",
    "        self.iN = N - 2\n",
    "        C = np.matrix([[4, -1] + (N-2)*[0]] +\n",
    "              [ k*[0] + [-1, 4, -1] + (N - 3 - k)*[0] for k in range(0, N - 2)] +\n",
    "              [(N-2)*[0] + [-1, 4]], dtype=float)\n",
    "        self.mmatrix = np.block([[C, -np.eye(N = N)] + (N-2)*[np.zeros( shape = (N, N) )]] +\n",
    "              [ k*[np.zeros( shape = (N, N) )] + [-np.eye(N = N), C, -np.eye(N = N)] + (N - 3 - k)*[np.zeros( shape = (N, N) )] for k in range(0, N - 2)] +\n",
    "              [(N-2)*[np.zeros( shape = (N, N) )] + [-np.eye(N = N), C]]) / grid_step**2\n",
    "        self.lastsol = np.zeros(shape = (N, N))\n",
    "        self.iter_diffs = np.zeros(shape = 3) # Хранит разницу приближений последних трёх итераций\n",
    "\n",
    "    def __method_iter(self, U_curr, F, method_name, method_params):\n",
    "        return self.methods[method_name](U_curr, F, params = method_params)\n",
    "\n",
    "    def iteration_method_iter(self, U, F, params = None):\n",
    "        for i in range(1, self.iN+1):\n",
    "            for j in range(1, self.iN+1):\n",
    "               self.lastsol[i, j] = 0.25*(U[i-1, j]+U[i+1,j]+U[i, j-1]+U[i, j+1]+F[i-1,j-1]*self.h**2)\n",
    "        return self.lastsol\n",
    "\n",
    "    def seidel_method_iter(self, U, F,params = None):\n",
    "        for k in range(1, self.iN+1):\n",
    "            for i in range(k, self.iN+1):\n",
    "                self.lastsol[i, k] = 0.25*(self.lastsol[i-1, k]+U[i+1,k]+self.lastsol[i, k-1]+U[i, k+1]+F[i-1,k-1]*self.h**2)\n",
    "            for j in range(k+1, self.iN+1):\n",
    "                self.lastsol[k, j] = 0.25*(self.lastsol[k-1, j]+U[k+1,j]+self.lastsol[k, j-1]+U[k, j+1]+F[k-1,j-1]*self.h**2)\n",
    "        return self.lastsol\n",
    "\n",
    "    def overrelaxation_method_iter(self, U, F,params):\n",
    "            for k in range(1, self.iN+1):\n",
    "                for i in range(k, self.iN+1):\n",
    "                    self.lastsol[i, k] = (1-params['opt'])*U[i,k] + 0.25*params['opt']*(self.lastsol[i-1, k]+U[i+1,k]+self.lastsol[i, k-1]+U[i, k+1]+F[i-1,k-1]*self.h**2)\n",
    "                for j in range(k+1, self.iN+1):\n",
    "                    self.lastsol[k, j] = (1-params['opt'])*U[k,j] + 0.25*params['opt']*(self.lastsol[k-1, j]+U[k+1,j]+self.lastsol[k, j-1]+U[k, j+1]+F[k-1,j-1]*self.h**2)\n",
    "            return self.lastsol\n",
    "\n",
    "    def __calculate_props(self, U, U_expected, F, iter, init_error, init_discrepancy, apost_est_coef):\n",
    "        iter_diff = np.max(np.abs(U - self.lastsol))\n",
    "        self.iter_diffs[iter % 3] = iter_diff\n",
    "        apost_est = apost_est_coef * iter_diff\n",
    "        spec_rad_est = ' ' if iter < 2 else np.sqrt(self.iter_diffs[iter % 3]/ self.iter_diffs[(iter - 2) % 3] )\n",
    "\n",
    "        U_reshaped = np.reshape(self.lastsol, newshape=(self.N**2, 1)) # преобразуем матрицу сетки к вектору\n",
    "        AU = self.mmatrix @ U_reshaped\n",
    "        AU_reshaped_cut = np.reshape(AU, newshape=(self.N, self.N))[1:self.iN+1, 1:self.iN+1]\n",
    "\n",
    "        error = np.max(np.abs(self.lastsol - U_expected))\n",
    "        discrepancy = np.max(np.abs(AU_reshaped_cut - F))\n",
    "        rel_discrepancy = discrepancy / init_discrepancy\n",
    "        rel_error = error / init_error\n",
    "\n",
    "        return [iter + 1, discrepancy, rel_discrepancy,\n",
    "                             error, rel_error, iter_diff, apost_est, spec_rad_est]\n",
    "\n",
    "    def solve(self, U_init, U_expected, F, eps = 1e-5, method = 'iteration', method_parameters = None):\n",
    "        if method not in ['iteration', 'seidel', 'over-relaxation']:\n",
    "            return None\n",
    "        else:\n",
    "            self.iter_diffs = np.zeros(shape = 3)\n",
    "            if method_parameters is None and method == 'over-relaxation':\n",
    "                method_parameters = {'opt': self.methods_params['over-relaxation']['opt_parameter']}\n",
    "\n",
    "        apost_est_coef = self.methods_params[method]['spectral_rad']/ (1 - self.methods_params[method]['spectral_rad'])\n",
    "        init_error = np.max(np.abs(U_init - U_expected))\n",
    "        U = U_init.copy()\n",
    "        self.lastsol = U.copy()\n",
    "\n",
    "        U_reshaped = np.reshape(U, newshape=(self.N**2, 1)) # преобразуем матрицу сетки к вектору\n",
    "        AU = self.mmatrix@U_reshaped\n",
    "        AU_reshaped_cut = np.reshape(AU, newshape=(self.N, self.N))[1:self.iN+1, 1:self.iN+1]\n",
    "\n",
    "        init_discrepancy = np.max(np.abs(AU_reshaped_cut - F))\n",
    "        output_list = list()\n",
    "        iter = 0\n",
    "        rel_discrepancy = 1\n",
    "\n",
    "        while rel_discrepancy > eps and iter < self.methods_params[method]['min_iters']:\n",
    "            U_new = self.__method_iter(U, F, method, method_parameters)\n",
    "\n",
    "            curr_iter_props = self.__calculate_props(U, U_expected, F, iter, init_error, init_discrepancy, apost_est_coef)\n",
    "            output_list+=[ curr_iter_props ]\n",
    "\n",
    "            U = U_new.copy()\n",
    "            rel_discrepancy = curr_iter_props[2]\n",
    "            iter+=1\n",
    "                                                                                      \n",
    "        output_list += [[' ', 'min_iters:', self.methods_params[method]['min_iters'], ' ', ' method:', method, ' ', ' ']]\n",
    "        return {'solution': U ,'output': pd.DataFrame(data = output_list,\n",
    "                                                      columns = ['k', 'Curr. discr.', 'Rel. discr.', 'Curr. error', 'Rel. error', '$ \\lVert U_k - U_{k-1} \\rVert $', 'Apost. est.', '$\\hat{\\rho}_k$']).set_index(keys = 'k')}\n"
   ],
   "metadata": {
    "collapsed": false,
    "pycharm": {
     "name": "#%%\n"
    }
   }
  },
  {
   "cell_type": "code",
   "execution_count": 80,
   "outputs": [],
   "source": [
    "solver = DESolver(h, N)\n",
    "initials = build_init_expected_and_F(N, h, u_expected,ux1, u1y, f)\n",
    "U_init = initials['init']\n",
    "U_expected = initials['expected']\n",
    "F = initials['F']"
   ],
   "metadata": {
    "collapsed": false,
    "pycharm": {
     "name": "#%%\n"
    }
   }
  },
  {
   "cell_type": "markdown",
   "source": [
    "### Решение методом простой итерации"
   ],
   "metadata": {
    "collapsed": false,
    "pycharm": {
     "name": "#%% md\n"
    }
   }
  },
  {
   "cell_type": "code",
   "execution_count": 81,
   "outputs": [
    {
     "data": {
      "text/plain": "    Curr. discr.  Rel. discr. Curr. error Rel. error  \\\nk                                                      \n1        81.1988     0.294355    0.548864   0.516392   \n2        45.2768     0.164133    0.446016   0.419629   \n3       28.25815     0.102439    0.332824   0.313134   \n4        24.2665     0.087969    0.274983   0.258715   \n5      14.478205     0.052485    0.219805   0.206801   \n..           ...          ...         ...        ...   \n134     0.003265     0.000012    0.000144   0.000136   \n135     0.002953     0.000011    0.000136   0.000128   \n136     0.002953     0.000011     0.00013   0.000123   \n137     0.002671     0.000010    0.000123   0.000116   \n      min_iters:   233.300647                method:   \n\n    $ \\lVert U_k - U_{k-1} \\rVert $ Apost. est. $\\hat{\\rho}_k$  \nk                                                               \n1                          0.689634   13.400781                 \n2                          0.202997    3.944583                 \n3                          0.113192    2.199516       0.405134  \n4                          0.070645    1.372762       0.589925  \n5                          0.060666     1.17885       0.732092  \n..                              ...         ...            ...  \n134                        0.000008    0.000159       0.951052  \n135                        0.000008    0.000159       0.951057  \n136                        0.000007    0.000143       0.951053  \n137                        0.000007    0.000143       0.951057  \n                          iteration                             \n\n[138 rows x 7 columns]",
      "text/html": "<div>\n<style scoped>\n    .dataframe tbody tr th:only-of-type {\n        vertical-align: middle;\n    }\n\n    .dataframe tbody tr th {\n        vertical-align: top;\n    }\n\n    .dataframe thead th {\n        text-align: right;\n    }\n</style>\n<table border=\"1\" class=\"dataframe\">\n  <thead>\n    <tr style=\"text-align: right;\">\n      <th></th>\n      <th>Curr. discr.</th>\n      <th>Rel. discr.</th>\n      <th>Curr. error</th>\n      <th>Rel. error</th>\n      <th>$ \\lVert U_k - U_{k-1} \\rVert $</th>\n      <th>Apost. est.</th>\n      <th>$\\hat{\\rho}_k$</th>\n    </tr>\n    <tr>\n      <th>k</th>\n      <th></th>\n      <th></th>\n      <th></th>\n      <th></th>\n      <th></th>\n      <th></th>\n      <th></th>\n    </tr>\n  </thead>\n  <tbody>\n    <tr>\n      <th>1</th>\n      <td>81.1988</td>\n      <td>0.294355</td>\n      <td>0.548864</td>\n      <td>0.516392</td>\n      <td>0.689634</td>\n      <td>13.400781</td>\n      <td></td>\n    </tr>\n    <tr>\n      <th>2</th>\n      <td>45.2768</td>\n      <td>0.164133</td>\n      <td>0.446016</td>\n      <td>0.419629</td>\n      <td>0.202997</td>\n      <td>3.944583</td>\n      <td></td>\n    </tr>\n    <tr>\n      <th>3</th>\n      <td>28.25815</td>\n      <td>0.102439</td>\n      <td>0.332824</td>\n      <td>0.313134</td>\n      <td>0.113192</td>\n      <td>2.199516</td>\n      <td>0.405134</td>\n    </tr>\n    <tr>\n      <th>4</th>\n      <td>24.2665</td>\n      <td>0.087969</td>\n      <td>0.274983</td>\n      <td>0.258715</td>\n      <td>0.070645</td>\n      <td>1.372762</td>\n      <td>0.589925</td>\n    </tr>\n    <tr>\n      <th>5</th>\n      <td>14.478205</td>\n      <td>0.052485</td>\n      <td>0.219805</td>\n      <td>0.206801</td>\n      <td>0.060666</td>\n      <td>1.17885</td>\n      <td>0.732092</td>\n    </tr>\n    <tr>\n      <th>...</th>\n      <td>...</td>\n      <td>...</td>\n      <td>...</td>\n      <td>...</td>\n      <td>...</td>\n      <td>...</td>\n      <td>...</td>\n    </tr>\n    <tr>\n      <th>134</th>\n      <td>0.003265</td>\n      <td>0.000012</td>\n      <td>0.000144</td>\n      <td>0.000136</td>\n      <td>0.000008</td>\n      <td>0.000159</td>\n      <td>0.951052</td>\n    </tr>\n    <tr>\n      <th>135</th>\n      <td>0.002953</td>\n      <td>0.000011</td>\n      <td>0.000136</td>\n      <td>0.000128</td>\n      <td>0.000008</td>\n      <td>0.000159</td>\n      <td>0.951057</td>\n    </tr>\n    <tr>\n      <th>136</th>\n      <td>0.002953</td>\n      <td>0.000011</td>\n      <td>0.00013</td>\n      <td>0.000123</td>\n      <td>0.000007</td>\n      <td>0.000143</td>\n      <td>0.951053</td>\n    </tr>\n    <tr>\n      <th>137</th>\n      <td>0.002671</td>\n      <td>0.000010</td>\n      <td>0.000123</td>\n      <td>0.000116</td>\n      <td>0.000007</td>\n      <td>0.000143</td>\n      <td>0.951057</td>\n    </tr>\n    <tr>\n      <th></th>\n      <td>min_iters:</td>\n      <td>233.300647</td>\n      <td></td>\n      <td>method:</td>\n      <td>iteration</td>\n      <td></td>\n      <td></td>\n    </tr>\n  </tbody>\n</table>\n<p>138 rows × 7 columns</p>\n</div>"
     },
     "execution_count": 81,
     "metadata": {},
     "output_type": "execute_result"
    }
   ],
   "source": [
    "iter_summary = solver.solve(U_init, method = 'iteration', U_expected = U_expected, F = F)\n",
    "solU_i = iter_summary['solution']\n",
    "iter_summary['output'][::]"
   ],
   "metadata": {
    "collapsed": false,
    "pycharm": {
     "name": "#%%\n"
    }
   }
  },
  {
   "cell_type": "markdown",
   "source": [
    "### Решение методом Зейделя"
   ],
   "metadata": {
    "collapsed": false
   }
  },
  {
   "cell_type": "code",
   "execution_count": 82,
   "outputs": [
    {
     "data": {
      "text/plain": "   Curr. discr.  Rel. discr. Curr. error Rel. error  \\\nk                                                     \n1     81.741131     0.296321    0.564035   0.530666   \n2     52.139987     0.189013    0.422256   0.397275   \n3     25.085994     0.090940    0.289813   0.272667   \n4      15.59163     0.056521    0.238097   0.224011   \n5     10.922248     0.039594    0.191427   0.180102   \n..          ...          ...         ...        ...   \n71      0.00344     0.000012    0.000163   0.000153   \n72     0.003111     0.000011    0.000147   0.000139   \n73     0.002814     0.000010    0.000133   0.000125   \n74     0.002545     0.000009    0.000121   0.000113   \n     min_iters:   116.650324                method:   \n\n   $ \\lVert U_k - U_{k-1} \\rVert $ Apost. est. $\\hat{\\rho}_k$  \nk                                                              \n1                         0.817411    7.742631                 \n2                           0.2607    2.469385                 \n3                         0.162229    1.536658       0.445496  \n4                          0.08663    0.820574       0.576454  \n5                         0.054611    0.517285       0.580198  \n..                             ...         ...            ...  \n71                        0.000017    0.000163       0.904508  \n72                        0.000016    0.000147       0.904508  \n73                        0.000014    0.000133       0.904508  \n74                        0.000013    0.000121       0.904508  \n                            seidel                             \n\n[75 rows x 7 columns]",
      "text/html": "<div>\n<style scoped>\n    .dataframe tbody tr th:only-of-type {\n        vertical-align: middle;\n    }\n\n    .dataframe tbody tr th {\n        vertical-align: top;\n    }\n\n    .dataframe thead th {\n        text-align: right;\n    }\n</style>\n<table border=\"1\" class=\"dataframe\">\n  <thead>\n    <tr style=\"text-align: right;\">\n      <th></th>\n      <th>Curr. discr.</th>\n      <th>Rel. discr.</th>\n      <th>Curr. error</th>\n      <th>Rel. error</th>\n      <th>$ \\lVert U_k - U_{k-1} \\rVert $</th>\n      <th>Apost. est.</th>\n      <th>$\\hat{\\rho}_k$</th>\n    </tr>\n    <tr>\n      <th>k</th>\n      <th></th>\n      <th></th>\n      <th></th>\n      <th></th>\n      <th></th>\n      <th></th>\n      <th></th>\n    </tr>\n  </thead>\n  <tbody>\n    <tr>\n      <th>1</th>\n      <td>81.741131</td>\n      <td>0.296321</td>\n      <td>0.564035</td>\n      <td>0.530666</td>\n      <td>0.817411</td>\n      <td>7.742631</td>\n      <td></td>\n    </tr>\n    <tr>\n      <th>2</th>\n      <td>52.139987</td>\n      <td>0.189013</td>\n      <td>0.422256</td>\n      <td>0.397275</td>\n      <td>0.2607</td>\n      <td>2.469385</td>\n      <td></td>\n    </tr>\n    <tr>\n      <th>3</th>\n      <td>25.085994</td>\n      <td>0.090940</td>\n      <td>0.289813</td>\n      <td>0.272667</td>\n      <td>0.162229</td>\n      <td>1.536658</td>\n      <td>0.445496</td>\n    </tr>\n    <tr>\n      <th>4</th>\n      <td>15.59163</td>\n      <td>0.056521</td>\n      <td>0.238097</td>\n      <td>0.224011</td>\n      <td>0.08663</td>\n      <td>0.820574</td>\n      <td>0.576454</td>\n    </tr>\n    <tr>\n      <th>5</th>\n      <td>10.922248</td>\n      <td>0.039594</td>\n      <td>0.191427</td>\n      <td>0.180102</td>\n      <td>0.054611</td>\n      <td>0.517285</td>\n      <td>0.580198</td>\n    </tr>\n    <tr>\n      <th>...</th>\n      <td>...</td>\n      <td>...</td>\n      <td>...</td>\n      <td>...</td>\n      <td>...</td>\n      <td>...</td>\n      <td>...</td>\n    </tr>\n    <tr>\n      <th>71</th>\n      <td>0.00344</td>\n      <td>0.000012</td>\n      <td>0.000163</td>\n      <td>0.000153</td>\n      <td>0.000017</td>\n      <td>0.000163</td>\n      <td>0.904508</td>\n    </tr>\n    <tr>\n      <th>72</th>\n      <td>0.003111</td>\n      <td>0.000011</td>\n      <td>0.000147</td>\n      <td>0.000139</td>\n      <td>0.000016</td>\n      <td>0.000147</td>\n      <td>0.904508</td>\n    </tr>\n    <tr>\n      <th>73</th>\n      <td>0.002814</td>\n      <td>0.000010</td>\n      <td>0.000133</td>\n      <td>0.000125</td>\n      <td>0.000014</td>\n      <td>0.000133</td>\n      <td>0.904508</td>\n    </tr>\n    <tr>\n      <th>74</th>\n      <td>0.002545</td>\n      <td>0.000009</td>\n      <td>0.000121</td>\n      <td>0.000113</td>\n      <td>0.000013</td>\n      <td>0.000121</td>\n      <td>0.904508</td>\n    </tr>\n    <tr>\n      <th></th>\n      <td>min_iters:</td>\n      <td>116.650324</td>\n      <td></td>\n      <td>method:</td>\n      <td>seidel</td>\n      <td></td>\n      <td></td>\n    </tr>\n  </tbody>\n</table>\n<p>75 rows × 7 columns</p>\n</div>"
     },
     "execution_count": 82,
     "metadata": {},
     "output_type": "execute_result"
    }
   ],
   "source": [
    "iter_summary = solver.solve(U_init, method = 'seidel', U_expected = U_expected, F = F)\n",
    "solU_s = iter_summary['solution']\n",
    "iter_summary['output'][::]"
   ],
   "metadata": {
    "collapsed": false,
    "pycharm": {
     "name": "#%%\n"
    }
   }
  },
  {
   "cell_type": "markdown",
   "source": [
    "### Решение методом верхней релаксации"
   ],
   "metadata": {
    "collapsed": false
   }
  },
  {
   "cell_type": "code",
   "execution_count": 83,
   "outputs": [
    {
     "data": {
      "text/plain": "   Curr. discr.  Rel. discr. Curr. error Rel. error  \\\nk                                                     \n1    188.549832     0.683514    0.612457   0.576223   \n2    102.888676     0.372983    0.340329   0.320195   \n3     79.553441     0.288390    0.237854   0.223782   \n4     50.003605     0.181269    0.175503    0.16512   \n5     37.635711     0.136434    0.129915   0.122229   \n6     24.625723     0.089271     0.10025   0.094319   \n7     18.357216     0.066547    0.079239   0.074551   \n8     12.182867     0.044164    0.060826   0.057227   \n9      8.997514     0.032617    0.048227   0.045374   \n10     5.985586     0.021698    0.035444   0.033347   \n11     4.373017     0.015853    0.026264    0.02471   \n12     2.910483     0.010551    0.016764   0.015772   \n13     2.131437     0.007727    0.010507   0.009885   \n14     1.483843     0.005379    0.005214   0.004906   \n15      1.15819     0.004199    0.001872   0.001762   \n16     0.941061     0.003411    0.002079   0.001956   \n17     0.841171     0.003049    0.001723   0.001621   \n18     0.468043     0.001697     0.00149   0.001402   \n19     0.118024     0.000428    0.000298    0.00028   \n20     0.037312     0.000135    0.000176   0.000166   \n21     0.006766     0.000025    0.000058   0.000055   \n22     0.005136     0.000019    0.000039   0.000037   \n23     0.001335     0.000005    0.000016   0.000015   \n     min_iters:    73.293560                method:   \n\n   $ \\lVert U_k - U_{k-1} \\rVert $ Apost. est. $\\hat{\\rho}_k$  \nk                                                              \n1                         1.364359   26.511862                 \n2                         0.499472    9.705599                 \n3                         0.305825    5.942714       0.473448  \n4                         0.191153    3.714424       0.618635  \n5                         0.137264    2.667277       0.669949  \n6                         0.095508    1.855894       0.706856  \n7                         0.072131    1.401638        0.72491  \n8                         0.052331    1.016884       0.740217  \n9                         0.040414    0.785314       0.748521  \n10                        0.030089    0.584675       0.758266  \n11                        0.023593    0.458461       0.764064  \n12                        0.017774    0.345371       0.768574  \n13                        0.013806    0.268278       0.764964  \n14                        0.009743    0.189318       0.740377  \n15                        0.006897    0.134021       0.706797  \n16                        0.003707    0.072032       0.616833  \n17                        0.002839    0.055165       0.641569  \n18                        0.003213    0.062434       0.930995  \n19                        0.001788    0.034739       0.793562  \n20                        0.000451     0.00876       0.374579  \n21                        0.000143    0.002769       0.282344  \n22                        0.000031    0.000611       0.264108  \n23                        0.000026    0.000508       0.428327  \n                   over-relaxation                             ",
      "text/html": "<div>\n<style scoped>\n    .dataframe tbody tr th:only-of-type {\n        vertical-align: middle;\n    }\n\n    .dataframe tbody tr th {\n        vertical-align: top;\n    }\n\n    .dataframe thead th {\n        text-align: right;\n    }\n</style>\n<table border=\"1\" class=\"dataframe\">\n  <thead>\n    <tr style=\"text-align: right;\">\n      <th></th>\n      <th>Curr. discr.</th>\n      <th>Rel. discr.</th>\n      <th>Curr. error</th>\n      <th>Rel. error</th>\n      <th>$ \\lVert U_k - U_{k-1} \\rVert $</th>\n      <th>Apost. est.</th>\n      <th>$\\hat{\\rho}_k$</th>\n    </tr>\n    <tr>\n      <th>k</th>\n      <th></th>\n      <th></th>\n      <th></th>\n      <th></th>\n      <th></th>\n      <th></th>\n      <th></th>\n    </tr>\n  </thead>\n  <tbody>\n    <tr>\n      <th>1</th>\n      <td>188.549832</td>\n      <td>0.683514</td>\n      <td>0.612457</td>\n      <td>0.576223</td>\n      <td>1.364359</td>\n      <td>26.511862</td>\n      <td></td>\n    </tr>\n    <tr>\n      <th>2</th>\n      <td>102.888676</td>\n      <td>0.372983</td>\n      <td>0.340329</td>\n      <td>0.320195</td>\n      <td>0.499472</td>\n      <td>9.705599</td>\n      <td></td>\n    </tr>\n    <tr>\n      <th>3</th>\n      <td>79.553441</td>\n      <td>0.288390</td>\n      <td>0.237854</td>\n      <td>0.223782</td>\n      <td>0.305825</td>\n      <td>5.942714</td>\n      <td>0.473448</td>\n    </tr>\n    <tr>\n      <th>4</th>\n      <td>50.003605</td>\n      <td>0.181269</td>\n      <td>0.175503</td>\n      <td>0.16512</td>\n      <td>0.191153</td>\n      <td>3.714424</td>\n      <td>0.618635</td>\n    </tr>\n    <tr>\n      <th>5</th>\n      <td>37.635711</td>\n      <td>0.136434</td>\n      <td>0.129915</td>\n      <td>0.122229</td>\n      <td>0.137264</td>\n      <td>2.667277</td>\n      <td>0.669949</td>\n    </tr>\n    <tr>\n      <th>6</th>\n      <td>24.625723</td>\n      <td>0.089271</td>\n      <td>0.10025</td>\n      <td>0.094319</td>\n      <td>0.095508</td>\n      <td>1.855894</td>\n      <td>0.706856</td>\n    </tr>\n    <tr>\n      <th>7</th>\n      <td>18.357216</td>\n      <td>0.066547</td>\n      <td>0.079239</td>\n      <td>0.074551</td>\n      <td>0.072131</td>\n      <td>1.401638</td>\n      <td>0.72491</td>\n    </tr>\n    <tr>\n      <th>8</th>\n      <td>12.182867</td>\n      <td>0.044164</td>\n      <td>0.060826</td>\n      <td>0.057227</td>\n      <td>0.052331</td>\n      <td>1.016884</td>\n      <td>0.740217</td>\n    </tr>\n    <tr>\n      <th>9</th>\n      <td>8.997514</td>\n      <td>0.032617</td>\n      <td>0.048227</td>\n      <td>0.045374</td>\n      <td>0.040414</td>\n      <td>0.785314</td>\n      <td>0.748521</td>\n    </tr>\n    <tr>\n      <th>10</th>\n      <td>5.985586</td>\n      <td>0.021698</td>\n      <td>0.035444</td>\n      <td>0.033347</td>\n      <td>0.030089</td>\n      <td>0.584675</td>\n      <td>0.758266</td>\n    </tr>\n    <tr>\n      <th>11</th>\n      <td>4.373017</td>\n      <td>0.015853</td>\n      <td>0.026264</td>\n      <td>0.02471</td>\n      <td>0.023593</td>\n      <td>0.458461</td>\n      <td>0.764064</td>\n    </tr>\n    <tr>\n      <th>12</th>\n      <td>2.910483</td>\n      <td>0.010551</td>\n      <td>0.016764</td>\n      <td>0.015772</td>\n      <td>0.017774</td>\n      <td>0.345371</td>\n      <td>0.768574</td>\n    </tr>\n    <tr>\n      <th>13</th>\n      <td>2.131437</td>\n      <td>0.007727</td>\n      <td>0.010507</td>\n      <td>0.009885</td>\n      <td>0.013806</td>\n      <td>0.268278</td>\n      <td>0.764964</td>\n    </tr>\n    <tr>\n      <th>14</th>\n      <td>1.483843</td>\n      <td>0.005379</td>\n      <td>0.005214</td>\n      <td>0.004906</td>\n      <td>0.009743</td>\n      <td>0.189318</td>\n      <td>0.740377</td>\n    </tr>\n    <tr>\n      <th>15</th>\n      <td>1.15819</td>\n      <td>0.004199</td>\n      <td>0.001872</td>\n      <td>0.001762</td>\n      <td>0.006897</td>\n      <td>0.134021</td>\n      <td>0.706797</td>\n    </tr>\n    <tr>\n      <th>16</th>\n      <td>0.941061</td>\n      <td>0.003411</td>\n      <td>0.002079</td>\n      <td>0.001956</td>\n      <td>0.003707</td>\n      <td>0.072032</td>\n      <td>0.616833</td>\n    </tr>\n    <tr>\n      <th>17</th>\n      <td>0.841171</td>\n      <td>0.003049</td>\n      <td>0.001723</td>\n      <td>0.001621</td>\n      <td>0.002839</td>\n      <td>0.055165</td>\n      <td>0.641569</td>\n    </tr>\n    <tr>\n      <th>18</th>\n      <td>0.468043</td>\n      <td>0.001697</td>\n      <td>0.00149</td>\n      <td>0.001402</td>\n      <td>0.003213</td>\n      <td>0.062434</td>\n      <td>0.930995</td>\n    </tr>\n    <tr>\n      <th>19</th>\n      <td>0.118024</td>\n      <td>0.000428</td>\n      <td>0.000298</td>\n      <td>0.00028</td>\n      <td>0.001788</td>\n      <td>0.034739</td>\n      <td>0.793562</td>\n    </tr>\n    <tr>\n      <th>20</th>\n      <td>0.037312</td>\n      <td>0.000135</td>\n      <td>0.000176</td>\n      <td>0.000166</td>\n      <td>0.000451</td>\n      <td>0.00876</td>\n      <td>0.374579</td>\n    </tr>\n    <tr>\n      <th>21</th>\n      <td>0.006766</td>\n      <td>0.000025</td>\n      <td>0.000058</td>\n      <td>0.000055</td>\n      <td>0.000143</td>\n      <td>0.002769</td>\n      <td>0.282344</td>\n    </tr>\n    <tr>\n      <th>22</th>\n      <td>0.005136</td>\n      <td>0.000019</td>\n      <td>0.000039</td>\n      <td>0.000037</td>\n      <td>0.000031</td>\n      <td>0.000611</td>\n      <td>0.264108</td>\n    </tr>\n    <tr>\n      <th>23</th>\n      <td>0.001335</td>\n      <td>0.000005</td>\n      <td>0.000016</td>\n      <td>0.000015</td>\n      <td>0.000026</td>\n      <td>0.000508</td>\n      <td>0.428327</td>\n    </tr>\n    <tr>\n      <th></th>\n      <td>min_iters:</td>\n      <td>73.293560</td>\n      <td></td>\n      <td>method:</td>\n      <td>over-relaxation</td>\n      <td></td>\n      <td></td>\n    </tr>\n  </tbody>\n</table>\n</div>"
     },
     "execution_count": 83,
     "metadata": {},
     "output_type": "execute_result"
    }
   ],
   "source": [
    "ovopt = 2/(1 + np.sin(np.pi * h))\n",
    "iter_summary = solver.solve(U_init, method = 'over-relaxation', U_expected = U_expected, F = F)\n",
    "solU_or = iter_summary['solution']\n",
    "iter_summary['output'][::]"
   ],
   "metadata": {
    "collapsed": false,
    "pycharm": {
     "name": "#%%\n"
    }
   }
  },
  {
   "cell_type": "markdown",
   "source": [
    "### Убедимся, что параметр по умолчанию является оптимальным"
   ],
   "metadata": {
    "collapsed": false,
    "pycharm": {
     "name": "#%% md\n"
    }
   }
  },
  {
   "cell_type": "code",
   "execution_count": 84,
   "outputs": [
    {
     "data": {
      "text/plain": "   Curr. discr.  Rel. discr. Curr. error Rel. error  \\\nk                                                     \n1     81.741131     0.296321    0.564035   0.530666   \n2     52.139987     0.189013    0.422256   0.397275   \n3     25.085994     0.090940    0.289813   0.272667   \n4      15.59163     0.056521    0.238097   0.224011   \n5     10.922248     0.039594    0.191427   0.180102   \n..          ...          ...         ...        ...   \n71      0.00344     0.000012    0.000163   0.000153   \n72     0.003111     0.000011    0.000147   0.000139   \n73     0.002814     0.000010    0.000133   0.000125   \n74     0.002545     0.000009    0.000121   0.000113   \n     min_iters:   116.650324                method:   \n\n   $ \\lVert U_k - U_{k-1} \\rVert $ Apost. est. $\\hat{\\rho}_k$  \nk                                                              \n1                         0.817411    7.742631                 \n2                           0.2607    2.469385                 \n3                         0.162229    1.536658       0.445496  \n4                          0.08663    0.820574       0.576454  \n5                         0.054611    0.517285       0.580198  \n..                             ...         ...            ...  \n71                        0.000017    0.000163       0.904508  \n72                        0.000016    0.000147       0.904508  \n73                        0.000014    0.000133       0.904508  \n74                        0.000013    0.000121       0.904508  \n                            seidel                             \n\n[75 rows x 7 columns]",
      "text/html": "<div>\n<style scoped>\n    .dataframe tbody tr th:only-of-type {\n        vertical-align: middle;\n    }\n\n    .dataframe tbody tr th {\n        vertical-align: top;\n    }\n\n    .dataframe thead th {\n        text-align: right;\n    }\n</style>\n<table border=\"1\" class=\"dataframe\">\n  <thead>\n    <tr style=\"text-align: right;\">\n      <th></th>\n      <th>Curr. discr.</th>\n      <th>Rel. discr.</th>\n      <th>Curr. error</th>\n      <th>Rel. error</th>\n      <th>$ \\lVert U_k - U_{k-1} \\rVert $</th>\n      <th>Apost. est.</th>\n      <th>$\\hat{\\rho}_k$</th>\n    </tr>\n    <tr>\n      <th>k</th>\n      <th></th>\n      <th></th>\n      <th></th>\n      <th></th>\n      <th></th>\n      <th></th>\n      <th></th>\n    </tr>\n  </thead>\n  <tbody>\n    <tr>\n      <th>1</th>\n      <td>81.741131</td>\n      <td>0.296321</td>\n      <td>0.564035</td>\n      <td>0.530666</td>\n      <td>0.817411</td>\n      <td>7.742631</td>\n      <td></td>\n    </tr>\n    <tr>\n      <th>2</th>\n      <td>52.139987</td>\n      <td>0.189013</td>\n      <td>0.422256</td>\n      <td>0.397275</td>\n      <td>0.2607</td>\n      <td>2.469385</td>\n      <td></td>\n    </tr>\n    <tr>\n      <th>3</th>\n      <td>25.085994</td>\n      <td>0.090940</td>\n      <td>0.289813</td>\n      <td>0.272667</td>\n      <td>0.162229</td>\n      <td>1.536658</td>\n      <td>0.445496</td>\n    </tr>\n    <tr>\n      <th>4</th>\n      <td>15.59163</td>\n      <td>0.056521</td>\n      <td>0.238097</td>\n      <td>0.224011</td>\n      <td>0.08663</td>\n      <td>0.820574</td>\n      <td>0.576454</td>\n    </tr>\n    <tr>\n      <th>5</th>\n      <td>10.922248</td>\n      <td>0.039594</td>\n      <td>0.191427</td>\n      <td>0.180102</td>\n      <td>0.054611</td>\n      <td>0.517285</td>\n      <td>0.580198</td>\n    </tr>\n    <tr>\n      <th>...</th>\n      <td>...</td>\n      <td>...</td>\n      <td>...</td>\n      <td>...</td>\n      <td>...</td>\n      <td>...</td>\n      <td>...</td>\n    </tr>\n    <tr>\n      <th>71</th>\n      <td>0.00344</td>\n      <td>0.000012</td>\n      <td>0.000163</td>\n      <td>0.000153</td>\n      <td>0.000017</td>\n      <td>0.000163</td>\n      <td>0.904508</td>\n    </tr>\n    <tr>\n      <th>72</th>\n      <td>0.003111</td>\n      <td>0.000011</td>\n      <td>0.000147</td>\n      <td>0.000139</td>\n      <td>0.000016</td>\n      <td>0.000147</td>\n      <td>0.904508</td>\n    </tr>\n    <tr>\n      <th>73</th>\n      <td>0.002814</td>\n      <td>0.000010</td>\n      <td>0.000133</td>\n      <td>0.000125</td>\n      <td>0.000014</td>\n      <td>0.000133</td>\n      <td>0.904508</td>\n    </tr>\n    <tr>\n      <th>74</th>\n      <td>0.002545</td>\n      <td>0.000009</td>\n      <td>0.000121</td>\n      <td>0.000113</td>\n      <td>0.000013</td>\n      <td>0.000121</td>\n      <td>0.904508</td>\n    </tr>\n    <tr>\n      <th></th>\n      <td>min_iters:</td>\n      <td>116.650324</td>\n      <td></td>\n      <td>method:</td>\n      <td>seidel</td>\n      <td></td>\n      <td></td>\n    </tr>\n  </tbody>\n</table>\n<p>75 rows × 7 columns</p>\n</div>"
     },
     "execution_count": 84,
     "metadata": {},
     "output_type": "execute_result"
    }
   ],
   "source": [
    "solver.solve(U_init, method = 'seidel', U_expected = U_expected, F = F, method_parameters={'opt': ovopt-0.1})['output']"
   ],
   "metadata": {
    "collapsed": false,
    "pycharm": {
     "name": "#%%\n"
    }
   }
  },
  {
   "cell_type": "code",
   "execution_count": 85,
   "outputs": [
    {
     "data": {
      "text/plain": "   Curr. discr.  Rel. discr. Curr. error Rel. error  \\\nk                                                     \n1     81.741131     0.296321    0.564035   0.530666   \n2     52.139987     0.189013    0.422256   0.397275   \n3     25.085994     0.090940    0.289813   0.272667   \n4      15.59163     0.056521    0.238097   0.224011   \n5     10.922248     0.039594    0.191427   0.180102   \n..          ...          ...         ...        ...   \n71      0.00344     0.000012    0.000163   0.000153   \n72     0.003111     0.000011    0.000147   0.000139   \n73     0.002814     0.000010    0.000133   0.000125   \n74     0.002545     0.000009    0.000121   0.000113   \n     min_iters:   116.650324                method:   \n\n   $ \\lVert U_k - U_{k-1} \\rVert $ Apost. est. $\\hat{\\rho}_k$  \nk                                                              \n1                         0.817411    7.742631                 \n2                           0.2607    2.469385                 \n3                         0.162229    1.536658       0.445496  \n4                          0.08663    0.820574       0.576454  \n5                         0.054611    0.517285       0.580198  \n..                             ...         ...            ...  \n71                        0.000017    0.000163       0.904508  \n72                        0.000016    0.000147       0.904508  \n73                        0.000014    0.000133       0.904508  \n74                        0.000013    0.000121       0.904508  \n                            seidel                             \n\n[75 rows x 7 columns]",
      "text/html": "<div>\n<style scoped>\n    .dataframe tbody tr th:only-of-type {\n        vertical-align: middle;\n    }\n\n    .dataframe tbody tr th {\n        vertical-align: top;\n    }\n\n    .dataframe thead th {\n        text-align: right;\n    }\n</style>\n<table border=\"1\" class=\"dataframe\">\n  <thead>\n    <tr style=\"text-align: right;\">\n      <th></th>\n      <th>Curr. discr.</th>\n      <th>Rel. discr.</th>\n      <th>Curr. error</th>\n      <th>Rel. error</th>\n      <th>$ \\lVert U_k - U_{k-1} \\rVert $</th>\n      <th>Apost. est.</th>\n      <th>$\\hat{\\rho}_k$</th>\n    </tr>\n    <tr>\n      <th>k</th>\n      <th></th>\n      <th></th>\n      <th></th>\n      <th></th>\n      <th></th>\n      <th></th>\n      <th></th>\n    </tr>\n  </thead>\n  <tbody>\n    <tr>\n      <th>1</th>\n      <td>81.741131</td>\n      <td>0.296321</td>\n      <td>0.564035</td>\n      <td>0.530666</td>\n      <td>0.817411</td>\n      <td>7.742631</td>\n      <td></td>\n    </tr>\n    <tr>\n      <th>2</th>\n      <td>52.139987</td>\n      <td>0.189013</td>\n      <td>0.422256</td>\n      <td>0.397275</td>\n      <td>0.2607</td>\n      <td>2.469385</td>\n      <td></td>\n    </tr>\n    <tr>\n      <th>3</th>\n      <td>25.085994</td>\n      <td>0.090940</td>\n      <td>0.289813</td>\n      <td>0.272667</td>\n      <td>0.162229</td>\n      <td>1.536658</td>\n      <td>0.445496</td>\n    </tr>\n    <tr>\n      <th>4</th>\n      <td>15.59163</td>\n      <td>0.056521</td>\n      <td>0.238097</td>\n      <td>0.224011</td>\n      <td>0.08663</td>\n      <td>0.820574</td>\n      <td>0.576454</td>\n    </tr>\n    <tr>\n      <th>5</th>\n      <td>10.922248</td>\n      <td>0.039594</td>\n      <td>0.191427</td>\n      <td>0.180102</td>\n      <td>0.054611</td>\n      <td>0.517285</td>\n      <td>0.580198</td>\n    </tr>\n    <tr>\n      <th>...</th>\n      <td>...</td>\n      <td>...</td>\n      <td>...</td>\n      <td>...</td>\n      <td>...</td>\n      <td>...</td>\n      <td>...</td>\n    </tr>\n    <tr>\n      <th>71</th>\n      <td>0.00344</td>\n      <td>0.000012</td>\n      <td>0.000163</td>\n      <td>0.000153</td>\n      <td>0.000017</td>\n      <td>0.000163</td>\n      <td>0.904508</td>\n    </tr>\n    <tr>\n      <th>72</th>\n      <td>0.003111</td>\n      <td>0.000011</td>\n      <td>0.000147</td>\n      <td>0.000139</td>\n      <td>0.000016</td>\n      <td>0.000147</td>\n      <td>0.904508</td>\n    </tr>\n    <tr>\n      <th>73</th>\n      <td>0.002814</td>\n      <td>0.000010</td>\n      <td>0.000133</td>\n      <td>0.000125</td>\n      <td>0.000014</td>\n      <td>0.000133</td>\n      <td>0.904508</td>\n    </tr>\n    <tr>\n      <th>74</th>\n      <td>0.002545</td>\n      <td>0.000009</td>\n      <td>0.000121</td>\n      <td>0.000113</td>\n      <td>0.000013</td>\n      <td>0.000121</td>\n      <td>0.904508</td>\n    </tr>\n    <tr>\n      <th></th>\n      <td>min_iters:</td>\n      <td>116.650324</td>\n      <td></td>\n      <td>method:</td>\n      <td>seidel</td>\n      <td></td>\n      <td></td>\n    </tr>\n  </tbody>\n</table>\n<p>75 rows × 7 columns</p>\n</div>"
     },
     "execution_count": 85,
     "metadata": {},
     "output_type": "execute_result"
    }
   ],
   "source": [
    "solver.solve(U_init, method = 'seidel', U_expected = U_expected, F = F, method_parameters={'opt': ovopt+0.1})['output']"
   ],
   "metadata": {
    "collapsed": false,
    "pycharm": {
     "name": "#%%\n"
    }
   }
  },
  {
   "cell_type": "markdown",
   "source": [
    "### видим, что алгоритму приходится выполнять больше итераций, чтобы достичь нужной точности\n",
    "\n",
    "\n",
    "## Сравним полученные разными методами решения с точным на крупной сетке"
   ],
   "metadata": {
    "collapsed": false,
    "pycharm": {
     "name": "#%% md\n"
    }
   }
  },
  {
   "cell_type": "code",
   "execution_count": 86,
   "outputs": [],
   "source": [
    "largegrid_solver = DESolver(0.2, 6)\n",
    "largegrid_initials = build_init_expected_and_F(6, 0.2, u_expected, ux1, u1y, f)\n",
    "lgU_init = largegrid_initials['init']\n",
    "lgU_expected = largegrid_initials['expected']\n",
    "lgF = largegrid_initials['F']\n",
    "\n",
    "lgsolU_i = largegrid_solver.solve(lgU_init, lgU_expected, lgF, method = 'iteration')['solution']\n",
    "lgsolU_s = largegrid_solver.solve(lgU_init, lgU_expected, lgF, method = 'seidel')['solution']\n",
    "lgsolU_or = largegrid_solver.solve(lgU_init, lgU_expected, lgF, method = 'over-relaxation')['solution']"
   ],
   "metadata": {
    "collapsed": false,
    "pycharm": {
     "name": "#%%\n"
    }
   }
  },
  {
   "cell_type": "code",
   "execution_count": 87,
   "outputs": [
    {
     "name": "stdout",
     "output_type": "stream",
     "text": [
      "[[0.       0.       0.       0.       0.       0.      ]\n",
      " [0.       0.000128 0.001024 0.003456 0.008192 0.002   ]\n",
      " [0.       0.001024 0.008192 0.027648 0.065536 0.016   ]\n",
      " [0.       0.003456 0.027648 0.093312 0.221184 0.054   ]\n",
      " [0.       0.008192 0.065536 0.221184 0.524288 0.128   ]\n",
      " [0.       0.002    0.016    0.054    0.128    0.25    ]]\n",
      "[[ 0.        0.        0.        0.        0.        0.      ]\n",
      " [ 0.       -0.022195 -0.043622 -0.058805 -0.052847  0.002   ]\n",
      " [ 0.       -0.043622 -0.08581  -0.11571  -0.102361  0.016   ]\n",
      " [ 0.       -0.058805 -0.11571  -0.155962 -0.134007  0.054   ]\n",
      " [ 0.       -0.052847 -0.102361 -0.134007 -0.101308  0.128   ]\n",
      " [ 0.        0.002     0.016     0.054     0.128     0.25    ]]\n",
      "[[ 0.        0.        0.        0.        0.        0.      ]\n",
      " [ 0.       -0.022195 -0.043622 -0.058805 -0.052848  0.002   ]\n",
      " [ 0.       -0.043622 -0.08581  -0.115711 -0.102362  0.016   ]\n",
      " [ 0.       -0.058805 -0.115711 -0.155963 -0.134008  0.054   ]\n",
      " [ 0.       -0.052848 -0.102362 -0.134008 -0.101308  0.128   ]\n",
      " [ 0.        0.002     0.016     0.054     0.128     0.25    ]]\n",
      "[[ 0.        0.        0.        0.        0.        0.      ]\n",
      " [ 0.       -0.022195 -0.043623 -0.058806 -0.052848  0.002   ]\n",
      " [ 0.       -0.043623 -0.085812 -0.115712 -0.102362  0.016   ]\n",
      " [ 0.       -0.058806 -0.115712 -0.155964 -0.134009  0.054   ]\n",
      " [ 0.       -0.052848 -0.102362 -0.134009 -0.101308  0.128   ]\n",
      " [ 0.        0.002     0.016     0.054     0.128     0.25    ]]\n"
     ]
    }
   ],
   "source": [
    "print(lgU_expected)\n",
    "\n",
    "print(lgsolU_i)\n",
    "\n",
    "print(lgsolU_s)\n",
    "\n",
    "print(lgsolU_or)"
   ],
   "metadata": {
    "collapsed": false,
    "pycharm": {
     "name": "#%%\n"
    }
   }
  },
  {
   "cell_type": "code",
   "execution_count": 87,
   "outputs": [],
   "source": [],
   "metadata": {
    "collapsed": false,
    "pycharm": {
     "name": "#%%\n"
    }
   }
  }
 ],
 "metadata": {
  "kernelspec": {
   "display_name": "Python 3",
   "language": "python",
   "name": "python3"
  },
  "language_info": {
   "codemirror_mode": {
    "name": "ipython",
    "version": 2
   },
   "file_extension": ".py",
   "mimetype": "text/x-python",
   "name": "python",
   "nbconvert_exporter": "python",
   "pygments_lexer": "ipython2",
   "version": "2.7.6"
  }
 },
 "nbformat": 4,
 "nbformat_minor": 0
}