{
 "cells": [
  {
   "cell_type": "code",
   "execution_count": 13,
   "metadata": {
    "collapsed": true,
    "pycharm": {
     "is_executing": false
    }
   },
   "outputs": [],
   "source": [
    "from math import sin, cos\n",
    "from pandas import DataFrame"
   ]
  },
  {
   "cell_type": "code",
   "execution_count": 14,
   "outputs": [],
   "source": [
    "f = lambda x,y : (cos(y)-sin(y)-1)/(cos(x)-sin(x)+1)\n",
    "a = -0.5\n",
    "b = 0.5\n",
    "x0 = -0.5\n",
    "y0 = 1\n",
    "h = 0.1"
   ],
   "metadata": {
    "collapsed": false,
    "pycharm": {
     "name": "#%%\n",
     "is_executing": false
    }
   }
  },
  {
   "cell_type": "code",
   "execution_count": 15,
   "outputs": [],
   "source": [
    "def Euler_explicit(f,a, b, x0, y0, h):\n",
    "    x_0 = x0\n",
    "    x1 = x0 + h\n",
    "    y1 = y0 + h*f(x0, y0)\n",
    "    ans = [y0,y1]\n",
    "    x0 = x1\n",
    "    y0 = y1\n",
    "    while x1 <= b:\n",
    "        x1 = x0 + h\n",
    "        y1 = y0 + h*f(x0, y0)\n",
    "        ans.append(y1)\n",
    "        x0 = x1\n",
    "        y0 = y1\n",
    "    return DataFrame([[x_0 + k*h, ans[k]] for k in range (int((b-a)/h))])"
   ],
   "metadata": {
    "collapsed": false,
    "pycharm": {
     "name": "#%%\n",
     "is_executing": false
    }
   }
  },
  {
   "cell_type": "code",
   "execution_count": 16,
   "outputs": [
    {
     "data": {
      "text/plain": "     0         1\n0 -0.5  1.000000\n1 -0.4  0.944796\n2 -0.3  0.891799\n3 -0.2  0.840699\n4 -0.1  0.791213\n5  0.0  0.743084\n6  0.1  0.696076\n7  0.2  0.649966\n8  0.3  0.604550\n9  0.4  0.559627",
      "text/html": "<div>\n<style scoped>\n    .dataframe tbody tr th:only-of-type {\n        vertical-align: middle;\n    }\n\n    .dataframe tbody tr th {\n        vertical-align: top;\n    }\n\n    .dataframe thead th {\n        text-align: right;\n    }\n</style>\n<table border=\"1\" class=\"dataframe\">\n  <thead>\n    <tr style=\"text-align: right;\">\n      <th></th>\n      <th>0</th>\n      <th>1</th>\n    </tr>\n  </thead>\n  <tbody>\n    <tr>\n      <th>0</th>\n      <td>-0.5</td>\n      <td>1.000000</td>\n    </tr>\n    <tr>\n      <th>1</th>\n      <td>-0.4</td>\n      <td>0.944796</td>\n    </tr>\n    <tr>\n      <th>2</th>\n      <td>-0.3</td>\n      <td>0.891799</td>\n    </tr>\n    <tr>\n      <th>3</th>\n      <td>-0.2</td>\n      <td>0.840699</td>\n    </tr>\n    <tr>\n      <th>4</th>\n      <td>-0.1</td>\n      <td>0.791213</td>\n    </tr>\n    <tr>\n      <th>5</th>\n      <td>0.0</td>\n      <td>0.743084</td>\n    </tr>\n    <tr>\n      <th>6</th>\n      <td>0.1</td>\n      <td>0.696076</td>\n    </tr>\n    <tr>\n      <th>7</th>\n      <td>0.2</td>\n      <td>0.649966</td>\n    </tr>\n    <tr>\n      <th>8</th>\n      <td>0.3</td>\n      <td>0.604550</td>\n    </tr>\n    <tr>\n      <th>9</th>\n      <td>0.4</td>\n      <td>0.559627</td>\n    </tr>\n  </tbody>\n</table>\n</div>"
     },
     "metadata": {},
     "output_type": "execute_result",
     "execution_count": 16
    }
   ],
   "source": [
    "df = Euler_explicit(f,a, b, x0, y0, h)\n",
    "df"
   ],
   "metadata": {
    "collapsed": false,
    "pycharm": {
     "name": "#%%\n",
     "is_executing": false
    }
   }
  },
  {
   "cell_type": "code",
   "execution_count": 17,
   "outputs": [
    {
     "data": {
      "text/plain": "     0         1\n0 -0.5  1.000000\n1 -0.4  0.945923\n2 -0.3  0.893829\n3 -0.2  0.843431\n4 -0.1  0.794467\n5  0.0  0.746699\n6  0.1  0.699905\n7  0.2  0.653878\n8  0.3  0.608421\n9  0.4  0.563348",
      "text/html": "<div>\n<style scoped>\n    .dataframe tbody tr th:only-of-type {\n        vertical-align: middle;\n    }\n\n    .dataframe tbody tr th {\n        vertical-align: top;\n    }\n\n    .dataframe thead th {\n        text-align: right;\n    }\n</style>\n<table border=\"1\" class=\"dataframe\">\n  <thead>\n    <tr style=\"text-align: right;\">\n      <th></th>\n      <th>0</th>\n      <th>1</th>\n    </tr>\n  </thead>\n  <tbody>\n    <tr>\n      <th>0</th>\n      <td>-0.5</td>\n      <td>1.000000</td>\n    </tr>\n    <tr>\n      <th>1</th>\n      <td>-0.4</td>\n      <td>0.945923</td>\n    </tr>\n    <tr>\n      <th>2</th>\n      <td>-0.3</td>\n      <td>0.893829</td>\n    </tr>\n    <tr>\n      <th>3</th>\n      <td>-0.2</td>\n      <td>0.843431</td>\n    </tr>\n    <tr>\n      <th>4</th>\n      <td>-0.1</td>\n      <td>0.794467</td>\n    </tr>\n    <tr>\n      <th>5</th>\n      <td>0.0</td>\n      <td>0.746699</td>\n    </tr>\n    <tr>\n      <th>6</th>\n      <td>0.1</td>\n      <td>0.699905</td>\n    </tr>\n    <tr>\n      <th>7</th>\n      <td>0.2</td>\n      <td>0.653878</td>\n    </tr>\n    <tr>\n      <th>8</th>\n      <td>0.3</td>\n      <td>0.608421</td>\n    </tr>\n    <tr>\n      <th>9</th>\n      <td>0.4</td>\n      <td>0.563348</td>\n    </tr>\n  </tbody>\n</table>\n</div>"
     },
     "metadata": {},
     "output_type": "execute_result",
     "execution_count": 17
    }
   ],
   "source": [
    "def Euler_implicit(f,a, b, x0, y0, h):\n",
    "    x_0 = x0\n",
    "    x1 = x0 + h\n",
    "    x12 = x0 + h/2\n",
    "    y12 = y0 + h*f(x0, y0)/2\n",
    "    y1 = y0 + h*f(x12, y12)\n",
    "    ans = [y0,y1]\n",
    "    x0 = x1\n",
    "    y0 = y1\n",
    "    while x1 <= b:\n",
    "        x1 = x0 + h\n",
    "        x12 = x0 + h/2\n",
    "        y12 = y0 + h*f(x0, y0)/2\n",
    "        y1 = y0 + h*f(x12, y12)\n",
    "        ans.append(y1)\n",
    "        x0 = x1\n",
    "        y0 = y1\n",
    "    return DataFrame([[x_0 + k*h, ans[k]] for k in range (int((b-a)/h))])\n",
    "\n",
    "df1 = Euler_implicit(f,a, b, x0, y0, h)\n",
    "df1"
   ],
   "metadata": {
    "collapsed": false,
    "pycharm": {
     "name": "#%%\n",
     "is_executing": false
    }
   }
  },
  {
   "cell_type": "code",
   "execution_count": 18,
   "outputs": [
    {
     "data": {
      "text/plain": "     0         1\n0 -0.5  1.000000\n1 -0.4  0.945893\n2 -0.3  0.893774\n3 -0.2  0.843355\n4 -0.1  0.794375\n5  0.0  0.746594\n6  0.1  0.699790\n7  0.2  0.653756\n8  0.3  0.608296\n9  0.4  0.563221",
      "text/html": "<div>\n<style scoped>\n    .dataframe tbody tr th:only-of-type {\n        vertical-align: middle;\n    }\n\n    .dataframe tbody tr th {\n        vertical-align: top;\n    }\n\n    .dataframe thead th {\n        text-align: right;\n    }\n</style>\n<table border=\"1\" class=\"dataframe\">\n  <thead>\n    <tr style=\"text-align: right;\">\n      <th></th>\n      <th>0</th>\n      <th>1</th>\n    </tr>\n  </thead>\n  <tbody>\n    <tr>\n      <th>0</th>\n      <td>-0.5</td>\n      <td>1.000000</td>\n    </tr>\n    <tr>\n      <th>1</th>\n      <td>-0.4</td>\n      <td>0.945893</td>\n    </tr>\n    <tr>\n      <th>2</th>\n      <td>-0.3</td>\n      <td>0.893774</td>\n    </tr>\n    <tr>\n      <th>3</th>\n      <td>-0.2</td>\n      <td>0.843355</td>\n    </tr>\n    <tr>\n      <th>4</th>\n      <td>-0.1</td>\n      <td>0.794375</td>\n    </tr>\n    <tr>\n      <th>5</th>\n      <td>0.0</td>\n      <td>0.746594</td>\n    </tr>\n    <tr>\n      <th>6</th>\n      <td>0.1</td>\n      <td>0.699790</td>\n    </tr>\n    <tr>\n      <th>7</th>\n      <td>0.2</td>\n      <td>0.653756</td>\n    </tr>\n    <tr>\n      <th>8</th>\n      <td>0.3</td>\n      <td>0.608296</td>\n    </tr>\n    <tr>\n      <th>9</th>\n      <td>0.4</td>\n      <td>0.563221</td>\n    </tr>\n  </tbody>\n</table>\n</div>"
     },
     "metadata": {},
     "output_type": "execute_result",
     "execution_count": 18
    }
   ],
   "source": [
    "def Runge_Kutta(f,a, b, x0, y0, h):\n",
    "    x_0 = x0\n",
    "    x1 = x0\n",
    "    ans = [y0]\n",
    "    while x1 <= b:\n",
    "        x1 = x0 + h\n",
    "        K1 = f(x0, y0)\n",
    "        K2 = f(x0 + h/2, y0 + h*K1/2)\n",
    "        K3 = f(x0 + h/2, y0 + h*K2/2)\n",
    "        K4 = f(x1, y0 + h*K3)\n",
    "        y1 = y0 + h*(K1 + 2*K2 + 2*K3 + K4)/6\n",
    "        ans.append(y1)\n",
    "        x0 = x1\n",
    "        y0 = y1\n",
    "    return DataFrame([[x_0 + k*h, ans[k]] for k in range (int((b-a)/h))])\n",
    "\n",
    "df2 = Runge_Kutta(f,a, b, x0, y0, h)\n",
    "df2"
   ],
   "metadata": {
    "collapsed": false,
    "pycharm": {
     "name": "#%%\n",
     "is_executing": false
    }
   }
  }
 ],
 "metadata": {
  "kernelspec": {
   "display_name": "Python 3",
   "language": "python",
   "name": "python3"
  },
  "language_info": {
   "codemirror_mode": {
    "name": "ipython",
    "version": 2
   },
   "file_extension": ".py",
   "mimetype": "text/x-python",
   "name": "python",
   "nbconvert_exporter": "python",
   "pygments_lexer": "ipython2",
   "version": "2.7.6"
  },
  "pycharm": {
   "stem_cell": {
    "cell_type": "raw",
    "source": [],
    "metadata": {
     "collapsed": false
    }
   }
  }
 },
 "nbformat": 4,
 "nbformat_minor": 0
}