{
 "cells": [
  {
   "cell_type": "code",
   "execution_count": 30,
   "metadata": {
    "collapsed": true,
    "pycharm": {
     "is_executing": false
    }
   },
   "outputs": [],
   "source": [
    "import pandas as pd\n",
    "from math import sin,cos\n",
    "from mft1 import find_max_abs\n",
    "import mft1_2\n",
    "h = 0.1 #Шаг интерполяции"
   ]
  },
  {
   "cell_type": "markdown",
   "source": [
    "# Начальные данные\n",
    "### Функция $f(x)=\\cos(x), [-0.5;0.5]$"
   ],
   "metadata": {
    "collapsed": false,
    "pycharm": {
     "name": "#%% md\n"
    }
   }
  },
  {
   "cell_type": "code",
   "execution_count": 31,
   "outputs": [],
   "source": [
    "pivot = 0.05\n",
    "a = -0.5\n",
    "b = 0.5\n",
    "f = lambda x: cos(x)\n",
    "d1f = lambda x: -sin(x)\n",
    "d2f = lambda x: -cos(x)\n",
    "d3f = lambda x: sin(x)\n",
    "d4f = lambda x: cos(x)\n",
    "d5f = lambda x: -sin(x)"
   ],
   "metadata": {
    "collapsed": false,
    "pycharm": {
     "name": "#%%\n",
     "is_executing": false
    }
   }
  },
  {
   "cell_type": "code",
   "execution_count": 32,
   "outputs": [
    {
     "data": {
      "text/plain": "     x      f(x)\n  -0.5  0.877583\n  -0.4  0.921061\n  -0.3  0.955336\n  -0.2  0.980067\n  -0.1  0.995004\n   0.0  1.000000\n   0.1  0.995004\n   0.2  0.980067\n   0.3  0.955336\n   0.4  0.921061\n   0.5  0.877583",
      "text/html": "<div>\n<style scoped>\n    .dataframe tbody tr th:only-of-type {\n        vertical-align: middle;\n    }\n\n    .dataframe tbody tr th {\n        vertical-align: top;\n    }\n\n    .dataframe thead th {\n        text-align: right;\n    }\n</style>\n<table border=\"1\" class=\"dataframe\">\n  <thead>\n    <tr style=\"text-align: right;\">\n      <th></th>\n      <th>x</th>\n      <th>f(x)</th>\n    </tr>\n  </thead>\n  <tbody>\n    <tr>\n      <th></th>\n      <td>-0.5</td>\n      <td>0.877583</td>\n    </tr>\n    <tr>\n      <th></th>\n      <td>-0.4</td>\n      <td>0.921061</td>\n    </tr>\n    <tr>\n      <th></th>\n      <td>-0.3</td>\n      <td>0.955336</td>\n    </tr>\n    <tr>\n      <th></th>\n      <td>-0.2</td>\n      <td>0.980067</td>\n    </tr>\n    <tr>\n      <th></th>\n      <td>-0.1</td>\n      <td>0.995004</td>\n    </tr>\n    <tr>\n      <th></th>\n      <td>0.0</td>\n      <td>1.000000</td>\n    </tr>\n    <tr>\n      <th></th>\n      <td>0.1</td>\n      <td>0.995004</td>\n    </tr>\n    <tr>\n      <th></th>\n      <td>0.2</td>\n      <td>0.980067</td>\n    </tr>\n    <tr>\n      <th></th>\n      <td>0.3</td>\n      <td>0.955336</td>\n    </tr>\n    <tr>\n      <th></th>\n      <td>0.4</td>\n      <td>0.921061</td>\n    </tr>\n    <tr>\n      <th></th>\n      <td>0.5</td>\n      <td>0.877583</td>\n    </tr>\n  </tbody>\n</table>\n</div>"
     },
     "metadata": {},
     "output_type": "execute_result",
     "execution_count": 32
    }
   ],
   "source": [
    "def get_values(f,a,b,h):\n",
    "    n = int((b-a)/h)+1\n",
    "    return [f(a+k*h) for k in range(n)]\n",
    "    \n",
    "def buildTable1(f,a,b,h): \n",
    "    n = int((b-a)/h)+1\n",
    "    nodes = [(a+k*h) for k in range(n)]\n",
    "    values = get_values(f,a,b,h)\n",
    "    return pd.DataFrame([nodes,values],index = [\"x\",\"f(x)\"], columns = [\" \"]*n).T\n",
    "\n",
    "df = buildTable1(f,a,b,h)\n",
    "df"
   ],
   "metadata": {
    "collapsed": false,
    "pycharm": {
     "name": "#%%\n",
     "is_executing": false
    }
   }
  },
  {
   "cell_type": "code",
   "execution_count": 33,
   "outputs": [
    {
     "data": {
      "text/plain": "[[0.043478432112512344,\n  0.03427549512272088,\n  0.024730088715635645,\n  0.014937587436784194,\n  0.0049958347219741794,\n  -0.0049958347219742905,\n  -0.014937587436784083,\n  -0.024730088715635645,\n  -0.03427549512272088,\n  -0.043478432112512344],\n [-0.009202936989791466,\n  -0.009545406407085233,\n  -0.009792501278851451,\n  -0.009941752714810015,\n  -0.00999166944394847,\n  -0.009941752714809793,\n  -0.009792501278851562,\n  -0.009545406407085233,\n  -0.009202936989791466],\n [-0.000342469417293767,\n  -0.00024709487176621803,\n  -0.00014925143595856394,\n  -4.991672913845502e-05,\n  4.991672913867706e-05,\n  0.00014925143595823087,\n  0.00024709487176632905,\n  0.000342469417293767],\n [9.537454552754898e-05,\n  9.784343580765409e-05,\n  9.933470682010892e-05,\n  9.983345827713208e-05,\n  9.933470681955381e-05,\n  9.784343580809818e-05,\n  9.537454552743796e-05]]"
     },
     "metadata": {},
     "output_type": "execute_result",
     "execution_count": 33
    }
   ],
   "source": [
    "def get_ERs(f, a, b):\n",
    "    values = get_values(f,a,b,h)\n",
    "    le = len(values)\n",
    "    ER = [[]]*4\n",
    "    ER[0] = [values[k+1]-values[k] for k in range(le-1)]\n",
    "    for i in range(1,4):\n",
    "        ER[i] = [ER[i-1][k+1]-ER[i-1][k] for k in range(le-1-i)]\n",
    "    return ER\n",
    "    \n",
    "ER = get_ERs(f, a ,b)\n",
    "ER"
   ],
   "metadata": {
    "collapsed": false,
    "pycharm": {
     "name": "#%%\n",
     "is_executing": false
    }
   }
  },
  {
   "cell_type": "code",
   "execution_count": 34,
   "outputs": [
    {
     "data": {
      "text/plain": "      x         y $ \\Delta y $ $ \\Delta^{2} y $ $ \\Delta^{3} y $  \\\n0  -0.5  0.877583                                                  \n1                      0.04348                                     \n2  -0.4  0.921061                       -0.0092                    \n3                      0.03428                          -0.00034   \n4  -0.3  0.955336                      -0.00955                    \n5                      0.02473                          -0.00025   \n6  -0.2  0.980067                      -0.00979                    \n7                      0.01494                          -0.00015   \n8  -0.1  0.995004                      -0.00994                    \n9                        0.005                            -5e-05   \n10    0         1                      -0.00999                    \n11                      -0.005                             5e-05   \n12  0.1  0.995004                      -0.00994                    \n13                    -0.01494                           0.00015   \n14  0.2  0.980067                      -0.00979                    \n15                    -0.02473                           0.00025   \n16  0.3  0.955336                      -0.00955                    \n17                    -0.03428                           0.00034   \n18  0.4  0.921061                       -0.0092                    \n19                    -0.04348                                     \n20  0.5  0.877583                                                  \n\n   $ \\Delta^{4} y $  \n0                    \n1                    \n2                    \n3                    \n4            0.0001  \n5                    \n6            0.0001  \n7                    \n8            0.0001  \n9                    \n10           0.0001  \n11                   \n12           0.0001  \n13                   \n14           0.0001  \n15                   \n16           0.0001  \n17                   \n18                   \n19                   \n20                   ",
      "text/html": "<div>\n<style scoped>\n    .dataframe tbody tr th:only-of-type {\n        vertical-align: middle;\n    }\n\n    .dataframe tbody tr th {\n        vertical-align: top;\n    }\n\n    .dataframe thead th {\n        text-align: right;\n    }\n</style>\n<table border=\"1\" class=\"dataframe\">\n  <thead>\n    <tr style=\"text-align: right;\">\n      <th></th>\n      <th>x</th>\n      <th>y</th>\n      <th>$ \\Delta y $</th>\n      <th>$ \\Delta^{2} y $</th>\n      <th>$ \\Delta^{3} y $</th>\n      <th>$ \\Delta^{4} y $</th>\n    </tr>\n  </thead>\n  <tbody>\n    <tr>\n      <th>0</th>\n      <td>-0.5</td>\n      <td>0.877583</td>\n      <td></td>\n      <td></td>\n      <td></td>\n      <td></td>\n    </tr>\n    <tr>\n      <th>1</th>\n      <td></td>\n      <td></td>\n      <td>0.04348</td>\n      <td></td>\n      <td></td>\n      <td></td>\n    </tr>\n    <tr>\n      <th>2</th>\n      <td>-0.4</td>\n      <td>0.921061</td>\n      <td></td>\n      <td>-0.0092</td>\n      <td></td>\n      <td></td>\n    </tr>\n    <tr>\n      <th>3</th>\n      <td></td>\n      <td></td>\n      <td>0.03428</td>\n      <td></td>\n      <td>-0.00034</td>\n      <td></td>\n    </tr>\n    <tr>\n      <th>4</th>\n      <td>-0.3</td>\n      <td>0.955336</td>\n      <td></td>\n      <td>-0.00955</td>\n      <td></td>\n      <td>0.0001</td>\n    </tr>\n    <tr>\n      <th>5</th>\n      <td></td>\n      <td></td>\n      <td>0.02473</td>\n      <td></td>\n      <td>-0.00025</td>\n      <td></td>\n    </tr>\n    <tr>\n      <th>6</th>\n      <td>-0.2</td>\n      <td>0.980067</td>\n      <td></td>\n      <td>-0.00979</td>\n      <td></td>\n      <td>0.0001</td>\n    </tr>\n    <tr>\n      <th>7</th>\n      <td></td>\n      <td></td>\n      <td>0.01494</td>\n      <td></td>\n      <td>-0.00015</td>\n      <td></td>\n    </tr>\n    <tr>\n      <th>8</th>\n      <td>-0.1</td>\n      <td>0.995004</td>\n      <td></td>\n      <td>-0.00994</td>\n      <td></td>\n      <td>0.0001</td>\n    </tr>\n    <tr>\n      <th>9</th>\n      <td></td>\n      <td></td>\n      <td>0.005</td>\n      <td></td>\n      <td>-5e-05</td>\n      <td></td>\n    </tr>\n    <tr>\n      <th>10</th>\n      <td>0</td>\n      <td>1</td>\n      <td></td>\n      <td>-0.00999</td>\n      <td></td>\n      <td>0.0001</td>\n    </tr>\n    <tr>\n      <th>11</th>\n      <td></td>\n      <td></td>\n      <td>-0.005</td>\n      <td></td>\n      <td>5e-05</td>\n      <td></td>\n    </tr>\n    <tr>\n      <th>12</th>\n      <td>0.1</td>\n      <td>0.995004</td>\n      <td></td>\n      <td>-0.00994</td>\n      <td></td>\n      <td>0.0001</td>\n    </tr>\n    <tr>\n      <th>13</th>\n      <td></td>\n      <td></td>\n      <td>-0.01494</td>\n      <td></td>\n      <td>0.00015</td>\n      <td></td>\n    </tr>\n    <tr>\n      <th>14</th>\n      <td>0.2</td>\n      <td>0.980067</td>\n      <td></td>\n      <td>-0.00979</td>\n      <td></td>\n      <td>0.0001</td>\n    </tr>\n    <tr>\n      <th>15</th>\n      <td></td>\n      <td></td>\n      <td>-0.02473</td>\n      <td></td>\n      <td>0.00025</td>\n      <td></td>\n    </tr>\n    <tr>\n      <th>16</th>\n      <td>0.3</td>\n      <td>0.955336</td>\n      <td></td>\n      <td>-0.00955</td>\n      <td></td>\n      <td>0.0001</td>\n    </tr>\n    <tr>\n      <th>17</th>\n      <td></td>\n      <td></td>\n      <td>-0.03428</td>\n      <td></td>\n      <td>0.00034</td>\n      <td></td>\n    </tr>\n    <tr>\n      <th>18</th>\n      <td>0.4</td>\n      <td>0.921061</td>\n      <td></td>\n      <td>-0.0092</td>\n      <td></td>\n      <td></td>\n    </tr>\n    <tr>\n      <th>19</th>\n      <td></td>\n      <td></td>\n      <td>-0.04348</td>\n      <td></td>\n      <td></td>\n      <td></td>\n    </tr>\n    <tr>\n      <th>20</th>\n      <td>0.5</td>\n      <td>0.877583</td>\n      <td></td>\n      <td></td>\n      <td></td>\n      <td></td>\n    </tr>\n  </tbody>\n</table>\n</div>"
     },
     "metadata": {},
     "output_type": "execute_result",
     "execution_count": 34
    }
   ],
   "source": [
    "def buildTable2(f,a,b,h):\n",
    "    n = int((b-a)/h)+1\n",
    "    nodes = [a+(k//2)*h if k % 2 ==0 else ' ' for k in range(2*n-1)]\n",
    "    values = [f(a+(k//2)*h) if k % 2 ==0 else ' ' for k in range(2*n-1)]\n",
    "    ER_buf = get_ERs(f,a,b)\n",
    "    for i in range(4):\n",
    "        ER[i] = [' ']*i + [round(ER_buf[i][k//2],5) if k % 2 == 1 else ' ' for k in range(2*(n-i)-1)] + [' ']*i\n",
    "    return pd.DataFrame([nodes,values,ER[0],ER[1],ER[2],ER[3]], index = [\"x\",\"y\",'$ \\Delta y $','$ \\Delta^{2} y $'\n",
    "                                    ,'$ \\Delta^{3} y $','$ \\Delta^{4} y $']).T\n",
    "# Написать единую функцию для конечных разностей (они имеют капец какое одинаковое построение)\n",
    "df1 = buildTable2(f,a,b,h)\n",
    "df1"
   ],
   "metadata": {
    "collapsed": false,
    "pycharm": {
     "name": "#%%\n",
     "is_executing": false
    }
   }
  },
  {
   "cell_type": "code",
   "execution_count": 35,
   "outputs": [
    {
     "data": {
      "text/plain": "[1, 1.5, -0.375, -0.3125, 0.1171875, 0.08203125]"
     },
     "metadata": {},
     "output_type": "execute_result",
     "execution_count": 35
    }
   ],
   "source": [
    "def calculate_Ns(a,b,h,pivot):\n",
    "    N = [1]+[0]*5\n",
    "    if pivot <= a + h/2:\n",
    "        t = (pivot-a)/h\n",
    "        for k in range(1,6):\n",
    "            N[k] = N[k-1]*(t-k+1)/k\n",
    "    elif pivot >= b - h/2:\n",
    "        t = (pivot-b)/h\n",
    "        for k in range(1,6):\n",
    "            N[k] = N[k-1]*(t+k-1)/k\n",
    "    else:\n",
    "        mid = a+h*int((b-a)/h)/2\n",
    "        if mid < pivot <= mid+h/2:\n",
    "            t = (pivot-mid)/h\n",
    "            for k in range(1,6):\n",
    "                N[k] = N[k-1]*(t-(-1)**k * k//2)/k\n",
    "    return N\n",
    "\n",
    "N = calculate_Ns(a,b,h,pivot)\n",
    "N"
   ],
   "metadata": {
    "collapsed": false,
    "pycharm": {
     "name": "#%%\n",
     "is_executing": false
    }
   }
  },
  {
   "cell_type": "code",
   "execution_count": 36,
   "outputs": [
    {
     "traceback": [
      "\u001b[1;31m---------------------------------------------------------------------------\u001b[0m",
      "\u001b[1;31mIndexError\u001b[0m                                Traceback (most recent call last)",
      "\u001b[1;32m<ipython-input-36-0c5c1587f0e3>\u001b[0m in \u001b[0;36m<module>\u001b[1;34m\u001b[0m\n\u001b[0;32m     20\u001b[0m     \u001b[1;32mreturn\u001b[0m \u001b[0mPks\u001b[0m\u001b[1;33m,\u001b[0m \u001b[1;33m[\u001b[0m\u001b[0mvalues\u001b[0m\u001b[1;33m[\u001b[0m\u001b[1;36m0\u001b[0m\u001b[1;33m]\u001b[0m\u001b[1;33m]\u001b[0m \u001b[1;33m+\u001b[0m \u001b[0mER0\u001b[0m\u001b[1;33m\u001b[0m\u001b[1;33m\u001b[0m\u001b[0m\n\u001b[0;32m     21\u001b[0m \u001b[1;33m\u001b[0m\u001b[0m\n\u001b[1;32m---> 22\u001b[1;33m \u001b[0mP\u001b[0m\u001b[1;33m,\u001b[0m \u001b[0mER0\u001b[0m \u001b[1;33m=\u001b[0m \u001b[0mcalculate_Pks\u001b[0m\u001b[1;33m(\u001b[0m\u001b[0ma\u001b[0m\u001b[1;33m,\u001b[0m\u001b[0mb\u001b[0m\u001b[1;33m,\u001b[0m\u001b[0mh\u001b[0m\u001b[1;33m,\u001b[0m\u001b[0mget_values\u001b[0m\u001b[1;33m(\u001b[0m\u001b[0mf\u001b[0m\u001b[1;33m,\u001b[0m\u001b[0ma\u001b[0m\u001b[1;33m,\u001b[0m\u001b[0mb\u001b[0m\u001b[1;33m,\u001b[0m\u001b[0mh\u001b[0m\u001b[1;33m)\u001b[0m\u001b[1;33m,\u001b[0m\u001b[0mN\u001b[0m\u001b[1;33m,\u001b[0m\u001b[0mER\u001b[0m\u001b[1;33m)\u001b[0m\u001b[1;33m\u001b[0m\u001b[1;33m\u001b[0m\u001b[0m\n\u001b[0m\u001b[0;32m     23\u001b[0m \u001b[0mP\u001b[0m\u001b[1;33m\u001b[0m\u001b[1;33m\u001b[0m\u001b[0m\n\u001b[0;32m     24\u001b[0m \u001b[1;33m\u001b[0m\u001b[0m\n",
      "\u001b[1;32m<ipython-input-36-0c5c1587f0e3>\u001b[0m in \u001b[0;36mcalculate_Pks\u001b[1;34m(a, b, h, values, N, ER)\u001b[0m\n\u001b[0;32m     14\u001b[0m             \u001b[0mmid\u001b[0m \u001b[1;33m=\u001b[0m \u001b[0ma\u001b[0m\u001b[1;33m+\u001b[0m\u001b[0mh\u001b[0m\u001b[1;33m*\u001b[0m\u001b[0mint\u001b[0m\u001b[1;33m(\u001b[0m\u001b[1;33m(\u001b[0m\u001b[0mb\u001b[0m\u001b[1;33m-\u001b[0m\u001b[0ma\u001b[0m\u001b[1;33m)\u001b[0m\u001b[1;33m/\u001b[0m\u001b[0mh\u001b[0m\u001b[1;33m)\u001b[0m\u001b[1;33m/\u001b[0m\u001b[1;36m2\u001b[0m\u001b[1;33m\u001b[0m\u001b[1;33m\u001b[0m\u001b[0m\n\u001b[0;32m     15\u001b[0m             \u001b[1;32mif\u001b[0m \u001b[0mmid\u001b[0m \u001b[1;33m<\u001b[0m \u001b[0mpivot\u001b[0m \u001b[1;33m<=\u001b[0m \u001b[0mmid\u001b[0m\u001b[1;33m+\u001b[0m\u001b[0mh\u001b[0m\u001b[1;33m/\u001b[0m\u001b[1;36m2\u001b[0m\u001b[1;33m:\u001b[0m\u001b[1;33m\u001b[0m\u001b[1;33m\u001b[0m\u001b[0m\n\u001b[1;32m---> 16\u001b[1;33m                 \u001b[0mER0\u001b[0m \u001b[1;33m=\u001b[0m \u001b[1;33m[\u001b[0m\u001b[0mER\u001b[0m\u001b[1;33m[\u001b[0m\u001b[1;33m(\u001b[0m\u001b[0mn\u001b[0m\u001b[1;33m-\u001b[0m\u001b[1;36m1\u001b[0m\u001b[1;33m-\u001b[0m\u001b[0mk\u001b[0m\u001b[1;33m)\u001b[0m\u001b[1;33m//\u001b[0m\u001b[1;36m2\u001b[0m\u001b[1;33m]\u001b[0m \u001b[1;32mfor\u001b[0m \u001b[0mk\u001b[0m \u001b[1;32min\u001b[0m \u001b[0mrange\u001b[0m\u001b[1;33m(\u001b[0m\u001b[1;36m4\u001b[0m\u001b[1;33m)\u001b[0m\u001b[1;33m]\u001b[0m\u001b[1;33m\u001b[0m\u001b[1;33m\u001b[0m\u001b[0m\n\u001b[0m\u001b[0;32m     17\u001b[0m                 \u001b[0mPks\u001b[0m\u001b[1;33m[\u001b[0m\u001b[1;36m0\u001b[0m\u001b[1;33m]\u001b[0m \u001b[1;33m=\u001b[0m \u001b[0mvalues\u001b[0m\u001b[1;33m[\u001b[0m\u001b[0mn\u001b[0m\u001b[1;33m//\u001b[0m\u001b[1;36m2\u001b[0m\u001b[1;33m]\u001b[0m\u001b[1;33m\u001b[0m\u001b[1;33m\u001b[0m\u001b[0m\n\u001b[0;32m     18\u001b[0m     \u001b[1;32mfor\u001b[0m \u001b[0mk\u001b[0m \u001b[1;32min\u001b[0m \u001b[0mrange\u001b[0m\u001b[1;33m(\u001b[0m\u001b[1;36m0\u001b[0m\u001b[1;33m,\u001b[0m\u001b[1;36m4\u001b[0m\u001b[1;33m)\u001b[0m\u001b[1;33m:\u001b[0m\u001b[1;33m\u001b[0m\u001b[1;33m\u001b[0m\u001b[0m\n",
      "\u001b[1;32m<ipython-input-36-0c5c1587f0e3>\u001b[0m in \u001b[0;36m<listcomp>\u001b[1;34m(.0)\u001b[0m\n\u001b[0;32m     14\u001b[0m             \u001b[0mmid\u001b[0m \u001b[1;33m=\u001b[0m \u001b[0ma\u001b[0m\u001b[1;33m+\u001b[0m\u001b[0mh\u001b[0m\u001b[1;33m*\u001b[0m\u001b[0mint\u001b[0m\u001b[1;33m(\u001b[0m\u001b[1;33m(\u001b[0m\u001b[0mb\u001b[0m\u001b[1;33m-\u001b[0m\u001b[0ma\u001b[0m\u001b[1;33m)\u001b[0m\u001b[1;33m/\u001b[0m\u001b[0mh\u001b[0m\u001b[1;33m)\u001b[0m\u001b[1;33m/\u001b[0m\u001b[1;36m2\u001b[0m\u001b[1;33m\u001b[0m\u001b[1;33m\u001b[0m\u001b[0m\n\u001b[0;32m     15\u001b[0m             \u001b[1;32mif\u001b[0m \u001b[0mmid\u001b[0m \u001b[1;33m<\u001b[0m \u001b[0mpivot\u001b[0m \u001b[1;33m<=\u001b[0m \u001b[0mmid\u001b[0m\u001b[1;33m+\u001b[0m\u001b[0mh\u001b[0m\u001b[1;33m/\u001b[0m\u001b[1;36m2\u001b[0m\u001b[1;33m:\u001b[0m\u001b[1;33m\u001b[0m\u001b[1;33m\u001b[0m\u001b[0m\n\u001b[1;32m---> 16\u001b[1;33m                 \u001b[0mER0\u001b[0m \u001b[1;33m=\u001b[0m \u001b[1;33m[\u001b[0m\u001b[0mER\u001b[0m\u001b[1;33m[\u001b[0m\u001b[1;33m(\u001b[0m\u001b[0mn\u001b[0m\u001b[1;33m-\u001b[0m\u001b[1;36m1\u001b[0m\u001b[1;33m-\u001b[0m\u001b[0mk\u001b[0m\u001b[1;33m)\u001b[0m\u001b[1;33m//\u001b[0m\u001b[1;36m2\u001b[0m\u001b[1;33m]\u001b[0m \u001b[1;32mfor\u001b[0m \u001b[0mk\u001b[0m \u001b[1;32min\u001b[0m \u001b[0mrange\u001b[0m\u001b[1;33m(\u001b[0m\u001b[1;36m4\u001b[0m\u001b[1;33m)\u001b[0m\u001b[1;33m]\u001b[0m\u001b[1;33m\u001b[0m\u001b[1;33m\u001b[0m\u001b[0m\n\u001b[0m\u001b[0;32m     17\u001b[0m                 \u001b[0mPks\u001b[0m\u001b[1;33m[\u001b[0m\u001b[1;36m0\u001b[0m\u001b[1;33m]\u001b[0m \u001b[1;33m=\u001b[0m \u001b[0mvalues\u001b[0m\u001b[1;33m[\u001b[0m\u001b[0mn\u001b[0m\u001b[1;33m//\u001b[0m\u001b[1;36m2\u001b[0m\u001b[1;33m]\u001b[0m\u001b[1;33m\u001b[0m\u001b[1;33m\u001b[0m\u001b[0m\n\u001b[0;32m     18\u001b[0m     \u001b[1;32mfor\u001b[0m \u001b[0mk\u001b[0m \u001b[1;32min\u001b[0m \u001b[0mrange\u001b[0m\u001b[1;33m(\u001b[0m\u001b[1;36m0\u001b[0m\u001b[1;33m,\u001b[0m\u001b[1;36m4\u001b[0m\u001b[1;33m)\u001b[0m\u001b[1;33m:\u001b[0m\u001b[1;33m\u001b[0m\u001b[1;33m\u001b[0m\u001b[0m\n",
      "\u001b[1;31mIndexError\u001b[0m: list index out of range"
     ],
     "ename": "IndexError",
     "evalue": "list index out of range",
     "output_type": "error"
    }
   ],
   "source": [
    "def calculate_Pks(a,b,h,values,N,ER):\n",
    "    Pks = [0]*5\n",
    "    ER0 = [0]*5\n",
    "    if pivot <= a + h/2:\n",
    "        ER0 = [ER[k][0] for k in range(4)]\n",
    "        Pks[0] = values[0]\n",
    "    else: \n",
    "        n = len(values)\n",
    "        if pivot >= b - h/2:\n",
    "            print(n)\n",
    "            ER0 = [ER[k][n-2-k] for k in range(4)]\n",
    "            Pks[0] = values[n-1]\n",
    "        else:\n",
    "            mid = a+h*int((b-a)/h)/2\n",
    "            if mid < pivot <= mid+h/2:\n",
    "                ER0 = [ER[(n-1-k)//2] for k in range(4)]\n",
    "                Pks[0] = values[n//2]\n",
    "    for k in range(0,4):\n",
    "        Pks[k+1] = Pks[k] + ER0[k]*N[k+1]\n",
    "    return Pks, [values[0]] + ER0\n",
    "\n",
    "P, ER0 = calculate_Pks(a,b,h,get_values(f,a,b,h),N,ER)\n",
    "P\n",
    "    "
   ],
   "metadata": {
    "collapsed": false,
    "pycharm": {
     "name": "#%%\n",
     "is_executing": false
    }
   }
  },
  {
   "cell_type": "code",
   "execution_count": null,
   "outputs": [],
   "source": [
    "def buildTable3(f,derivatives,pivot,a,b,h,ER, N, P):  # Строит таблицу 1 по образцу\n",
    "    string1 = ER\n",
    "\n",
    "    string2 = N[:-1]\n",
    "\n",
    "    string3 = [ER[k]*N[k] for k in range(5)]\n",
    "\n",
    "    string4 = P\n",
    "\n",
    "    string5 = [f(pivot)-P[k] for k in range(5)]\n",
    "    \n",
    "    maximums = [0]*5\n",
    "    if pivot <= a + h/2:\n",
    "        maximums[0] = abs(d1f(a))\n",
    "        for k in range(1,5):\n",
    "            maximums[k] = find_max_abs(derivatives[k],[a,a+k*h])\n",
    "        \n",
    "    else: \n",
    "        if pivot >= b-h/2:\n",
    "            maximums[0] = abs(d1f(b))\n",
    "            for k in range(1,5):\n",
    "                maximums[k] = find_max_abs(derivatives[k],[b-k*h,b])\n",
    "        \n",
    "        else:   \n",
    "            mid = a+h*int((b-a)/h)/2 \n",
    "            if mid < pivot <= mid+h/2:\n",
    "                maximums[0] = abs(d1f(mid))\n",
    "                for k in range(1,5):\n",
    "                    maximums[k] = find_max_abs(derivatives[k],\n",
    "                                               [mid-(k//2)*h,mid+((k+1)//2)*h])\n",
    "    string6 = [0]*5 \n",
    "    buf = h\n",
    "    for k in range(0,5):\n",
    "        string6[k] = maximums[k]*abs(N[k+1])*buf\n",
    "        buf*=h\n",
    "\n",
    "    return pd.DataFrame([string1, string2, string3, string4, string5, string6],\n",
    "                        index=['$ \\Delta^{k} y_{0} $', \"$N_{k}(t)$\",\n",
    "                               \"$ N_{k}(t) \\cdot \\Delta^{k} y_{0} $\",\n",
    "                               \"$P_{k}($\"+str(pivot)+\"$)$\",\n",
    "                               \"$f($\"+str(pivot)+\"$) {-} P_{k}($\"+str(pivot)+\"$)$\",\n",
    "                               \"$|R_{k}($\"+str(pivot)+\"$)|\\le$\"], columns=[str(k) for k in range(5)])\n",
    "\n",
    "df2 = buildTable3(f,[d1f,d2f,d3f,d4f,d5f],pivot,a,b,h,ER0,N,P)\n",
    "df2\n",
    "    "
   ],
   "metadata": {
    "collapsed": false,
    "pycharm": {
     "name": "#%%\n",
     "is_executing": false
    }
   }
  }
 ],
 "metadata": {
  "kernelspec": {
   "display_name": "Python 3",
   "language": "python",
   "name": "python3"
  },
  "language_info": {
   "codemirror_mode": {
    "name": "ipython",
    "version": 2
   },
   "file_extension": ".py",
   "mimetype": "text/x-python",
   "name": "python",
   "nbconvert_exporter": "python",
   "pygments_lexer": "ipython2",
   "version": "2.7.6"
  },
  "pycharm": {
   "stem_cell": {
    "cell_type": "raw",
    "source": [],
    "metadata": {
     "collapsed": false
    }
   }
  }
 },
 "nbformat": 4,
 "nbformat_minor": 0
}