{
 "cells": [
  {
   "cell_type": "markdown",
   "source": [
    "## Григорьев Дмитрий, вариант 3\n",
    "# Импортируем необходимые модули \n",
    "### + функцию интерполирования"
   ],
   "metadata": {
    "collapsed": false,
    "pycharm": {
     "name": "#%% md\n"
    }
   }
  },
  {
   "cell_type": "code",
   "execution_count": 1,
   "metadata": {
    "collapsed": true,
    "pycharm": {
     "is_executing": false
    }
   },
   "outputs": [],
   "source": [
    "from math import sin,cos\n",
    "from mft1_2 import equidistant_interpolation\n"
   ]
  },
  {
   "cell_type": "markdown",
   "source": [
    "# Начальные данные\n",
    "### Функция $f(x)=\\cos(x), [-0.5;0.5],\\\\ h = 0.1$"
   ],
   "metadata": {
    "collapsed": false,
    "pycharm": {
     "name": "#%% md\n"
    }
   }
  },
  {
   "cell_type": "code",
   "execution_count": 2,
   "outputs": [],
   "source": [
    "h = 0.1 #Шаг интерполяции\n",
    "pivot = 0.45\n",
    "a = -0.5\n",
    "b = 0.5\n",
    "f = lambda x: cos(x)\n",
    "d1f = lambda x: -sin(x)\n",
    "d2f = lambda x: -cos(x)\n",
    "d3f = lambda x: sin(x)\n",
    "d4f = lambda x: cos(x)\n",
    "d5f = lambda x: -sin(x)"
   ],
   "metadata": {
    "collapsed": false,
    "pycharm": {
     "name": "#%%\n",
     "is_executing": false
    }
   }
  },
  {
   "cell_type": "markdown",
   "source": [
    "# Вычисление трёх требуемых таблиц"
   ],
   "metadata": {
    "collapsed": false,
    "pycharm": {
     "name": "#%% md\n"
    }
   }
  },
  {
   "cell_type": "code",
   "execution_count": 3,
   "outputs": [],
   "source": [
    "df1, df2, df3 = equidistant_interpolation(f, pivot, a, b, h, [d1f, d2f, d3f, d4f, d5f])\n"
   ],
   "metadata": {
    "collapsed": false,
    "pycharm": {
     "name": "#%%\n",
     "is_executing": false
    }
   }
  },
  {
   "cell_type": "markdown",
   "source": [
    "# Таблица точка-значение"
   ],
   "metadata": {
    "collapsed": false,
    "pycharm": {
     "name": "#%% md\n"
    }
   }
  },
  {
   "cell_type": "code",
   "execution_count": 4,
   "outputs": [
    {
     "data": {
      "text/plain": "     x      f(x)\n  -0.5  0.877583\n  -0.4  0.921061\n  -0.3  0.955336\n  -0.2  0.980067\n  -0.1  0.995004\n   0.0  1.000000\n   0.1  0.995004\n   0.2  0.980067\n   0.3  0.955336\n   0.4  0.921061\n   0.5  0.877583",
      "text/html": "<div>\n<style scoped>\n    .dataframe tbody tr th:only-of-type {\n        vertical-align: middle;\n    }\n\n    .dataframe tbody tr th {\n        vertical-align: top;\n    }\n\n    .dataframe thead th {\n        text-align: right;\n    }\n</style>\n<table border=\"1\" class=\"dataframe\">\n  <thead>\n    <tr style=\"text-align: right;\">\n      <th></th>\n      <th>x</th>\n      <th>f(x)</th>\n    </tr>\n  </thead>\n  <tbody>\n    <tr>\n      <th></th>\n      <td>-0.5</td>\n      <td>0.877583</td>\n    </tr>\n    <tr>\n      <th></th>\n      <td>-0.4</td>\n      <td>0.921061</td>\n    </tr>\n    <tr>\n      <th></th>\n      <td>-0.3</td>\n      <td>0.955336</td>\n    </tr>\n    <tr>\n      <th></th>\n      <td>-0.2</td>\n      <td>0.980067</td>\n    </tr>\n    <tr>\n      <th></th>\n      <td>-0.1</td>\n      <td>0.995004</td>\n    </tr>\n    <tr>\n      <th></th>\n      <td>0.0</td>\n      <td>1.000000</td>\n    </tr>\n    <tr>\n      <th></th>\n      <td>0.1</td>\n      <td>0.995004</td>\n    </tr>\n    <tr>\n      <th></th>\n      <td>0.2</td>\n      <td>0.980067</td>\n    </tr>\n    <tr>\n      <th></th>\n      <td>0.3</td>\n      <td>0.955336</td>\n    </tr>\n    <tr>\n      <th></th>\n      <td>0.4</td>\n      <td>0.921061</td>\n    </tr>\n    <tr>\n      <th></th>\n      <td>0.5</td>\n      <td>0.877583</td>\n    </tr>\n  </tbody>\n</table>\n</div>"
     },
     "metadata": {},
     "output_type": "execute_result",
     "execution_count": 4
    }
   ],
   "source": [
    "df1\n"
   ],
   "metadata": {
    "collapsed": false,
    "pycharm": {
     "name": "#%%\n",
     "is_executing": false
    }
   }
  },
  {
   "cell_type": "markdown",
   "source": [
    "# Таблица конечных разностей"
   ],
   "metadata": {
    "collapsed": false,
    "pycharm": {
     "name": "#%% md\n",
     "is_executing": false
    }
   }
  },
  {
   "cell_type": "code",
   "execution_count": 5,
   "outputs": [
    {
     "data": {
      "text/plain": "     x         y $ \\Delta y $ $ \\Delta^{2} y $ $ \\Delta^{3} y $  \\\n  -0.5  0.877583                                                  \n                      0.04348                                     \n  -0.4  0.921061                       -0.0092                    \n                      0.03428                          -0.00034   \n  -0.3  0.955336                      -0.00955                    \n                      0.02473                          -0.00025   \n  -0.2  0.980067                      -0.00979                    \n                      0.01494                          -0.00015   \n  -0.1  0.995004                      -0.00994                    \n                        0.005                            -5e-05   \n     0         1                      -0.00999                    \n                       -0.005                             5e-05   \n   0.1  0.995004                      -0.00994                    \n                     -0.01494                           0.00015   \n   0.2  0.980067                      -0.00979                    \n                     -0.02473                           0.00025   \n   0.3  0.955336                      -0.00955                    \n                     -0.03428                           0.00034   \n   0.4  0.921061                       -0.0092                    \n                     -0.04348                                     \n   0.5  0.877583                                                  \n\n  $ \\Delta^{4} y $  \n                    \n                    \n                    \n                    \n            0.0001  \n                    \n            0.0001  \n                    \n            0.0001  \n                    \n            0.0001  \n                    \n            0.0001  \n                    \n            0.0001  \n                    \n            0.0001  \n                    \n                    \n                    \n                    ",
      "text/html": "<div>\n<style scoped>\n    .dataframe tbody tr th:only-of-type {\n        vertical-align: middle;\n    }\n\n    .dataframe tbody tr th {\n        vertical-align: top;\n    }\n\n    .dataframe thead th {\n        text-align: right;\n    }\n</style>\n<table border=\"1\" class=\"dataframe\">\n  <thead>\n    <tr style=\"text-align: right;\">\n      <th></th>\n      <th>x</th>\n      <th>y</th>\n      <th>$ \\Delta y $</th>\n      <th>$ \\Delta^{2} y $</th>\n      <th>$ \\Delta^{3} y $</th>\n      <th>$ \\Delta^{4} y $</th>\n    </tr>\n  </thead>\n  <tbody>\n    <tr>\n      <th></th>\n      <td>-0.5</td>\n      <td>0.877583</td>\n      <td></td>\n      <td></td>\n      <td></td>\n      <td></td>\n    </tr>\n    <tr>\n      <th></th>\n      <td></td>\n      <td></td>\n      <td>0.04348</td>\n      <td></td>\n      <td></td>\n      <td></td>\n    </tr>\n    <tr>\n      <th></th>\n      <td>-0.4</td>\n      <td>0.921061</td>\n      <td></td>\n      <td>-0.0092</td>\n      <td></td>\n      <td></td>\n    </tr>\n    <tr>\n      <th></th>\n      <td></td>\n      <td></td>\n      <td>0.03428</td>\n      <td></td>\n      <td>-0.00034</td>\n      <td></td>\n    </tr>\n    <tr>\n      <th></th>\n      <td>-0.3</td>\n      <td>0.955336</td>\n      <td></td>\n      <td>-0.00955</td>\n      <td></td>\n      <td>0.0001</td>\n    </tr>\n    <tr>\n      <th></th>\n      <td></td>\n      <td></td>\n      <td>0.02473</td>\n      <td></td>\n      <td>-0.00025</td>\n      <td></td>\n    </tr>\n    <tr>\n      <th></th>\n      <td>-0.2</td>\n      <td>0.980067</td>\n      <td></td>\n      <td>-0.00979</td>\n      <td></td>\n      <td>0.0001</td>\n    </tr>\n    <tr>\n      <th></th>\n      <td></td>\n      <td></td>\n      <td>0.01494</td>\n      <td></td>\n      <td>-0.00015</td>\n      <td></td>\n    </tr>\n    <tr>\n      <th></th>\n      <td>-0.1</td>\n      <td>0.995004</td>\n      <td></td>\n      <td>-0.00994</td>\n      <td></td>\n      <td>0.0001</td>\n    </tr>\n    <tr>\n      <th></th>\n      <td></td>\n      <td></td>\n      <td>0.005</td>\n      <td></td>\n      <td>-5e-05</td>\n      <td></td>\n    </tr>\n    <tr>\n      <th></th>\n      <td>0</td>\n      <td>1</td>\n      <td></td>\n      <td>-0.00999</td>\n      <td></td>\n      <td>0.0001</td>\n    </tr>\n    <tr>\n      <th></th>\n      <td></td>\n      <td></td>\n      <td>-0.005</td>\n      <td></td>\n      <td>5e-05</td>\n      <td></td>\n    </tr>\n    <tr>\n      <th></th>\n      <td>0.1</td>\n      <td>0.995004</td>\n      <td></td>\n      <td>-0.00994</td>\n      <td></td>\n      <td>0.0001</td>\n    </tr>\n    <tr>\n      <th></th>\n      <td></td>\n      <td></td>\n      <td>-0.01494</td>\n      <td></td>\n      <td>0.00015</td>\n      <td></td>\n    </tr>\n    <tr>\n      <th></th>\n      <td>0.2</td>\n      <td>0.980067</td>\n      <td></td>\n      <td>-0.00979</td>\n      <td></td>\n      <td>0.0001</td>\n    </tr>\n    <tr>\n      <th></th>\n      <td></td>\n      <td></td>\n      <td>-0.02473</td>\n      <td></td>\n      <td>0.00025</td>\n      <td></td>\n    </tr>\n    <tr>\n      <th></th>\n      <td>0.3</td>\n      <td>0.955336</td>\n      <td></td>\n      <td>-0.00955</td>\n      <td></td>\n      <td>0.0001</td>\n    </tr>\n    <tr>\n      <th></th>\n      <td></td>\n      <td></td>\n      <td>-0.03428</td>\n      <td></td>\n      <td>0.00034</td>\n      <td></td>\n    </tr>\n    <tr>\n      <th></th>\n      <td>0.4</td>\n      <td>0.921061</td>\n      <td></td>\n      <td>-0.0092</td>\n      <td></td>\n      <td></td>\n    </tr>\n    <tr>\n      <th></th>\n      <td></td>\n      <td></td>\n      <td>-0.04348</td>\n      <td></td>\n      <td></td>\n      <td></td>\n    </tr>\n    <tr>\n      <th></th>\n      <td>0.5</td>\n      <td>0.877583</td>\n      <td></td>\n      <td></td>\n      <td></td>\n      <td></td>\n    </tr>\n  </tbody>\n</table>\n</div>"
     },
     "metadata": {},
     "output_type": "execute_result",
     "execution_count": 5
    }
   ],
   "source": [
    "df2"
   ],
   "metadata": {
    "collapsed": false,
    "pycharm": {
     "name": "#%%\n",
     "is_executing": false
    }
   }
  },
  {
   "cell_type": "markdown",
   "source": [
    "# Сводная таблица результата вычислений"
   ],
   "metadata": {
    "collapsed": false,
    "pycharm": {
     "name": "#%% md\n",
     "is_executing": false
    }
   }
  },
  {
   "cell_type": "code",
   "execution_count": 6,
   "outputs": [
    {
     "data": {
      "text/plain": "k                                           0         1         2         3  \\\n$ \\Delta^{k} y_{0} $                 0.877583 -0.043478 -0.009203  0.000342   \n$N_{k}(t)$                           1.000000 -0.500000 -0.125000 -0.062500   \n$ N_{k}(t) \\cdot \\Delta^{k} y_{0} $  0.877583  0.021739  0.001150 -0.000021   \n$P_{k}($0.45$)$                      0.877583  0.899322  0.900472  0.900451   \n$f($0.45$) {-} P_{k}($0.45$)$        0.022865  0.001125 -0.000025 -0.000004   \n$|R_{k}($0.45$)|\\le$                 0.023971  0.001151  0.000030  0.000004   \n\nk                                               4  \n$ \\Delta^{k} y_{0} $                 9.537455e-05  \n$N_{k}(t)$                          -3.906250e-02  \n$ N_{k}(t) \\cdot \\Delta^{k} y_{0} $ -3.725568e-06  \n$P_{k}($0.45$)$                      9.004470e-01  \n$f($0.45$) {-} P_{k}($0.45$)$        8.718909e-08  \n$|R_{k}($0.45$)|\\le$                 1.310859e-07  ",
      "text/html": "<div>\n<style scoped>\n    .dataframe tbody tr th:only-of-type {\n        vertical-align: middle;\n    }\n\n    .dataframe tbody tr th {\n        vertical-align: top;\n    }\n\n    .dataframe thead th {\n        text-align: right;\n    }\n</style>\n<table border=\"1\" class=\"dataframe\">\n  <thead>\n    <tr style=\"text-align: right;\">\n      <th>k</th>\n      <th>0</th>\n      <th>1</th>\n      <th>2</th>\n      <th>3</th>\n      <th>4</th>\n    </tr>\n  </thead>\n  <tbody>\n    <tr>\n      <th>$ \\Delta^{k} y_{0} $</th>\n      <td>0.877583</td>\n      <td>-0.043478</td>\n      <td>-0.009203</td>\n      <td>0.000342</td>\n      <td>9.537455e-05</td>\n    </tr>\n    <tr>\n      <th>$N_{k}(t)$</th>\n      <td>1.000000</td>\n      <td>-0.500000</td>\n      <td>-0.125000</td>\n      <td>-0.062500</td>\n      <td>-3.906250e-02</td>\n    </tr>\n    <tr>\n      <th>$ N_{k}(t) \\cdot \\Delta^{k} y_{0} $</th>\n      <td>0.877583</td>\n      <td>0.021739</td>\n      <td>0.001150</td>\n      <td>-0.000021</td>\n      <td>-3.725568e-06</td>\n    </tr>\n    <tr>\n      <th>$P_{k}($0.45$)$</th>\n      <td>0.877583</td>\n      <td>0.899322</td>\n      <td>0.900472</td>\n      <td>0.900451</td>\n      <td>9.004470e-01</td>\n    </tr>\n    <tr>\n      <th>$f($0.45$) {-} P_{k}($0.45$)$</th>\n      <td>0.022865</td>\n      <td>0.001125</td>\n      <td>-0.000025</td>\n      <td>-0.000004</td>\n      <td>8.718909e-08</td>\n    </tr>\n    <tr>\n      <th>$|R_{k}($0.45$)|\\le$</th>\n      <td>0.023971</td>\n      <td>0.001151</td>\n      <td>0.000030</td>\n      <td>0.000004</td>\n      <td>1.310859e-07</td>\n    </tr>\n  </tbody>\n</table>\n</div>"
     },
     "metadata": {},
     "output_type": "execute_result",
     "execution_count": 6
    }
   ],
   "source": [
    "df3\n",
    "    "
   ],
   "metadata": {
    "collapsed": false,
    "pycharm": {
     "name": "#%%\n",
     "is_executing": false
    }
   }
  },
  {
   "cell_type": "code",
   "execution_count": 6,
   "outputs": [],
   "source": [],
   "metadata": {
    "collapsed": false,
    "pycharm": {
     "name": "#%% \n",
     "is_executing": false
    }
   }
  }
 ],
 "metadata": {
  "kernelspec": {
   "display_name": "Python 3",
   "language": "python",
   "name": "python3"
  },
  "language_info": {
   "codemirror_mode": {
    "name": "ipython",
    "version": 2
   },
   "file_extension": ".py",
   "mimetype": "text/x-python",
   "name": "python",
   "nbconvert_exporter": "python",
   "pygments_lexer": "ipython2",
   "version": "2.7.6"
  },
  "pycharm": {
   "stem_cell": {
    "cell_type": "raw",
    "source": [],
    "metadata": {
     "collapsed": false
    }
   }
  }
 },
 "nbformat": 4,
 "nbformat_minor": 0
}