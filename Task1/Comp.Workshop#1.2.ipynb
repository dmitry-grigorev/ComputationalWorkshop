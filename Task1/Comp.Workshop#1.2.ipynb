{
 "cells": [
  {
   "cell_type": "code",
   "execution_count": 42,
   "metadata": {
    "collapsed": true,
    "pycharm": {
     "is_executing": false
    }
   },
   "outputs": [],
   "source": [
    "import pandas as pd\n",
    "import mft1_2\n",
    "h = 0.1 #Шаг интерполяции"
   ]
  },
  {
   "cell_type": "markdown",
   "source": [
    "#Начальные данные"
   ],
   "metadata": {
    "collapsed": false,
    "pycharm": {
     "name": "#%% md\n"
    }
   }
  },
  {
   "cell_type": "code",
   "execution_count": 43,
   "outputs": [],
   "source": [
    "pivot = 0.95\n",
    "a = 0\n",
    "b = 1\n",
    "f = lambda x: x**3+2\n",
    "d1f = lambda x: 3*(x**2)\n",
    "d2f = lambda x: 6*x\n",
    "d3f = lambda x: 6\n",
    "d4f = lambda x: 0"
   ],
   "metadata": {
    "collapsed": false,
    "pycharm": {
     "name": "#%%\n",
     "is_executing": false
    }
   }
  },
  {
   "cell_type": "code",
   "execution_count": 44,
   "outputs": [
    {
     "data": {
      "text/plain": "     x   f(x)\n   0.0  2.000\n   0.1  2.001\n   0.2  2.008\n   0.3  2.027\n   0.4  2.064\n   0.5  2.125\n   0.6  2.216\n   0.7  2.343\n   0.8  2.512\n   0.9  2.729\n   1.0  3.000",
      "text/html": "<div>\n<style scoped>\n    .dataframe tbody tr th:only-of-type {\n        vertical-align: middle;\n    }\n\n    .dataframe tbody tr th {\n        vertical-align: top;\n    }\n\n    .dataframe thead th {\n        text-align: right;\n    }\n</style>\n<table border=\"1\" class=\"dataframe\">\n  <thead>\n    <tr style=\"text-align: right;\">\n      <th></th>\n      <th>x</th>\n      <th>f(x)</th>\n    </tr>\n  </thead>\n  <tbody>\n    <tr>\n      <th></th>\n      <td>0.0</td>\n      <td>2.000</td>\n    </tr>\n    <tr>\n      <th></th>\n      <td>0.1</td>\n      <td>2.001</td>\n    </tr>\n    <tr>\n      <th></th>\n      <td>0.2</td>\n      <td>2.008</td>\n    </tr>\n    <tr>\n      <th></th>\n      <td>0.3</td>\n      <td>2.027</td>\n    </tr>\n    <tr>\n      <th></th>\n      <td>0.4</td>\n      <td>2.064</td>\n    </tr>\n    <tr>\n      <th></th>\n      <td>0.5</td>\n      <td>2.125</td>\n    </tr>\n    <tr>\n      <th></th>\n      <td>0.6</td>\n      <td>2.216</td>\n    </tr>\n    <tr>\n      <th></th>\n      <td>0.7</td>\n      <td>2.343</td>\n    </tr>\n    <tr>\n      <th></th>\n      <td>0.8</td>\n      <td>2.512</td>\n    </tr>\n    <tr>\n      <th></th>\n      <td>0.9</td>\n      <td>2.729</td>\n    </tr>\n    <tr>\n      <th></th>\n      <td>1.0</td>\n      <td>3.000</td>\n    </tr>\n  </tbody>\n</table>\n</div>"
     },
     "metadata": {},
     "output_type": "execute_result",
     "execution_count": 44
    }
   ],
   "source": [
    "def get_values(f,a,b,h):\n",
    "    n = int((b-a)/h)+1\n",
    "    return [f(a+k*h) for k in range(n)]\n",
    "    \n",
    "def buildTable1(f,a,b,h): \n",
    "    n = int((b-a)/h)+1\n",
    "    nodes = [(a+k*h) for k in range(n)]\n",
    "    values = get_values(f,a,b,h)\n",
    "    return pd.DataFrame([nodes,values],index = [\"x\",\"f(x)\"], columns = [\" \"]*n).T\n",
    "\n",
    "df = buildTable1(f,a,b,h)\n",
    "df"
   ],
   "metadata": {
    "collapsed": false,
    "pycharm": {
     "name": "#%%\n",
     "is_executing": false
    }
   }
  },
  {
   "cell_type": "code",
   "execution_count": 45,
   "outputs": [
    {
     "data": {
      "text/plain": "([0.0009999999999998899,\n  0.007000000000000117,\n  0.019000000000000128,\n  0.03699999999999992,\n  0.06099999999999994,\n  0.09100000000000019,\n  0.12699999999999978,\n  0.16900000000000004,\n  0.21700000000000008,\n  0.2709999999999999],\n [0.006000000000000227,\n  0.01200000000000001,\n  0.017999999999999794,\n  0.02400000000000002,\n  0.03000000000000025,\n  0.03599999999999959,\n  0.04200000000000026,\n  0.04800000000000004,\n  0.053999999999999826],\n [0.005999999999999783,\n  0.005999999999999783,\n  0.006000000000000227,\n  0.006000000000000227,\n  0.005999999999999339,\n  0.0060000000000006715,\n  0.005999999999999783,\n  0.005999999999999783],\n [0.0,\n  4.440892098500626e-16,\n  0.0,\n  -8.881784197001252e-16,\n  1.3322676295501878e-15,\n  -8.881784197001252e-16,\n  0.0])"
     },
     "metadata": {},
     "output_type": "execute_result",
     "execution_count": 45
    }
   ],
   "source": [
    "def get_ER1(f ,a ,b):\n",
    "    values = get_values(f,a,b,h)\n",
    "    le = len(values)\n",
    "    ER1 = [values[k+1]-values[k] for k in range(le-1)]\n",
    "    ER2 = [ER1[k+1]-ER1[k] for k in range(le-2)]\n",
    "    ER3 = [ER2[k+1]-ER2[k] for k in range(le-3)]\n",
    "    ER4 = [ER3[k+1]-ER3[k] for k in range(le-4)]\n",
    "    return (ER1 , ER2, ER3, ER4)\n",
    "    \n",
    "ER1 = get_ER1(f, a ,b)\n",
    "ER1"
   ],
   "metadata": {
    "collapsed": false,
    "pycharm": {
     "name": "#%%\n",
     "is_executing": false
    }
   }
  },
  {
   "cell_type": "code",
   "execution_count": 46,
   "outputs": [
    {
     "data": {
      "text/plain": "      x      y     dy    d2y    d3y d4y\n0     0      2                         \n1               0.001                  \n2   0.1  2.001         0.006           \n3               0.007         0.006    \n4   0.2  2.008         0.012          0\n5               0.019         0.006    \n6   0.3  2.027         0.018          0\n7               0.037         0.006    \n8   0.4  2.064         0.024          0\n9               0.061         0.006    \n10  0.5  2.125          0.03         -0\n11              0.091         0.006    \n12  0.6  2.216         0.036          0\n13              0.127         0.006    \n14  0.7  2.343         0.042         -0\n15              0.169         0.006    \n16  0.8  2.512         0.048          0\n17              0.217         0.006    \n18  0.9  2.729         0.054           \n19              0.271                  \n20    1      3                         ",
      "text/html": "<div>\n<style scoped>\n    .dataframe tbody tr th:only-of-type {\n        vertical-align: middle;\n    }\n\n    .dataframe tbody tr th {\n        vertical-align: top;\n    }\n\n    .dataframe thead th {\n        text-align: right;\n    }\n</style>\n<table border=\"1\" class=\"dataframe\">\n  <thead>\n    <tr style=\"text-align: right;\">\n      <th></th>\n      <th>x</th>\n      <th>y</th>\n      <th>dy</th>\n      <th>d2y</th>\n      <th>d3y</th>\n      <th>d4y</th>\n    </tr>\n  </thead>\n  <tbody>\n    <tr>\n      <th>0</th>\n      <td>0</td>\n      <td>2</td>\n      <td></td>\n      <td></td>\n      <td></td>\n      <td></td>\n    </tr>\n    <tr>\n      <th>1</th>\n      <td></td>\n      <td></td>\n      <td>0.001</td>\n      <td></td>\n      <td></td>\n      <td></td>\n    </tr>\n    <tr>\n      <th>2</th>\n      <td>0.1</td>\n      <td>2.001</td>\n      <td></td>\n      <td>0.006</td>\n      <td></td>\n      <td></td>\n    </tr>\n    <tr>\n      <th>3</th>\n      <td></td>\n      <td></td>\n      <td>0.007</td>\n      <td></td>\n      <td>0.006</td>\n      <td></td>\n    </tr>\n    <tr>\n      <th>4</th>\n      <td>0.2</td>\n      <td>2.008</td>\n      <td></td>\n      <td>0.012</td>\n      <td></td>\n      <td>0</td>\n    </tr>\n    <tr>\n      <th>5</th>\n      <td></td>\n      <td></td>\n      <td>0.019</td>\n      <td></td>\n      <td>0.006</td>\n      <td></td>\n    </tr>\n    <tr>\n      <th>6</th>\n      <td>0.3</td>\n      <td>2.027</td>\n      <td></td>\n      <td>0.018</td>\n      <td></td>\n      <td>0</td>\n    </tr>\n    <tr>\n      <th>7</th>\n      <td></td>\n      <td></td>\n      <td>0.037</td>\n      <td></td>\n      <td>0.006</td>\n      <td></td>\n    </tr>\n    <tr>\n      <th>8</th>\n      <td>0.4</td>\n      <td>2.064</td>\n      <td></td>\n      <td>0.024</td>\n      <td></td>\n      <td>0</td>\n    </tr>\n    <tr>\n      <th>9</th>\n      <td></td>\n      <td></td>\n      <td>0.061</td>\n      <td></td>\n      <td>0.006</td>\n      <td></td>\n    </tr>\n    <tr>\n      <th>10</th>\n      <td>0.5</td>\n      <td>2.125</td>\n      <td></td>\n      <td>0.03</td>\n      <td></td>\n      <td>-0</td>\n    </tr>\n    <tr>\n      <th>11</th>\n      <td></td>\n      <td></td>\n      <td>0.091</td>\n      <td></td>\n      <td>0.006</td>\n      <td></td>\n    </tr>\n    <tr>\n      <th>12</th>\n      <td>0.6</td>\n      <td>2.216</td>\n      <td></td>\n      <td>0.036</td>\n      <td></td>\n      <td>0</td>\n    </tr>\n    <tr>\n      <th>13</th>\n      <td></td>\n      <td></td>\n      <td>0.127</td>\n      <td></td>\n      <td>0.006</td>\n      <td></td>\n    </tr>\n    <tr>\n      <th>14</th>\n      <td>0.7</td>\n      <td>2.343</td>\n      <td></td>\n      <td>0.042</td>\n      <td></td>\n      <td>-0</td>\n    </tr>\n    <tr>\n      <th>15</th>\n      <td></td>\n      <td></td>\n      <td>0.169</td>\n      <td></td>\n      <td>0.006</td>\n      <td></td>\n    </tr>\n    <tr>\n      <th>16</th>\n      <td>0.8</td>\n      <td>2.512</td>\n      <td></td>\n      <td>0.048</td>\n      <td></td>\n      <td>0</td>\n    </tr>\n    <tr>\n      <th>17</th>\n      <td></td>\n      <td></td>\n      <td>0.217</td>\n      <td></td>\n      <td>0.006</td>\n      <td></td>\n    </tr>\n    <tr>\n      <th>18</th>\n      <td>0.9</td>\n      <td>2.729</td>\n      <td></td>\n      <td>0.054</td>\n      <td></td>\n      <td></td>\n    </tr>\n    <tr>\n      <th>19</th>\n      <td></td>\n      <td></td>\n      <td>0.271</td>\n      <td></td>\n      <td></td>\n      <td></td>\n    </tr>\n    <tr>\n      <th>20</th>\n      <td>1</td>\n      <td>3</td>\n      <td></td>\n      <td></td>\n      <td></td>\n      <td></td>\n    </tr>\n  </tbody>\n</table>\n</div>"
     },
     "metadata": {},
     "output_type": "execute_result",
     "execution_count": 46
    }
   ],
   "source": [
    "def buildTable2(f,a,b,h):\n",
    "    n = int((b-a)/h)+1\n",
    "    nodes = [a+(k//2)*h if k % 2 ==0 else ' ' for k in range(2*n-1)]\n",
    "    values = [f(a+(k//2)*h) if k % 2 ==0 else ' ' for k in range(2*n-1)]\n",
    "    ER1_buf, ER2_buf, ER3_buf, ER4_buf = get_ER1(f,a,b)\n",
    "    ER1 = [ER1_buf[k//2] if k % 2 == 1 else ' ' for k in range(2*n-1)]\n",
    "    ER2 = [' ']+[ER2_buf[k//2] if k % 2 == 1 else ' ' for k in range(2*n-3)]+[' ']\n",
    "    ER3 = [' ']*2+[ER3_buf[k//2] if k % 2 == 1 else ' ' for k in range(2*n-5)]+2*[' ']\n",
    "    ER4 = [' ']*3+[round(ER4_buf[k//2],5) if k % 2 == 1 else ' ' for k in range(2*n-7)]+3*[' ']\n",
    "    return pd.DataFrame([nodes,values,ER1,ER2,ER3,ER4], index = [\"x\",\"y\",'dy','d2y','d3y','d4y']).T\n",
    "# Написать единую функцию для конечных разностей (они имеют капец какое одинаковое построение)\n",
    "df1 = buildTable2(f,a,b,h)\n",
    "df1"
   ],
   "metadata": {
    "collapsed": false,
    "pycharm": {
     "name": "#%%\n",
     "is_executing": false
    }
   }
  },
  {
   "cell_type": "code",
   "execution_count": 47,
   "outputs": [
    {
     "data": {
      "text/plain": "[1, 0, 0, 0, 0]"
     },
     "metadata": {},
     "output_type": "execute_result",
     "execution_count": 47
    }
   ],
   "source": [
    "def calculate_Ns(f,a,b,h,pivot):\n",
    "    N = [1]+[0]*4\n",
    "    if pivot <= a+h/2:\n",
    "        t = (pivot-a)/h\n",
    "        for k in range(1,5):\n",
    "            N[k] = N[k-1]*(t-k+1)/k\n",
    "    elif pivot >= b+h/2:\n",
    "        t = (pivot-b)/h\n",
    "        for k in range(1,5):\n",
    "            N[k] = N[k-1]*(t+k-1)/k\n",
    "    return N\n",
    "\n",
    "N = calculate_Ns(f,a,b,h,pivot)\n",
    "N\n",
    "    "
   ],
   "metadata": {
    "collapsed": false,
    "pycharm": {
     "name": "#%%\n",
     "is_executing": false
    }
   }
  }
 ],
 "metadata": {
  "kernelspec": {
   "display_name": "Python 3",
   "language": "python",
   "name": "python3"
  },
  "language_info": {
   "codemirror_mode": {
    "name": "ipython",
    "version": 2
   },
   "file_extension": ".py",
   "mimetype": "text/x-python",
   "name": "python",
   "nbconvert_exporter": "python",
   "pygments_lexer": "ipython2",
   "version": "2.7.6"
  },
  "pycharm": {
   "stem_cell": {
    "cell_type": "raw",
    "source": [],
    "metadata": {
     "collapsed": false
    }
   }
  }
 },
 "nbformat": 4,
 "nbformat_minor": 0
}