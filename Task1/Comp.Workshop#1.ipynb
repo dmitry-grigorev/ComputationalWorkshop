{
 "cells": [
  {
   "cell_type": "markdown",
   "source": [
    "## Григорьев Дмитрий, вариант 3\n",
    "### Импорт нашего модуля"
   ],
   "metadata": {
    "collapsed": false,
    "pycharm": {
     "name": "#%% md\n"
    }
   }
  },
  {
   "cell_type": "code",
   "execution_count": 7,
   "metadata": {
    "pycharm": {
     "is_executing": false
    }
   },
   "outputs": [],
   "source": [
    "import mft1\n"
   ]
  },
  {
   "cell_type": "markdown",
   "metadata": {},
   "source": [
    "# Начальные данные\n",
    "### Функция $f(x)=\\sqrt[4]{x+2}$"
   ]
  },
  {
   "cell_type": "code",
   "execution_count": 8,
   "metadata": {
    "pycharm": {
     "is_executing": false
    }
   },
   "outputs": [],
   "source": [
    "nodes = [0, 2, 4, 5, 7, 10]\n",
    "pivot = 3\n",
    "f = lambda x: pow(x+2,1./4)\n",
    "d1f = lambda x: 1/(4*pow(x+2,3./4))\n",
    "d2f = lambda x: -3/(16*pow(x+2,7./4))\n",
    "d3f = lambda x: 21/(64*pow(x+2,11./4))\n",
    "d4f = lambda x: -231/(256*pow(x+2,15./4))"
   ]
  },
  {
   "cell_type": "markdown",
   "metadata": {},
   "source": [
    "# Вычисление разделённых разностей и двух таблиц"
   ]
  },
  {
   "cell_type": "code",
   "execution_count": 9,
   "metadata": {
    "pycharm": {
     "is_executing": false
    }
   },
   "outputs": [],
   "source": [
    "RRs, dataframe1, dataframe2 = mft1.interpolating(f,nodes,pivot,[d1f,d2f,d3f,d4f])"
   ]
  },
  {
   "cell_type": "markdown",
   "metadata": {},
   "source": [
    "### Разделённые разности"
   ]
  },
  {
   "cell_type": "code",
   "execution_count": 10,
   "metadata": {
    "pycharm": {
     "is_executing": false
    }
   },
   "outputs": [
    {
     "name": "stdout",
     "text": [
      "RR1 = [0.11250322368518706, 0.07543550885009609, 0.061491981624498315, 0.05273712293554578, 0.043052970211773976]\n",
      "RR2 = [-0.009266928708772743, -0.0046478424085325916, -0.002918286229650846, -0.0019368305447543602]\n",
      "RR3 = [0.0009238172600480302, 0.0003459112357763491, 0.00016357594748274765]\n",
      "\n"
     ],
     "output_type": "stream"
    }
   ],
   "source": [
    "RR1, RR2, RR3 = RRs\n",
    "print(\"RR1 = {}\\nRR2 = {}\\nRR3 = {}\\n\".format(RR1, RR2, RR3))"
   ]
  },
  {
   "cell_type": "markdown",
   "metadata": {},
   "source": [
    "### Сводная таблица 1"
   ]
  },
  {
   "cell_type": "code",
   "execution_count": 11,
   "metadata": {
    "pycharm": {
     "is_executing": false
    }
   },
   "outputs": [
    {
     "data": {
      "text/plain": "    x     f(x)  р.р 1 п  р.р 2 п р.р 3  п\n    0  1.18921                           \n                 0.1125                  \n    2  1.41421          -0.00927         \n                0.07544             0.001\n    4  1.56508          -0.00465         \n                0.06149                 0\n    5  1.62658          -0.00292         \n                0.05274                 0\n    7  1.73205          -0.00194         \n                0.04305                  \n   10  1.86121                           \n    3        ?                           ",
      "text/html": "<div>\n<style scoped>\n    .dataframe tbody tr th:only-of-type {\n        vertical-align: middle;\n    }\n\n    .dataframe tbody tr th {\n        vertical-align: top;\n    }\n\n    .dataframe thead th {\n        text-align: right;\n    }\n</style>\n<table border=\"1\" class=\"dataframe\">\n  <thead>\n    <tr style=\"text-align: right;\">\n      <th></th>\n      <th>x</th>\n      <th>f(x)</th>\n      <th>р.р 1 п</th>\n      <th>р.р 2 п</th>\n      <th>р.р 3  п</th>\n    </tr>\n  </thead>\n  <tbody>\n    <tr>\n      <th></th>\n      <td>0</td>\n      <td>1.18921</td>\n      <td></td>\n      <td></td>\n      <td></td>\n    </tr>\n    <tr>\n      <th></th>\n      <td></td>\n      <td></td>\n      <td>0.1125</td>\n      <td></td>\n      <td></td>\n    </tr>\n    <tr>\n      <th></th>\n      <td>2</td>\n      <td>1.41421</td>\n      <td></td>\n      <td>-0.00927</td>\n      <td></td>\n    </tr>\n    <tr>\n      <th></th>\n      <td></td>\n      <td></td>\n      <td>0.07544</td>\n      <td></td>\n      <td>0.001</td>\n    </tr>\n    <tr>\n      <th></th>\n      <td>4</td>\n      <td>1.56508</td>\n      <td></td>\n      <td>-0.00465</td>\n      <td></td>\n    </tr>\n    <tr>\n      <th></th>\n      <td></td>\n      <td></td>\n      <td>0.06149</td>\n      <td></td>\n      <td>0</td>\n    </tr>\n    <tr>\n      <th></th>\n      <td>5</td>\n      <td>1.62658</td>\n      <td></td>\n      <td>-0.00292</td>\n      <td></td>\n    </tr>\n    <tr>\n      <th></th>\n      <td></td>\n      <td></td>\n      <td>0.05274</td>\n      <td></td>\n      <td>0</td>\n    </tr>\n    <tr>\n      <th></th>\n      <td>7</td>\n      <td>1.73205</td>\n      <td></td>\n      <td>-0.00194</td>\n      <td></td>\n    </tr>\n    <tr>\n      <th></th>\n      <td></td>\n      <td></td>\n      <td>0.04305</td>\n      <td></td>\n      <td></td>\n    </tr>\n    <tr>\n      <th></th>\n      <td>10</td>\n      <td>1.86121</td>\n      <td></td>\n      <td></td>\n      <td></td>\n    </tr>\n    <tr>\n      <th></th>\n      <td>3</td>\n      <td>?</td>\n      <td></td>\n      <td></td>\n      <td></td>\n    </tr>\n  </tbody>\n</table>\n</div>"
     },
     "metadata": {},
     "output_type": "execute_result",
     "execution_count": 11
    }
   ],
   "source": [
    "dataframe1"
   ]
  },
  {
   "cell_type": "markdown",
   "metadata": {},
   "source": [
    "### Сводная таблица 2"
   ]
  },
  {
   "cell_type": "code",
   "execution_count": 12,
   "metadata": {
    "pycharm": {
     "is_executing": false
    }
   },
   "outputs": [
    {
     "data": {
      "text/plain": "                                                                        \\\n\\{i}                                                0.000000  1.000000   \nУзлы интерполирования в порядке их использования    2.000000  4.000000   \n$P_{i}($3$) -$ Значение многочлена в точке инте...  1.414214  1.489649   \n$f($3$) {-} P_{i}($3$) -$ Фактическая погрешность   0.081135  0.005700   \n$M_{i+1} -$ Оценка модуля произодных                0.088300  0.016500   \n$R_{i}($3$) -$ Оценка погрешности                   0.088300  0.008250   \n\n                                                                        \n\\{i}                                                2.000000  3.000000  \nУзлы интерполирования в порядке их использования    5.000000  0.000000  \n$P_{i}($3$) -$ Значение многочлена в точке инте...  1.494297  1.496145  \n$f($3$) {-} P_{i}($3$) -$ Фактическая погрешность   0.001052 -0.000796  \n$M_{i+1} -$ Оценка модуля произодных                0.007200  0.067000  \n$R_{i}($3$) -$ Оценка погрешности                   0.002400  0.016750  ",
      "text/html": "<div>\n<style scoped>\n    .dataframe tbody tr th:only-of-type {\n        vertical-align: middle;\n    }\n\n    .dataframe tbody tr th {\n        vertical-align: top;\n    }\n\n    .dataframe thead th {\n        text-align: right;\n    }\n</style>\n<table border=\"1\" class=\"dataframe\">\n  <thead>\n    <tr style=\"text-align: right;\">\n      <th></th>\n      <th></th>\n      <th></th>\n      <th></th>\n      <th></th>\n    </tr>\n  </thead>\n  <tbody>\n    <tr>\n      <th>\\{i}</th>\n      <td>0.000000</td>\n      <td>1.000000</td>\n      <td>2.000000</td>\n      <td>3.000000</td>\n    </tr>\n    <tr>\n      <th>Узлы интерполирования в порядке их использования</th>\n      <td>2.000000</td>\n      <td>4.000000</td>\n      <td>5.000000</td>\n      <td>0.000000</td>\n    </tr>\n    <tr>\n      <th>$P_{i}($3$) -$ Значение многочлена в точке интерполирования</th>\n      <td>1.414214</td>\n      <td>1.489649</td>\n      <td>1.494297</td>\n      <td>1.496145</td>\n    </tr>\n    <tr>\n      <th>$f($3$) {-} P_{i}($3$) -$ Фактическая погрешность</th>\n      <td>0.081135</td>\n      <td>0.005700</td>\n      <td>0.001052</td>\n      <td>-0.000796</td>\n    </tr>\n    <tr>\n      <th>$M_{i+1} -$ Оценка модуля произодных</th>\n      <td>0.088300</td>\n      <td>0.016500</td>\n      <td>0.007200</td>\n      <td>0.067000</td>\n    </tr>\n    <tr>\n      <th>$R_{i}($3$) -$ Оценка погрешности</th>\n      <td>0.088300</td>\n      <td>0.008250</td>\n      <td>0.002400</td>\n      <td>0.016750</td>\n    </tr>\n  </tbody>\n</table>\n</div>"
     },
     "metadata": {},
     "output_type": "execute_result",
     "execution_count": 12
    }
   ],
   "source": [
    "dataframe2"
   ]
  },
  {
   "cell_type": "code",
   "execution_count": 12,
   "metadata": {
    "pycharm": {
     "is_executing": false
    }
   },
   "outputs": [],
   "source": []
  }
 ],
 "metadata": {
  "kernelspec": {
   "name": "python3",
   "language": "python",
   "display_name": "Python 3"
  },
  "language_info": {
   "codemirror_mode": {
    "name": "ipython",
    "version": 3
   },
   "file_extension": ".py",
   "mimetype": "text/x-python",
   "name": "python",
   "nbconvert_exporter": "python",
   "pygments_lexer": "ipython3",
   "version": "3.7.4"
  },
  "pycharm": {
   "stem_cell": {
    "cell_type": "raw",
    "source": [],
    "metadata": {
     "collapsed": false
    }
   }
  }
 },
 "nbformat": 4,
 "nbformat_minor": 2
}