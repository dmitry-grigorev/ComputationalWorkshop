{
 "cells": [
  {
   "cell_type": "markdown",
   "source": [
    "### Импорт нашего модуля"
   ],
   "metadata": {
    "collapsed": false,
    "pycharm": {
     "name": "#%% md\n"
    }
   }
  },
  {
   "cell_type": "code",
   "execution_count": 1,
   "metadata": {
    "pycharm": {
     "is_executing": false
    }
   },
   "outputs": [],
   "source": [
    "import mft1\n"
   ]
  },
  {
   "cell_type": "markdown",
   "metadata": {},
   "source": [
    "# Начальные данные"
   ]
  },
  {
   "cell_type": "code",
   "execution_count": 2,
   "metadata": {
    "pycharm": {
     "is_executing": false
    }
   },
   "outputs": [],
   "source": [
    "nodes = [-2, 0, 1, 3, 4, 5]\n",
    "pivot = 2\n",
    "f = lambda x: x**3+2\n",
    "d1f = lambda x: 3*(x**2)\n",
    "d2f = lambda x: 6*x\n",
    "d3f = lambda x: 6\n",
    "d4f = lambda x: 0"
   ]
  },
  {
   "cell_type": "markdown",
   "metadata": {},
   "source": [
    "# Вычисление разделённых разностей и двух таблиц"
   ]
  },
  {
   "cell_type": "code",
   "execution_count": 3,
   "metadata": {
    "pycharm": {
     "is_executing": false
    }
   },
   "outputs": [],
   "source": [
    "RRs, dataframe1, dataframe2 = mft1.interpolating(f,nodes,pivot,[d1f,d2f,d3f,d4f])"
   ]
  },
  {
   "cell_type": "markdown",
   "metadata": {},
   "source": [
    "### Разделённые разности"
   ]
  },
  {
   "cell_type": "code",
   "execution_count": 4,
   "metadata": {
    "pycharm": {
     "is_executing": false
    }
   },
   "outputs": [
    {
     "name": "stdout",
     "text": [
      "RR1 = [4.0, 1.0, 13.0, 37.0, 61.0]\n",
      "RR2 = [-1.0, 4.0, 8.0, 12.0]\n",
      "RR3 = [1.0, 1.0, 1.0]\n",
      "\n"
     ],
     "output_type": "stream"
    }
   ],
   "source": [
    "RR1, RR2, RR3 = RRs\n",
    "print(\"RR1 = {}\\nRR2 = {}\\nRR3 = {}\\n\".format(RR1, RR2, RR3))"
   ]
  },
  {
   "cell_type": "markdown",
   "metadata": {},
   "source": [
    "### Сводная таблица 1"
   ]
  },
  {
   "cell_type": "code",
   "execution_count": 5,
   "metadata": {
    "pycharm": {
     "is_executing": false
    }
   },
   "outputs": [
    {
     "data": {
      "text/plain": "    x f(x) р.р 1 п р.р 2 п р.р 3  п\n   -2   -6                         \n                 4                 \n    0    2              -1         \n                 1                1\n    1    3               4         \n                13                1\n    3   29               8         \n                37                1\n    4   66              12         \n                61                 \n    5  127                         \n    2    ?                         ",
      "text/html": "<div>\n<style scoped>\n    .dataframe tbody tr th:only-of-type {\n        vertical-align: middle;\n    }\n\n    .dataframe tbody tr th {\n        vertical-align: top;\n    }\n\n    .dataframe thead th {\n        text-align: right;\n    }\n</style>\n<table border=\"1\" class=\"dataframe\">\n  <thead>\n    <tr style=\"text-align: right;\">\n      <th></th>\n      <th>x</th>\n      <th>f(x)</th>\n      <th>р.р 1 п</th>\n      <th>р.р 2 п</th>\n      <th>р.р 3  п</th>\n    </tr>\n  </thead>\n  <tbody>\n    <tr>\n      <th></th>\n      <td>-2</td>\n      <td>-6</td>\n      <td></td>\n      <td></td>\n      <td></td>\n    </tr>\n    <tr>\n      <th></th>\n      <td></td>\n      <td></td>\n      <td>4</td>\n      <td></td>\n      <td></td>\n    </tr>\n    <tr>\n      <th></th>\n      <td>0</td>\n      <td>2</td>\n      <td></td>\n      <td>-1</td>\n      <td></td>\n    </tr>\n    <tr>\n      <th></th>\n      <td></td>\n      <td></td>\n      <td>1</td>\n      <td></td>\n      <td>1</td>\n    </tr>\n    <tr>\n      <th></th>\n      <td>1</td>\n      <td>3</td>\n      <td></td>\n      <td>4</td>\n      <td></td>\n    </tr>\n    <tr>\n      <th></th>\n      <td></td>\n      <td></td>\n      <td>13</td>\n      <td></td>\n      <td>1</td>\n    </tr>\n    <tr>\n      <th></th>\n      <td>3</td>\n      <td>29</td>\n      <td></td>\n      <td>8</td>\n      <td></td>\n    </tr>\n    <tr>\n      <th></th>\n      <td></td>\n      <td></td>\n      <td>37</td>\n      <td></td>\n      <td>1</td>\n    </tr>\n    <tr>\n      <th></th>\n      <td>4</td>\n      <td>66</td>\n      <td></td>\n      <td>12</td>\n      <td></td>\n    </tr>\n    <tr>\n      <th></th>\n      <td></td>\n      <td></td>\n      <td>61</td>\n      <td></td>\n      <td></td>\n    </tr>\n    <tr>\n      <th></th>\n      <td>5</td>\n      <td>127</td>\n      <td></td>\n      <td></td>\n      <td></td>\n    </tr>\n    <tr>\n      <th></th>\n      <td>2</td>\n      <td>?</td>\n      <td></td>\n      <td></td>\n      <td></td>\n    </tr>\n  </tbody>\n</table>\n</div>"
     },
     "metadata": {},
     "output_type": "execute_result",
     "execution_count": 5
    }
   ],
   "source": [
    "dataframe1"
   ]
  },
  {
   "cell_type": "markdown",
   "metadata": {},
   "source": [
    "### Сводная таблица 2"
   ]
  },
  {
   "cell_type": "code",
   "execution_count": 6,
   "metadata": {
    "pycharm": {
     "is_executing": false
    }
   },
   "outputs": [
    {
     "data": {
      "text/plain": "                                                                           \ni                                              0.0000   1.00000   2.0   3.0\nУзлы в порядке интерполирования                1.0000   3.00000   0.0   4.0\nЗначение многочлена в точке интерполирования   3.0000  16.00000  12.0  10.0\nФактическая погрешность                        7.0000  -6.00000  -2.0   0.0\nОценка модуля произодных                      11.9999  17.99990   6.0   0.0\nОценка погрешности                            11.9999   8.99995   2.0   0.0",
      "text/html": "<div>\n<style scoped>\n    .dataframe tbody tr th:only-of-type {\n        vertical-align: middle;\n    }\n\n    .dataframe tbody tr th {\n        vertical-align: top;\n    }\n\n    .dataframe thead th {\n        text-align: right;\n    }\n</style>\n<table border=\"1\" class=\"dataframe\">\n  <thead>\n    <tr style=\"text-align: right;\">\n      <th></th>\n      <th></th>\n      <th></th>\n      <th></th>\n      <th></th>\n    </tr>\n  </thead>\n  <tbody>\n    <tr>\n      <th>i</th>\n      <td>0.0000</td>\n      <td>1.00000</td>\n      <td>2.0</td>\n      <td>3.0</td>\n    </tr>\n    <tr>\n      <th>Узлы в порядке интерполирования</th>\n      <td>1.0000</td>\n      <td>3.00000</td>\n      <td>0.0</td>\n      <td>4.0</td>\n    </tr>\n    <tr>\n      <th>Значение многочлена в точке интерполирования</th>\n      <td>3.0000</td>\n      <td>16.00000</td>\n      <td>12.0</td>\n      <td>10.0</td>\n    </tr>\n    <tr>\n      <th>Фактическая погрешность</th>\n      <td>7.0000</td>\n      <td>-6.00000</td>\n      <td>-2.0</td>\n      <td>0.0</td>\n    </tr>\n    <tr>\n      <th>Оценка модуля произодных</th>\n      <td>11.9999</td>\n      <td>17.99990</td>\n      <td>6.0</td>\n      <td>0.0</td>\n    </tr>\n    <tr>\n      <th>Оценка погрешности</th>\n      <td>11.9999</td>\n      <td>8.99995</td>\n      <td>2.0</td>\n      <td>0.0</td>\n    </tr>\n  </tbody>\n</table>\n</div>"
     },
     "metadata": {},
     "output_type": "execute_result",
     "execution_count": 6
    }
   ],
   "source": [
    "dataframe2"
   ]
  },
  {
   "cell_type": "code",
   "execution_count": 6,
   "metadata": {
    "pycharm": {
     "is_executing": false
    }
   },
   "outputs": [],
   "source": []
  }
 ],
 "metadata": {
  "kernelspec": {
   "name": "python3",
   "language": "python",
   "display_name": "Python 3"
  },
  "language_info": {
   "codemirror_mode": {
    "name": "ipython",
    "version": 3
   },
   "file_extension": ".py",
   "mimetype": "text/x-python",
   "name": "python",
   "nbconvert_exporter": "python",
   "pygments_lexer": "ipython3",
   "version": "3.7.4"
  },
  "pycharm": {
   "stem_cell": {
    "cell_type": "raw",
    "source": [],
    "metadata": {
     "collapsed": false
    }
   }
  }
 },
 "nbformat": 4,
 "nbformat_minor": 2
}