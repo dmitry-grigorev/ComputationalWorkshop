{
 "cells": [
  {
   "cell_type": "markdown",
   "source": [
    "## Григорьев Дмитрий, вариант 3\n",
    "### Импортируем необходимые модули,в т.ч свои\n"
   ],
   "metadata": {
    "collapsed": false,
    "pycharm": {
     "name": "#%% md\n"
    }
   }
  },
  {
   "cell_type": "code",
   "execution_count": 1,
   "metadata": {
    "collapsed": true,
    "pycharm": {
     "is_executing": false
    }
   },
   "outputs": [],
   "source": [
    "from math import exp\n",
    "from mft4 import non_equidistant_interpolation_Newton\n",
    "from pandas import DataFrame\n",
    "from mft5 import derivate_experiment, get_table"
   ]
  },
  {
   "cell_type": "markdown",
   "source": [
    "### Дано: $f(x) = e^{2x},\\ x=2, h=0.1 $"
   ],
   "metadata": {
    "collapsed": false,
    "pycharm": {
     "name": "#%% md\n"
    }
   }
  },
  {
   "cell_type": "code",
   "execution_count": 2,
   "outputs": [],
   "source": [
    "f = lambda x: exp(2*x)      #функция\n",
    "df = lambda x: 2*exp(2*x)   #первая производная\n",
    "d2f = lambda x: 4*exp(2*x)  #вторая производная\n",
    "h = 0.1                     #шаг\n",
    "pivot = 2.0                 #наш x \n",
    "start = 1.5                 \n",
    "degree = 10                 #степень интерполяционного многочлена\n",
    "k = 5                       #номер знака, до которого округляем значения\n",
    "nodes = [start + k*h for k in range(degree+1)]"
   ],
   "metadata": {
    "collapsed": false,
    "pycharm": {
     "name": "#%%\n",
     "is_executing": false
    }
   }
  },
  {
   "cell_type": "markdown",
   "source": [
    "### Таблица, построенная по образцу\n",
    "### Видим, что погрешность в случае формулы для первой производной первого порядка аппроксимации достаточно велика.\n",
    "### Это связано с порядком аппроксимации и скоростью роста производных функции (согласно формуле для погрешности).  "
   ],
   "metadata": {
    "collapsed": false,
    "pycharm": {
     "name": "#%% md\n"
    }
   }
  },
  {
   "cell_type": "code",
   "execution_count": 3,
   "outputs": [
    {
     "data": {
      "text/plain": "  $x$   $f(x)$  $f'(x)$ $\\widetilde {f'}(x), \\ O(h)$ $погр.,\\ O(h)$  \\\n  1.5  20.0855  40.1711                      44.4699       -4.29886   \n  1.6  24.5325  49.0651                      54.3157       -5.25064   \n  1.7  29.9641  59.9282                      66.3413       -6.41314   \n  1.8  36.5982  73.1965                      81.0295       -7.83303   \n  1.9  44.7012  89.4024                      98.9697       -9.56729   \n    2  54.5982  109.196                      120.882       -11.6855   \n  2.1  66.6863  133.373                      147.645       -14.2727   \n  2.2  81.4509  162.902                      180.334       -17.4327   \n  2.3  99.4843  198.969                      220.261       -21.2924   \n  2.4   121.51  243.021                      269.027       -26.0066   \n  2.5  148.413  296.826                      269.027        27.7989   \n\n $\\widetilde{\\widetilde {f'}}(x), \\ O(h^2)$ $погр., \\ O(h^2)$ $f''(x)$  \\\n                                     39.547          0.624024  80.3421   \n                                    49.3928         -0.327755  98.1301   \n                                    60.3285         -0.400321  119.856   \n                                    73.6854         -0.488953  146.393   \n                                    89.9996         -0.597209  178.805   \n                                    109.926         -0.729433  218.393   \n                                    134.264         -0.890931  266.745   \n                                     163.99          -1.08819  325.803   \n                                    200.298          -1.32911  397.937   \n                                    244.644          -1.62338  486.042   \n                                    293.411            3.4157  593.653   \n\n $\\widetilde {f''}(x),\\ O(h^2)$ $погр., \\ O(h^2)$  \n                                                   \n                        98.4577         -0.327537  \n                        120.256         -0.400054  \n                        146.882         -0.488628  \n                        179.402         -0.596811  \n                        219.122         -0.728947  \n                        267.636         -0.890337  \n                        326.891          -1.08746  \n                        399.265          -1.32823  \n                        487.664           -1.6223  \n                                                   ",
      "text/html": "<div>\n<style scoped>\n    .dataframe tbody tr th:only-of-type {\n        vertical-align: middle;\n    }\n\n    .dataframe tbody tr th {\n        vertical-align: top;\n    }\n\n    .dataframe thead th {\n        text-align: right;\n    }\n</style>\n<table border=\"1\" class=\"dataframe\">\n  <thead>\n    <tr style=\"text-align: right;\">\n      <th></th>\n      <th>$x$</th>\n      <th>$f(x)$</th>\n      <th>$f'(x)$</th>\n      <th>$\\widetilde {f'}(x), \\ O(h)$</th>\n      <th>$погр.,\\ O(h)$</th>\n      <th>$\\widetilde{\\widetilde {f'}}(x), \\ O(h^2)$</th>\n      <th>$погр., \\ O(h^2)$</th>\n      <th>$f''(x)$</th>\n      <th>$\\widetilde {f''}(x),\\ O(h^2)$</th>\n      <th>$погр., \\ O(h^2)$</th>\n    </tr>\n  </thead>\n  <tbody>\n    <tr>\n      <th></th>\n      <td>1.5</td>\n      <td>20.0855</td>\n      <td>40.1711</td>\n      <td>44.4699</td>\n      <td>-4.29886</td>\n      <td>39.547</td>\n      <td>0.624024</td>\n      <td>80.3421</td>\n      <td></td>\n      <td></td>\n    </tr>\n    <tr>\n      <th></th>\n      <td>1.6</td>\n      <td>24.5325</td>\n      <td>49.0651</td>\n      <td>54.3157</td>\n      <td>-5.25064</td>\n      <td>49.3928</td>\n      <td>-0.327755</td>\n      <td>98.1301</td>\n      <td>98.4577</td>\n      <td>-0.327537</td>\n    </tr>\n    <tr>\n      <th></th>\n      <td>1.7</td>\n      <td>29.9641</td>\n      <td>59.9282</td>\n      <td>66.3413</td>\n      <td>-6.41314</td>\n      <td>60.3285</td>\n      <td>-0.400321</td>\n      <td>119.856</td>\n      <td>120.256</td>\n      <td>-0.400054</td>\n    </tr>\n    <tr>\n      <th></th>\n      <td>1.8</td>\n      <td>36.5982</td>\n      <td>73.1965</td>\n      <td>81.0295</td>\n      <td>-7.83303</td>\n      <td>73.6854</td>\n      <td>-0.488953</td>\n      <td>146.393</td>\n      <td>146.882</td>\n      <td>-0.488628</td>\n    </tr>\n    <tr>\n      <th></th>\n      <td>1.9</td>\n      <td>44.7012</td>\n      <td>89.4024</td>\n      <td>98.9697</td>\n      <td>-9.56729</td>\n      <td>89.9996</td>\n      <td>-0.597209</td>\n      <td>178.805</td>\n      <td>179.402</td>\n      <td>-0.596811</td>\n    </tr>\n    <tr>\n      <th></th>\n      <td>2</td>\n      <td>54.5982</td>\n      <td>109.196</td>\n      <td>120.882</td>\n      <td>-11.6855</td>\n      <td>109.926</td>\n      <td>-0.729433</td>\n      <td>218.393</td>\n      <td>219.122</td>\n      <td>-0.728947</td>\n    </tr>\n    <tr>\n      <th></th>\n      <td>2.1</td>\n      <td>66.6863</td>\n      <td>133.373</td>\n      <td>147.645</td>\n      <td>-14.2727</td>\n      <td>134.264</td>\n      <td>-0.890931</td>\n      <td>266.745</td>\n      <td>267.636</td>\n      <td>-0.890337</td>\n    </tr>\n    <tr>\n      <th></th>\n      <td>2.2</td>\n      <td>81.4509</td>\n      <td>162.902</td>\n      <td>180.334</td>\n      <td>-17.4327</td>\n      <td>163.99</td>\n      <td>-1.08819</td>\n      <td>325.803</td>\n      <td>326.891</td>\n      <td>-1.08746</td>\n    </tr>\n    <tr>\n      <th></th>\n      <td>2.3</td>\n      <td>99.4843</td>\n      <td>198.969</td>\n      <td>220.261</td>\n      <td>-21.2924</td>\n      <td>200.298</td>\n      <td>-1.32911</td>\n      <td>397.937</td>\n      <td>399.265</td>\n      <td>-1.32823</td>\n    </tr>\n    <tr>\n      <th></th>\n      <td>2.4</td>\n      <td>121.51</td>\n      <td>243.021</td>\n      <td>269.027</td>\n      <td>-26.0066</td>\n      <td>244.644</td>\n      <td>-1.62338</td>\n      <td>486.042</td>\n      <td>487.664</td>\n      <td>-1.6223</td>\n    </tr>\n    <tr>\n      <th></th>\n      <td>2.5</td>\n      <td>148.413</td>\n      <td>296.826</td>\n      <td>269.027</td>\n      <td>27.7989</td>\n      <td>293.411</td>\n      <td>3.4157</td>\n      <td>593.653</td>\n      <td></td>\n      <td></td>\n    </tr>\n  </tbody>\n</table>\n</div>"
     },
     "metadata": {},
     "output_type": "execute_result",
     "execution_count": 3
    }
   ],
   "source": [
    "dataframe1 = get_table(f, nodes, degree, h, df, d2f)\n",
    "dataframe1"
   ],
   "metadata": {
    "collapsed": false,
    "pycharm": {
     "name": "#%%\n",
     "is_executing": false
    }
   }
  },
  {
   "cell_type": "markdown",
   "source": [
    "### Функция, вычисляющая первую производную с четвёртым порядком аппроксимации"
   ],
   "metadata": {
    "collapsed": false,
    "pycharm": {
     "name": "#%% md\n"
    }
   }
  },
  {
   "cell_type": "code",
   "execution_count": 4,
   "outputs": [],
   "source": [
    "def derivative1(f, h, pivot, nodes):           #вычисление производной с четвёртым порядком аппроксимации\n",
    "    f1 = round(non_equidistant_interpolation_Newton(f, nodes,pivot-2*h, degree),k)\n",
    "    f2 = round(non_equidistant_interpolation_Newton(f, nodes,pivot-h, degree),k)\n",
    "    f3 = round(non_equidistant_interpolation_Newton(f, nodes,pivot+h, degree),k)\n",
    "    f4 = round(non_equidistant_interpolation_Newton(f, nodes,pivot+2*h, degree),k)\n",
    "    return (f1 - 8 * f2 + 8 * f3 - f4)/(12 * h)"
   ],
   "metadata": {
    "collapsed": false,
    "pycharm": {
     "name": "#%%\n",
     "is_executing": false
    }
   }
  },
  {
   "cell_type": "markdown",
   "source": [
    "### $\\widetilde{f'}(x)=\\frac{f(x-2h)-8f(x-h)+8f(x+h)-f(x+2h)}{12h}$ \n",
    "#### $\\epsilon = 5 \\cdot 10^{-6}$\n",
    "### $|R_{10}^{(1)}(f)|=|f'(x)-\\widetilde{f'_p}(x)|\\le|f'(x)-\\widetilde {f'}(x)|+|\\widetilde {f'}(x)-\\widetilde {f'_p}(x)|\\le \\frac{2}{3}h^4 \\cdot M_5+\\frac{3\\epsilon}{2h}$\n",
    "#### $M_5=\\max_\\limits{x\\in [1.5,2.5]}|f^{(V)}(x)|$\n",
    "#### $\\widetilde{f'_p}$ -- значение производной,посчитанное с помощью приближения функции многочленом\n",
    "### Вычислим $h$ оптимальное экспериментально (ниже) и теоретически (ищем точку минимума оценки погрешности (выше) с помощью дифференциального исчисления) "
   ],
   "metadata": {
    "collapsed": false,
    "pycharm": {
     "name": "#%% md\n"
    }
   }
  },
  {
   "cell_type": "code",
   "execution_count": 5,
   "outputs": [
    {
     "data": {
      "text/plain": "$O(h^4)$                                 0          1           2         3\n$h$                               0.100000    0.05000    0.025000    0.0125\nЧисленное значение производной  109.190467  109.19595  109.196267  109.1962\nПогрешность                       0.005833    0.00035    0.000033    0.0001",
      "text/html": "<div>\n<style scoped>\n    .dataframe tbody tr th:only-of-type {\n        vertical-align: middle;\n    }\n\n    .dataframe tbody tr th {\n        vertical-align: top;\n    }\n\n    .dataframe thead th {\n        text-align: right;\n    }\n</style>\n<table border=\"1\" class=\"dataframe\">\n  <thead>\n    <tr style=\"text-align: right;\">\n      <th>$O(h^4)$</th>\n      <th>0</th>\n      <th>1</th>\n      <th>2</th>\n      <th>3</th>\n    </tr>\n  </thead>\n  <tbody>\n    <tr>\n      <th>$h$</th>\n      <td>0.100000</td>\n      <td>0.05000</td>\n      <td>0.025000</td>\n      <td>0.0125</td>\n    </tr>\n    <tr>\n      <th>Численное значение производной</th>\n      <td>109.190467</td>\n      <td>109.19595</td>\n      <td>109.196267</td>\n      <td>109.1962</td>\n    </tr>\n    <tr>\n      <th>Погрешность</th>\n      <td>0.005833</td>\n      <td>0.00035</td>\n      <td>0.000033</td>\n      <td>0.0001</td>\n    </tr>\n  </tbody>\n</table>\n</div>"
     },
     "metadata": {},
     "output_type": "execute_result",
     "execution_count": 5
    }
   ],
   "source": [
    "dataframe2 = derivate_experiment(derivative1,f,h,pivot, nodes, df)\n",
    "dataframe2.columns.name = \"$O(h^4)$\"\n",
    "dataframe2"
   ],
   "metadata": {
    "collapsed": false,
    "pycharm": {
     "name": "#%%\n",
     "is_executing": false
    }
   }
  },
  {
   "cell_type": "markdown",
   "source": [
    "#### $h_{exp} = 0.0125,\\ h_{th} = \\sqrt[5]{\\frac{9 \\epsilon}{16M_5}}\\approx0.01427$ -- оптимальное h практ. и теор. соответсвенно\n",
    "\n"
   ],
   "metadata": {
    "collapsed": false,
    "pycharm": {
     "name": "#%% md\n"
    }
   }
  }
 ],
 "metadata": {
  "kernelspec": {
   "display_name": "Python 3",
   "language": "python",
   "name": "python3"
  },
  "language_info": {
   "codemirror_mode": {
    "name": "ipython",
    "version": 2
   },
   "file_extension": ".py",
   "mimetype": "text/x-python",
   "name": "python",
   "nbconvert_exporter": "python",
   "pygments_lexer": "ipython2",
   "version": "2.7.6"
  },
  "pycharm": {
   "stem_cell": {
    "cell_type": "raw",
    "source": [],
    "metadata": {
     "collapsed": false
    }
   }
  }
 },
 "nbformat": 4,
 "nbformat_minor": 0
}